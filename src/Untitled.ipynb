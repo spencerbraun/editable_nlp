{
 "cells": [
  {
   "cell_type": "code",
   "execution_count": 1,
   "id": "bbc8f2de",
   "metadata": {},
   "outputs": [],
   "source": [
    "from utils import sailPreprocess, loadOTSModel"
   ]
  },
  {
   "cell_type": "code",
   "execution_count": 2,
   "id": "b28bdd7c",
   "metadata": {},
   "outputs": [],
   "source": [
    "loc = sailPreprocess()\n",
    "model, tokenizer = loadOTSModel(name='t5-small', cache_dir=loc)"
   ]
  },
  {
   "cell_type": "code",
   "execution_count": 3,
   "id": "b37aa8f9",
   "metadata": {},
   "outputs": [
    {
     "data": {
      "text/plain": [
       "T5Block(\n",
       "  (layer): ModuleList(\n",
       "    (0): T5LayerSelfAttention(\n",
       "      (SelfAttention): T5Attention(\n",
       "        (q): Linear(in_features=512, out_features=512, bias=False)\n",
       "        (k): Linear(in_features=512, out_features=512, bias=False)\n",
       "        (v): Linear(in_features=512, out_features=512, bias=False)\n",
       "        (o): Linear(in_features=512, out_features=512, bias=False)\n",
       "        (relative_attention_bias): Embedding(32, 8)\n",
       "      )\n",
       "      (layer_norm): T5LayerNorm()\n",
       "      (dropout): Dropout(p=0.1, inplace=False)\n",
       "    )\n",
       "    (1): T5LayerFF(\n",
       "      (DenseReluDense): T5DenseReluDense(\n",
       "        (wi): Linear(in_features=512, out_features=2048, bias=False)\n",
       "        (wo): Linear(in_features=2048, out_features=512, bias=False)\n",
       "        (dropout): Dropout(p=0.1, inplace=False)\n",
       "      )\n",
       "      (layer_norm): T5LayerNorm()\n",
       "      (dropout): Dropout(p=0.1, inplace=False)\n",
       "    )\n",
       "  )\n",
       ")"
      ]
     },
     "execution_count": 3,
     "metadata": {},
     "output_type": "execute_result"
    }
   ],
   "source": [
    "model.encoder.block[0]"
   ]
  },
  {
   "cell_type": "code",
   "execution_count": 8,
   "id": "784b97bb",
   "metadata": {},
   "outputs": [
    {
     "data": {
      "text/plain": [
       "False"
      ]
     },
     "execution_count": 8,
     "metadata": {},
     "output_type": "execute_result"
    }
   ],
   "source": [
    "hasattr(model, 'transformer')"
   ]
  },
  {
   "cell_type": "code",
   "execution_count": 10,
   "id": "f5544753",
   "metadata": {},
   "outputs": [
    {
     "data": {
      "text/plain": [
       "<generator object Module.parameters at 0x7f4f3c0a7820>"
      ]
     },
     "execution_count": 10,
     "metadata": {},
     "output_type": "execute_result"
    }
   ],
   "source": [
    "model.encoder.block[-2:]"
   ]
  },
  {
   "cell_type": "code",
   "execution_count": 4,
   "id": "a1d872cd",
   "metadata": {},
   "outputs": [],
   "source": [
    "\n",
    "input_ids = tokenizer('The <extra_id_0> walks in <extra_id_1> park', return_tensors='pt').input_ids\n",
    "labels = tokenizer('<extra_id_0> cute dog <extra_id_1> the <extra_id_2>', return_tensors='pt').input_ids\n",
    "outputs = model(input_ids=input_ids, labels=labels)\n",
    "loss = outputs.loss\n",
    "logits = outputs.logits"
   ]
  },
  {
   "cell_type": "code",
   "execution_count": 10,
   "id": "658fc8ae",
   "metadata": {},
   "outputs": [],
   "source": [
    "from torch import tensor\n",
    "import torch\n",
    "import numpy as np"
   ]
  },
  {
   "cell_type": "code",
   "execution_count": 189,
   "id": "f58a00f8",
   "metadata": {},
   "outputs": [],
   "source": [
    "lm_data = [\n",
    "    tensor([[ 8555,  2375, 31238, 21249,  1949,    19,    46, 19143,   771,  8498,\n",
    "          1886,     3,   390,    16, 32099,     3,     6,  7449,     5,     1]]), \n",
    "    tensor([[1, 1, 1, 1, 1, 1, 1, 1, 1, 1, 1, 1, 1, 1, 1, 1, 1, 1, 1, 1]])\n",
    "]\n",
    "\n",
    "edit_data = [\n",
    "    tensor([[   37,  1784,    13,  7449,    19, 32099,     3,     5,     1]]), \n",
    "    tensor([[1, 1, 1, 1, 1, 1, 1, 1, 1]])\n",
    "]\n",
    "\n",
    "obj = [tensor([[32099, 31238, 32098,     1]]), tensor([[1, 1, 1, 1]])]\n",
    "edit_obj = [tensor([[32099, 31238, 32098,     1]]), tensor([[1, 1, 1, 1]])]"
   ]
  },
  {
   "cell_type": "code",
   "execution_count": 181,
   "id": "67de9c9b",
   "metadata": {},
   "outputs": [],
   "source": []
  },
  {
   "cell_type": "code",
   "execution_count": null,
   "id": "6cfa3c05",
   "metadata": {},
   "outputs": [],
   "source": []
  },
  {
   "cell_type": "code",
   "execution_count": 182,
   "id": "d3129ce0",
   "metadata": {},
   "outputs": [
    {
     "data": {
      "text/plain": [
       "(tensor([0]),)"
      ]
     },
     "execution_count": 182,
     "metadata": {},
     "output_type": "execute_result"
    }
   ],
   "source": [
    "torch.where(edit_obj[0][0,:] == 32099)"
   ]
  },
  {
   "cell_type": "code",
   "execution_count": 183,
   "id": "aa636624",
   "metadata": {},
   "outputs": [],
   "source": [
    "test = edit_obj[0]"
   ]
  },
  {
   "cell_type": "code",
   "execution_count": 184,
   "id": "84524437",
   "metadata": {},
   "outputs": [],
   "source": []
  },
  {
   "cell_type": "code",
   "execution_count": 185,
   "id": "d22446ea",
   "metadata": {},
   "outputs": [],
   "source": [
    "idx = np.setxor1d(list(range(test.shape[1])), find(test, special_obj)[1])\n",
    "gold_tokens = test[:,idx]"
   ]
  },
  {
   "cell_type": "code",
   "execution_count": 186,
   "id": "09f26cff",
   "metadata": {},
   "outputs": [],
   "source": [
    "edit_start = utils.locateSubset(edit_data[0], torch.tensor([32099]))\n",
    "edit_locs = torch.tensor([edit_start + i for i in range(gold_tokens.flatten().size()[0])])"
   ]
  },
  {
   "cell_type": "code",
   "execution_count": 187,
   "id": "1ad728d6",
   "metadata": {},
   "outputs": [
    {
     "data": {
      "text/plain": [
       "tensor([[31238]])"
      ]
     },
     "execution_count": 187,
     "metadata": {},
     "output_type": "execute_result"
    }
   ],
   "source": [
    "gold_tokens"
   ]
  },
  {
   "cell_type": "code",
   "execution_count": 188,
   "id": "85ded762",
   "metadata": {},
   "outputs": [
    {
     "data": {
      "text/plain": [
       "tensor([5])"
      ]
     },
     "execution_count": 188,
     "metadata": {},
     "output_type": "execute_result"
    }
   ],
   "source": [
    "edit_locs"
   ]
  },
  {
   "cell_type": "code",
   "execution_count": 193,
   "id": "e3877f69",
   "metadata": {},
   "outputs": [],
   "source": [
    "lm_tokens, lm_mask = lm_data\n",
    "\n",
    "\n",
    "lm_labels, _ = obj\n",
    "\n",
    "\n",
    "edit_tokens_batch, edit_mask_batch = tuple(zip(*[edit_data]))\n"
   ]
  },
  {
   "cell_type": "code",
   "execution_count": 216,
   "id": "9b1e354f",
   "metadata": {},
   "outputs": [],
   "source": [
    "edit_labels_batch, edit_lab_mask_batch = tuple(zip(*[edit_obj]))"
   ]
  },
  {
   "cell_type": "code",
   "execution_count": 211,
   "id": "84e2cd84",
   "metadata": {},
   "outputs": [
    {
     "data": {
      "text/plain": [
       "(tensor([[   37,  1784,    13,  7449,    19, 32099,     3,     5,     1]]),)"
      ]
     },
     "execution_count": 211,
     "metadata": {},
     "output_type": "execute_result"
    }
   ],
   "source": [
    "edit_tokens_batch"
   ]
  },
  {
   "cell_type": "code",
   "execution_count": 208,
   "id": "28b9f576",
   "metadata": {},
   "outputs": [],
   "source": [
    "find = lambda tensor, v: torch.where(tensor[..., None] == v)\n",
    "special_obj  = torch.tensor([32099, 32098, 1])"
   ]
  },
  {
   "cell_type": "code",
   "execution_count": 209,
   "id": "0a7ba966",
   "metadata": {},
   "outputs": [],
   "source": [
    "label_tokens, label_mask = edit_obj"
   ]
  },
  {
   "cell_type": "code",
   "execution_count": 210,
   "id": "e31e9950",
   "metadata": {},
   "outputs": [
    {
     "data": {
      "text/plain": [
       "tensor([32099, 31238, 32098,     1])"
      ]
     },
     "execution_count": 210,
     "metadata": {},
     "output_type": "execute_result"
    }
   ],
   "source": [
    "edit_tokens[edit_mask == 1]"
   ]
  },
  {
   "cell_type": "code",
   "execution_count": 205,
   "id": "5815d73f",
   "metadata": {},
   "outputs": [],
   "source": [
    "edit_tokens = edit_tokens_batch[0]\n",
    "edit_mask = edit_mask_batch[0]\n",
    "\n",
    "edit_tokens = edit_tokens.squeeze(0)\n",
    "indices = edit_tokens != tokenizer.pad_token_id\n",
    "edit_tokens = edit_tokens[indices].unsqueeze(0)\n",
    "edit_mask = edit_mask.squeeze(0)\n",
    "edit_mask = edit_mask[indices].unsqueeze(0)\n",
    "\n",
    "label_indices = edit_tokens != tokenizer.pad_token_id"
   ]
  },
  {
   "cell_type": "code",
   "execution_count": 207,
   "id": "b7674816",
   "metadata": {},
   "outputs": [
    {
     "data": {
      "text/plain": [
       "tensor([[1, 1, 1, 1, 1, 1, 1, 1, 1]])"
      ]
     },
     "execution_count": 207,
     "metadata": {},
     "output_type": "execute_result"
    }
   ],
   "source": [
    "edit_mask"
   ]
  },
  {
   "cell_type": "code",
   "execution_count": 201,
   "id": "a9651b2c",
   "metadata": {},
   "outputs": [],
   "source": []
  },
  {
   "cell_type": "code",
   "execution_count": 203,
   "id": "53d42637",
   "metadata": {},
   "outputs": [],
   "source": [
    "edit_tokens\n"
   ]
  },
  {
   "cell_type": "code",
   "execution_count": 204,
   "id": "f12694c7",
   "metadata": {},
   "outputs": [
    {
     "data": {
      "text/plain": [
       "tensor([True, True, True, True, True, True, True, True, True])"
      ]
     },
     "execution_count": 204,
     "metadata": {},
     "output_type": "execute_result"
    }
   ],
   "source": [
    "indices"
   ]
  },
  {
   "cell_type": "code",
   "execution_count": null,
   "id": "33d92c7d",
   "metadata": {},
   "outputs": [],
   "source": [
    "def _process_edit_tokens(edit_tokens, edit_mask):\n",
    "    edit_tokens = edit_tokens.squeeze(0)\n",
    "    indices = edit_tokens != self.tokenizer.pad_token_id\n",
    "    edit_tokens = edit_tokens[indices].unsqueeze(0)\n",
    "    edit_mask = edit_mask.squeeze(0)\n",
    "    edit_mask = edit_mask[indices].unsqueeze(0)\n",
    "\n",
    "    edit_labels = torch.zeros(edit_tokens.shape, dtype=torch.long) - 100\n",
    "    edit_loc = edit_tokens.shape[-1] - 5 - 1  # minus 1 for newline token\n",
    "    edit_locs = torch.tensor([edit_loc + i for i in range(5)])\n",
    "    edit_labels[:, edit_locs] = edit_tokens[:, edit_locs]\n",
    "    gold_tokens = edit_tokens[:, edit_locs]\n",
    "\n",
    "    edit_labels = edit_labels.to(self.device)\n",
    "    edit_tokens, edit_mask = edit_tokens.to(self.device), edit_mask.to(self.device)\n",
    "\n",
    "    gold_tokens = gold_tokens.cpu()\n",
    "\n",
    "    return edit_tokens, edit_mask, edit_labels, edit_locs, gold_tokens"
   ]
  },
  {
   "cell_type": "code",
   "execution_count": null,
   "id": "3d35973f",
   "metadata": {},
   "outputs": [],
   "source": []
  },
  {
   "cell_type": "code",
   "execution_count": null,
   "id": "4789a089",
   "metadata": {},
   "outputs": [],
   "source": []
  },
  {
   "cell_type": "code",
   "execution_count": 6,
   "id": "82bf5493",
   "metadata": {},
   "outputs": [],
   "source": [
    "import datasets\n",
    "from datasets import load_dataset\n",
    "import utils"
   ]
  },
  {
   "cell_type": "code",
   "execution_count": 7,
   "id": "b9e987e3",
   "metadata": {},
   "outputs": [],
   "source": [
    "loc = utils.sailPreprocess()"
   ]
  },
  {
   "cell_type": "code",
   "execution_count": 25,
   "id": "ea28c890",
   "metadata": {},
   "outputs": [
    {
     "data": {
      "text/plain": [
       "Dataset({\n",
       "    features: ['uuid', 'obj_uri', 'obj_label', 'sub_uri', 'sub_label', 'predicate_id', 'sub_surface', 'obj_surface', 'masked_sentence', 'template', 'template_negated', 'label', 'description', 'type'],\n",
       "    num_rows: 65220\n",
       "})"
      ]
     },
     "execution_count": 25,
     "metadata": {},
     "output_type": "execute_result"
    }
   ],
   "source": [
    "dataset"
   ]
  },
  {
   "cell_type": "code",
   "execution_count": 12,
   "id": "04e97d6c",
   "metadata": {},
   "outputs": [],
   "source": []
  },
  {
   "cell_type": "code",
   "execution_count": 19,
   "id": "9dd45833",
   "metadata": {},
   "outputs": [
    {
     "data": {
      "text/plain": [
       "<module 'masked_lm.data' from '/juice/scr/spencerb/editable_nlp/src/masked_lm/data.py'>"
      ]
     },
     "execution_count": 19,
     "metadata": {},
     "output_type": "execute_result"
    }
   ],
   "source": [
    "import imp\n",
    "import masked_lm.data as mld\n",
    "\n",
    "imp.reload(mld)"
   ]
  },
  {
   "cell_type": "code",
   "execution_count": 20,
   "id": "d46b232d",
   "metadata": {},
   "outputs": [
    {
     "name": "stdout",
     "output_type": "stream",
     "text": [
      "Edited LAMA not found ('/jagupard11/scr2/spencerb/hf/lama_edited.pkl'). Generate? (y/n) y\n",
      "Generating...\n"
     ]
    },
    {
     "name": "stderr",
     "output_type": "stream",
     "text": [
      "Reusing dataset lama (/jagupard11/scr2/spencerb/hf/lama/trex/1.1.0/97deffae13eca0a18e77dfb3960bb31741e973586f5c1fe1ec0d6b5eece7bddc)\n",
      "Loading cached shuffled indices for dataset at /jagupard11/scr2/spencerb/hf/lama/trex/1.1.0/97deffae13eca0a18e77dfb3960bb31741e973586f5c1fe1ec0d6b5eece7bddc/cache-0d278a8097866daf.arrow\n",
      "100%|██████████| 1304391/1304391 [00:01<00:00, 993679.12it/s] \n"
     ]
    },
    {
     "name": "stdout",
     "output_type": "stream",
     "text": [
      "Edited LAMA written to \"/jagupard11/scr2/spencerb/hf/lama_edited.pkl\"\n",
      "self.dataset populated\n"
     ]
    }
   ],
   "source": [
    "dl = mld.MaskedLMDataloader(\n",
    "    'lama', loc, 'editable',\n",
    "    pct=50,\n",
    "    shuffle=True\n",
    ")"
   ]
  },
  {
   "cell_type": "code",
   "execution_count": 22,
   "id": "70ea7d6a",
   "metadata": {},
   "outputs": [
    {
     "name": "stderr",
     "output_type": "stream",
     "text": [
      "Exception ignored in: Exception ignored in: <function _MultiProcessingDataLoaderIter.__del__ at 0x7f715f185670><function _MultiProcessingDataLoaderIter.__del__ at 0x7f715f185670>\n",
      "\n",
      "Traceback (most recent call last):\n",
      "  File \"/u/nlp/anaconda/main/anaconda3/envs/editable/lib/python3.8/site-packages/torch/utils/data/dataloader.py\", line 1324, in __del__\n",
      "Traceback (most recent call last):\n",
      "  File \"/u/nlp/anaconda/main/anaconda3/envs/editable/lib/python3.8/site-packages/torch/utils/data/dataloader.py\", line 1324, in __del__\n",
      "    self._shutdown_workers()    \n",
      "self._shutdown_workers()  File \"/u/nlp/anaconda/main/anaconda3/envs/editable/lib/python3.8/site-packages/torch/utils/data/dataloader.py\", line 1316, in _shutdown_workers\n",
      "\n",
      "  File \"/u/nlp/anaconda/main/anaconda3/envs/editable/lib/python3.8/site-packages/torch/utils/data/dataloader.py\", line 1316, in _shutdown_workers\n",
      "        if w.is_alive():\n",
      "  File \"/u/nlp/anaconda/main/anaconda3/envs/editable/lib/python3.8/multiprocessing/process.py\", line 160, in is_alive\n",
      "if w.is_alive():\n",
      "  File \"/u/nlp/anaconda/main/anaconda3/envs/editable/lib/python3.8/multiprocessing/process.py\", line 160, in is_alive\n",
      "        \n",
      "can only test a child processassert self._parent_pid == os.getpid(), 'can only test a child process'assert self._parent_pid == os.getpid(), 'can only test a child process'\n",
      "AssertionError: can only test a child process\n",
      "\n",
      "AssertionError: can only test a child process\n",
      "Exception ignored in: <function _MultiProcessingDataLoaderIter.__del__ at 0x7f715f185670>Exception ignored in: \n",
      "<function _MultiProcessingDataLoaderIter.__del__ at 0x7f715f185670>Traceback (most recent call last):\n",
      "\n",
      "  File \"/u/nlp/anaconda/main/anaconda3/envs/editable/lib/python3.8/site-packages/torch/utils/data/dataloader.py\", line 1324, in __del__\n",
      "Traceback (most recent call last):\n",
      "    self._shutdown_workers()  File \"/u/nlp/anaconda/main/anaconda3/envs/editable/lib/python3.8/site-packages/torch/utils/data/dataloader.py\", line 1324, in __del__\n",
      "\n",
      "  File \"/u/nlp/anaconda/main/anaconda3/envs/editable/lib/python3.8/site-packages/torch/utils/data/dataloader.py\", line 1316, in _shutdown_workers\n",
      "    if w.is_alive():\n",
      "      File \"/u/nlp/anaconda/main/anaconda3/envs/editable/lib/python3.8/multiprocessing/process.py\", line 160, in is_alive\n",
      "    assert self._parent_pid == os.getpid(), 'can only test a child process'self._shutdown_workers()\n",
      "  File \"/u/nlp/anaconda/main/anaconda3/envs/editable/lib/python3.8/site-packages/torch/utils/data/dataloader.py\", line 1316, in _shutdown_workers\n",
      "    if w.is_alive():\n",
      "\n",
      "  File \"/u/nlp/anaconda/main/anaconda3/envs/editable/lib/python3.8/multiprocessing/process.py\", line 160, in is_alive\n",
      "    AssertionError: assert self._parent_pid == os.getpid(), 'can only test a child process'\n",
      "can only test a child processAssertionError: \n"
     ]
    },
    {
     "name": "stdout",
     "output_type": "stream",
     "text": [
      "[tensor([[   37,  5551,  7706,    13, 32099,   344,     8,  1215, 18780,    15,\n",
      "            11, 21485,  5718,     6,     3,  6443,  2035,     7,    15,   138,\n",
      "            11,  6540,   760,     7,    15,   138,     6,    19,   230,  1702,\n",
      "           294,    13, 21485,  5718,     5,     1]]), tensor([[1, 1, 1, 1, 1, 1, 1, 1, 1, 1, 1, 1, 1, 1, 1, 1, 1, 1, 1, 1, 1, 1, 1, 1,\n",
      "         1, 1, 1, 1, 1, 1, 1, 1, 1, 1, 1, 1]])]\n",
      "[tensor([[21485,  5718,  4776,  4947,    28, 32099,     3,     5,     1]]), tensor([[1, 1, 1, 1, 1, 1, 1, 1, 1]])]\n",
      "[tensor([[32099, 26956,  5718, 32098,     1]]), tensor([[1, 1, 1, 1, 1]])]\n",
      "[tensor([[32099,  7659, 32098,     1]]), tensor([[1, 1, 1, 1]])]\n"
     ]
    }
   ],
   "source": [
    "for (a,b,c,d) in dl.train:\n",
    "    print(a)\n",
    "    print(b)\n",
    "    print(c)\n",
    "    print(d)\n",
    "    \n",
    "    break"
   ]
  },
  {
   "cell_type": "code",
   "execution_count": null,
   "id": "b4bafe64",
   "metadata": {},
   "outputs": [],
   "source": []
  }
 ],
 "metadata": {
  "kernelspec": {
   "display_name": "Python 3",
   "language": "python",
   "name": "python3"
  },
  "language_info": {
   "codemirror_mode": {
    "name": "ipython",
    "version": 3
   },
   "file_extension": ".py",
   "mimetype": "text/x-python",
   "name": "python",
   "nbconvert_exporter": "python",
   "pygments_lexer": "ipython3",
   "version": "3.8.5"
  }
 },
 "nbformat": 4,
 "nbformat_minor": 5
}
