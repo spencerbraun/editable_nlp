{
 "cells": [
  {
   "cell_type": "code",
   "execution_count": 1,
   "id": "beneficial-oklahoma",
   "metadata": {},
   "outputs": [],
   "source": [
    "import utils\n",
    "\n",
    "from train_2 import EditTrainer\n",
    "from config import EditConfig\n"
   ]
  },
  {
   "cell_type": "code",
   "execution_count": 3,
   "id": "derived-flood",
   "metadata": {},
   "outputs": [],
   "source": [
    "model, tokenizer = utils.loadOTSModel()\n",
    "dataloader = utils.retrieveDataloader(\n",
    "        tokenizer, \n",
    "        bs=1, \n",
    "        dataset='train'\n",
    "    )\n",
    "# del model"
   ]
  },
  {
   "cell_type": "code",
   "execution_count": 4,
   "id": "fifty-picnic",
   "metadata": {},
   "outputs": [],
   "source": [
    "\n",
    "class EditConfig:\n",
    "    def __init__(self):\n",
    "        self.inner_lr = 1e-3\n",
    "        self.outer_lr = 1e-5\n",
    "        self.epochs = 1\n",
    "        self.max_training_samps = 1e4\n",
    "        self.n_edit_steps = 1\n",
    "        self.cedit = 1\n",
    "        self.cloc = 1\n",
    "\n",
    "        self.debug = True\n",
    "        self.model_save_pt = 2500\n",
    "        self.model_dir = '../models/finetune'\n"
   ]
  },
  {
   "cell_type": "markdown",
   "id": "conventional-eligibility",
   "metadata": {},
   "source": [
    "## Test Run"
   ]
  },
  {
   "cell_type": "code",
   "execution_count": 6,
   "id": "surprising-steam",
   "metadata": {},
   "outputs": [
    {
     "name": "stdout",
     "output_type": "stream",
     "text": [
      "Starting Training\n",
      "('Epoch: 0; TrainStep 0; ', 'l_base 5.140927314758301; l_edit 9.583337783813477; l_loc 0.0791158452630043; total 14.803380966186523')\n",
      "('Epoch: 0; TrainStep 1; ', 'l_base 4.468011856079102; l_edit 8.450944900512695; l_loc 0.2951970100402832; total 13.214153289794922')\n",
      "('Epoch: 0; TrainStep 2; ', 'l_base 3.9141573905944824; l_edit 9.361299514770508; l_loc 0.1888570338487625; total 13.464313507080078')\n",
      "('Epoch: 0; TrainStep 3; ', 'l_base 6.0544114112854; l_edit 7.479859828948975; l_loc 0.09249913692474365; total 13.62677001953125')\n",
      "('Epoch: 0; TrainStep 4; ', 'l_base 4.703126907348633; l_edit 5.6159210205078125; l_loc 0.2222064882516861; total 10.541254043579102')\n",
      "('Epoch: 0; TrainStep 5; ', 'l_base 3.9404916763305664; l_edit 8.285829544067383; l_loc 0.10465022921562195; total 12.330970764160156')\n",
      "('Epoch: 0; TrainStep 6; ', 'l_base 4.77923059463501; l_edit 6.186927795410156; l_loc 0.05019443482160568; total 11.016352653503418')\n",
      "('Epoch: 0; TrainStep 7; ', 'l_base 3.993454694747925; l_edit 8.00312328338623; l_loc 0.12370064109563828; total 12.120279312133789')\n",
      "('Epoch: 0; TrainStep 8; ', 'l_base 4.08587121963501; l_edit 4.832366943359375; l_loc 0.17564134299755096; total 9.093879699707031')\n",
      "('Epoch: 0; TrainStep 9; ', 'l_base 4.4355950355529785; l_edit 8.65640640258789; l_loc 0.13823308050632477; total 13.230234146118164')\n",
      "('Epoch: 0; TrainStep 10; ', 'l_base 3.7702367305755615; l_edit 10.916299819946289; l_loc 0.24818529188632965; total 14.934721946716309')\n",
      "('Epoch: 0; TrainStep 11; ', 'l_base 4.695268154144287; l_edit 9.28172492980957; l_loc 0.18456824123859406; total 14.161561965942383')\n",
      "('Epoch: 0; TrainStep 12; ', 'l_base 4.612791538238525; l_edit 8.036502838134766; l_loc 0.29870638251304626; total 12.94800090789795')\n",
      "('Epoch: 0; TrainStep 13; ', 'l_base 4.789967060089111; l_edit 7.343263626098633; l_loc 0.2235763818025589; total 12.356807708740234')\n",
      "('Epoch: 0; TrainStep 14; ', 'l_base 4.810455799102783; l_edit 0.0; l_loc 0.07617980986833572; total 4.886635780334473')\n",
      "('Epoch: 0; TrainStep 15; ', 'l_base 3.6848297119140625; l_edit 13.248730659484863; l_loc 0.3239508867263794; total 17.257511138916016')\n",
      "('Epoch: 0; TrainStep 16; ', 'l_base 4.264514446258545; l_edit 5.379110813140869; l_loc 0.24563594162464142; total 9.889261245727539')\n",
      "('Epoch: 0; TrainStep 17; ', 'l_base 4.044835567474365; l_edit 8.73168659210205; l_loc 0.1504356563091278; total 12.926958084106445')\n",
      "('Epoch: 0; TrainStep 18; ', 'l_base 4.590713977813721; l_edit 8.090152740478516; l_loc 0.22312989830970764; total 12.903996467590332')\n",
      "('Epoch: 0; TrainStep 19; ', 'l_base 3.7004830837249756; l_edit 9.487421035766602; l_loc 0.2708275318145752; total 13.458731651306152')\n",
      "('Epoch: 0; TrainStep 20; ', 'l_base 4.3387651443481445; l_edit 9.901167869567871; l_loc 0.21229968965053558; total 14.452232360839844')\n",
      "('Epoch: 0; TrainStep 21; ', 'l_base 4.150910377502441; l_edit 5.878117561340332; l_loc 0.08908649533987045; total 10.118114471435547')\n",
      "('Epoch: 0; TrainStep 22; ', 'l_base 4.888190746307373; l_edit 9.501392364501953; l_loc 0.10249997675418854; total 14.492082595825195')\n",
      "('Epoch: 0; TrainStep 23; ', 'l_base 4.603143692016602; l_edit 10.415002822875977; l_loc 0.1915850192308426; total 15.209732055664062')\n",
      "('Epoch: 0; TrainStep 24; ', 'l_base 4.641829013824463; l_edit 7.035418510437012; l_loc 0.19607451558113098; total 11.873321533203125')\n",
      "('Epoch: 0; TrainStep 25; ', 'l_base 4.257640838623047; l_edit 6.379452228546143; l_loc 0.1165292039513588; total 10.753622055053711')\n",
      "('Epoch: 0; TrainStep 26; ', 'l_base 5.009639739990234; l_edit 6.736593723297119; l_loc 0.16225214302539825; total 11.908485412597656')\n",
      "('Epoch: 0; TrainStep 27; ', 'l_base 4.669442176818848; l_edit 4.97237491607666; l_loc 0.07641473412513733; total 9.718231201171875')\n",
      "('Epoch: 0; TrainStep 28; ', 'l_base 4.665059566497803; l_edit 8.633926391601562; l_loc 0.2606911361217499; total 13.559677124023438')\n",
      "('Epoch: 0; TrainStep 29; ', 'l_base 5.150574684143066; l_edit 5.8683624267578125; l_loc 0.15309862792491913; total 11.172035217285156')\n",
      "('Epoch: 0; TrainStep 30; ', 'l_base 4.277309417724609; l_edit 6.067076683044434; l_loc 0.16330604255199432; total 10.507692337036133')\n",
      "('Epoch: 0; TrainStep 31; ', 'l_base 4.50584077835083; l_edit 9.769973754882812; l_loc 0.3130275309085846; total 14.588842391967773')\n",
      "('Epoch: 0; TrainStep 32; ', 'l_base 4.125662803649902; l_edit 6.700213432312012; l_loc 0.17659801244735718; total 11.002473831176758')\n",
      "('Epoch: 0; TrainStep 33; ', 'l_base 4.943294525146484; l_edit 8.255807876586914; l_loc 0.19398750364780426; total 13.393089294433594')\n",
      "('Epoch: 0; TrainStep 34; ', 'l_base 3.863664388656616; l_edit 6.305852890014648; l_loc 0.26809316873550415; total 10.437610626220703')\n",
      "('Epoch: 0; TrainStep 35; ', 'l_base 4.928183078765869; l_edit 7.877886772155762; l_loc 0.22253230214118958; total 13.028602600097656')\n",
      "('Epoch: 0; TrainStep 36; ', 'l_base 4.425743103027344; l_edit 0.0; l_loc 0.24277032911777496; total 4.668513298034668')\n",
      "('Epoch: 0; TrainStep 37; ', 'l_base 4.521041393280029; l_edit 8.633317947387695; l_loc 0.19543631374835968; total 13.349796295166016')\n",
      "('Epoch: 0; TrainStep 38; ', 'l_base 5.340523719787598; l_edit 9.207270622253418; l_loc 0.11595994979143143; total 14.6637544631958')\n",
      "('Epoch: 0; TrainStep 39; ', 'l_base 4.433145999908447; l_edit 7.177698612213135; l_loc 0.19981800019741058; total 11.810663223266602')\n",
      "('Epoch: 0; TrainStep 40; ', 'l_base 4.151952266693115; l_edit 5.7501606941223145; l_loc 0.1236046701669693; total 10.025717735290527')\n",
      "('Epoch: 0; TrainStep 41; ', 'l_base 4.291285514831543; l_edit 9.041356086730957; l_loc 0.14745427668094635; total 13.480095863342285')\n",
      "('Epoch: 0; TrainStep 42; ', 'l_base 3.9883005619049072; l_edit 4.987011909484863; l_loc 0.15693040192127228; total 9.132242202758789')\n",
      "('Epoch: 0; TrainStep 43; ', 'l_base 4.616790294647217; l_edit 3.3586087226867676; l_loc 0.12681879103183746; total 8.102217674255371')\n",
      "('Epoch: 0; TrainStep 44; ', 'l_base 4.333813190460205; l_edit 12.020181655883789; l_loc 0.2116851806640625; total 16.5656795501709')\n",
      "('Epoch: 0; TrainStep 45; ', 'l_base 5.7161054611206055; l_edit 7.364387035369873; l_loc 0.05464094504714012; total 13.135133743286133')\n",
      "('Epoch: 0; TrainStep 46; ', 'l_base 3.7073254585266113; l_edit 7.94990873336792; l_loc 0.2210429310798645; total 11.878276824951172')\n",
      "('Epoch: 0; TrainStep 47; ', 'l_base 4.427891254425049; l_edit 6.121424674987793; l_loc 0.07230233401060104; total 10.621618270874023')\n",
      "('Epoch: 0; TrainStep 48; ', 'l_base 4.126067638397217; l_edit 10.620162963867188; l_loc 0.20297877490520477; total 14.949209213256836')\n",
      "('Epoch: 0; TrainStep 49; ', 'l_base 4.4852447509765625; l_edit 10.854289054870605; l_loc 0.1636432409286499; total 15.503177642822266')\n",
      "('Epoch: 0; TrainStep 50; ', 'l_base 5.248486042022705; l_edit 6.146080493927002; l_loc 0.18863047659397125; total 11.583196640014648')\n",
      "('Epoch: 0; TrainStep 51; ', 'l_base 3.9171509742736816; l_edit 7.371543884277344; l_loc 0.10295851528644562; total 11.391653060913086')\n",
      "('Epoch: 0; TrainStep 52; ', 'l_base 5.176672458648682; l_edit 10.932252883911133; l_loc 0.18003547191619873; total 16.28896141052246')\n"
     ]
    },
    {
     "ename": "KeyboardInterrupt",
     "evalue": "",
     "output_type": "error",
     "traceback": [
      "\u001b[0;31m---------------------------------------------------------------------------\u001b[0m",
      "\u001b[0;31mKeyboardInterrupt\u001b[0m                         Traceback (most recent call last)",
      "\u001b[0;32m<ipython-input-6-f74bee909847>\u001b[0m in \u001b[0;36m<module>\u001b[0;34m\u001b[0m\n\u001b[1;32m      8\u001b[0m \u001b[0;34m\u001b[0m\u001b[0m\n\u001b[1;32m      9\u001b[0m \u001b[0mtrainer\u001b[0m \u001b[0;34m=\u001b[0m \u001b[0mEditTrainer\u001b[0m\u001b[0;34m(\u001b[0m\u001b[0mEditConfig\u001b[0m\u001b[0;34m(\u001b[0m\u001b[0;34m)\u001b[0m\u001b[0;34m,\u001b[0m \u001b[0mdataloader\u001b[0m\u001b[0;34m)\u001b[0m\u001b[0;34m\u001b[0m\u001b[0;34m\u001b[0m\u001b[0m\n\u001b[0;32m---> 10\u001b[0;31m \u001b[0mtrainer\u001b[0m\u001b[0;34m.\u001b[0m\u001b[0mrun\u001b[0m\u001b[0;34m(\u001b[0m\u001b[0;34m)\u001b[0m\u001b[0;34m\u001b[0m\u001b[0;34m\u001b[0m\u001b[0m\n\u001b[0m",
      "\u001b[0;32m~/editable_nlp/src/train_2.py\u001b[0m in \u001b[0;36mrun\u001b[0;34m(self)\u001b[0m\n\u001b[1;32m    249\u001b[0m                         \u001b[0;34m\"l_loc\"\u001b[0m\u001b[0;34m:\u001b[0m \u001b[0ml_loc\u001b[0m\u001b[0;34m,\u001b[0m \u001b[0;34m\"total\"\u001b[0m\u001b[0;34m:\u001b[0m \u001b[0mtotal_loss\u001b[0m\u001b[0;34m\u001b[0m\u001b[0;34m\u001b[0m\u001b[0m\n\u001b[1;32m    250\u001b[0m                         }\n\u001b[0;32m--> 251\u001b[0;31m                     \u001b[0mself\u001b[0m\u001b[0;34m.\u001b[0m\u001b[0mecho\u001b[0m\u001b[0;34m(\u001b[0m\u001b[0mtrain_step\u001b[0m\u001b[0;34m,\u001b[0m \u001b[0;34m**\u001b[0m\u001b[0mloss_dict\u001b[0m\u001b[0;34m)\u001b[0m\u001b[0;34m\u001b[0m\u001b[0;34m\u001b[0m\u001b[0m\n\u001b[0m\u001b[1;32m    252\u001b[0m                     \u001b[0;32mif\u001b[0m \u001b[0;32mnot\u001b[0m \u001b[0mself\u001b[0m\u001b[0;34m.\u001b[0m\u001b[0mconfig\u001b[0m\u001b[0;34m.\u001b[0m\u001b[0mdebug\u001b[0m\u001b[0;34m:\u001b[0m\u001b[0;34m\u001b[0m\u001b[0;34m\u001b[0m\u001b[0m\n\u001b[1;32m    253\u001b[0m                         \u001b[0mself\u001b[0m\u001b[0;34m.\u001b[0m\u001b[0mtensorBoard\u001b[0m\u001b[0;34m(\u001b[0m\u001b[0mglobal_iter\u001b[0m\u001b[0;34m,\u001b[0m \u001b[0ml_base\u001b[0m\u001b[0;34m,\u001b[0m \u001b[0ml_edit\u001b[0m\u001b[0;34m,\u001b[0m \u001b[0ml_loc\u001b[0m\u001b[0;34m,\u001b[0m \u001b[0mtotal_loss\u001b[0m\u001b[0;34m)\u001b[0m\u001b[0;34m\u001b[0m\u001b[0;34m\u001b[0m\u001b[0m\n",
      "\u001b[0;32m~/editable_nlp/src/train_2.py\u001b[0m in \u001b[0;36mecho\u001b[0;34m(self, train_step, **kwargs)\u001b[0m\n\u001b[1;32m     53\u001b[0m         print((\n\u001b[1;32m     54\u001b[0m                 \u001b[0;34mf\"Epoch: {self.epoch}; TrainStep {train_step}; \"\u001b[0m\u001b[0;34m,\u001b[0m\u001b[0;34m\u001b[0m\u001b[0;34m\u001b[0m\u001b[0m\n\u001b[0;32m---> 55\u001b[0;31m                 \u001b[0;34mf\"; \"\u001b[0m\u001b[0;34m.\u001b[0m\u001b[0mjoin\u001b[0m\u001b[0;34m(\u001b[0m\u001b[0;34m[\u001b[0m\u001b[0;34mf\"{key} {val}\"\u001b[0m \u001b[0;32mfor\u001b[0m \u001b[0mkey\u001b[0m\u001b[0;34m,\u001b[0m\u001b[0mval\u001b[0m \u001b[0;32min\u001b[0m \u001b[0mkwargs\u001b[0m\u001b[0;34m.\u001b[0m\u001b[0mitems\u001b[0m\u001b[0;34m(\u001b[0m\u001b[0;34m)\u001b[0m\u001b[0;34m]\u001b[0m\u001b[0;34m)\u001b[0m\u001b[0;34m\u001b[0m\u001b[0;34m\u001b[0m\u001b[0m\n\u001b[0m\u001b[1;32m     56\u001b[0m             )) \n\u001b[1;32m     57\u001b[0m \u001b[0;34m\u001b[0m\u001b[0m\n",
      "\u001b[0;32m~/editable_nlp/src/train_2.py\u001b[0m in \u001b[0;36m<listcomp>\u001b[0;34m(.0)\u001b[0m\n\u001b[1;32m     53\u001b[0m         print((\n\u001b[1;32m     54\u001b[0m                 \u001b[0;34mf\"Epoch: {self.epoch}; TrainStep {train_step}; \"\u001b[0m\u001b[0;34m,\u001b[0m\u001b[0;34m\u001b[0m\u001b[0;34m\u001b[0m\u001b[0m\n\u001b[0;32m---> 55\u001b[0;31m                 \u001b[0;34mf\"; \"\u001b[0m\u001b[0;34m.\u001b[0m\u001b[0mjoin\u001b[0m\u001b[0;34m(\u001b[0m\u001b[0;34m[\u001b[0m\u001b[0;34mf\"{key} {val}\"\u001b[0m \u001b[0;32mfor\u001b[0m \u001b[0mkey\u001b[0m\u001b[0;34m,\u001b[0m\u001b[0mval\u001b[0m \u001b[0;32min\u001b[0m \u001b[0mkwargs\u001b[0m\u001b[0;34m.\u001b[0m\u001b[0mitems\u001b[0m\u001b[0;34m(\u001b[0m\u001b[0;34m)\u001b[0m\u001b[0;34m]\u001b[0m\u001b[0;34m)\u001b[0m\u001b[0;34m\u001b[0m\u001b[0;34m\u001b[0m\u001b[0m\n\u001b[0m\u001b[1;32m     56\u001b[0m             )) \n\u001b[1;32m     57\u001b[0m \u001b[0;34m\u001b[0m\u001b[0m\n",
      "\u001b[0;32m/anaconda/envs/py37_pytorch/lib/python3.7/site-packages/torch/tensor.py\u001b[0m in \u001b[0;36m__format__\u001b[0;34m(self, format_spec)\u001b[0m\n\u001b[1;32m    532\u001b[0m             \u001b[0;32mreturn\u001b[0m \u001b[0mhandle_torch_function\u001b[0m\u001b[0;34m(\u001b[0m\u001b[0mTensor\u001b[0m\u001b[0;34m.\u001b[0m\u001b[0m__format__\u001b[0m\u001b[0;34m,\u001b[0m \u001b[0mrelevant_args\u001b[0m\u001b[0;34m,\u001b[0m \u001b[0mself\u001b[0m\u001b[0;34m,\u001b[0m \u001b[0mformat_spec\u001b[0m\u001b[0;34m)\u001b[0m\u001b[0;34m\u001b[0m\u001b[0;34m\u001b[0m\u001b[0m\n\u001b[1;32m    533\u001b[0m         \u001b[0;32mif\u001b[0m \u001b[0mself\u001b[0m\u001b[0;34m.\u001b[0m\u001b[0mdim\u001b[0m\u001b[0;34m(\u001b[0m\u001b[0;34m)\u001b[0m \u001b[0;34m==\u001b[0m \u001b[0;36m0\u001b[0m\u001b[0;34m:\u001b[0m\u001b[0;34m\u001b[0m\u001b[0;34m\u001b[0m\u001b[0m\n\u001b[0;32m--> 534\u001b[0;31m             \u001b[0;32mreturn\u001b[0m \u001b[0mself\u001b[0m\u001b[0;34m.\u001b[0m\u001b[0mitem\u001b[0m\u001b[0;34m(\u001b[0m\u001b[0;34m)\u001b[0m\u001b[0;34m.\u001b[0m\u001b[0m__format__\u001b[0m\u001b[0;34m(\u001b[0m\u001b[0mformat_spec\u001b[0m\u001b[0;34m)\u001b[0m\u001b[0;34m\u001b[0m\u001b[0;34m\u001b[0m\u001b[0m\n\u001b[0m\u001b[1;32m    535\u001b[0m         \u001b[0;32mreturn\u001b[0m \u001b[0mobject\u001b[0m\u001b[0;34m.\u001b[0m\u001b[0m__format__\u001b[0m\u001b[0;34m(\u001b[0m\u001b[0mself\u001b[0m\u001b[0;34m,\u001b[0m \u001b[0mformat_spec\u001b[0m\u001b[0;34m)\u001b[0m\u001b[0;34m\u001b[0m\u001b[0;34m\u001b[0m\u001b[0m\n\u001b[1;32m    536\u001b[0m \u001b[0;34m\u001b[0m\u001b[0m\n",
      "\u001b[0;31mKeyboardInterrupt\u001b[0m: "
     ]
    }
   ],
   "source": [
    "%load_ext autoreload\n",
    "%autoreload 2\n",
    "import utils\n",
    "\n",
    "from train_2 import EditTrainer\n",
    "from config import EditConfig\n",
    "\n",
    "\n",
    "trainer = EditTrainer(EditConfig(), dataloader)\n",
    "trainer.run()"
   ]
  },
  {
   "cell_type": "code",
   "execution_count": null,
   "id": "possible-fountain",
   "metadata": {},
   "outputs": [],
   "source": []
  },
  {
   "cell_type": "code",
   "execution_count": null,
   "id": "terminal-silly",
   "metadata": {},
   "outputs": [],
   "source": []
  },
  {
   "cell_type": "markdown",
   "id": "alpine-russia",
   "metadata": {},
   "source": [
    "## Sample from own logits"
   ]
  },
  {
   "cell_type": "code",
   "execution_count": 9,
   "id": "gentle-credits",
   "metadata": {},
   "outputs": [],
   "source": [
    "import torch"
   ]
  },
  {
   "cell_type": "code",
   "execution_count": 5,
   "id": "freelance-greeting",
   "metadata": {},
   "outputs": [],
   "source": [
    "# text = \"Poppies and lupines are the primary flowers that dominate the green, lush rolling meadows in the spring to early summer, but in the late summer the hills turn gold and are covered with flowers such as the cluster-lily, gumweed, Mules ear, and farewell to spring. In shaded areas, one can expect to see thimbleberry and a variety of ferns growing. \""
   ]
  },
  {
   "cell_type": "code",
   "execution_count": 65,
   "id": "wrong-individual",
   "metadata": {},
   "outputs": [],
   "source": [
    "text = \"Rather than having all of its functionality built into its core, Python was designed to be highly extensible (with modules). This compact modularity has made it particularly popular as a means of adding programmable interfaces to existing applications. Van Rossum's vision of a small core language with a large standard library and easily extensible interpreter stemmed from his frustrations with ABC, which espoused the opposite approach.\""
   ]
  },
  {
   "cell_type": "code",
   "execution_count": null,
   "id": "affected-viking",
   "metadata": {},
   "outputs": [],
   "source": []
  },
  {
   "cell_type": "code",
   "execution_count": 66,
   "id": "passive-headquarters",
   "metadata": {},
   "outputs": [],
   "source": [
    "token_list = tokenizer.encode(text)\n",
    "token_out = tokenizer(\n",
    "    text\n",
    ")\n",
    "tokens, mask = map(\n",
    "    torch.tensor, \n",
    "    [token_out['input_ids'], token_out['attention_mask']]\n",
    ")"
   ]
  },
  {
   "cell_type": "code",
   "execution_count": 67,
   "id": "subjective-gnome",
   "metadata": {},
   "outputs": [
    {
     "data": {
      "text/plain": [
       "torch.Size([79])"
      ]
     },
     "execution_count": 67,
     "metadata": {},
     "output_type": "execute_result"
    }
   ],
   "source": [
    "tokens.size()"
   ]
  },
  {
   "cell_type": "code",
   "execution_count": 75,
   "id": "hispanic-senegal",
   "metadata": {},
   "outputs": [
    {
     "name": "stdout",
     "output_type": "stream",
     "text": [
      "Rather than having all of its functionality built into its core, Python was designed to be highly extensible (with modules). This compact modularity has made it particularly popular as a means of adding programmable\n"
     ]
    }
   ],
   "source": [
    "feed = tokens[:40]\n",
    "print(tokenizer.decode(token_list[:40]))"
   ]
  },
  {
   "cell_type": "code",
   "execution_count": 89,
   "id": "manufactured-printing",
   "metadata": {},
   "outputs": [
    {
     "name": "stderr",
     "output_type": "stream",
     "text": [
      "Setting `pad_token_id` to `eos_token_id`:50256 for open-end generation.\n"
     ]
    }
   ],
   "source": [
    "\n",
    "inputs = tokenizer(\"Hello, my dog is cute and \", return_tensors=\"pt\")\n",
    "generation_output = model.generate(**inputs, return_dict_in_generate=True, output_scores=True)"
   ]
  },
  {
   "cell_type": "code",
   "execution_count": 83,
   "id": "ongoing-cheat",
   "metadata": {},
   "outputs": [
    {
     "data": {
      "text/plain": [
       "GreedySearchDecoderOnlyOutput(sequences=tensor([[15496,    11,   616,  3290,   318, 13779,   290,   220, 17479,    13,\n",
       "           314,  1842,   683,   523,   881,    13,   314,  1842,   683,   523]]), scores=(tensor([[-43.4955, -46.0844, -46.9108,  ..., -57.7377, -51.5319, -48.3616]]), tensor([[-48.8799, -50.3510, -55.1450,  ..., -64.8533, -62.6215, -52.4255]]), tensor([[-67.7690, -65.9575, -67.5762,  ..., -76.5747, -74.8564, -60.7996]]), tensor([[-86.5862, -85.9131, -89.9283,  ..., -97.0860, -86.9367, -87.2296]]), tensor([[-66.0425, -67.5343, -71.4601,  ..., -75.1458, -72.8039, -67.9962]]), tensor([[-59.0425, -63.4027, -69.0216,  ..., -77.3129, -73.8313, -64.7133]]), tensor([[-60.0665, -62.8150, -68.4672,  ..., -72.5271, -70.3083, -63.8665]]), tensor([[-47.8266, -52.4544, -58.7991,  ..., -65.4726, -64.2974, -52.0334]]), tensor([[-71.7299, -70.1800, -72.2610,  ..., -82.0179, -80.4628, -63.5811]]), tensor([[-86.2451, -85.7662, -90.2981,  ..., -97.1315, -86.9278, -86.6646]]), tensor([[-66.2329, -67.0229, -71.5159,  ..., -74.7966, -72.8139, -67.0762]]), tensor([[-65.1541, -69.3030, -75.6400,  ..., -81.9662, -78.9824, -69.9710]])), attentions=None, hidden_states=None)"
      ]
     },
     "execution_count": 83,
     "metadata": {},
     "output_type": "execute_result"
    }
   ],
   "source": [
    "generation_output"
   ]
  },
  {
   "cell_type": "code",
   "execution_count": 99,
   "id": "returning-peeing",
   "metadata": {},
   "outputs": [
    {
     "data": {
      "text/plain": [
       "'<|endoftext|>'"
      ]
     },
     "execution_count": 99,
     "metadata": {},
     "output_type": "execute_result"
    }
   ],
   "source": [
    "tokenizer.decode(tokenizer.eos_token_id)"
   ]
  },
  {
   "cell_type": "code",
   "execution_count": 103,
   "id": "persistent-optics",
   "metadata": {},
   "outputs": [],
   "source": [
    "text = \"Rather than having all of its functionality built into its core, Python was designed to be highly extensible (with modules). This compact modularity has made\""
   ]
  },
  {
   "cell_type": "code",
   "execution_count": 107,
   "id": "elect-ability",
   "metadata": {},
   "outputs": [
    {
     "name": "stderr",
     "output_type": "stream",
     "text": [
      "Setting `pad_token_id` to `eos_token_id`:50256 for open-end generation.\n"
     ]
    },
    {
     "name": "stdout",
     "output_type": "stream",
     "text": [
      "=== GENERATED SEQUENCE 1 ===\n",
      "Rather than having all of its functionality built into its core, Python was designed to be highly extensible (with modules). This compact modularity has made the most sense for many companies at our top level and enabled us greatly in recent years. But if there are a problem associated with such work-in other ways it is only going through individual projects running on any distribution where pip might not offer much option. Python 3 is no exception; by working from a separate source code base Python has been easy to set up and maintain to the point it takes us a full year. A version of Python 3 has since been adopted (so far, it has beeved almost 20%).\n",
      "=== GENERATED SEQUENCE 2 ===\n",
      "Rather than having all of its functionality built into its core, Python was designed to be highly extensible (with modules). This compact modularity has made the most sense for many companies at our top level and enabled us greatly in recent years. But if there are a problem associated with such work-in other ways it is only going through individual projects running on any distribution where pip might not offer much option. Python 3 is no exception; by working from a separate source code base Python has been easy to set up and maintain to the point it takes us a full year. A version of Python 3 has since been adopted (so far, it has beezy!). All told, about 500,000 users make Python 3 their fastest development effort. If there was one problem or a good cause of your problem, it might be as straightforward as fixing it yourself (we wouldn't even have to worry about the actual code itself that might be fixed for years with new projects. Our current version of Python 3 has the newest version of its dependencies for development. (If you know something new that changes your mind, you are the one to learn!)\n",
      "=== GENERATED SEQUENCE 3 ===\n",
      "Rather than having all of its functionality built into its core, Python was designed to be highly extensible (with modules). This compact modularity has made the most sense for many companies at our top level and enabled us greatly in recent years. But if there are a problem associated with such work-in other ways it is only going through individual projects running on any distribution where pip might not offer much option. Python 3 is no exception; by working from a separate source code base Python has been easy to set up and maintain to the point it takes us a full year. A version of Python 3 has since been adopted (so far, it has beegged out and we are only going to see the Python 3 release next week). There is now a tool for this to work, in particular Ixiv's version, which is already known as pipmap to do simple searches of packages and packages in the PyData source list.\n",
      "\n",
      "It is important to note that some problems are introduced in PyData, namely that the Python version doesn't seem to support the PyFile API, whereas this API works in a Python shell. Python is not designed to read, read/close, save data and write files. This can provide a complete experience if it's not there and it is very difficult to extract and write out. This makes pydata, rather than just searching for one variable, more difficult. Python also doesn't work with single module. There are very few Python modules for PyData, but Python is one of several ways. I encourage you to start with Python3 so this is useful for that.\n",
      "As the project itself is fairly simple, it requires no coding background, but it needs to be done by two people who have an interest. PyData is an idea for many developers so you can learn more through the PyData documentation. A few people working for Python have done this and that might only make it easier to find, maintain, modify and use new projects using PyData.\n",
      "The rest of the project consists of one part of Python, and you also want to keep in mind, using Python!\n",
      "The final goal is to get as many ideas as possible out of PyData to be developed to benefit the communities affected. This is why we built Python4, the first version that we developed using Python. There is a large package project dedicated to this project but this contains a series of other tasks such as adding Python3 support.\n",
      "As the goal of one piece of the pyData project is so clear that we feel ready to give even a single developer something like Python4 an awesome project in mind.\n",
      "We have used Django as the platform for a large and intensive training programme with many more than 2,500 developers already starting up. As such, we started using the Django project using python4 under the very old Redis (and Python 3 without the latest libraries). Now it is easier for people to learn more, because the very first PyData project was built with some of our friends back at PyData. If you have the chance to learn more but do not know something that was previously used i\n",
      "=== GENERATED SEQUENCE 4 ===\n",
      "Rather than having all of its functionality built into its core, Python was designed to be highly extensible (with modules). This compact modularity has made the most sense for many companies at our top level and enabled us greatly in recent years. But if there are a problem associated with such work-in other ways it is only going through individual projects running on any distribution where pip might not offer much option. Python 3 is no exception; by working from a separate source code base Python has been easy to set up and maintain to the point it takes us a full year. A version of Python 3 has since been adopted (so far, it has bee-trapped its developers, but Python can find a good way to do it as well). Of course, what about developers that want better performance? We can use Python 3 to set up these libraries to help us with the very important tasks we need, particularly at our fingertips in the applications world. Python 3 is really a long way of going yet; we need to start this year by building new stuff out of old stuff to make it easier for people to use Python. Many programmers have not yet understood how to set up a new project, but as developers become more accustomed to having to use Python, working from a different source, it may be in some ways more worthwhile to be able to build up an effective project using Python without needing to look at their code elsewhere before setting down your own implementation.\n",
      "=== GENERATED SEQUENCE 5 ===\n",
      "Rather than having all of its functionality built into its core, Python was designed to be highly extensible (with modules). This compact modularity has made the most sense for many companies at our top level and enabled us greatly in recent years. But if there are a problem associated with such work-in other ways it is only going through individual projects running on any distribution where pip might not offer much option. Python 3 is no exception; by working from a separate source code base Python has been easy to set up and maintain to the point it takes us a full year. A version of Python 3 has since been adopted (so far, it has bee-hoopned) and has provided both easy working with the Python 3 compiler and one very useful alternative (such as the \"go-from-start\" implementation). There are many advantages to being able to work with Python in the development environments at our top level: it provides great documentation and some very useful documentation. One of our favorite features, Python 3 is more compatible with other standard systems (like Windows). The source code base has been updated with the more modern Python standard to enable more Python support of the built-in Python framework. These changes are important because those features were developed with Python 2 and we cannot guarantee it will take place again. Most importantly, the project will always have all available Python and one module will be automatically installed. We recommend taking your existing projects on the same (more Python 2 and larger) system so that you always have a base of modules on your own and run them independently. Python 1.0 (1.2) is the latest version of the language to officially feature one and its default implementation. And yet, you can expect an install of Python 2 which will ensure that your projects, you no longer have to install all of the current versions of your Python packages. This is an exciting option to make if you really don't want to use the 3rd party packages for your new software unless you wish to make a big change to any other version at the time of publishing the software so that we never have to worry about any changes in your system. Of course there would be a few problems and, in reality, Python has not been on release ready as we are not as excited about one particular project because it has been around for a while now. Of course Python 3 is still available on the project. But, for now, we do not believe that we have been able to make any significant changes to your distribution because, to be honest, I am just not sure that you can trust my approach at all. Most likely I would have seen something really bad when we decided that it would be better on release ready than just another. Now, I would like to explain how it does so, without making any comments about the source Code Base, it might not even be something I have tried so far. Although the source code based tool of the language has been widely adopted into any given language since before 4.0, it is extremely important for you to have known about Python 2 before that it has been implemented. We can't really compare what i\n"
     ]
    },
    {
     "data": {
      "text/plain": [
       "['Rather than having all of its functionality built into its core, Python was designed to be highly extensible (with modules). This compact modularity has made the most sense for many companies at our top level and enabled us greatly in recent years. But if there are a problem associated with such work-in other ways it is only going through individual projects running on any distribution where pip might not offer much option. Python 3 is no exception; by working from a separate source code base Python has been easy to set up and maintain to the point it takes us a full year. A version of Python 3 has since been adopted (so far, it has beeved almost 20%).',\n",
       " \"Rather than having all of its functionality built into its core, Python was designed to be highly extensible (with modules). This compact modularity has made the most sense for many companies at our top level and enabled us greatly in recent years. But if there are a problem associated with such work-in other ways it is only going through individual projects running on any distribution where pip might not offer much option. Python 3 is no exception; by working from a separate source code base Python has been easy to set up and maintain to the point it takes us a full year. A version of Python 3 has since been adopted (so far, it has beezy!). All told, about 500,000 users make Python 3 their fastest development effort. If there was one problem or a good cause of your problem, it might be as straightforward as fixing it yourself (we wouldn't even have to worry about the actual code itself that might be fixed for years with new projects. Our current version of Python 3 has the newest version of its dependencies for development. (If you know something new that changes your mind, you are the one to learn!)\",\n",
       " \"Rather than having all of its functionality built into its core, Python was designed to be highly extensible (with modules). This compact modularity has made the most sense for many companies at our top level and enabled us greatly in recent years. But if there are a problem associated with such work-in other ways it is only going through individual projects running on any distribution where pip might not offer much option. Python 3 is no exception; by working from a separate source code base Python has been easy to set up and maintain to the point it takes us a full year. A version of Python 3 has since been adopted (so far, it has beegged out and we are only going to see the Python 3 release next week). There is now a tool for this to work, in particular Ixiv's version, which is already known as pipmap to do simple searches of packages and packages in the PyData source list.\\n\\nIt is important to note that some problems are introduced in PyData, namely that the Python version doesn't seem to support the PyFile API, whereas this API works in a Python shell. Python is not designed to read, read/close, save data and write files. This can provide a complete experience if it's not there and it is very difficult to extract and write out. This makes pydata, rather than just searching for one variable, more difficult. Python also doesn't work with single module. There are very few Python modules for PyData, but Python is one of several ways. I encourage you to start with Python3 so this is useful for that.\\nAs the project itself is fairly simple, it requires no coding background, but it needs to be done by two people who have an interest. PyData is an idea for many developers so you can learn more through the PyData documentation. A few people working for Python have done this and that might only make it easier to find, maintain, modify and use new projects using PyData.\\nThe rest of the project consists of one part of Python, and you also want to keep in mind, using Python!\\nThe final goal is to get as many ideas as possible out of PyData to be developed to benefit the communities affected. This is why we built Python4, the first version that we developed using Python. There is a large package project dedicated to this project but this contains a series of other tasks such as adding Python3 support.\\nAs the goal of one piece of the pyData project is so clear that we feel ready to give even a single developer something like Python4 an awesome project in mind.\\nWe have used Django as the platform for a large and intensive training programme with many more than 2,500 developers already starting up. As such, we started using the Django project using python4 under the very old Redis (and Python 3 without the latest libraries). Now it is easier for people to learn more, because the very first PyData project was built with some of our friends back at PyData. If you have the chance to learn more but do not know something that was previously used i\",\n",
       " 'Rather than having all of its functionality built into its core, Python was designed to be highly extensible (with modules). This compact modularity has made the most sense for many companies at our top level and enabled us greatly in recent years. But if there are a problem associated with such work-in other ways it is only going through individual projects running on any distribution where pip might not offer much option. Python 3 is no exception; by working from a separate source code base Python has been easy to set up and maintain to the point it takes us a full year. A version of Python 3 has since been adopted (so far, it has bee-trapped its developers, but Python can find a good way to do it as well). Of course, what about developers that want better performance? We can use Python 3 to set up these libraries to help us with the very important tasks we need, particularly at our fingertips in the applications world. Python 3 is really a long way of going yet; we need to start this year by building new stuff out of old stuff to make it easier for people to use Python. Many programmers have not yet understood how to set up a new project, but as developers become more accustomed to having to use Python, working from a different source, it may be in some ways more worthwhile to be able to build up an effective project using Python without needing to look at their code elsewhere before setting down your own implementation.',\n",
       " 'Rather than having all of its functionality built into its core, Python was designed to be highly extensible (with modules). This compact modularity has made the most sense for many companies at our top level and enabled us greatly in recent years. But if there are a problem associated with such work-in other ways it is only going through individual projects running on any distribution where pip might not offer much option. Python 3 is no exception; by working from a separate source code base Python has been easy to set up and maintain to the point it takes us a full year. A version of Python 3 has since been adopted (so far, it has bee-hoopned) and has provided both easy working with the Python 3 compiler and one very useful alternative (such as the \"go-from-start\" implementation). There are many advantages to being able to work with Python in the development environments at our top level: it provides great documentation and some very useful documentation. One of our favorite features, Python 3 is more compatible with other standard systems (like Windows). The source code base has been updated with the more modern Python standard to enable more Python support of the built-in Python framework. These changes are important because those features were developed with Python 2 and we cannot guarantee it will take place again. Most importantly, the project will always have all available Python and one module will be automatically installed. We recommend taking your existing projects on the same (more Python 2 and larger) system so that you always have a base of modules on your own and run them independently. Python 1.0 (1.2) is the latest version of the language to officially feature one and its default implementation. And yet, you can expect an install of Python 2 which will ensure that your projects, you no longer have to install all of the current versions of your Python packages. This is an exciting option to make if you really don\\'t want to use the 3rd party packages for your new software unless you wish to make a big change to any other version at the time of publishing the software so that we never have to worry about any changes in your system. Of course there would be a few problems and, in reality, Python has not been on release ready as we are not as excited about one particular project because it has been around for a while now. Of course Python 3 is still available on the project. But, for now, we do not believe that we have been able to make any significant changes to your distribution because, to be honest, I am just not sure that you can trust my approach at all. Most likely I would have seen something really bad when we decided that it would be better on release ready than just another. Now, I would like to explain how it does so, without making any comments about the source Code Base, it might not even be something I have tried so far. Although the source code based tool of the language has been widely adopted into any given language since before 4.0, it is extremely important for you to have known about Python 2 before that it has been implemented. We can\\'t really compare what i']"
      ]
     },
     "execution_count": 107,
     "metadata": {},
     "output_type": "execute_result"
    }
   ],
   "source": [
    "prompt_text = text\n",
    "encoded_prompt = tokenizer.encode(text, add_special_tokens=False, return_tensors=\"pt\")\n",
    "input_ids = encoded_prompt\n",
    "\n",
    "output_sequences = model.generate(\n",
    "    input_ids=input_ids,\n",
    "    max_length=500 + len(encoded_prompt[0]),\n",
    "    temperature=1.2,\n",
    "#     top_k=args.k,\n",
    "#     top_p=args.p,\n",
    "    repetition_penalty=1,\n",
    "    do_sample=True,\n",
    "    num_return_sequences=5,\n",
    ")\n",
    "\n",
    "# Remove the batch dimension when returning multiple sequences\n",
    "if len(output_sequences.shape) > 2:\n",
    "    output_sequences.squeeze_()\n",
    "\n",
    "generated_sequences = []\n",
    "\n",
    "for generated_sequence_idx, generated_sequence in enumerate(output_sequences):\n",
    "    print(\"=== GENERATED SEQUENCE {} ===\".format(generated_sequence_idx + 1))\n",
    "    generated_sequence = generated_sequence.tolist()\n",
    "\n",
    "    # Decode text\n",
    "    text = tokenizer.decode(generated_sequence, clean_up_tokenization_spaces=True)\n",
    "\n",
    "    # Remove all text after the stop token\n",
    "    text = text[: text.find('<|endoftext|>')]\n",
    "\n",
    "    # Add the prompt at the beginning of the sequence. Remove the excess text that was used for pre-processing\n",
    "    total_sequence = (\n",
    "        prompt_text + text[len(tokenizer.decode(encoded_prompt[0], clean_up_tokenization_spaces=True)) :]\n",
    "    )\n",
    "\n",
    "    generated_sequences.append(total_sequence)\n",
    "    print(total_sequence)\n",
    "\n",
    "generated_sequences"
   ]
  },
  {
   "cell_type": "code",
   "execution_count": null,
   "id": "thermal-midnight",
   "metadata": {},
   "outputs": [],
   "source": []
  },
  {
   "cell_type": "code",
   "execution_count": null,
   "id": "posted-concept",
   "metadata": {},
   "outputs": [],
   "source": []
  },
  {
   "cell_type": "code",
   "execution_count": null,
   "id": "uniform-election",
   "metadata": {},
   "outputs": [],
   "source": []
  },
  {
   "cell_type": "code",
   "execution_count": null,
   "id": "subjective-plastic",
   "metadata": {},
   "outputs": [],
   "source": []
  }
 ],
 "metadata": {
  "kernelspec": {
   "display_name": "Python 3",
   "language": "python",
   "name": "python3"
  },
  "language_info": {
   "codemirror_mode": {
    "name": "ipython",
    "version": 3
   },
   "file_extension": ".py",
   "mimetype": "text/x-python",
   "name": "python",
   "nbconvert_exporter": "python",
   "pygments_lexer": "ipython3",
   "version": "3.7.9"
  }
 },
 "nbformat": 4,
 "nbformat_minor": 5
}
