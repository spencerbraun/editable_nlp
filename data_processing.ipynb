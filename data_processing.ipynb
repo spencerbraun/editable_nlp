{
 "cells": [
  {
   "cell_type": "markdown",
   "id": "considerable-bolivia",
   "metadata": {
    "toc": true
   },
   "source": [
    "<h1><span class=\"tocSkip\"></span></h1>\n",
    "<div class=\"toc\"><ul class=\"toc-item\"></ul></div>"
   ]
  },
  {
   "cell_type": "code",
   "execution_count": 143,
   "id": "floppy-testing",
   "metadata": {},
   "outputs": [],
   "source": [
    "from datasets import list_datasets, load_dataset, list_metrics, load_metric\n",
    "import torch\n",
    "import torch.nn as nn\n",
    "import torch.functional as F\n",
    "from transformers import GPT2Tokenizer, GPT2LMHeadModel\n",
    "\n",
    "import collections\n",
    "import random\n",
    "\n",
    "# Load a dataset and print the first examples in the training set\n",
    "# wikibio = load_dataset('wiki_bio', cache_dir=\"/Volumes/External HD/Dev/datasets/wikibio\", split='train[:1%]')\n",
    "# wikibio[0]\n",
    "\n",
    "\n",
    "\n",
    "\n"
   ]
  },
  {
   "cell_type": "code",
   "execution_count": null,
   "id": "conventional-wellington",
   "metadata": {},
   "outputs": [],
   "source": [
    "wikitext = load_dataset('wikitext', 'wikitext-103-raw-v1', cache_dir=\"/Volumes/External HD/Dev/datasets/wikitext\", split='train[:1%]')"
   ]
  },
  {
   "cell_type": "code",
   "execution_count": null,
   "id": "veterinary-defeat",
   "metadata": {},
   "outputs": [],
   "source": [
    "\n",
    "# Process the dataset - add a column with the length of the context texts\n",
    "dataset_with_length = squad_dataset.map(lambda x: {\"length\": len(x[\"context\"])})\n",
    "\n",
    "# Process the dataset - tokenize the context texts (using a tokenizer from the 🤗 transformers library)\n",
    "from transformers import AutoTokenizer\n",
    "tokenizer = AutoTokenizer.from_pretrained('bert-base-cased')\n",
    "\n",
    "tokenized_dataset = squad_dataset.map(lambda x: tokenizer(x['context']), batched=True)"
   ]
  },
  {
   "cell_type": "code",
   "execution_count": 3,
   "id": "gothic-gospel",
   "metadata": {},
   "outputs": [],
   "source": [
    "# Load pre-trained model tokenizer (vocabulary)\n",
    "tokenizer = GPT2Tokenizer.from_pretrained('distilgpt2')\n",
    "\n",
    "# Encode a text inputs\n",
    "text = \"Who was Jim Henson ? Jim Henson was a\"\n",
    "indexed_tokens = tokenizer.encode(text)\n",
    "\n",
    "# Convert indexed tokens in a PyTorch tensor\n",
    "tokens_tensor = torch.tensor([indexed_tokens])\n"
   ]
  },
  {
   "cell_type": "code",
   "execution_count": 6,
   "id": "adolescent-lobby",
   "metadata": {},
   "outputs": [
    {
     "data": {
      "text/plain": [
       "tensor([[ 8241,   373,  5395,   367, 19069,  5633,  5395,   367, 19069,   373,\n",
       "           257]])"
      ]
     },
     "execution_count": 6,
     "metadata": {},
     "output_type": "execute_result"
    }
   ],
   "source": [
    "tokens_tensor"
   ]
  },
  {
   "cell_type": "code",
   "execution_count": 2,
   "id": "convenient-cooperation",
   "metadata": {},
   "outputs": [
    {
     "name": "stdout",
     "output_type": "stream",
     "text": [
      "[('San Francisco', 0, 13, 'GPE')]\n",
      "['San', 'B', 'GPE']\n",
      "['Francisco', 'I', 'GPE']\n"
     ]
    }
   ],
   "source": [
    "import spacy\n",
    "# from spacy.pipeline.ner import DEFAULT_NER_MODEL\n",
    "\n",
    "nlp = spacy.load(\n",
    "    \"en_core_web_sm\", \n",
    "    exclude=['tagger', 'parser', 'attribute_ruler', 'lemmatizer']\n",
    ") #Note: use larger model for production\n",
    "nlp.add_pipe('sentencizer')"
   ]
  },
  {
   "cell_type": "code",
   "execution_count": 11,
   "id": "aware-spain",
   "metadata": {},
   "outputs": [],
   "source": [
    "# !python -m spacy download en_core_web_sm"
   ]
  },
  {
   "cell_type": "markdown",
   "id": "centered-cologne",
   "metadata": {},
   "source": [
    "When processing large volumes of text, the statistical models are usually more efficient if you let them work on batches of texts. spaCy’s nlp.pipe method takes an iterable of texts and yields processed Doc objects. The batching is done internally."
   ]
  },
  {
   "cell_type": "code",
   "execution_count": 42,
   "id": "economic-mistress",
   "metadata": {},
   "outputs": [],
   "source": [
    "sample_iterable = [wikitext['text'][-i] for i in range(20) if len(wikitext['text'][-i]) > 40]"
   ]
  },
  {
   "cell_type": "code",
   "execution_count": 48,
   "id": "manufactured-andrews",
   "metadata": {},
   "outputs": [
    {
     "data": {
      "text/plain": [
       "\" During the 1990s WNO made its Proms debut , with a complete performance of Mozart 's Idomeneo , conducted by Mackerras in 1991 . The company played three short seasons at the Royal Opera House , Covent Garden in the mid @-@ 1990s , featuring Tristan und Isolde and La favorita in 1993 , The Yeomen of the Guard in 1995 , and The Rake 's Progress and the jubilee double bill of Cavalleria Rusticana and Pagliacci in 1996 . \\n\""
      ]
     },
     "execution_count": 48,
     "metadata": {},
     "output_type": "execute_result"
    }
   ],
   "source": [
    "sample_iterable[0]"
   ]
  },
  {
   "cell_type": "code",
   "execution_count": 85,
   "id": "broken-knight",
   "metadata": {},
   "outputs": [],
   "source": [
    "def runNER(model, texts):\n",
    "    for doc in nlp.pipe(texts):\n",
    "        for sent in doc.sents:\n",
    "            if sent.ents:\n",
    "                ents = str([(e.text, e.start_char - sent.start_char, e.end_char - sent.start_char, e.label_) for e in sent.ents]).strip('[]')\n",
    "                out = f\"{sent.text}|{ents}\"\n",
    "                print(out)\n",
    "                print(\"\\n\")"
   ]
  },
  {
   "cell_type": "code",
   "execution_count": 86,
   "id": "fifth-surface",
   "metadata": {},
   "outputs": [
    {
     "name": "stdout",
     "output_type": "stream",
     "text": [
      " During the 1990s WNO made its Proms debut , with a complete performance of Mozart 's Idomeneo , conducted by Mackerras in 1991 .|('the 1990s', 8, 17, 'DATE'), ('WNO', 18, 21, 'ORG'), ('Proms', 31, 36, 'ORG'), ('Mozart', 76, 82, 'PERSON'), ('Idomeneo', 86, 94, 'PERSON'), ('Mackerras', 110, 119, 'ORG'), ('1991', 123, 127, 'DATE')\n",
      "\n",
      "\n",
      "The company played three short seasons at the Royal Opera House , Covent Garden in the mid @-@ 1990s , featuring Tristan und Isolde and La favorita in 1993 , The Yeomen of the Guard in 1995 , and The Rake 's Progress and the jubilee double bill of Cavalleria Rusticana and Pagliacci in 1996 .|('three', 19, 24, 'CARDINAL'), ('the Royal Opera House', 42, 63, 'ORG'), ('Covent Garden', 66, 79, 'FAC'), ('the mid @-@ 1990s', 83, 100, 'DATE'), ('Tristan', 113, 120, 'GPE'), ('Isolde', 125, 131, 'GPE'), ('La', 136, 138, 'GPE'), ('1993', 151, 155, 'DATE'), ('The Yeomen of the Guard', 158, 181, 'WORK_OF_ART'), ('1995', 185, 189, 'DATE'), (\"The Rake 's Progress\", 196, 216, 'ORG'), ('Cavalleria Rusticana', 248, 268, 'GPE'), ('Pagliacci', 273, 282, 'ORG'), ('1996', 286, 290, 'DATE')\n",
      "\n",
      "\n",
      " McMaster was followed as chief executive by Matthew Epstein , whose three years in charge ( 1991 – 94 ) were described in a 2006 study by Paul Atkinson as \" a less happy and less successful period \" .|('McMaster', 1, 9, 'PERSON'), ('Matthew Epstein', 45, 60, 'PERSON'), ('three years', 69, 80, 'DATE'), ('1991', 93, 97, 'DATE'), ('94', 100, 102, 'CARDINAL'), ('2006', 125, 129, 'DATE'), ('Paul Atkinson', 139, 152, 'PERSON')\n",
      "\n",
      "\n",
      "Epstein was replaced by Anthony Freud , under whom , according to Atkinson , productions became \" consistently strong , musically well prepared , intelligently staged and well cast . \"|('Anthony Freud', 24, 37, 'PERSON'), ('Atkinson', 66, 74, 'ORG')\n",
      "\n",
      "\n",
      "Mackerras was succeeded in 1992 by Carlo Rizzi , who was music director at the time of WNO 's golden jubilee in 1996 .|('Mackerras', 0, 9, 'PERSON'), ('1992', 27, 31, 'DATE'), ('Carlo Rizzi', 35, 46, 'PERSON'), ('WNO', 87, 90, 'ORG'), ('1996', 112, 116, 'DATE')\n",
      "\n",
      "\n",
      "When the occasion was marked with a new production of the \" Cav and Pag \" double bill that had launched the company in 1946 , the BBC commented that WNO was \" one of the most respected opera companies in the world \" .|('the \" Cav and Pag', 54, 71, 'ORG'), ('1946', 119, 123, 'DATE'), ('BBC', 130, 133, 'ORG'), ('WNO', 149, 152, 'ORG'), ('one', 159, 162, 'CARDINAL')\n",
      "\n",
      "\n",
      "In The Observer , Michael Ratcliffe called the company \" the most popular , populist and consistently successful arts organisation ever to come out of Wales ... with the loyalty and affection of audiences in Cardiff and across England … ' The people 's opera ' is not a myth .|('Michael Ratcliffe', 18, 35, 'PERSON'), ('Wales', 151, 156, 'GPE'), ('Cardiff', 208, 215, 'NORP'), ('England', 227, 234, 'GPE')\n",
      "\n",
      "\n",
      "The jubilee celebrations were overshadowed by the collapse of a plan for a purpose @-@ built home for the company , the Cardiff Bay Opera House .|('the Cardiff Bay Opera House', 116, 143, 'LAW')\n",
      "\n",
      "\n",
      " McMaster resigned in 1991 , having led the company to international status , with performances at La Scala , Milan ; the Metropolitan Opera , New York ; and in Tokyo .|('McMaster', 1, 9, 'PERSON'), ('1991', 22, 26, 'DATE'), ('La Scala', 99, 107, 'FAC'), ('Milan', 110, 115, 'GPE'), ('the Metropolitan Opera', 118, 140, 'ORG'), ('New York', 143, 151, 'GPE'), ('Tokyo', 161, 166, 'GPE')\n",
      "\n",
      "\n",
      "One of the last legacies of his tenure was the 1992 production of Debussy 's Pelléas et Mélisande , directed by Peter Stein and conducted by Pierre Boulez .|('One', 0, 3, 'CARDINAL'), ('1992', 47, 51, 'DATE'), ('Debussy', 66, 73, 'PERSON'), ('Peter Stein', 112, 123, 'PERSON'), ('Pierre Boulez', 141, 154, 'PERSON')\n",
      "\n",
      "\n",
      "The New York Times called WNO \" one of the finest operatic ensembles in Europe \" and noted that the first night of the Debussy work , in Cardiff , \" attracted 80 critics from all over the United Kingdom and the Continent ... the most prestigious , intensely awaited event of the British operatic season . \"|('The New York Times', 0, 18, 'ORG'), ('WNO', 26, 29, 'ORG'), ('one', 32, 35, 'CARDINAL'), ('Europe', 72, 78, 'LOC'), ('the first night', 96, 111, 'TIME'), ('Debussy', 119, 126, 'PERSON'), ('80', 159, 161, 'CARDINAL'), ('the United Kingdom', 184, 202, 'GPE'), ('British', 279, 286, 'NORP')\n",
      "\n",
      "\n",
      "The production was given at the Théâtre du Châtelet , Paris , a few weeks afterwards .|('Théâtre', 32, 39, 'GPE'), ('Châtelet', 43, 51, 'GPE'), ('Paris', 54, 59, 'GPE'), ('a few weeks', 62, 73, 'DATE')\n",
      "\n",
      "\n",
      " Armstrong stepped down in 1986 after thirteen years as musical director ; he was succeeded by Mackerras , whose association with the company dated back more than thirty years .|('Armstrong', 1, 10, 'PERSON'), ('1986', 27, 31, 'DATE'), ('thirteen years', 38, 52, 'DATE'), ('Mackerras', 95, 104, 'ORG'), ('more than thirty years', 153, 175, 'DATE')\n",
      "\n",
      "\n",
      "Among the features of his six @-@ year tenure was an increasing use of surtitles for performances not given in English .|('English', 111, 118, 'LANGUAGE')\n",
      "\n",
      "\n",
      "In the company 's early days , all operas had been sung in English , but as more international stars began to appear as guest principals the language policy had to be reconsidered : few of the leading names in world opera were interested in relearning their roles in English .|('early days', 18, 28, 'DATE'), ('English', 59, 66, 'LANGUAGE'), ('English', 267, 274, 'LANGUAGE')\n",
      "\n",
      "\n",
      "WNO steered a middle course between the practices of the two main London companies ; after the 1960s The Royal Opera had generally given operas in the original language , and English National Opera was committed to opera in English .|('WNO', 0, 3, 'ORG'), ('two', 57, 60, 'CARDINAL'), ('London', 66, 72, 'GPE'), ('the 1960s', 91, 100, 'DATE'), ('The Royal Opera', 101, 116, 'ORG'), ('English National Opera', 175, 197, 'ORG'), ('English', 224, 231, 'LANGUAGE')\n",
      "\n",
      "\n",
      "WNO 's practice varied , after its early years .|('WNO', 0, 3, 'ORG'), ('early years', 35, 46, 'DATE')\n",
      "\n",
      "\n",
      "Examples from the 1980s include Wagner 's Tristan und Isolde sung in German , and the Ring in English ; and Verdi 's The Force of Destiny given in English and Otello in Italian .|('the 1980s', 14, 23, 'DATE'), ('Wagner', 32, 38, 'ORG'), ('Tristan', 42, 49, 'GPE'), ('Isolde', 54, 60, 'NORP'), ('German', 69, 75, 'NORP'), ('English', 94, 101, 'LANGUAGE'), (\"Verdi 's The Force of Destiny\", 108, 137, 'ORG'), ('English', 147, 154, 'LANGUAGE'), ('Italian', 169, 176, 'NORP')\n",
      "\n",
      "\n",
      "Mackerras was a strong advocate of performance in the original language , with surtitles : \" I can 't imagine a greater advance for opera . …|('Mackerras', 0, 9, 'PERSON')\n",
      "\n",
      "\n",
      "It 's like Siegfried understanding the woodbird . \"|('Siegfried', 11, 20, 'PERSON')\n",
      "\n",
      "\n",
      " The chief executive , Brian McMaster , did not appoint a replacement to Geliot as principal director during the 1980s , preferring to engage guest producers .|('Brian McMaster', 23, 37, 'PERSON'), ('Geliot', 73, 79, 'ORG'), ('the 1980s', 109, 118, 'DATE')\n",
      "\n",
      "\n",
      "Boyd mentions Andrei Șerban 's Eugene Onegin ( 1980 ) among the successes and Lucian Pintilie 's Carmen ( 1983 ) and Ruth Berghaus 's Don Giovanni ( 1984 ) as productions that received more mixed responses .|('Boyd', 0, 4, 'PERSON'), (\"Andrei Șerban 's\", 14, 30, 'PERSON'), ('Eugene Onegin', 31, 44, 'PERSON'), ('1980', 47, 51, 'DATE'), (\"Lucian Pintilie 's\", 78, 96, 'PERSON'), ('1983', 106, 110, 'DATE'), (\"Ruth Berghaus 's\", 117, 133, 'PERSON'), ('Don Giovanni', 134, 146, 'PERSON'), ('1984', 149, 153, 'DATE')\n",
      "\n",
      "\n",
      "Sir Charles Mackerras , the conductor for Don Giovanni , was open in his contempt for Berghaus 's production .|('Charles Mackerras', 4, 21, 'PERSON'), ('Don Giovanni', 42, 54, 'PERSON'), ('Berghaus', 86, 94, 'ORG')\n",
      "\n",
      "\n",
      "Harry Kupfer 's Fidelio ( 1981 ) was condemned by The Daily Telegraph as \" a piece of Marxist polemic \" making \" political sport \" of Beethoven 's work .|(\"Harry Kupfer 's\", 0, 15, 'PERSON'), ('1981', 26, 30, 'DATE'), ('The Daily Telegraph', 50, 69, 'ORG'), ('Marxist', 86, 93, 'NORP'), ('Beethoven', 134, 143, 'PERSON')\n",
      "\n",
      "\n",
      "McMaster was thought by some too inclined to favour radical eastern European directors : Jonathan Miller , a leading English director , commented that he did not intend to take Bulgarian nationality , although it was \" a must before Brian pays any attention \" .|('McMaster', 0, 8, 'PERSON'), ('European', 68, 76, 'NORP'), ('Jonathan Miller', 89, 104, 'PERSON'), ('English', 117, 124, 'NORP'), ('Bulgarian', 177, 186, 'NORP'), ('Brian', 233, 238, 'PERSON')\n",
      "\n",
      "\n",
      " During the 1980s WNO continued to expand in scope .|('the 1980s', 8, 17, 'DATE'), ('WNO', 18, 21, 'ORG')\n",
      "\n",
      "\n",
      "Handel ( Rodelinda , 1981 ) and Martinů ( The Greek Passion , 1981 ) were added to the company 's repertoire , and in 1983 Das Rheingold was staged in the WNO 's first Ring cycle , followed by the other three operas of the cycle over the next two years .|('Rodelinda', 9, 18, 'ORG'), ('1981', 21, 25, 'DATE'), ('Martinů', 32, 39, 'ORG'), ('1981', 62, 66, 'DATE'), ('1983', 118, 122, 'DATE'), ('WNO', 155, 158, 'ORG'), ('first', 162, 167, 'ORDINAL'), ('three', 203, 208, 'CARDINAL'), ('the next two years', 234, 252, 'DATE')\n",
      "\n",
      "\n",
      "Das Rheingold , Siegfried and Götterdämmerung were conducted by the company 's musical director , Richard Armstrong ; Die Walküre ( 1984 ) was conducted by Goodall ; it was seen as a coup for the company to secure his services – he was described by The Guardian as the greatest living Wagnerian conductor – but the casting of the whole cycle was criticised for some serious weaknesses among the principal singers , and reviewers were generally unimpressed by Göran Järvefelt 's production .|('Das Rheingold', 0, 13, 'PERSON'), ('Siegfried', 16, 25, 'PERSON'), ('Götterdämmerung', 30, 45, 'PERSON'), ('Richard Armstrong', 98, 115, 'PERSON'), ('Die Walküre', 118, 129, 'PERSON'), ('1984', 132, 136, 'DATE'), ('Goodall', 156, 163, 'PERSON'), ('Guardian', 253, 261, 'ORG'), ('Wagnerian', 285, 294, 'NORP'), (\"Göran Järvefelt 's\", 459, 477, 'PERSON')\n",
      "\n",
      "\n",
      " In the late 1970s WNO combined with the Cardiff @-@ based Welsh Drama Company , becoming the Welsh National Opera and Drama Company .|('the late 1970s', 4, 18, 'DATE'), ('WNO', 19, 22, 'ORG'), ('Cardiff', 41, 48, 'LOC'), ('Welsh Drama Company', 59, 78, 'ORG'), ('the Welsh National Opera and Drama Company', 90, 132, 'ORG')\n",
      "\n",
      "\n",
      "The work of the drama company came under continued criticism , the Welsh Arts Council cut its grant , and the partnership ended in 1979 with the formal closure of the Welsh Drama Company .|('the Welsh Arts Council', 63, 85, 'ORG'), ('1979', 131, 135, 'DATE'), ('the Welsh Drama Company', 163, 186, 'ORG')\n",
      "\n",
      "\n",
      " Among the guest artists who appeared with the company in the 1970s were the baritone Tito Gobbi , as Falstaff ( 1972 ) , the sopranos Elisabeth Söderström as Emilia in The Makropoulos Case ( 1978 ) and Anne Evans as Senta in The Flying Dutchman ( 1972 ) , and the conductors James Levine ( Aida , 1970 ) and Reginald Goodall ( Tristan and Isolde , 1979 ) .|('the 1970s', 58, 67, 'DATE'), ('Tito Gobbi', 86, 96, 'PERSON'), ('1972', 113, 117, 'DATE'), ('Elisabeth Söderström', 135, 155, 'PERSON'), ('Emilia', 159, 165, 'PERSON'), ('1978', 192, 196, 'DATE'), ('Anne Evans', 203, 213, 'PERSON'), ('Senta', 217, 222, 'GPE'), ('The Flying Dutchman', 226, 245, 'ORG'), ('1972', 248, 252, 'DATE'), ('James Levine', 276, 288, 'PERSON'), ('1970', 298, 302, 'DATE'), ('Reginald Goodall', 309, 325, 'PERSON'), ('1979', 349, 353, 'DATE')\n",
      "\n",
      "\n",
      " The company 's traditional preference for the Italian repertoire was partly redressed during the decade : productions include WNO 's first staging of a Richard Strauss opera , Elektra , in 1978 .|('Italian', 47, 54, 'NORP'), ('the decade', 94, 104, 'DATE'), ('WNO', 127, 130, 'ORG'), ('first', 134, 139, 'ORDINAL'), ('Richard Strauss', 153, 168, 'PERSON'), ('Elektra', 177, 184, 'PRODUCT'), ('1978', 190, 194, 'DATE')\n",
      "\n",
      "\n",
      "A new Welsh work , Alun Hoddinott 's The Beach of Falesá , was presented in 1974 .|('Welsh', 6, 11, 'PERSON'), (\"Alun Hoddinott 's\", 19, 36, 'PERSON'), ('The Beach of Falesá', 37, 56, 'GPE'), ('1974', 76, 80, 'DATE')\n",
      "\n",
      "\n",
      "In 1975 , in co @-@ production with Scottish Opera , WNO began a cycle of Janáček operas , directed by David Pountney .|('1975', 3, 7, 'DATE'), ('Scottish Opera', 36, 50, 'ORG'), ('WNO', 53, 56, 'ORG'), ('Janáček', 74, 81, 'PERSON'), ('David Pountney', 103, 117, 'PERSON')\n",
      "\n",
      "\n",
      "Beginning with Jenůfa , the cycle continued with The Makropoulos Case ( 1978 ) , The Cunning Little Vixen ( 1980 ) , Kátya Kabanová ( 1982 ) and From the House of the Dead ( 1982 ) .|('The Makropoulos Case', 49, 69, 'WORK_OF_ART'), ('1978', 72, 76, 'DATE'), ('The Cunning Little Vixen', 81, 105, 'ORG'), ('1980', 108, 112, 'DATE'), ('Kátya Kabanová', 117, 131, 'PERSON'), ('1982', 134, 138, 'DATE'), ('the House of the Dead', 150, 171, 'ORG'), ('1982', 174, 178, 'DATE')\n",
      "\n",
      "\n",
      " In 1973 Geliot 's WNO staging of Britten 's Billy Budd with Allen in the title role was presented on a Swiss tour , and two years later it was given in Barcelona .|('1973', 4, 8, 'DATE'), (\"Geliot 's\", 9, 18, 'ORG'), ('WNO', 19, 22, 'ORG'), ('Britten', 34, 41, 'PERSON'), ('Billy Budd', 45, 55, 'PERSON'), ('Swiss', 104, 109, 'NORP'), ('two years later', 121, 136, 'DATE'), ('Barcelona', 153, 162, 'GPE')\n",
      "\n",
      "\n",
      "The company returned to London with its participation in the Amoco Festival of Opera at the Dominion Theatre in 1979 , presenting The Makropoulos Case , The Magic Flute , Ernani , Madame Butterfly , and Tristan and Isolde to capacity audiences .|('London', 24, 30, 'GPE'), ('the Amoco Festival of Opera', 57, 84, 'EVENT'), ('the Dominion Theatre', 88, 108, 'ORG'), ('1979', 112, 116, 'DATE'), ('The Makropoulos Case', 130, 150, 'WORK_OF_ART'), ('The Magic Flute', 153, 168, 'WORK_OF_ART'), ('Ernani', 171, 177, 'PERSON'), ('Tristan', 203, 210, 'GPE')\n",
      "\n",
      "\n",
      " In 1970 WNO stopped using the Bournemouth and other orchestras and established its own , known at first as the Welsh Philharmonia .|('1970', 4, 8, 'DATE'), ('WNO', 9, 12, 'ORG'), ('Bournemouth', 31, 42, 'ORG'), ('first', 99, 104, 'ORDINAL')\n",
      "\n",
      "\n",
      "Three years later the last amateur element of the company was removed when the chorus became fully professional .|('Three years later', 0, 17, 'DATE')\n",
      "\n",
      "\n",
      "A further broadening of the repertoire took place in the 1970s : in 1971 WNO staged the first performances in Britain of Berg 's Lulu , directed by Michael Geliot , who had succeeded Moody in 1969 .|('the 1970s', 53, 62, 'DATE'), ('1971', 68, 72, 'DATE'), ('WNO', 73, 76, 'ORG'), ('first', 88, 93, 'ORDINAL'), ('Britain', 110, 117, 'GPE'), ('Berg', 121, 125, 'GPE'), ('Lulu', 129, 133, 'PERSON'), ('Michael Geliot', 148, 162, 'PERSON'), ('1969', 192, 196, 'DATE')\n",
      "\n",
      "\n",
      "In the view of Malcolm Boyd in The New Grove Dictionary of Opera , Geliot , \" unpredictable and often controversial \" , largely shaped the company 's style in the 1970s .|('Malcolm Boyd', 15, 27, 'PERSON'), ('The New Grove Dictionary of', 31, 58, 'ORG'), ('Opera , Geliot', 59, 73, 'ORG'), ('the 1970s', 159, 168, 'DATE')\n",
      "\n",
      "\n",
      "In collaboration with the company 's musical director James Lockhart , Geliot is credited by The Times with introducing new young singers and \" directing a host of groundbreaking productions \" before leaving in 1978 .|('James Lockhart', 54, 68, 'PERSON'), ('Geliot', 71, 77, 'PERSON'), ('Times', 97, 102, 'ORG'), ('1978', 211, 215, 'DATE')\n",
      "\n",
      "\n",
      "The critic Rodney Milnes wrote in 1975 about WNO 's productions : \n",
      "|('Rodney Milnes', 11, 24, 'PERSON'), ('1975', 34, 38, 'DATE'), ('WNO', 45, 48, 'ORG')\n",
      "\n",
      "\n"
     ]
    }
   ],
   "source": [
    "runNER(nlp, sample_iterable)"
   ]
  },
  {
   "cell_type": "code",
   "execution_count": 145,
   "id": "injured-craft",
   "metadata": {},
   "outputs": [],
   "source": [
    "class DataProcessor:\n",
    "    def __init__(\n",
    "        self, \n",
    "        text, \n",
    "        write_dir=None, \n",
    "        n_workers=4\n",
    "    ):\n",
    "        self.text = text\n",
    "        self.write_dir = write_dir\n",
    "        self.n_workers = n_workers\n",
    "        \n",
    "        self.ner_texts = []\n",
    "        self.ents = collections.defaultdict(list)\n",
    "        self.permuted = []\n",
    "\n",
    "        self.model = spacy.load(\n",
    "            \"en_core_web_sm\", \n",
    "            exclude=['tagger', 'parser', 'attribute_ruler', 'lemmatizer']\n",
    "        )\n",
    "        self.model.add_pipe('sentencizer')\n",
    "        \n",
    "        self.keep_ents = ['PERSON', 'ORG', 'GPE']\n",
    "        \n",
    "    @classmethod\n",
    "    def fromFile(cls, file_loc):\n",
    "        pass\n",
    "        \n",
    "    \n",
    "    def permuteEnts(self):\n",
    "        timestamp = time.time()\n",
    "        if self.write_dir:\n",
    "            handler = open(self.write_dir + f'/permuted_entities.{timestamp}', 'w')\n",
    "        for (sent, ents) in self.ner_texts:\n",
    "            eligible = list(filter(lambda x: x[3] in self.keep_ents, ents))\n",
    "            orig_ent = random.choice(eligible)\n",
    "            ent_type = orig_ent[3]\n",
    "            start, end  = orig_ent[1:3]\n",
    "            while True:\n",
    "                replace_ent = random.choice(self.ents[ent_type])\n",
    "                if replace_ent != orig_ent: break\n",
    "\n",
    "            prefix = sent[:start]\n",
    "            suffix = sent[end:]\n",
    "            new_sent = prefix + replace_ent + suffix\n",
    "            if self.write_dir:\n",
    "                handler.write(new_sent + \"\\n\")\n",
    "            self.permuted.append(new_sent)\n",
    "    \n",
    "    \n",
    "    def processEnts(self):\n",
    "        timestamp = time.time()\n",
    "        \n",
    "        if self.write_dir:\n",
    "            main_loc = self.write_dir + f'/processed_entities.{timestamp}'\n",
    "            ent_loc = self.write_dir + f'/all_entities.{timestamp}'\n",
    "            with open(main_loc, 'w') as f:\n",
    "                for output in self.runNER(self.text):\n",
    "                    text, ents = output\n",
    "                    f.write(f\"{text}|{str(ents).strip('[]')}\\n\")\n",
    "            with open(ent_loc, 'w') as f:\n",
    "                for ent_type, ent_value in self.ents.items():\n",
    "                    f.write(f\"{ent_type}|{ent_value}\\n\")\n",
    "        else:\n",
    "            for output in self.runNER(self.text):\n",
    "                self.ner_texts.append(output)\n",
    "        \n",
    "        \n",
    "    def runNER(self, texts):\n",
    "        for doc in self.model.pipe(texts):\n",
    "            for sent in doc.sents:\n",
    "                if any([e.label_ in self.keep_ents for e in sent.ents]):\n",
    "                    ents = []\n",
    "                    for e in sent.ents:\n",
    "                        ents.append((e.text, e.start_char - sent.start_char, e.end_char - sent.start_char, e.label_))\n",
    "                        self.ents[e.label_].append(e.text)\n",
    "                    yield (sent.text, ents)\n",
    "    "
   ]
  },
  {
   "cell_type": "code",
   "execution_count": 146,
   "id": "protected-grill",
   "metadata": {},
   "outputs": [],
   "source": [
    "dp = DataProcessor(wikitext['text'][1:1000])"
   ]
  },
  {
   "cell_type": "code",
   "execution_count": 147,
   "id": "recorded-beast",
   "metadata": {},
   "outputs": [],
   "source": [
    "dp.processEnts()"
   ]
  },
  {
   "cell_type": "code",
   "execution_count": 148,
   "id": "ruled-parish",
   "metadata": {},
   "outputs": [],
   "source": [
    "dp.permuteEnts()"
   ]
  },
  {
   "cell_type": "code",
   "execution_count": 158,
   "id": "occupied-nerve",
   "metadata": {},
   "outputs": [
    {
     "name": "stdout",
     "output_type": "stream",
     "text": [
      "Horus was the most important god in the Early Dynastic Period , Ra rose to preeminence in the Old Kingdom , Amun was supreme in the New , and in the Ptolemaic and Roman periods , Isis was the divine queen and creator goddess .\n",
      "Horus was the most important god in the Early Dynastic Period , Ra rose to preeminence in the Old Kingdom , Amun was supreme in the New , and in the Ptolemaic and Roman periods , CAA was the divine queen and creator goddess .\n",
      "\n",
      "\n",
      "Due to its association with the Camden Expedition of 1864 , the arsenal may be included in the Camden Expedition Sites National Historic Landmark designated in 1994 .\n",
      "Due to its association with GA of 1864 , the arsenal may be included in the Camden Expedition Sites National Historic Landmark designated in 1994 .\n",
      "\n",
      "\n",
      "The win qualified Gambia for the 2012 Azerbaijan World Cup .\n",
      "The win qualified Dorothy for the 2012 Azerbaijan World Cup .\n",
      "\n",
      "\n",
      "His father and uncles Brian and Ray all played in the NHL , and while Cullen and his three brothers all played as well , their father never pressured them , preferring that they enjoy the game .\n",
      "His father and uncles Atum and Ray all played in the NHL , and while Cullen and his three brothers all played as well , their father never pressured them , preferring that they enjoy the game .\n",
      "\n",
      "\n",
      " The arsenal was briefly seized once more by Joseph Brooks loyalists during the Brooks @-@ Baxter War of 1874 .\n",
      " The arsenal was briefly seized once more by Jeff Hanneman loyalists during the Brooks @-@ Baxter War of 1874 .\n",
      "\n",
      "\n",
      "The following year , she held the sixty second position in the Indian edition of the Forbes ' Celebrity 100 , a list based on the income and popularity of India 's celebrities .\n",
      "The following year , she held the sixty second position in the Indian edition of the Forbes ' Celebrity 100 , a list based on the income and popularity of Columbus 's celebrities .\n",
      "\n",
      "\n",
      " Atlanta was a casemate ironclad that served in the Confederate and Union Navies during the American Civil War .\n",
      " the Kingdom of Yugoslavia was a casemate ironclad that served in the Confederate and Union Navies during the American Civil War .\n",
      "\n",
      "\n",
      "Some of these theories are now regarded as too simplistic , and more current ones , such as Siegfried Morenz ' hypothesis that deities emerged as humans began to distinguish themselves from and personify their environment , are difficult to prove .\n",
      "Some of these theories are now regarded as too simplistic , and more current ones , such as Siegfried Atum ' hypothesis that deities emerged as humans began to distinguish themselves from and personify their environment , are difficult to prove .\n",
      "\n",
      "\n",
      "The 9th and 10th Arkansas , four companies of Kelly 's 9th Arkansas Battalion , and the 3rd Arkansas Cavalry Regiment were issued flintlock Hall 's Rifles .\n",
      "The 9th and 10th Arkansas , four companies of Kelly 's 9th Arkansas Battalion , and the 3rd the Preservation of Christian Knowledge were issued flintlock Hall 's Rifles .\n",
      "\n",
      "\n",
      "The Gambia then beat Tunisia 1 @-@ 0 at home and won 2 @-@ 1 in Tunisia .\n",
      "The US then beat Tunisia 1 @-@ 0 at home and won 2 @-@ 1 in Tunisia .\n",
      "\n",
      "\n"
     ]
    }
   ],
   "source": [
    "idxs = random.sample(range(1, 900), 10)\n",
    "for idx in idxs:\n",
    "    print(dp.ner_texts[idx][0])\n",
    "    print(dp.permuted[idx])\n",
    "    print('\\n')"
   ]
  },
  {
   "cell_type": "code",
   "execution_count": null,
   "id": "behind-maldives",
   "metadata": {},
   "outputs": [],
   "source": []
  }
 ],
 "metadata": {
  "kernelspec": {
   "display_name": "Python 3",
   "language": "python",
   "name": "python3"
  },
  "language_info": {
   "codemirror_mode": {
    "name": "ipython",
    "version": 3
   },
   "file_extension": ".py",
   "mimetype": "text/x-python",
   "name": "python",
   "nbconvert_exporter": "python",
   "pygments_lexer": "ipython3",
   "version": "3.7.9"
  },
  "toc": {
   "base_numbering": 1,
   "nav_menu": {},
   "number_sections": true,
   "sideBar": true,
   "skip_h1_title": false,
   "title_cell": "",
   "title_sidebar": "Contents",
   "toc_cell": true,
   "toc_position": {},
   "toc_section_display": true,
   "toc_window_display": false
  }
 },
 "nbformat": 4,
 "nbformat_minor": 5
}
