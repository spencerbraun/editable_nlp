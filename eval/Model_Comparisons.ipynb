{
 "cells": [
  {
   "cell_type": "code",
   "execution_count": 163,
   "id": "crude-childhood",
   "metadata": {},
   "outputs": [],
   "source": [
    "import glob\n",
    "import sys \n",
    "\n",
    "import numpy as np\n",
    "import pandas as pd\n",
    "import torch\n",
    "\n",
    "import matplotlib\n",
    "import matplotlib.pyplot as plt\n",
    "%matplotlib inline\n",
    "\n",
    "\n",
    "from IPython.display import display\n",
    "\n",
    "sys.path.append(\"../src\")\n",
    "from evaluate import evalSingleEdits"
   ]
  },
  {
   "cell_type": "code",
   "execution_count": 220,
   "id": "virgin-particular",
   "metadata": {},
   "outputs": [],
   "source": [
    "class ModelComps:\n",
    "    def __init__(self, model_name, base_name, archive=False):\n",
    "        \n",
    "        self.archive = archive\n",
    "        self.model_name = model_name\n",
    "        self.base_name = base_name\n",
    "        self.ots_name = \"OTS\"\n",
    "        self.models = {}\n",
    "        self.modelStats = self.getModelParams()\n",
    "        \n",
    "        self.stats = {}\n",
    "    \n",
    "    \n",
    "    def getModelParams(self):\n",
    "        model_id = \".\".join(self.model_name.split(\".\")[1:])\n",
    "        return pd.Series(torch.load(f\"../models/hypers.{model_id}\")).to_frame().T\n",
    "        \n",
    "\n",
    "    def readData(self, model_name, kind='model'):\n",
    "        if self.archive:\n",
    "            eval_glob = glob.glob(f\"./archive/*{model_name}\")\n",
    "        else:\n",
    "            eval_glob = glob.glob(f\"./*{model_name}\")\n",
    "        for evaluation in eval_glob:\n",
    "            df = pd.read_csv(evaluation)\n",
    "            eval_id = f\"{kind}_{evaluation.split('.')[4].split('_')[0]}\"\n",
    "            self.models[eval_id] = df\n",
    "    \n",
    "    def runStats(self):\n",
    "        if not self.models:\n",
    "            self.readData(self.base_name, kind='base')\n",
    "            self.readData(self.model_name)\n",
    "            self.readData(self.ots_name, kind='ots')\n",
    "            \n",
    "        for name, model in self.models.items():  \n",
    "            mean_new_ppl = model.new_ppl.mean() \n",
    "            mean_orig_ppl = model.orig_ppl.mean() \n",
    "            pct_ppl_dd = model.apply(lambda x: (x.new_ppl - x.orig_ppl)/x.orig_ppl, axis=1).mean()\n",
    "            gross_ppl_dd = model.apply(lambda x: x.new_ppl - x.orig_ppl, axis=1).mean()\n",
    "            success_by_logits = model.success.mean()\n",
    "            \n",
    "            try:\n",
    "                success_by_probs = model.apply(lambda x: x.new_prob > x.old_prob, axis=1).mean()\n",
    "            except AttributeError:\n",
    "                success_by_probs = np.nan\n",
    "                \n",
    "            try:\n",
    "                n_edit_steps = model.n_edit_steps.max()\n",
    "            except:\n",
    "                n_edit_steps = np.nan\n",
    "            \n",
    "            self.stats[name] = {\n",
    "                \"edit_steps\":n_edit_steps,\n",
    "                \"mean_new_ppl\":mean_new_ppl,\n",
    "                \"mean_orig_ppl\":mean_orig_ppl,\n",
    "                \"pct_ppl_dd\":pct_ppl_dd,\n",
    "                \"gross_ppl_dd\":gross_ppl_dd,\n",
    "                \"success_by_logits\":success_by_logits,\n",
    "                \"success_by_probs\":success_by_probs,\n",
    "            }\n",
    "    \n",
    "    @property\n",
    "    def statDf(self):\n",
    "        stats_df = (\n",
    "            pd.DataFrame(self.stats).T\n",
    "            .reset_index()\n",
    "            .rename(columns={'index':'model'})\n",
    "            .sort_values([\"model\", \"edit_steps\"], ascending=False)\n",
    "        )\n",
    "        \n",
    "        return stats_df\n",
    "    \n",
    "    def summary(self):\n",
    "        if not self.stats:\n",
    "            self.runStats()\n",
    "        print(\"Model Parameters:\")\n",
    "        display(self.modelStats)\n",
    "        \n",
    "        print(\"Success Metrics\")\n",
    "        stats_df = (\n",
    "            pd.DataFrame(self.stats).T\n",
    "            .reset_index()\n",
    "            .rename(columns={'index':'model'})\n",
    "            .sort_values([\"model\", \"edit_steps\"], ascending=False)\n",
    "        )\n",
    "        \n",
    "        display(stats_df)\n",
    "        \n",
    "    \n",
    "    def runEvaluation(self, n_edit_steps=[1], ots=False, baseline=False):\n",
    "        \n",
    "        dataloader = retrieveDataloader(\n",
    "            tokenizer, bs=1, dataset='valid', max_obs=500\n",
    "        )\n",
    "\n",
    "        for nes in n_edit_steps:\n",
    "            model_path = f\"../models/{self.model_name}\"\n",
    "            model, tokenizer = loadTrainedModel(model_path)\n",
    "            _, _ = evalSingleEdits(\n",
    "                model, \n",
    "                dataloader, \n",
    "                model_path, \n",
    "                int(nes)\n",
    "                )\n",
    "            if baseline:\n",
    "                base_path = f\"../models/finetune/{self.baseline}\"\n",
    "                model_baseline, _ = loadTrainedModel(base_path)\n",
    "                _, _ = evalSingleEdits(\n",
    "                    model_baseline, \n",
    "                    dataloader, \n",
    "                    base_path, \n",
    "                    int(nes)\n",
    "                    )\n",
    "            if ots:\n",
    "                model_ots, _ = loadOTSModel()\n",
    "                _, _ = evalSingleEdits(\n",
    "                    model_ots, \n",
    "                    dataloader, \n",
    "                    \"OTS\", \n",
    "                    int(nes)\n",
    "                    )\n",
    "                \n",
    "    def plotter(self):\n",
    "        print(\"Plotting Logits\")\n",
    "        for name, model in self.models.items():\n",
    "            print(name)\n",
    "            try:\n",
    "                plt.hist(model.orig_logits, alpha=0.3, label=\"orig\")\n",
    "                plt.hist(model.new_logits, alpha=0.3, label=\"new\")\n",
    "                plt.legend()\n",
    "                plt.show()\n",
    "            except:\n",
    "                continue\n",
    "       \n",
    "        print(\"Plotting % Logit Diffs\")\n",
    "        for name, model in self.models.items():\n",
    "            try:\n",
    "                plt.hist((model.orig_logits - model.new_logits) / model.orig_logits, alpha=0.3, label=name)\n",
    "            except:\n",
    "                continue\n",
    "        plt.legend()\n",
    "        plt.show()\n",
    "\n"
   ]
  },
  {
   "cell_type": "markdown",
   "id": "cooperative-pregnancy",
   "metadata": {},
   "source": [
    "# model_epoch0_ts10000.20210314.16.03.1615740151\n",
    "## cedit=1, cloc=10, 10k steps\n",
    "Notes: Model run morning of 3/14, showed best performance to date."
   ]
  },
  {
   "cell_type": "code",
   "execution_count": 221,
   "id": "competent-suspension",
   "metadata": {},
   "outputs": [
    {
     "name": "stdout",
     "output_type": "stream",
     "text": [
      "Model Parameters:\n"
     ]
    },
    {
     "data": {
      "text/html": [
       "<div>\n",
       "<style scoped>\n",
       "    .dataframe tbody tr th:only-of-type {\n",
       "        vertical-align: middle;\n",
       "    }\n",
       "\n",
       "    .dataframe tbody tr th {\n",
       "        vertical-align: top;\n",
       "    }\n",
       "\n",
       "    .dataframe thead th {\n",
       "        text-align: right;\n",
       "    }\n",
       "</style>\n",
       "<table border=\"1\" class=\"dataframe\">\n",
       "  <thead>\n",
       "    <tr style=\"text-align: right;\">\n",
       "      <th></th>\n",
       "      <th>inner_lr</th>\n",
       "      <th>outer_lr</th>\n",
       "      <th>n_edit_steps</th>\n",
       "      <th>cedit</th>\n",
       "      <th>cloc</th>\n",
       "    </tr>\n",
       "  </thead>\n",
       "  <tbody>\n",
       "    <tr>\n",
       "      <th>0</th>\n",
       "      <td>0.001</td>\n",
       "      <td>0.00001</td>\n",
       "      <td>1.0</td>\n",
       "      <td>1.0</td>\n",
       "      <td>10.0</td>\n",
       "    </tr>\n",
       "  </tbody>\n",
       "</table>\n",
       "</div>"
      ],
      "text/plain": [
       "   inner_lr  outer_lr  n_edit_steps  cedit  cloc\n",
       "0     0.001   0.00001           1.0    1.0  10.0"
      ]
     },
     "metadata": {},
     "output_type": "display_data"
    },
    {
     "name": "stdout",
     "output_type": "stream",
     "text": [
      "Success Metrics\n"
     ]
    },
    {
     "data": {
      "text/html": [
       "<div>\n",
       "<style scoped>\n",
       "    .dataframe tbody tr th:only-of-type {\n",
       "        vertical-align: middle;\n",
       "    }\n",
       "\n",
       "    .dataframe tbody tr th {\n",
       "        vertical-align: top;\n",
       "    }\n",
       "\n",
       "    .dataframe thead th {\n",
       "        text-align: right;\n",
       "    }\n",
       "</style>\n",
       "<table border=\"1\" class=\"dataframe\">\n",
       "  <thead>\n",
       "    <tr style=\"text-align: right;\">\n",
       "      <th></th>\n",
       "      <th>model</th>\n",
       "      <th>edit_steps</th>\n",
       "      <th>mean_new_ppl</th>\n",
       "      <th>mean_orig_ppl</th>\n",
       "      <th>pct_ppl_dd</th>\n",
       "      <th>gross_ppl_dd</th>\n",
       "      <th>success_by_logits</th>\n",
       "      <th>success_by_probs</th>\n",
       "    </tr>\n",
       "  </thead>\n",
       "  <tbody>\n",
       "    <tr>\n",
       "      <th>5</th>\n",
       "      <td>ots_1615751556</td>\n",
       "      <td>3.0</td>\n",
       "      <td>91.285610</td>\n",
       "      <td>90.703072</td>\n",
       "      <td>0.006422</td>\n",
       "      <td>0.582538</td>\n",
       "      <td>0.74</td>\n",
       "      <td>0.88</td>\n",
       "    </tr>\n",
       "    <tr>\n",
       "      <th>2</th>\n",
       "      <td>model_1615752938</td>\n",
       "      <td>1.0</td>\n",
       "      <td>77.669995</td>\n",
       "      <td>77.696777</td>\n",
       "      <td>-0.000345</td>\n",
       "      <td>-0.026782</td>\n",
       "      <td>0.86</td>\n",
       "      <td>0.92</td>\n",
       "    </tr>\n",
       "    <tr>\n",
       "      <th>3</th>\n",
       "      <td>model_1615750890</td>\n",
       "      <td>3.0</td>\n",
       "      <td>83.744809</td>\n",
       "      <td>77.696777</td>\n",
       "      <td>0.077841</td>\n",
       "      <td>6.048032</td>\n",
       "      <td>0.90</td>\n",
       "      <td>0.94</td>\n",
       "    </tr>\n",
       "    <tr>\n",
       "      <th>4</th>\n",
       "      <td>model_1615750412</td>\n",
       "      <td>5.0</td>\n",
       "      <td>95.364924</td>\n",
       "      <td>77.696777</td>\n",
       "      <td>0.227399</td>\n",
       "      <td>17.668147</td>\n",
       "      <td>0.86</td>\n",
       "      <td>0.88</td>\n",
       "    </tr>\n",
       "    <tr>\n",
       "      <th>0</th>\n",
       "      <td>base_1615752056</td>\n",
       "      <td>3.0</td>\n",
       "      <td>49.590736</td>\n",
       "      <td>49.353867</td>\n",
       "      <td>0.004799</td>\n",
       "      <td>0.236870</td>\n",
       "      <td>0.78</td>\n",
       "      <td>0.88</td>\n",
       "    </tr>\n",
       "    <tr>\n",
       "      <th>1</th>\n",
       "      <td>base_1615404464</td>\n",
       "      <td>NaN</td>\n",
       "      <td>53.371377</td>\n",
       "      <td>50.168995</td>\n",
       "      <td>0.063832</td>\n",
       "      <td>3.202382</td>\n",
       "      <td>0.66</td>\n",
       "      <td>NaN</td>\n",
       "    </tr>\n",
       "  </tbody>\n",
       "</table>\n",
       "</div>"
      ],
      "text/plain": [
       "              model  edit_steps  mean_new_ppl  mean_orig_ppl  pct_ppl_dd  \\\n",
       "5    ots_1615751556         3.0     91.285610      90.703072    0.006422   \n",
       "2  model_1615752938         1.0     77.669995      77.696777   -0.000345   \n",
       "3  model_1615750890         3.0     83.744809      77.696777    0.077841   \n",
       "4  model_1615750412         5.0     95.364924      77.696777    0.227399   \n",
       "0   base_1615752056         3.0     49.590736      49.353867    0.004799   \n",
       "1   base_1615404464         NaN     53.371377      50.168995    0.063832   \n",
       "\n",
       "   gross_ppl_dd  success_by_logits  success_by_probs  \n",
       "5      0.582538               0.74              0.88  \n",
       "2     -0.026782               0.86              0.92  \n",
       "3      6.048032               0.90              0.94  \n",
       "4     17.668147               0.86              0.88  \n",
       "0      0.236870               0.78              0.88  \n",
       "1      3.202382               0.66               NaN  "
      ]
     },
     "metadata": {},
     "output_type": "display_data"
    }
   ],
   "source": [
    "comps = ModelComps(\n",
    "    model_name=\"model_epoch0_ts10000.20210314.16.03.1615740151\",\n",
    "    base_name=\"gpt2_epoch0_ts10000.20210310.18.03.1615401990\",\n",
    "    archive=True\n",
    ")\n",
    "\n",
    "comps.summary()"
   ]
  },
  {
   "cell_type": "code",
   "execution_count": 222,
   "id": "cordless-michigan",
   "metadata": {
    "scrolled": false
   },
   "outputs": [
    {
     "name": "stdout",
     "output_type": "stream",
     "text": [
      "Plotting Logits\n",
      "base_1615752056\n"
     ]
    },
    {
     "data": {
      "image/png": "[encoded data removed]",
      "text/plain": [
       "<Figure size 432x288 with 1 Axes>"
      ]
     },
     "metadata": {
      "needs_background": "light"
     },
     "output_type": "display_data"
    },
    {
     "name": "stdout",
     "output_type": "stream",
     "text": [
      "base_1615404464\n",
      "model_1615752938\n"
     ]
    },
    {
     "data": {
      "image/png": "[encoded data removed]",
      "text/plain": [
       "<Figure size 432x288 with 1 Axes>"
      ]
     },
     "metadata": {
      "needs_background": "light"
     },
     "output_type": "display_data"
    },
    {
     "name": "stdout",
     "output_type": "stream",
     "text": [
      "model_1615750890\n"
     ]
    },
    {
     "data": {
      "image/png": "[encoded data removed]",
      "text/plain": [
       "<Figure size 432x288 with 1 Axes>"
      ]
     },
     "metadata": {
      "needs_background": "light"
     },
     "output_type": "display_data"
    },
    {
     "name": "stdout",
     "output_type": "stream",
     "text": [
      "model_1615750412\n"
     ]
    },
    {
     "data": {
      "image/png": "[encoded data removed]",
      "text/plain": [
       "<Figure size 432x288 with 1 Axes>"
      ]
     },
     "metadata": {
      "needs_background": "light"
     },
     "output_type": "display_data"
    },
    {
     "name": "stdout",
     "output_type": "stream",
     "text": [
      "ots_1615751556\n"
     ]
    },
    {
     "data": {
      "image/png": "[encoded data removed]",
      "text/plain": [
       "<Figure size 432x288 with 1 Axes>"
      ]
     },
     "metadata": {
      "needs_background": "light"
     },
     "output_type": "display_data"
    },
    {
     "name": "stdout",
     "output_type": "stream",
     "text": [
      "Plotting % Logit Diffs\n"
     ]
    },
    {
     "data": {
      "image/png": "[encoded data removed]",
      "text/plain": [
       "<Figure size 432x288 with 1 Axes>"
      ]
     },
     "metadata": {
      "needs_background": "light"
     },
     "output_type": "display_data"
    }
   ],
   "source": [
    "comps.plotter()"
   ]
  },
  {
   "cell_type": "markdown",
   "id": "charitable-connecticut",
   "metadata": {},
   "source": [
    "# model_epoch0_ts6000.20210314.16.03.1615740151\n",
    "## cedit=1, cloc=10, 6k steps\n",
    "Notes: same model, checking to see if evaluating an earlier checkpoint might be better. Tried with a number of checkpoints, generally worse"
   ]
  },
  {
   "cell_type": "code",
   "execution_count": 172,
   "id": "laughing-shower",
   "metadata": {},
   "outputs": [
    {
     "name": "stdout",
     "output_type": "stream",
     "text": [
      "Model Parameters:\n"
     ]
    },
    {
     "data": {
      "text/html": [
       "<div>\n",
       "<style scoped>\n",
       "    .dataframe tbody tr th:only-of-type {\n",
       "        vertical-align: middle;\n",
       "    }\n",
       "\n",
       "    .dataframe tbody tr th {\n",
       "        vertical-align: top;\n",
       "    }\n",
       "\n",
       "    .dataframe thead th {\n",
       "        text-align: right;\n",
       "    }\n",
       "</style>\n",
       "<table border=\"1\" class=\"dataframe\">\n",
       "  <thead>\n",
       "    <tr style=\"text-align: right;\">\n",
       "      <th></th>\n",
       "      <th>inner_lr</th>\n",
       "      <th>outer_lr</th>\n",
       "      <th>n_edit_steps</th>\n",
       "      <th>cedit</th>\n",
       "      <th>cloc</th>\n",
       "    </tr>\n",
       "  </thead>\n",
       "  <tbody>\n",
       "    <tr>\n",
       "      <th>0</th>\n",
       "      <td>0.001</td>\n",
       "      <td>0.00001</td>\n",
       "      <td>1.0</td>\n",
       "      <td>1.0</td>\n",
       "      <td>10.0</td>\n",
       "    </tr>\n",
       "  </tbody>\n",
       "</table>\n",
       "</div>"
      ],
      "text/plain": [
       "   inner_lr  outer_lr  n_edit_steps  cedit  cloc\n",
       "0     0.001   0.00001           1.0    1.0  10.0"
      ]
     },
     "metadata": {},
     "output_type": "display_data"
    },
    {
     "name": "stdout",
     "output_type": "stream",
     "text": [
      "Success Metrics\n"
     ]
    },
    {
     "data": {
      "text/html": [
       "<div>\n",
       "<style scoped>\n",
       "    .dataframe tbody tr th:only-of-type {\n",
       "        vertical-align: middle;\n",
       "    }\n",
       "\n",
       "    .dataframe tbody tr th {\n",
       "        vertical-align: top;\n",
       "    }\n",
       "\n",
       "    .dataframe thead th {\n",
       "        text-align: right;\n",
       "    }\n",
       "</style>\n",
       "<table border=\"1\" class=\"dataframe\">\n",
       "  <thead>\n",
       "    <tr style=\"text-align: right;\">\n",
       "      <th></th>\n",
       "      <th>model</th>\n",
       "      <th>edit_steps</th>\n",
       "      <th>mean_new_ppl</th>\n",
       "      <th>mean_orig_ppl</th>\n",
       "      <th>pct_ppl_dd</th>\n",
       "      <th>gross_ppl_dd</th>\n",
       "      <th>success_by_logits</th>\n",
       "      <th>success_by_probs</th>\n",
       "    </tr>\n",
       "  </thead>\n",
       "  <tbody>\n",
       "    <tr>\n",
       "      <th>3</th>\n",
       "      <td>ots_1615751556</td>\n",
       "      <td>3.0</td>\n",
       "      <td>91.285610</td>\n",
       "      <td>90.703072</td>\n",
       "      <td>0.006422</td>\n",
       "      <td>0.582538</td>\n",
       "      <td>0.74</td>\n",
       "      <td>0.88</td>\n",
       "    </tr>\n",
       "    <tr>\n",
       "      <th>2</th>\n",
       "      <td>model_1615754734</td>\n",
       "      <td>3.0</td>\n",
       "      <td>97.099067</td>\n",
       "      <td>85.292526</td>\n",
       "      <td>0.138424</td>\n",
       "      <td>11.806540</td>\n",
       "      <td>0.86</td>\n",
       "      <td>0.88</td>\n",
       "    </tr>\n",
       "    <tr>\n",
       "      <th>0</th>\n",
       "      <td>base_1615752056</td>\n",
       "      <td>3.0</td>\n",
       "      <td>49.590736</td>\n",
       "      <td>49.353867</td>\n",
       "      <td>0.004799</td>\n",
       "      <td>0.236870</td>\n",
       "      <td>0.78</td>\n",
       "      <td>0.88</td>\n",
       "    </tr>\n",
       "    <tr>\n",
       "      <th>1</th>\n",
       "      <td>base_1615404464</td>\n",
       "      <td>NaN</td>\n",
       "      <td>53.371377</td>\n",
       "      <td>50.168995</td>\n",
       "      <td>0.063832</td>\n",
       "      <td>3.202382</td>\n",
       "      <td>0.66</td>\n",
       "      <td>NaN</td>\n",
       "    </tr>\n",
       "  </tbody>\n",
       "</table>\n",
       "</div>"
      ],
      "text/plain": [
       "              model  edit_steps  mean_new_ppl  mean_orig_ppl  pct_ppl_dd  \\\n",
       "3    ots_1615751556         3.0     91.285610      90.703072    0.006422   \n",
       "2  model_1615754734         3.0     97.099067      85.292526    0.138424   \n",
       "0   base_1615752056         3.0     49.590736      49.353867    0.004799   \n",
       "1   base_1615404464         NaN     53.371377      50.168995    0.063832   \n",
       "\n",
       "   gross_ppl_dd  success_by_logits  success_by_probs  \n",
       "3      0.582538               0.74              0.88  \n",
       "2     11.806540               0.86              0.88  \n",
       "0      0.236870               0.78              0.88  \n",
       "1      3.202382               0.66               NaN  "
      ]
     },
     "metadata": {},
     "output_type": "display_data"
    }
   ],
   "source": [
    "comps = ModelComps(\n",
    "    model_name=\"model_epoch0_ts6000.20210314.16.03.1615740151\",\n",
    "    base_name=\"gpt2_epoch0_ts10000.20210310.18.03.1615401990\"\n",
    ")\n",
    "\n",
    "comps.summary()"
   ]
  },
  {
   "cell_type": "markdown",
   "id": "adverse-seattle",
   "metadata": {},
   "source": [
    "# model_epoch0_ts10000.20210312.21.03.1615586239\n",
    "## cedit=1, cloc=1, 10k steps\n",
    "Notes: Model run Friday 3/12, first try with editing loss calculated just on the modified tokens. Has worse statistics"
   ]
  },
  {
   "cell_type": "code",
   "execution_count": 171,
   "id": "automated-bahamas",
   "metadata": {},
   "outputs": [
    {
     "name": "stdout",
     "output_type": "stream",
     "text": [
      "Model Parameters:\n"
     ]
    },
    {
     "data": {
      "text/html": [
       "<div>\n",
       "<style scoped>\n",
       "    .dataframe tbody tr th:only-of-type {\n",
       "        vertical-align: middle;\n",
       "    }\n",
       "\n",
       "    .dataframe tbody tr th {\n",
       "        vertical-align: top;\n",
       "    }\n",
       "\n",
       "    .dataframe thead th {\n",
       "        text-align: right;\n",
       "    }\n",
       "</style>\n",
       "<table border=\"1\" class=\"dataframe\">\n",
       "  <thead>\n",
       "    <tr style=\"text-align: right;\">\n",
       "      <th></th>\n",
       "      <th>inner_lr</th>\n",
       "      <th>outer_lr</th>\n",
       "      <th>n_edit_steps</th>\n",
       "      <th>cedit</th>\n",
       "      <th>cloc</th>\n",
       "    </tr>\n",
       "  </thead>\n",
       "  <tbody>\n",
       "    <tr>\n",
       "      <th>0</th>\n",
       "      <td>0.001</td>\n",
       "      <td>0.00001</td>\n",
       "      <td>1.0</td>\n",
       "      <td>1.0</td>\n",
       "      <td>1.0</td>\n",
       "    </tr>\n",
       "  </tbody>\n",
       "</table>\n",
       "</div>"
      ],
      "text/plain": [
       "   inner_lr  outer_lr  n_edit_steps  cedit  cloc\n",
       "0     0.001   0.00001           1.0    1.0   1.0"
      ]
     },
     "metadata": {},
     "output_type": "display_data"
    },
    {
     "name": "stdout",
     "output_type": "stream",
     "text": [
      "Success Metrics\n"
     ]
    },
    {
     "data": {
      "text/html": [
       "<div>\n",
       "<style scoped>\n",
       "    .dataframe tbody tr th:only-of-type {\n",
       "        vertical-align: middle;\n",
       "    }\n",
       "\n",
       "    .dataframe tbody tr th {\n",
       "        vertical-align: top;\n",
       "    }\n",
       "\n",
       "    .dataframe thead th {\n",
       "        text-align: right;\n",
       "    }\n",
       "</style>\n",
       "<table border=\"1\" class=\"dataframe\">\n",
       "  <thead>\n",
       "    <tr style=\"text-align: right;\">\n",
       "      <th></th>\n",
       "      <th>model</th>\n",
       "      <th>edit_steps</th>\n",
       "      <th>mean_new_ppl</th>\n",
       "      <th>mean_orig_ppl</th>\n",
       "      <th>pct_ppl_dd</th>\n",
       "      <th>gross_ppl_dd</th>\n",
       "      <th>success_by_logits</th>\n",
       "      <th>success_by_probs</th>\n",
       "    </tr>\n",
       "  </thead>\n",
       "  <tbody>\n",
       "    <tr>\n",
       "      <th>7</th>\n",
       "      <td>ots_1615751556</td>\n",
       "      <td>3.0</td>\n",
       "      <td>91.285610</td>\n",
       "      <td>90.703072</td>\n",
       "      <td>0.006422</td>\n",
       "      <td>0.582538</td>\n",
       "      <td>0.74</td>\n",
       "      <td>0.88</td>\n",
       "    </tr>\n",
       "    <tr>\n",
       "      <th>4</th>\n",
       "      <td>model_1615756602</td>\n",
       "      <td>5.0</td>\n",
       "      <td>194.801235</td>\n",
       "      <td>94.858231</td>\n",
       "      <td>1.053604</td>\n",
       "      <td>99.943004</td>\n",
       "      <td>0.92</td>\n",
       "      <td>0.92</td>\n",
       "    </tr>\n",
       "    <tr>\n",
       "      <th>6</th>\n",
       "      <td>model_1615756166</td>\n",
       "      <td>1.0</td>\n",
       "      <td>145.216881</td>\n",
       "      <td>94.858231</td>\n",
       "      <td>0.530883</td>\n",
       "      <td>50.358650</td>\n",
       "      <td>0.88</td>\n",
       "      <td>0.94</td>\n",
       "    </tr>\n",
       "    <tr>\n",
       "      <th>5</th>\n",
       "      <td>model_1615755665</td>\n",
       "      <td>3.0</td>\n",
       "      <td>212.287687</td>\n",
       "      <td>94.858231</td>\n",
       "      <td>1.237947</td>\n",
       "      <td>117.429456</td>\n",
       "      <td>0.86</td>\n",
       "      <td>0.92</td>\n",
       "    </tr>\n",
       "    <tr>\n",
       "      <th>2</th>\n",
       "      <td>model_1615593547</td>\n",
       "      <td>5.0</td>\n",
       "      <td>227.094710</td>\n",
       "      <td>94.858231</td>\n",
       "      <td>1.394043</td>\n",
       "      <td>132.236479</td>\n",
       "      <td>0.14</td>\n",
       "      <td>NaN</td>\n",
       "    </tr>\n",
       "    <tr>\n",
       "      <th>3</th>\n",
       "      <td>model_1615593107</td>\n",
       "      <td>NaN</td>\n",
       "      <td>159.165088</td>\n",
       "      <td>94.858231</td>\n",
       "      <td>0.677926</td>\n",
       "      <td>64.306857</td>\n",
       "      <td>0.18</td>\n",
       "      <td>NaN</td>\n",
       "    </tr>\n",
       "    <tr>\n",
       "      <th>0</th>\n",
       "      <td>base_1615752056</td>\n",
       "      <td>3.0</td>\n",
       "      <td>49.590736</td>\n",
       "      <td>49.353867</td>\n",
       "      <td>0.004799</td>\n",
       "      <td>0.236870</td>\n",
       "      <td>0.78</td>\n",
       "      <td>0.88</td>\n",
       "    </tr>\n",
       "    <tr>\n",
       "      <th>1</th>\n",
       "      <td>base_1615404464</td>\n",
       "      <td>NaN</td>\n",
       "      <td>53.371377</td>\n",
       "      <td>50.168995</td>\n",
       "      <td>0.063832</td>\n",
       "      <td>3.202382</td>\n",
       "      <td>0.66</td>\n",
       "      <td>NaN</td>\n",
       "    </tr>\n",
       "  </tbody>\n",
       "</table>\n",
       "</div>"
      ],
      "text/plain": [
       "              model  edit_steps  mean_new_ppl  mean_orig_ppl  pct_ppl_dd  \\\n",
       "7    ots_1615751556         3.0     91.285610      90.703072    0.006422   \n",
       "4  model_1615756602         5.0    194.801235      94.858231    1.053604   \n",
       "6  model_1615756166         1.0    145.216881      94.858231    0.530883   \n",
       "5  model_1615755665         3.0    212.287687      94.858231    1.237947   \n",
       "2  model_1615593547         5.0    227.094710      94.858231    1.394043   \n",
       "3  model_1615593107         NaN    159.165088      94.858231    0.677926   \n",
       "0   base_1615752056         3.0     49.590736      49.353867    0.004799   \n",
       "1   base_1615404464         NaN     53.371377      50.168995    0.063832   \n",
       "\n",
       "   gross_ppl_dd  success_by_logits  success_by_probs  \n",
       "7      0.582538               0.74              0.88  \n",
       "4     99.943004               0.92              0.92  \n",
       "6     50.358650               0.88              0.94  \n",
       "5    117.429456               0.86              0.92  \n",
       "2    132.236479               0.14               NaN  \n",
       "3     64.306857               0.18               NaN  \n",
       "0      0.236870               0.78              0.88  \n",
       "1      3.202382               0.66               NaN  "
      ]
     },
     "metadata": {},
     "output_type": "display_data"
    }
   ],
   "source": [
    "comps = ModelComps(\n",
    "    model_name=\"model_epoch0_ts10000.20210312.21.03.1615586239\",\n",
    "    base_name=\"gpt2_epoch0_ts10000.20210310.18.03.1615401990\",\n",
    "    archive=True\n",
    ")\n",
    "\n",
    "comps.summary()"
   ]
  },
  {
   "cell_type": "code",
   "execution_count": null,
   "id": "dedicated-destiny",
   "metadata": {},
   "outputs": [],
   "source": []
  }
 ],
 "metadata": {
  "kernelspec": {
   "display_name": "Python 3",
   "language": "python",
   "name": "python3"
  },
  "language_info": {
   "codemirror_mode": {
    "name": "ipython",
    "version": 3
   },
   "file_extension": ".py",
   "mimetype": "text/x-python",
   "name": "python",
   "nbconvert_exporter": "python",
   "pygments_lexer": "ipython3",
   "version": "3.7.9"
  }
 },
 "nbformat": 4,
 "nbformat_minor": 5
}
