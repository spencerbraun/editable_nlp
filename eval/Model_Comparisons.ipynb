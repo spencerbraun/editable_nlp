{
 "cells": [
  {
   "cell_type": "code",
   "execution_count": 69,
   "id": "round-worth",
   "metadata": {},
   "outputs": [],
   "source": [
    "import glob\n",
    "import sys \n",
    "\n",
    "import numpy as np\n",
    "import pandas as pd\n",
    "import torch\n",
    "import torch.nn as nn\n",
    "import torch.nn.functional as F\n",
    "import higher\n",
    "\n",
    "import matplotlib\n",
    "import matplotlib.pyplot as plt\n",
    "%matplotlib inline\n",
    "\n",
    "\n",
    "from IPython.display import display\n",
    "\n",
    "sys.path.append(\"../src\")\n",
    "from evaluate import evalSingleEdits\n",
    "import utils\n",
    "from utils import retrieveDataloader\n",
    "\n",
    "\n",
    "matplotlib.rcParams['figure.figsize'] = (6, 4)"
   ]
  },
  {
   "cell_type": "code",
   "execution_count": 6,
   "id": "north-formula",
   "metadata": {},
   "outputs": [],
   "source": [
    "class ModelComps:\n",
    "    def __init__(self, model_name, base_name, archive=False, test=False):\n",
    "        \n",
    "        self.test = test\n",
    "        self.archive = archive\n",
    "        self.model_name = model_name\n",
    "        self.base_name = base_name\n",
    "        self.ots_name = \"OTS\"\n",
    "        self.models = {}\n",
    "        self.modelStats = self.getModelParams()\n",
    "        \n",
    "        self.stats = {}\n",
    "    \n",
    "    \n",
    "    def getModelParams(self):\n",
    "        model_id = \".\".join(self.model_name.split(\".\")[1:])\n",
    "        return pd.Series(torch.load(f\"../models/hypers.{model_id}\")).to_frame().T\n",
    "        \n",
    "\n",
    "    def readData(self, model_name, kind='model'):\n",
    "        if self.archive:\n",
    "            eval_glob = glob.glob(f\"./archive/*{model_name}\")\n",
    "        elif self.test:\n",
    "            eval_glob = glob.glob(f\"./test/*{model_name}\")\n",
    "        else:\n",
    "            eval_glob = glob.glob(f\"./*{model_name}\")\n",
    "        for evaluation in eval_glob:\n",
    "            df = pd.read_csv(evaluation)\n",
    "            eval_id = f\"{kind}_{evaluation.split('.')[4].split('_')[0]}\"\n",
    "            self.models[eval_id] = df\n",
    "    \n",
    "    def runStats(self):\n",
    "        if not self.models:\n",
    "            self.readData(self.base_name, kind='base')\n",
    "            self.readData(self.model_name)\n",
    "            self.readData(self.ots_name, kind='ots')\n",
    "            \n",
    "        for name, model in self.models.items():  \n",
    "            mean_new_ppl = model.new_ppl.mean() \n",
    "            mean_orig_ppl = model.orig_ppl.mean() \n",
    "            pct_ppl_dd = model.apply(lambda x: 100*(x.new_ppl - x.orig_ppl)/x.orig_ppl, axis=1).mean()\n",
    "            gross_ppl_dd = model.apply(lambda x: x.new_ppl - x.orig_ppl, axis=1).mean()\n",
    "            new_logits_higher = model.success.mean()\n",
    "            new_logits_higher05 = model.apply(lambda x: x.new_logits > 0.95*x.orig_logits,axis=1).mean()\n",
    "            new_logits_higher10 = model.apply(lambda x: x.new_logits > 0.90*x.orig_logits,axis=1).mean()\n",
    "\n",
    "            success_by_probs = model.apply(lambda x: x.new_prob > x.old_prob, axis=1).mean()\n",
    "            n_edit_steps = model.n_edit_steps.max()\n",
    "\n",
    "            \n",
    "            self.stats[name] = {\n",
    "                \"edit_steps\":n_edit_steps,\n",
    "                \"mean_new_ppl\":mean_new_ppl,\n",
    "                \"mean_orig_ppl\":mean_orig_ppl,\n",
    "                \"pct_ppl_dd\":pct_ppl_dd,\n",
    "                \"gross_ppl_dd\":gross_ppl_dd,\n",
    "                \"new_logits_higher\":new_logits_higher,\n",
    "                \"new_logits_higher05\":new_logits_higher05,\n",
    "                \"new_logits_higher10\":new_logits_higher10,\n",
    "                \"success_by_probs\":success_by_probs,\n",
    "            }\n",
    "    \n",
    "    @property\n",
    "    def statDf(self):\n",
    "        stats_df = (\n",
    "            pd.DataFrame(self.stats).T\n",
    "            .reset_index()\n",
    "            .rename(columns={'index':'model'})\n",
    "            .sort_values([\"model\", \"edit_steps\"], ascending=False)\n",
    "        )\n",
    "        \n",
    "        return stats_df\n",
    "    \n",
    "    def summary(self):\n",
    "        if not self.stats:\n",
    "            self.runStats()\n",
    "        print(\"Model Parameters:\")\n",
    "        display(self.modelStats)\n",
    "        \n",
    "        print(\"Success Metrics\")\n",
    "        stats_df = (\n",
    "            pd.DataFrame(self.stats).T\n",
    "            .reset_index()\n",
    "            .rename(columns={'index':'model'})\n",
    "            .sort_values([\"model\", \"edit_steps\"], ascending=False)\n",
    "        )\n",
    "        \n",
    "        display(stats_df)\n",
    "        \n",
    "    \n",
    "    def runEvaluation(self, n_edit_steps=[1], ots=False, baseline=False):\n",
    "        \n",
    "        model_path = f\"../models/{self.model_name}\"\n",
    "        model, tokenizer = utils.loadTrainedModel(model_path)\n",
    "        dataloader = retrieveDataloader(\n",
    "            tokenizer, bs=1, dataset='valid', max_obs=500\n",
    "        )\n",
    "\n",
    "        for nes in n_edit_steps:\n",
    "            _, _ = evalSingleEdits(\n",
    "                model, \n",
    "                dataloader, \n",
    "                model_path, \n",
    "                int(nes)\n",
    "                )\n",
    "            if baseline:\n",
    "                base_path = f\"../models/finetune/{self.baseline}\"\n",
    "                model_baseline, _ = utils.loadTrainedModel(base_path)\n",
    "                _, _ = evalSingleEdits(\n",
    "                    model_baseline, \n",
    "                    dataloader, \n",
    "                    base_path, \n",
    "                    int(nes)\n",
    "                    )\n",
    "            if ots:\n",
    "                model_ots, _ = utils.loadOTSModel()\n",
    "                _, _ = evalSingleEdits(\n",
    "                    model_ots, \n",
    "                    dataloader, \n",
    "                    \"OTS\", \n",
    "                    int(nes)\n",
    "                    )\n",
    "                \n",
    "    def plotter(self, xlim=[]):\n",
    "        print(\"Plotting Logits\")\n",
    "        for name, model in self.models.items():\n",
    "            print(name)\n",
    "\n",
    "            plt.hist(model.orig_logits, alpha=0.4, label=\"Pre-Edit\")\n",
    "            plt.hist(model.new_logits, alpha=0.4, label=\"Post-Edit\")\n",
    "            if name[:3] == 'ots':\n",
    "                plt.legend(fontsize='large')\n",
    "            \n",
    "            if xlim:\n",
    "                plt.xlim(xlim)\n",
    "            plt.xlabel(\"Edited Entity Logits\", fontsize='large')\n",
    "            plt.ylabel(\"\", fontsize='large')\n",
    "            plt.show()\n",
    "\n",
    "       \n",
    "        print(\"Plotting % Logit Diffs\")\n",
    "        for name, model in self.models.items():\n",
    "            try:\n",
    "                plt.hist(abs(model.orig_logits - model.new_logits) / abs(model.orig_logits), alpha=0.5, label=name, bins=20)\n",
    "            except:\n",
    "                continue\n",
    "        plt.legend()\n",
    "        plt.show()\n",
    "\n"
   ]
  },
  {
   "cell_type": "code",
   "execution_count": 136,
   "id": "wooden-blackjack",
   "metadata": {},
   "outputs": [
    {
     "name": "stdout",
     "output_type": "stream",
     "text": [
      "total 40\r\n",
      "-rw-rw-r-- 1 spencerbraun spencerbraun  2010 Mar 17 03:59 edit_success_20210317.03.03.1615952799_gpt2_epoch0_ts10000.20210310.18.03.1615401990\r\n",
      "-rw-rw-r-- 1 spencerbraun spencerbraun 29581 Mar 17 03:46 edit_success_20210317.00.03.1615941304_model_epoch0_ts10000.20210314.16.03.1615740151\r\n",
      "drwxrwxr-x 2 spencerbraun spencerbraun  4096 Mar 17 00:34 archive\r\n"
     ]
    }
   ],
   "source": [
    "!ls -lt ./test"
   ]
  },
  {
   "cell_type": "code",
   "execution_count": 139,
   "id": "amended-title",
   "metadata": {},
   "outputs": [],
   "source": [
    "test = pd.read_csv(\"test/edit_success_20210317.00.03.1615941304_model_epoch0_ts10000.20210314.16.03.1615740151\")"
   ]
  },
  {
   "cell_type": "code",
   "execution_count": 145,
   "id": "limiting-fundamentals",
   "metadata": {},
   "outputs": [
    {
     "data": {
      "text/plain": [
       "0.89"
      ]
     },
     "execution_count": 145,
     "metadata": {},
     "output_type": "execute_result"
    }
   ],
   "source": [
    "test.iloc[:100].success.mean()"
   ]
  },
  {
   "cell_type": "code",
   "execution_count": 7,
   "id": "everyday-vault",
   "metadata": {},
   "outputs": [
    {
     "name": "stdout",
     "output_type": "stream",
     "text": [
      "Model Parameters:\n"
     ]
    },
    {
     "data": {
      "text/html": [
       "<div>\n",
       "<style scoped>\n",
       "    .dataframe tbody tr th:only-of-type {\n",
       "        vertical-align: middle;\n",
       "    }\n",
       "\n",
       "    .dataframe tbody tr th {\n",
       "        vertical-align: top;\n",
       "    }\n",
       "\n",
       "    .dataframe thead th {\n",
       "        text-align: right;\n",
       "    }\n",
       "</style>\n",
       "<table border=\"1\" class=\"dataframe\">\n",
       "  <thead>\n",
       "    <tr style=\"text-align: right;\">\n",
       "      <th></th>\n",
       "      <th>inner_lr</th>\n",
       "      <th>outer_lr</th>\n",
       "      <th>n_edit_steps</th>\n",
       "      <th>cedit</th>\n",
       "      <th>cloc</th>\n",
       "    </tr>\n",
       "  </thead>\n",
       "  <tbody>\n",
       "    <tr>\n",
       "      <th>0</th>\n",
       "      <td>0.001</td>\n",
       "      <td>0.00001</td>\n",
       "      <td>1.0</td>\n",
       "      <td>1.0</td>\n",
       "      <td>10.0</td>\n",
       "    </tr>\n",
       "  </tbody>\n",
       "</table>\n",
       "</div>"
      ],
      "text/plain": [
       "   inner_lr  outer_lr  n_edit_steps  cedit  cloc\n",
       "0     0.001   0.00001           1.0    1.0  10.0"
      ]
     },
     "metadata": {},
     "output_type": "display_data"
    },
    {
     "name": "stdout",
     "output_type": "stream",
     "text": [
      "Success Metrics\n"
     ]
    },
    {
     "data": {
      "text/html": [
       "<div>\n",
       "<style scoped>\n",
       "    .dataframe tbody tr th:only-of-type {\n",
       "        vertical-align: middle;\n",
       "    }\n",
       "\n",
       "    .dataframe tbody tr th {\n",
       "        vertical-align: top;\n",
       "    }\n",
       "\n",
       "    .dataframe thead th {\n",
       "        text-align: right;\n",
       "    }\n",
       "</style>\n",
       "<table border=\"1\" class=\"dataframe\">\n",
       "  <thead>\n",
       "    <tr style=\"text-align: right;\">\n",
       "      <th></th>\n",
       "      <th>model</th>\n",
       "      <th>edit_steps</th>\n",
       "      <th>mean_new_ppl</th>\n",
       "      <th>mean_orig_ppl</th>\n",
       "      <th>pct_ppl_dd</th>\n",
       "      <th>gross_ppl_dd</th>\n",
       "      <th>new_logits_higher</th>\n",
       "      <th>new_logits_higher05</th>\n",
       "      <th>new_logits_higher10</th>\n",
       "      <th>success_by_probs</th>\n",
       "    </tr>\n",
       "  </thead>\n",
       "  <tbody>\n",
       "    <tr>\n",
       "      <th>1</th>\n",
       "      <td>model_1615941304</td>\n",
       "      <td>1.0</td>\n",
       "      <td>61.689550</td>\n",
       "      <td>61.170151</td>\n",
       "      <td>0.849105</td>\n",
       "      <td>0.519399</td>\n",
       "      <td>0.840000</td>\n",
       "      <td>0.625</td>\n",
       "      <td>0.365</td>\n",
       "      <td>0.940000</td>\n",
       "    </tr>\n",
       "    <tr>\n",
       "      <th>0</th>\n",
       "      <td>base_1615952799</td>\n",
       "      <td>1.0</td>\n",
       "      <td>41.700817</td>\n",
       "      <td>41.658672</td>\n",
       "      <td>0.101167</td>\n",
       "      <td>0.042145</td>\n",
       "      <td>0.769231</td>\n",
       "      <td>0.000</td>\n",
       "      <td>0.000</td>\n",
       "      <td>0.846154</td>\n",
       "    </tr>\n",
       "  </tbody>\n",
       "</table>\n",
       "</div>"
      ],
      "text/plain": [
       "              model  edit_steps  mean_new_ppl  mean_orig_ppl  pct_ppl_dd  \\\n",
       "1  model_1615941304         1.0     61.689550      61.170151    0.849105   \n",
       "0   base_1615952799         1.0     41.700817      41.658672    0.101167   \n",
       "\n",
       "   gross_ppl_dd  new_logits_higher  new_logits_higher05  new_logits_higher10  \\\n",
       "1      0.519399           0.840000                0.625                0.365   \n",
       "0      0.042145           0.769231                0.000                0.000   \n",
       "\n",
       "   success_by_probs  \n",
       "1          0.940000  \n",
       "0          0.846154  "
      ]
     },
     "metadata": {},
     "output_type": "display_data"
    }
   ],
   "source": [
    "comps_test = ModelComps(\n",
    "    model_name=\"model_epoch0_ts10000.20210314.16.03.1615740151\",\n",
    "    base_name=\"gpt2_epoch0_ts10000.20210310.18.03.1615401990\",\n",
    "    test=True\n",
    ")\n",
    "\n",
    "comps_test.summary()"
   ]
  },
  {
   "cell_type": "code",
   "execution_count": 8,
   "id": "characteristic-mathematics",
   "metadata": {},
   "outputs": [
    {
     "name": "stdout",
     "output_type": "stream",
     "text": [
      "Plotting Logits\n",
      "base_1615952799\n"
     ]
    },
    {
     "data": {
      "image/png": "[encoded data removed]",
      "text/plain": [
       "<Figure size 720x288 with 1 Axes>"
      ]
     },
     "metadata": {
      "needs_background": "light"
     },
     "output_type": "display_data"
    },
    {
     "name": "stdout",
     "output_type": "stream",
     "text": [
      "model_1615941304\n"
     ]
    },
    {
     "data": {
      "image/png": "[encoded data removed]",
      "text/plain": [
       "<Figure size 720x288 with 1 Axes>"
      ]
     },
     "metadata": {
      "needs_background": "light"
     },
     "output_type": "display_data"
    },
    {
     "name": "stdout",
     "output_type": "stream",
     "text": [
      "Plotting % Logit Diffs\n"
     ]
    },
    {
     "data": {
      "image/png": "[encoded data removed]",
      "text/plain": [
       "<Figure size 720x288 with 1 Axes>"
      ]
     },
     "metadata": {
      "needs_background": "light"
     },
     "output_type": "display_data"
    }
   ],
   "source": [
    "matplotlib.rcParams['figure.figsize'] = (10, 4)\n",
    "comps_test.plotter([-600,0])\n"
   ]
  },
  {
   "cell_type": "markdown",
   "id": "digital-soundtrack",
   "metadata": {},
   "source": [
    "# model_epoch0_ts10000.20210314.16.03.1615740151\n",
    "## cedit=1, cloc=10, 10k steps\n",
    "Notes: Model run morning of 3/14, showed best performance to date."
   ]
  },
  {
   "cell_type": "code",
   "execution_count": 9,
   "id": "noble-terminology",
   "metadata": {},
   "outputs": [
    {
     "name": "stdout",
     "output_type": "stream",
     "text": [
      "Model Parameters:\n"
     ]
    },
    {
     "data": {
      "text/html": [
       "<div>\n",
       "<style scoped>\n",
       "    .dataframe tbody tr th:only-of-type {\n",
       "        vertical-align: middle;\n",
       "    }\n",
       "\n",
       "    .dataframe tbody tr th {\n",
       "        vertical-align: top;\n",
       "    }\n",
       "\n",
       "    .dataframe thead th {\n",
       "        text-align: right;\n",
       "    }\n",
       "</style>\n",
       "<table border=\"1\" class=\"dataframe\">\n",
       "  <thead>\n",
       "    <tr style=\"text-align: right;\">\n",
       "      <th></th>\n",
       "      <th>inner_lr</th>\n",
       "      <th>outer_lr</th>\n",
       "      <th>n_edit_steps</th>\n",
       "      <th>cedit</th>\n",
       "      <th>cloc</th>\n",
       "    </tr>\n",
       "  </thead>\n",
       "  <tbody>\n",
       "    <tr>\n",
       "      <th>0</th>\n",
       "      <td>0.001</td>\n",
       "      <td>0.00001</td>\n",
       "      <td>1.0</td>\n",
       "      <td>1.0</td>\n",
       "      <td>10.0</td>\n",
       "    </tr>\n",
       "  </tbody>\n",
       "</table>\n",
       "</div>"
      ],
      "text/plain": [
       "   inner_lr  outer_lr  n_edit_steps  cedit  cloc\n",
       "0     0.001   0.00001           1.0    1.0  10.0"
      ]
     },
     "metadata": {},
     "output_type": "display_data"
    },
    {
     "name": "stdout",
     "output_type": "stream",
     "text": [
      "Success Metrics\n"
     ]
    },
    {
     "data": {
      "text/html": [
       "<div>\n",
       "<style scoped>\n",
       "    .dataframe tbody tr th:only-of-type {\n",
       "        vertical-align: middle;\n",
       "    }\n",
       "\n",
       "    .dataframe tbody tr th {\n",
       "        vertical-align: top;\n",
       "    }\n",
       "\n",
       "    .dataframe thead th {\n",
       "        text-align: right;\n",
       "    }\n",
       "</style>\n",
       "<table border=\"1\" class=\"dataframe\">\n",
       "  <thead>\n",
       "    <tr style=\"text-align: right;\">\n",
       "      <th></th>\n",
       "      <th>model</th>\n",
       "      <th>edit_steps</th>\n",
       "      <th>mean_new_ppl</th>\n",
       "      <th>mean_orig_ppl</th>\n",
       "      <th>pct_ppl_dd</th>\n",
       "      <th>gross_ppl_dd</th>\n",
       "      <th>new_logits_higher</th>\n",
       "      <th>new_logits_higher05</th>\n",
       "      <th>new_logits_higher10</th>\n",
       "      <th>success_by_probs</th>\n",
       "    </tr>\n",
       "  </thead>\n",
       "  <tbody>\n",
       "    <tr>\n",
       "      <th>7</th>\n",
       "      <td>ots_1615826715</td>\n",
       "      <td>5.0</td>\n",
       "      <td>92.249127</td>\n",
       "      <td>90.703072</td>\n",
       "      <td>1.704523</td>\n",
       "      <td>1.546055</td>\n",
       "      <td>0.72</td>\n",
       "      <td>0.16</td>\n",
       "      <td>0.04</td>\n",
       "      <td>0.86</td>\n",
       "    </tr>\n",
       "    <tr>\n",
       "      <th>8</th>\n",
       "      <td>ots_1615826291</td>\n",
       "      <td>3.0</td>\n",
       "      <td>91.357340</td>\n",
       "      <td>90.703072</td>\n",
       "      <td>0.721330</td>\n",
       "      <td>0.654268</td>\n",
       "      <td>0.78</td>\n",
       "      <td>0.08</td>\n",
       "      <td>0.02</td>\n",
       "      <td>0.86</td>\n",
       "    </tr>\n",
       "    <tr>\n",
       "      <th>6</th>\n",
       "      <td>ots_1615825880</td>\n",
       "      <td>1.0</td>\n",
       "      <td>90.831759</td>\n",
       "      <td>90.703072</td>\n",
       "      <td>0.141878</td>\n",
       "      <td>0.128688</td>\n",
       "      <td>0.80</td>\n",
       "      <td>0.00</td>\n",
       "      <td>0.00</td>\n",
       "      <td>0.86</td>\n",
       "    </tr>\n",
       "    <tr>\n",
       "      <th>3</th>\n",
       "      <td>model_1615825376</td>\n",
       "      <td>5.0</td>\n",
       "      <td>89.211466</td>\n",
       "      <td>77.696777</td>\n",
       "      <td>14.820034</td>\n",
       "      <td>11.514689</td>\n",
       "      <td>0.82</td>\n",
       "      <td>0.58</td>\n",
       "      <td>0.46</td>\n",
       "      <td>0.92</td>\n",
       "    </tr>\n",
       "    <tr>\n",
       "      <th>4</th>\n",
       "      <td>model_1615822571</td>\n",
       "      <td>3.0</td>\n",
       "      <td>84.700869</td>\n",
       "      <td>77.696777</td>\n",
       "      <td>9.014649</td>\n",
       "      <td>7.004092</td>\n",
       "      <td>0.82</td>\n",
       "      <td>0.58</td>\n",
       "      <td>0.42</td>\n",
       "      <td>0.94</td>\n",
       "    </tr>\n",
       "    <tr>\n",
       "      <th>5</th>\n",
       "      <td>model_1615822038</td>\n",
       "      <td>1.0</td>\n",
       "      <td>78.251560</td>\n",
       "      <td>77.696777</td>\n",
       "      <td>0.714036</td>\n",
       "      <td>0.554783</td>\n",
       "      <td>0.84</td>\n",
       "      <td>0.56</td>\n",
       "      <td>0.40</td>\n",
       "      <td>0.92</td>\n",
       "    </tr>\n",
       "    <tr>\n",
       "      <th>2</th>\n",
       "      <td>base_1615828169</td>\n",
       "      <td>5.0</td>\n",
       "      <td>50.140138</td>\n",
       "      <td>49.353867</td>\n",
       "      <td>1.593129</td>\n",
       "      <td>0.786271</td>\n",
       "      <td>0.82</td>\n",
       "      <td>0.16</td>\n",
       "      <td>0.04</td>\n",
       "      <td>0.88</td>\n",
       "    </tr>\n",
       "    <tr>\n",
       "      <th>1</th>\n",
       "      <td>base_1615827722</td>\n",
       "      <td>3.0</td>\n",
       "      <td>49.605848</td>\n",
       "      <td>49.353867</td>\n",
       "      <td>0.510561</td>\n",
       "      <td>0.251981</td>\n",
       "      <td>0.84</td>\n",
       "      <td>0.08</td>\n",
       "      <td>0.00</td>\n",
       "      <td>0.88</td>\n",
       "    </tr>\n",
       "    <tr>\n",
       "      <th>0</th>\n",
       "      <td>base_1615827264</td>\n",
       "      <td>1.0</td>\n",
       "      <td>49.365100</td>\n",
       "      <td>49.353867</td>\n",
       "      <td>0.022761</td>\n",
       "      <td>0.011233</td>\n",
       "      <td>0.82</td>\n",
       "      <td>0.00</td>\n",
       "      <td>0.00</td>\n",
       "      <td>0.92</td>\n",
       "    </tr>\n",
       "  </tbody>\n",
       "</table>\n",
       "</div>"
      ],
      "text/plain": [
       "              model  edit_steps  mean_new_ppl  mean_orig_ppl  pct_ppl_dd  \\\n",
       "7    ots_1615826715         5.0     92.249127      90.703072    1.704523   \n",
       "8    ots_1615826291         3.0     91.357340      90.703072    0.721330   \n",
       "6    ots_1615825880         1.0     90.831759      90.703072    0.141878   \n",
       "3  model_1615825376         5.0     89.211466      77.696777   14.820034   \n",
       "4  model_1615822571         3.0     84.700869      77.696777    9.014649   \n",
       "5  model_1615822038         1.0     78.251560      77.696777    0.714036   \n",
       "2   base_1615828169         5.0     50.140138      49.353867    1.593129   \n",
       "1   base_1615827722         3.0     49.605848      49.353867    0.510561   \n",
       "0   base_1615827264         1.0     49.365100      49.353867    0.022761   \n",
       "\n",
       "   gross_ppl_dd  new_logits_higher  new_logits_higher05  new_logits_higher10  \\\n",
       "7      1.546055               0.72                 0.16                 0.04   \n",
       "8      0.654268               0.78                 0.08                 0.02   \n",
       "6      0.128688               0.80                 0.00                 0.00   \n",
       "3     11.514689               0.82                 0.58                 0.46   \n",
       "4      7.004092               0.82                 0.58                 0.42   \n",
       "5      0.554783               0.84                 0.56                 0.40   \n",
       "2      0.786271               0.82                 0.16                 0.04   \n",
       "1      0.251981               0.84                 0.08                 0.00   \n",
       "0      0.011233               0.82                 0.00                 0.00   \n",
       "\n",
       "   success_by_probs  \n",
       "7              0.86  \n",
       "8              0.86  \n",
       "6              0.86  \n",
       "3              0.92  \n",
       "4              0.94  \n",
       "5              0.92  \n",
       "2              0.88  \n",
       "1              0.88  \n",
       "0              0.92  "
      ]
     },
     "metadata": {},
     "output_type": "display_data"
    }
   ],
   "source": [
    "comps = ModelComps(\n",
    "    model_name=\"model_epoch0_ts10000.20210314.16.03.1615740151\",\n",
    "    base_name=\"gpt2_epoch0_ts10000.20210310.18.03.1615401990\",\n",
    "    archive=False\n",
    ")\n",
    "\n",
    "comps.summary()"
   ]
  },
  {
   "cell_type": "code",
   "execution_count": 14,
   "id": "soviet-oregon",
   "metadata": {
    "scrolled": true
   },
   "outputs": [
    {
     "name": "stdout",
     "output_type": "stream",
     "text": [
      "Plotting Logits\n",
      "base_1615827264\n"
     ]
    },
    {
     "data": {
      "image/png": "[encoded data removed]",
      "text/plain": [
       "<Figure size 432x288 with 1 Axes>"
      ]
     },
     "metadata": {
      "needs_background": "light"
     },
     "output_type": "display_data"
    },
    {
     "name": "stdout",
     "output_type": "stream",
     "text": [
      "base_1615827722\n"
     ]
    },
    {
     "data": {
      "image/png": "[encoded data removed]",
      "text/plain": [
       "<Figure size 432x288 with 1 Axes>"
      ]
     },
     "metadata": {
      "needs_background": "light"
     },
     "output_type": "display_data"
    },
    {
     "name": "stdout",
     "output_type": "stream",
     "text": [
      "base_1615828169\n"
     ]
    },
    {
     "data": {
      "image/png": "[encoded data removed]",
      "text/plain": [
       "<Figure size 432x288 with 1 Axes>"
      ]
     },
     "metadata": {
      "needs_background": "light"
     },
     "output_type": "display_data"
    },
    {
     "name": "stdout",
     "output_type": "stream",
     "text": [
      "model_1615825376\n"
     ]
    },
    {
     "data": {
      "image/png": "[encoded data removed]",
      "text/plain": [
       "<Figure size 432x288 with 1 Axes>"
      ]
     },
     "metadata": {
      "needs_background": "light"
     },
     "output_type": "display_data"
    },
    {
     "name": "stdout",
     "output_type": "stream",
     "text": [
      "model_1615822571\n"
     ]
    },
    {
     "data": {
      "image/png": "[encoded data removed]",
      "text/plain": [
       "<Figure size 432x288 with 1 Axes>"
      ]
     },
     "metadata": {
      "needs_background": "light"
     },
     "output_type": "display_data"
    },
    {
     "name": "stdout",
     "output_type": "stream",
     "text": [
      "model_1615822038\n"
     ]
    },
    {
     "data": {
      "image/png": "[encoded data removed]",
      "text/plain": [
       "<Figure size 432x288 with 1 Axes>"
      ]
     },
     "metadata": {
      "needs_background": "light"
     },
     "output_type": "display_data"
    },
    {
     "name": "stdout",
     "output_type": "stream",
     "text": [
      "ots_1615825880\n"
     ]
    },
    {
     "data": {
      "image/png": "[encoded data removed]",
      "text/plain": [
       "<Figure size 432x288 with 1 Axes>"
      ]
     },
     "metadata": {
      "needs_background": "light"
     },
     "output_type": "display_data"
    },
    {
     "name": "stdout",
     "output_type": "stream",
     "text": [
      "ots_1615826715\n"
     ]
    },
    {
     "data": {
      "image/png": "[encoded data removed]",
      "text/plain": [
       "<Figure size 432x288 with 1 Axes>"
      ]
     },
     "metadata": {
      "needs_background": "light"
     },
     "output_type": "display_data"
    },
    {
     "name": "stdout",
     "output_type": "stream",
     "text": [
      "ots_1615826291\n"
     ]
    },
    {
     "data": {
      "image/png": "[encoded data removed]",
      "text/plain": [
       "<Figure size 432x288 with 1 Axes>"
      ]
     },
     "metadata": {
      "needs_background": "light"
     },
     "output_type": "display_data"
    },
    {
     "name": "stdout",
     "output_type": "stream",
     "text": [
      "Plotting % Logit Diffs\n"
     ]
    },
    {
     "data": {
      "image/png": "[encoded data removed]",
      "text/plain": [
       "<Figure size 432x288 with 1 Axes>"
      ]
     },
     "metadata": {
      "needs_background": "light"
     },
     "output_type": "display_data"
    }
   ],
   "source": [
    "comps.plotter()"
   ]
  },
  {
   "cell_type": "markdown",
   "id": "painted-italic",
   "metadata": {},
   "source": [
    "# model_epoch0_ts6000.20210314.16.03.1615740151\n",
    "## cedit=1, cloc=10, 6k steps\n",
    "Notes: same model, checking to see if evaluating an earlier checkpoint might be better. Tried with a number of checkpoints, generally worse"
   ]
  },
  {
   "cell_type": "code",
   "execution_count": 50,
   "id": "chronic-vintage",
   "metadata": {},
   "outputs": [
    {
     "name": "stdout",
     "output_type": "stream",
     "text": [
      "Model Parameters:\n"
     ]
    },
    {
     "data": {
      "text/html": [
       "<div>\n",
       "<style scoped>\n",
       "    .dataframe tbody tr th:only-of-type {\n",
       "        vertical-align: middle;\n",
       "    }\n",
       "\n",
       "    .dataframe tbody tr th {\n",
       "        vertical-align: top;\n",
       "    }\n",
       "\n",
       "    .dataframe thead th {\n",
       "        text-align: right;\n",
       "    }\n",
       "</style>\n",
       "<table border=\"1\" class=\"dataframe\">\n",
       "  <thead>\n",
       "    <tr style=\"text-align: right;\">\n",
       "      <th></th>\n",
       "      <th>inner_lr</th>\n",
       "      <th>outer_lr</th>\n",
       "      <th>n_edit_steps</th>\n",
       "      <th>cedit</th>\n",
       "      <th>cloc</th>\n",
       "    </tr>\n",
       "  </thead>\n",
       "  <tbody>\n",
       "    <tr>\n",
       "      <th>0</th>\n",
       "      <td>0.001</td>\n",
       "      <td>0.00001</td>\n",
       "      <td>1.0</td>\n",
       "      <td>1.0</td>\n",
       "      <td>10.0</td>\n",
       "    </tr>\n",
       "  </tbody>\n",
       "</table>\n",
       "</div>"
      ],
      "text/plain": [
       "   inner_lr  outer_lr  n_edit_steps  cedit  cloc\n",
       "0     0.001   0.00001           1.0    1.0  10.0"
      ]
     },
     "metadata": {},
     "output_type": "display_data"
    },
    {
     "name": "stdout",
     "output_type": "stream",
     "text": [
      "Success Metrics\n"
     ]
    },
    {
     "data": {
      "text/html": [
       "<div>\n",
       "<style scoped>\n",
       "    .dataframe tbody tr th:only-of-type {\n",
       "        vertical-align: middle;\n",
       "    }\n",
       "\n",
       "    .dataframe tbody tr th {\n",
       "        vertical-align: top;\n",
       "    }\n",
       "\n",
       "    .dataframe thead th {\n",
       "        text-align: right;\n",
       "    }\n",
       "</style>\n",
       "<table border=\"1\" class=\"dataframe\">\n",
       "  <thead>\n",
       "    <tr style=\"text-align: right;\">\n",
       "      <th></th>\n",
       "      <th>model</th>\n",
       "      <th>edit_steps</th>\n",
       "      <th>mean_new_ppl</th>\n",
       "      <th>mean_orig_ppl</th>\n",
       "      <th>pct_ppl_dd</th>\n",
       "      <th>gross_ppl_dd</th>\n",
       "      <th>new_logits_higher</th>\n",
       "      <th>new_logits_higher05</th>\n",
       "      <th>new_logits_higher10</th>\n",
       "      <th>success_by_probs</th>\n",
       "    </tr>\n",
       "  </thead>\n",
       "  <tbody>\n",
       "    <tr>\n",
       "      <th>7</th>\n",
       "      <td>ots_1615826715</td>\n",
       "      <td>5.0</td>\n",
       "      <td>92.249127</td>\n",
       "      <td>90.703072</td>\n",
       "      <td>1.704523</td>\n",
       "      <td>1.546055</td>\n",
       "      <td>0.72</td>\n",
       "      <td>0.16</td>\n",
       "      <td>0.04</td>\n",
       "      <td>0.86</td>\n",
       "    </tr>\n",
       "    <tr>\n",
       "      <th>8</th>\n",
       "      <td>ots_1615826291</td>\n",
       "      <td>3.0</td>\n",
       "      <td>91.357340</td>\n",
       "      <td>90.703072</td>\n",
       "      <td>0.721330</td>\n",
       "      <td>0.654268</td>\n",
       "      <td>0.78</td>\n",
       "      <td>0.08</td>\n",
       "      <td>0.02</td>\n",
       "      <td>0.86</td>\n",
       "    </tr>\n",
       "    <tr>\n",
       "      <th>6</th>\n",
       "      <td>ots_1615825880</td>\n",
       "      <td>1.0</td>\n",
       "      <td>90.831759</td>\n",
       "      <td>90.703072</td>\n",
       "      <td>0.141878</td>\n",
       "      <td>0.128688</td>\n",
       "      <td>0.80</td>\n",
       "      <td>0.00</td>\n",
       "      <td>0.00</td>\n",
       "      <td>0.86</td>\n",
       "    </tr>\n",
       "    <tr>\n",
       "      <th>3</th>\n",
       "      <td>model_1615835384</td>\n",
       "      <td>5.0</td>\n",
       "      <td>103.998292</td>\n",
       "      <td>85.292526</td>\n",
       "      <td>21.931307</td>\n",
       "      <td>18.705765</td>\n",
       "      <td>0.86</td>\n",
       "      <td>0.70</td>\n",
       "      <td>0.52</td>\n",
       "      <td>0.90</td>\n",
       "    </tr>\n",
       "    <tr>\n",
       "      <th>4</th>\n",
       "      <td>model_1615834972</td>\n",
       "      <td>3.0</td>\n",
       "      <td>102.605914</td>\n",
       "      <td>85.292526</td>\n",
       "      <td>20.298834</td>\n",
       "      <td>17.313388</td>\n",
       "      <td>0.80</td>\n",
       "      <td>0.64</td>\n",
       "      <td>0.50</td>\n",
       "      <td>0.92</td>\n",
       "    </tr>\n",
       "    <tr>\n",
       "      <th>5</th>\n",
       "      <td>model_1615834590</td>\n",
       "      <td>1.0</td>\n",
       "      <td>85.984239</td>\n",
       "      <td>85.292526</td>\n",
       "      <td>0.810988</td>\n",
       "      <td>0.691712</td>\n",
       "      <td>0.88</td>\n",
       "      <td>0.64</td>\n",
       "      <td>0.36</td>\n",
       "      <td>0.94</td>\n",
       "    </tr>\n",
       "    <tr>\n",
       "      <th>2</th>\n",
       "      <td>base_1615828169</td>\n",
       "      <td>5.0</td>\n",
       "      <td>50.140138</td>\n",
       "      <td>49.353867</td>\n",
       "      <td>1.593129</td>\n",
       "      <td>0.786271</td>\n",
       "      <td>0.82</td>\n",
       "      <td>0.16</td>\n",
       "      <td>0.04</td>\n",
       "      <td>0.88</td>\n",
       "    </tr>\n",
       "    <tr>\n",
       "      <th>1</th>\n",
       "      <td>base_1615827722</td>\n",
       "      <td>3.0</td>\n",
       "      <td>49.605848</td>\n",
       "      <td>49.353867</td>\n",
       "      <td>0.510561</td>\n",
       "      <td>0.251981</td>\n",
       "      <td>0.84</td>\n",
       "      <td>0.08</td>\n",
       "      <td>0.00</td>\n",
       "      <td>0.88</td>\n",
       "    </tr>\n",
       "    <tr>\n",
       "      <th>0</th>\n",
       "      <td>base_1615827264</td>\n",
       "      <td>1.0</td>\n",
       "      <td>49.365100</td>\n",
       "      <td>49.353867</td>\n",
       "      <td>0.022761</td>\n",
       "      <td>0.011233</td>\n",
       "      <td>0.82</td>\n",
       "      <td>0.00</td>\n",
       "      <td>0.00</td>\n",
       "      <td>0.92</td>\n",
       "    </tr>\n",
       "  </tbody>\n",
       "</table>\n",
       "</div>"
      ],
      "text/plain": [
       "              model  edit_steps  mean_new_ppl  mean_orig_ppl  pct_ppl_dd  \\\n",
       "7    ots_1615826715         5.0     92.249127      90.703072    1.704523   \n",
       "8    ots_1615826291         3.0     91.357340      90.703072    0.721330   \n",
       "6    ots_1615825880         1.0     90.831759      90.703072    0.141878   \n",
       "3  model_1615835384         5.0    103.998292      85.292526   21.931307   \n",
       "4  model_1615834972         3.0    102.605914      85.292526   20.298834   \n",
       "5  model_1615834590         1.0     85.984239      85.292526    0.810988   \n",
       "2   base_1615828169         5.0     50.140138      49.353867    1.593129   \n",
       "1   base_1615827722         3.0     49.605848      49.353867    0.510561   \n",
       "0   base_1615827264         1.0     49.365100      49.353867    0.022761   \n",
       "\n",
       "   gross_ppl_dd  new_logits_higher  new_logits_higher05  new_logits_higher10  \\\n",
       "7      1.546055               0.72                 0.16                 0.04   \n",
       "8      0.654268               0.78                 0.08                 0.02   \n",
       "6      0.128688               0.80                 0.00                 0.00   \n",
       "3     18.705765               0.86                 0.70                 0.52   \n",
       "4     17.313388               0.80                 0.64                 0.50   \n",
       "5      0.691712               0.88                 0.64                 0.36   \n",
       "2      0.786271               0.82                 0.16                 0.04   \n",
       "1      0.251981               0.84                 0.08                 0.00   \n",
       "0      0.011233               0.82                 0.00                 0.00   \n",
       "\n",
       "   success_by_probs  \n",
       "7              0.86  \n",
       "8              0.86  \n",
       "6              0.86  \n",
       "3              0.90  \n",
       "4              0.92  \n",
       "5              0.94  \n",
       "2              0.88  \n",
       "1              0.88  \n",
       "0              0.92  "
      ]
     },
     "metadata": {},
     "output_type": "display_data"
    }
   ],
   "source": [
    "comps1 = ModelComps(\n",
    "    model_name=\"model_epoch0_ts6000.20210314.16.03.1615740151\",\n",
    "    base_name=\"gpt2_epoch0_ts10000.20210310.18.03.1615401990\",\n",
    "    archive=False\n",
    ")\n",
    "\n",
    "comps1.summary()"
   ]
  },
  {
   "cell_type": "markdown",
   "id": "respiratory-valuable",
   "metadata": {},
   "source": [
    "# model_epoch0_ts18000.20210315.00.03.1615768579\n",
    "## cedit=1, cloc=10, 18k steps\n",
    "Notes: Tried running model for many more steps to see if additional performance could be gained"
   ]
  },
  {
   "cell_type": "code",
   "execution_count": 51,
   "id": "manufactured-wisdom",
   "metadata": {},
   "outputs": [
    {
     "name": "stdout",
     "output_type": "stream",
     "text": [
      "Model Parameters:\n"
     ]
    },
    {
     "data": {
      "text/html": [
       "<div>\n",
       "<style scoped>\n",
       "    .dataframe tbody tr th:only-of-type {\n",
       "        vertical-align: middle;\n",
       "    }\n",
       "\n",
       "    .dataframe tbody tr th {\n",
       "        vertical-align: top;\n",
       "    }\n",
       "\n",
       "    .dataframe thead th {\n",
       "        text-align: right;\n",
       "    }\n",
       "</style>\n",
       "<table border=\"1\" class=\"dataframe\">\n",
       "  <thead>\n",
       "    <tr style=\"text-align: right;\">\n",
       "      <th></th>\n",
       "      <th>inner_lr</th>\n",
       "      <th>outer_lr</th>\n",
       "      <th>n_edit_steps</th>\n",
       "      <th>cedit</th>\n",
       "      <th>cloc</th>\n",
       "    </tr>\n",
       "  </thead>\n",
       "  <tbody>\n",
       "    <tr>\n",
       "      <th>0</th>\n",
       "      <td>0.001</td>\n",
       "      <td>0.00001</td>\n",
       "      <td>1.0</td>\n",
       "      <td>1.0</td>\n",
       "      <td>10.0</td>\n",
       "    </tr>\n",
       "  </tbody>\n",
       "</table>\n",
       "</div>"
      ],
      "text/plain": [
       "   inner_lr  outer_lr  n_edit_steps  cedit  cloc\n",
       "0     0.001   0.00001           1.0    1.0  10.0"
      ]
     },
     "metadata": {},
     "output_type": "display_data"
    },
    {
     "name": "stdout",
     "output_type": "stream",
     "text": [
      "Success Metrics\n"
     ]
    },
    {
     "data": {
      "text/html": [
       "<div>\n",
       "<style scoped>\n",
       "    .dataframe tbody tr th:only-of-type {\n",
       "        vertical-align: middle;\n",
       "    }\n",
       "\n",
       "    .dataframe tbody tr th {\n",
       "        vertical-align: top;\n",
       "    }\n",
       "\n",
       "    .dataframe thead th {\n",
       "        text-align: right;\n",
       "    }\n",
       "</style>\n",
       "<table border=\"1\" class=\"dataframe\">\n",
       "  <thead>\n",
       "    <tr style=\"text-align: right;\">\n",
       "      <th></th>\n",
       "      <th>model</th>\n",
       "      <th>edit_steps</th>\n",
       "      <th>mean_new_ppl</th>\n",
       "      <th>mean_orig_ppl</th>\n",
       "      <th>pct_ppl_dd</th>\n",
       "      <th>gross_ppl_dd</th>\n",
       "      <th>new_logits_higher</th>\n",
       "      <th>new_logits_higher05</th>\n",
       "      <th>new_logits_higher10</th>\n",
       "      <th>success_by_probs</th>\n",
       "    </tr>\n",
       "  </thead>\n",
       "  <tbody>\n",
       "    <tr>\n",
       "      <th>7</th>\n",
       "      <td>ots_1615826715</td>\n",
       "      <td>5.0</td>\n",
       "      <td>92.249127</td>\n",
       "      <td>90.703072</td>\n",
       "      <td>1.704523</td>\n",
       "      <td>1.546055</td>\n",
       "      <td>0.72</td>\n",
       "      <td>0.16</td>\n",
       "      <td>0.04</td>\n",
       "      <td>0.86</td>\n",
       "    </tr>\n",
       "    <tr>\n",
       "      <th>8</th>\n",
       "      <td>ots_1615826291</td>\n",
       "      <td>3.0</td>\n",
       "      <td>91.357340</td>\n",
       "      <td>90.703072</td>\n",
       "      <td>0.721330</td>\n",
       "      <td>0.654268</td>\n",
       "      <td>0.78</td>\n",
       "      <td>0.08</td>\n",
       "      <td>0.02</td>\n",
       "      <td>0.86</td>\n",
       "    </tr>\n",
       "    <tr>\n",
       "      <th>6</th>\n",
       "      <td>ots_1615825880</td>\n",
       "      <td>1.0</td>\n",
       "      <td>90.831759</td>\n",
       "      <td>90.703072</td>\n",
       "      <td>0.141878</td>\n",
       "      <td>0.128688</td>\n",
       "      <td>0.80</td>\n",
       "      <td>0.00</td>\n",
       "      <td>0.00</td>\n",
       "      <td>0.86</td>\n",
       "    </tr>\n",
       "    <tr>\n",
       "      <th>5</th>\n",
       "      <td>model_1615829457</td>\n",
       "      <td>5.0</td>\n",
       "      <td>87.205313</td>\n",
       "      <td>75.677681</td>\n",
       "      <td>15.232539</td>\n",
       "      <td>11.527632</td>\n",
       "      <td>0.68</td>\n",
       "      <td>0.60</td>\n",
       "      <td>0.46</td>\n",
       "      <td>0.92</td>\n",
       "    </tr>\n",
       "    <tr>\n",
       "      <th>3</th>\n",
       "      <td>model_1615829048</td>\n",
       "      <td>3.0</td>\n",
       "      <td>83.930170</td>\n",
       "      <td>75.677681</td>\n",
       "      <td>10.904785</td>\n",
       "      <td>8.252489</td>\n",
       "      <td>0.64</td>\n",
       "      <td>0.50</td>\n",
       "      <td>0.36</td>\n",
       "      <td>0.94</td>\n",
       "    </tr>\n",
       "    <tr>\n",
       "      <th>4</th>\n",
       "      <td>model_1615828661</td>\n",
       "      <td>1.0</td>\n",
       "      <td>76.592660</td>\n",
       "      <td>75.677681</td>\n",
       "      <td>1.209047</td>\n",
       "      <td>0.914979</td>\n",
       "      <td>0.66</td>\n",
       "      <td>0.52</td>\n",
       "      <td>0.40</td>\n",
       "      <td>0.94</td>\n",
       "    </tr>\n",
       "    <tr>\n",
       "      <th>2</th>\n",
       "      <td>base_1615828169</td>\n",
       "      <td>5.0</td>\n",
       "      <td>50.140138</td>\n",
       "      <td>49.353867</td>\n",
       "      <td>1.593129</td>\n",
       "      <td>0.786271</td>\n",
       "      <td>0.82</td>\n",
       "      <td>0.16</td>\n",
       "      <td>0.04</td>\n",
       "      <td>0.88</td>\n",
       "    </tr>\n",
       "    <tr>\n",
       "      <th>1</th>\n",
       "      <td>base_1615827722</td>\n",
       "      <td>3.0</td>\n",
       "      <td>49.605848</td>\n",
       "      <td>49.353867</td>\n",
       "      <td>0.510561</td>\n",
       "      <td>0.251981</td>\n",
       "      <td>0.84</td>\n",
       "      <td>0.08</td>\n",
       "      <td>0.00</td>\n",
       "      <td>0.88</td>\n",
       "    </tr>\n",
       "    <tr>\n",
       "      <th>0</th>\n",
       "      <td>base_1615827264</td>\n",
       "      <td>1.0</td>\n",
       "      <td>49.365100</td>\n",
       "      <td>49.353867</td>\n",
       "      <td>0.022761</td>\n",
       "      <td>0.011233</td>\n",
       "      <td>0.82</td>\n",
       "      <td>0.00</td>\n",
       "      <td>0.00</td>\n",
       "      <td>0.92</td>\n",
       "    </tr>\n",
       "  </tbody>\n",
       "</table>\n",
       "</div>"
      ],
      "text/plain": [
       "              model  edit_steps  mean_new_ppl  mean_orig_ppl  pct_ppl_dd  \\\n",
       "7    ots_1615826715         5.0     92.249127      90.703072    1.704523   \n",
       "8    ots_1615826291         3.0     91.357340      90.703072    0.721330   \n",
       "6    ots_1615825880         1.0     90.831759      90.703072    0.141878   \n",
       "5  model_1615829457         5.0     87.205313      75.677681   15.232539   \n",
       "3  model_1615829048         3.0     83.930170      75.677681   10.904785   \n",
       "4  model_1615828661         1.0     76.592660      75.677681    1.209047   \n",
       "2   base_1615828169         5.0     50.140138      49.353867    1.593129   \n",
       "1   base_1615827722         3.0     49.605848      49.353867    0.510561   \n",
       "0   base_1615827264         1.0     49.365100      49.353867    0.022761   \n",
       "\n",
       "   gross_ppl_dd  new_logits_higher  new_logits_higher05  new_logits_higher10  \\\n",
       "7      1.546055               0.72                 0.16                 0.04   \n",
       "8      0.654268               0.78                 0.08                 0.02   \n",
       "6      0.128688               0.80                 0.00                 0.00   \n",
       "5     11.527632               0.68                 0.60                 0.46   \n",
       "3      8.252489               0.64                 0.50                 0.36   \n",
       "4      0.914979               0.66                 0.52                 0.40   \n",
       "2      0.786271               0.82                 0.16                 0.04   \n",
       "1      0.251981               0.84                 0.08                 0.00   \n",
       "0      0.011233               0.82                 0.00                 0.00   \n",
       "\n",
       "   success_by_probs  \n",
       "7              0.86  \n",
       "8              0.86  \n",
       "6              0.86  \n",
       "5              0.92  \n",
       "3              0.94  \n",
       "4              0.94  \n",
       "2              0.88  \n",
       "1              0.88  \n",
       "0              0.92  "
      ]
     },
     "metadata": {},
     "output_type": "display_data"
    }
   ],
   "source": [
    "comps2 = ModelComps(\n",
    "    model_name=\"model_epoch0_ts18000.20210315.00.03.1615768579\",\n",
    "    base_name=\"gpt2_epoch0_ts10000.20210310.18.03.1615401990\",\n",
    "    archive=False\n",
    ")\n",
    "\n",
    "comps2.summary()"
   ]
  },
  {
   "cell_type": "code",
   "execution_count": 52,
   "id": "seventh-rubber",
   "metadata": {},
   "outputs": [
    {
     "name": "stdout",
     "output_type": "stream",
     "text": [
      "Plotting Logits\n",
      "base_1615827264\n"
     ]
    },
    {
     "data": {
      "image/png": "[encoded data removed]",
      "text/plain": [
       "<Figure size 432x288 with 1 Axes>"
      ]
     },
     "metadata": {
      "needs_background": "light"
     },
     "output_type": "display_data"
    },
    {
     "name": "stdout",
     "output_type": "stream",
     "text": [
      "base_1615827722\n"
     ]
    },
    {
     "data": {
      "image/png": "[encoded data removed]",
      "text/plain": [
       "<Figure size 432x288 with 1 Axes>"
      ]
     },
     "metadata": {
      "needs_background": "light"
     },
     "output_type": "display_data"
    },
    {
     "name": "stdout",
     "output_type": "stream",
     "text": [
      "base_1615828169\n"
     ]
    },
    {
     "data": {
      "image/png": "[encoded data removed]",
      "text/plain": [
       "<Figure size 432x288 with 1 Axes>"
      ]
     },
     "metadata": {
      "needs_background": "light"
     },
     "output_type": "display_data"
    },
    {
     "name": "stdout",
     "output_type": "stream",
     "text": [
      "model_1615829048\n"
     ]
    },
    {
     "data": {
      "image/png": "[encoded data removed]",
      "text/plain": [
       "<Figure size 432x288 with 1 Axes>"
      ]
     },
     "metadata": {
      "needs_background": "light"
     },
     "output_type": "display_data"
    },
    {
     "name": "stdout",
     "output_type": "stream",
     "text": [
      "model_1615828661\n"
     ]
    },
    {
     "data": {
      "image/png": "[encoded data removed]",
      "text/plain": [
       "<Figure size 432x288 with 1 Axes>"
      ]
     },
     "metadata": {
      "needs_background": "light"
     },
     "output_type": "display_data"
    },
    {
     "name": "stdout",
     "output_type": "stream",
     "text": [
      "model_1615829457\n"
     ]
    },
    {
     "data": {
      "image/png": "[encoded data removed]",
      "text/plain": [
       "<Figure size 432x288 with 1 Axes>"
      ]
     },
     "metadata": {
      "needs_background": "light"
     },
     "output_type": "display_data"
    },
    {
     "name": "stdout",
     "output_type": "stream",
     "text": [
      "ots_1615825880\n"
     ]
    },
    {
     "data": {
      "image/png": "[encoded data removed]",
      "text/plain": [
       "<Figure size 432x288 with 1 Axes>"
      ]
     },
     "metadata": {
      "needs_background": "light"
     },
     "output_type": "display_data"
    },
    {
     "name": "stdout",
     "output_type": "stream",
     "text": [
      "ots_1615826715\n"
     ]
    },
    {
     "data": {
      "image/png": "[encoded data removed]",
      "text/plain": [
       "<Figure size 432x288 with 1 Axes>"
      ]
     },
     "metadata": {
      "needs_background": "light"
     },
     "output_type": "display_data"
    },
    {
     "name": "stdout",
     "output_type": "stream",
     "text": [
      "ots_1615826291\n"
     ]
    },
    {
     "data": {
      "image/png": "[encoded data removed]",
      "text/plain": [
       "<Figure size 432x288 with 1 Axes>"
      ]
     },
     "metadata": {
      "needs_background": "light"
     },
     "output_type": "display_data"
    },
    {
     "name": "stdout",
     "output_type": "stream",
     "text": [
      "Plotting % Logit Diffs\n"
     ]
    },
    {
     "data": {
      "image/png": "[encoded data removed]",
      "text/plain": [
       "<Figure size 432x288 with 1 Axes>"
      ]
     },
     "metadata": {
      "needs_background": "light"
     },
     "output_type": "display_data"
    }
   ],
   "source": [
    "comps2.plotter()"
   ]
  },
  {
   "cell_type": "markdown",
   "id": "supposed-shelf",
   "metadata": {},
   "source": [
    "# model_epoch0_ts10000.20210314.22.03.1615760445\n",
    "## cedit=1, cloc=15, 10k steps\n"
   ]
  },
  {
   "cell_type": "code",
   "execution_count": 53,
   "id": "perceived-democracy",
   "metadata": {},
   "outputs": [
    {
     "name": "stdout",
     "output_type": "stream",
     "text": [
      "Model Parameters:\n"
     ]
    },
    {
     "data": {
      "text/html": [
       "<div>\n",
       "<style scoped>\n",
       "    .dataframe tbody tr th:only-of-type {\n",
       "        vertical-align: middle;\n",
       "    }\n",
       "\n",
       "    .dataframe tbody tr th {\n",
       "        vertical-align: top;\n",
       "    }\n",
       "\n",
       "    .dataframe thead th {\n",
       "        text-align: right;\n",
       "    }\n",
       "</style>\n",
       "<table border=\"1\" class=\"dataframe\">\n",
       "  <thead>\n",
       "    <tr style=\"text-align: right;\">\n",
       "      <th></th>\n",
       "      <th>inner_lr</th>\n",
       "      <th>outer_lr</th>\n",
       "      <th>n_edit_steps</th>\n",
       "      <th>cedit</th>\n",
       "      <th>cloc</th>\n",
       "    </tr>\n",
       "  </thead>\n",
       "  <tbody>\n",
       "    <tr>\n",
       "      <th>0</th>\n",
       "      <td>0.001</td>\n",
       "      <td>0.00001</td>\n",
       "      <td>1.0</td>\n",
       "      <td>1.0</td>\n",
       "      <td>15.0</td>\n",
       "    </tr>\n",
       "  </tbody>\n",
       "</table>\n",
       "</div>"
      ],
      "text/plain": [
       "   inner_lr  outer_lr  n_edit_steps  cedit  cloc\n",
       "0     0.001   0.00001           1.0    1.0  15.0"
      ]
     },
     "metadata": {},
     "output_type": "display_data"
    },
    {
     "name": "stdout",
     "output_type": "stream",
     "text": [
      "Success Metrics\n"
     ]
    },
    {
     "data": {
      "text/html": [
       "<div>\n",
       "<style scoped>\n",
       "    .dataframe tbody tr th:only-of-type {\n",
       "        vertical-align: middle;\n",
       "    }\n",
       "\n",
       "    .dataframe tbody tr th {\n",
       "        vertical-align: top;\n",
       "    }\n",
       "\n",
       "    .dataframe thead th {\n",
       "        text-align: right;\n",
       "    }\n",
       "</style>\n",
       "<table border=\"1\" class=\"dataframe\">\n",
       "  <thead>\n",
       "    <tr style=\"text-align: right;\">\n",
       "      <th></th>\n",
       "      <th>model</th>\n",
       "      <th>edit_steps</th>\n",
       "      <th>mean_new_ppl</th>\n",
       "      <th>mean_orig_ppl</th>\n",
       "      <th>pct_ppl_dd</th>\n",
       "      <th>gross_ppl_dd</th>\n",
       "      <th>new_logits_higher</th>\n",
       "      <th>new_logits_higher05</th>\n",
       "      <th>new_logits_higher10</th>\n",
       "      <th>success_by_probs</th>\n",
       "    </tr>\n",
       "  </thead>\n",
       "  <tbody>\n",
       "    <tr>\n",
       "      <th>7</th>\n",
       "      <td>ots_1615826715</td>\n",
       "      <td>5.0</td>\n",
       "      <td>92.249127</td>\n",
       "      <td>90.703072</td>\n",
       "      <td>1.704523</td>\n",
       "      <td>1.546055</td>\n",
       "      <td>0.72</td>\n",
       "      <td>0.16</td>\n",
       "      <td>0.04</td>\n",
       "      <td>0.86</td>\n",
       "    </tr>\n",
       "    <tr>\n",
       "      <th>8</th>\n",
       "      <td>ots_1615826291</td>\n",
       "      <td>3.0</td>\n",
       "      <td>91.357340</td>\n",
       "      <td>90.703072</td>\n",
       "      <td>0.721330</td>\n",
       "      <td>0.654268</td>\n",
       "      <td>0.78</td>\n",
       "      <td>0.08</td>\n",
       "      <td>0.02</td>\n",
       "      <td>0.86</td>\n",
       "    </tr>\n",
       "    <tr>\n",
       "      <th>6</th>\n",
       "      <td>ots_1615825880</td>\n",
       "      <td>1.0</td>\n",
       "      <td>90.831759</td>\n",
       "      <td>90.703072</td>\n",
       "      <td>0.141878</td>\n",
       "      <td>0.128688</td>\n",
       "      <td>0.80</td>\n",
       "      <td>0.00</td>\n",
       "      <td>0.00</td>\n",
       "      <td>0.86</td>\n",
       "    </tr>\n",
       "    <tr>\n",
       "      <th>4</th>\n",
       "      <td>model_1615830698</td>\n",
       "      <td>5.0</td>\n",
       "      <td>92.998480</td>\n",
       "      <td>80.843575</td>\n",
       "      <td>15.035091</td>\n",
       "      <td>12.154905</td>\n",
       "      <td>0.86</td>\n",
       "      <td>0.60</td>\n",
       "      <td>0.48</td>\n",
       "      <td>0.92</td>\n",
       "    </tr>\n",
       "    <tr>\n",
       "      <th>3</th>\n",
       "      <td>model_1615830286</td>\n",
       "      <td>3.0</td>\n",
       "      <td>86.252994</td>\n",
       "      <td>80.843575</td>\n",
       "      <td>6.691217</td>\n",
       "      <td>5.409419</td>\n",
       "      <td>0.76</td>\n",
       "      <td>0.62</td>\n",
       "      <td>0.50</td>\n",
       "      <td>0.92</td>\n",
       "    </tr>\n",
       "    <tr>\n",
       "      <th>5</th>\n",
       "      <td>model_1615829897</td>\n",
       "      <td>1.0</td>\n",
       "      <td>80.696640</td>\n",
       "      <td>80.843575</td>\n",
       "      <td>-0.181751</td>\n",
       "      <td>-0.146934</td>\n",
       "      <td>0.74</td>\n",
       "      <td>0.54</td>\n",
       "      <td>0.44</td>\n",
       "      <td>0.94</td>\n",
       "    </tr>\n",
       "    <tr>\n",
       "      <th>2</th>\n",
       "      <td>base_1615828169</td>\n",
       "      <td>5.0</td>\n",
       "      <td>50.140138</td>\n",
       "      <td>49.353867</td>\n",
       "      <td>1.593129</td>\n",
       "      <td>0.786271</td>\n",
       "      <td>0.82</td>\n",
       "      <td>0.16</td>\n",
       "      <td>0.04</td>\n",
       "      <td>0.88</td>\n",
       "    </tr>\n",
       "    <tr>\n",
       "      <th>1</th>\n",
       "      <td>base_1615827722</td>\n",
       "      <td>3.0</td>\n",
       "      <td>49.605848</td>\n",
       "      <td>49.353867</td>\n",
       "      <td>0.510561</td>\n",
       "      <td>0.251981</td>\n",
       "      <td>0.84</td>\n",
       "      <td>0.08</td>\n",
       "      <td>0.00</td>\n",
       "      <td>0.88</td>\n",
       "    </tr>\n",
       "    <tr>\n",
       "      <th>0</th>\n",
       "      <td>base_1615827264</td>\n",
       "      <td>1.0</td>\n",
       "      <td>49.365100</td>\n",
       "      <td>49.353867</td>\n",
       "      <td>0.022761</td>\n",
       "      <td>0.011233</td>\n",
       "      <td>0.82</td>\n",
       "      <td>0.00</td>\n",
       "      <td>0.00</td>\n",
       "      <td>0.92</td>\n",
       "    </tr>\n",
       "  </tbody>\n",
       "</table>\n",
       "</div>"
      ],
      "text/plain": [
       "              model  edit_steps  mean_new_ppl  mean_orig_ppl  pct_ppl_dd  \\\n",
       "7    ots_1615826715         5.0     92.249127      90.703072    1.704523   \n",
       "8    ots_1615826291         3.0     91.357340      90.703072    0.721330   \n",
       "6    ots_1615825880         1.0     90.831759      90.703072    0.141878   \n",
       "4  model_1615830698         5.0     92.998480      80.843575   15.035091   \n",
       "3  model_1615830286         3.0     86.252994      80.843575    6.691217   \n",
       "5  model_1615829897         1.0     80.696640      80.843575   -0.181751   \n",
       "2   base_1615828169         5.0     50.140138      49.353867    1.593129   \n",
       "1   base_1615827722         3.0     49.605848      49.353867    0.510561   \n",
       "0   base_1615827264         1.0     49.365100      49.353867    0.022761   \n",
       "\n",
       "   gross_ppl_dd  new_logits_higher  new_logits_higher05  new_logits_higher10  \\\n",
       "7      1.546055               0.72                 0.16                 0.04   \n",
       "8      0.654268               0.78                 0.08                 0.02   \n",
       "6      0.128688               0.80                 0.00                 0.00   \n",
       "4     12.154905               0.86                 0.60                 0.48   \n",
       "3      5.409419               0.76                 0.62                 0.50   \n",
       "5     -0.146934               0.74                 0.54                 0.44   \n",
       "2      0.786271               0.82                 0.16                 0.04   \n",
       "1      0.251981               0.84                 0.08                 0.00   \n",
       "0      0.011233               0.82                 0.00                 0.00   \n",
       "\n",
       "   success_by_probs  \n",
       "7              0.86  \n",
       "8              0.86  \n",
       "6              0.86  \n",
       "4              0.92  \n",
       "3              0.92  \n",
       "5              0.94  \n",
       "2              0.88  \n",
       "1              0.88  \n",
       "0              0.92  "
      ]
     },
     "metadata": {},
     "output_type": "display_data"
    }
   ],
   "source": [
    "comps3 = ModelComps(\n",
    "    model_name=\"model_epoch0_ts10000.20210314.22.03.1615760445\",\n",
    "    base_name=\"gpt2_epoch0_ts10000.20210310.18.03.1615401990\",\n",
    "    archive=False\n",
    ")\n",
    "\n",
    "comps3.summary()"
   ]
  },
  {
   "cell_type": "code",
   "execution_count": 54,
   "id": "curious-webcam",
   "metadata": {},
   "outputs": [
    {
     "name": "stdout",
     "output_type": "stream",
     "text": [
      "Plotting Logits\n",
      "base_1615827264\n"
     ]
    },
    {
     "data": {
      "image/png": "[encoded data removed]",
      "text/plain": [
       "<Figure size 432x288 with 1 Axes>"
      ]
     },
     "metadata": {
      "needs_background": "light"
     },
     "output_type": "display_data"
    },
    {
     "name": "stdout",
     "output_type": "stream",
     "text": [
      "base_1615827722\n"
     ]
    },
    {
     "data": {
      "image/png": "[encoded data removed]",
      "text/plain": [
       "<Figure size 432x288 with 1 Axes>"
      ]
     },
     "metadata": {
      "needs_background": "light"
     },
     "output_type": "display_data"
    },
    {
     "name": "stdout",
     "output_type": "stream",
     "text": [
      "base_1615828169\n"
     ]
    },
    {
     "data": {
      "image/png": "[encoded data removed]",
      "text/plain": [
       "<Figure size 432x288 with 1 Axes>"
      ]
     },
     "metadata": {
      "needs_background": "light"
     },
     "output_type": "display_data"
    },
    {
     "name": "stdout",
     "output_type": "stream",
     "text": [
      "model_1615830286\n"
     ]
    },
    {
     "data": {
      "image/png": "[encoded data removed]",
      "text/plain": [
       "<Figure size 432x288 with 1 Axes>"
      ]
     },
     "metadata": {
      "needs_background": "light"
     },
     "output_type": "display_data"
    },
    {
     "name": "stdout",
     "output_type": "stream",
     "text": [
      "model_1615830698\n"
     ]
    },
    {
     "data": {
      "image/png": "[encoded data removed]",
      "text/plain": [
       "<Figure size 432x288 with 1 Axes>"
      ]
     },
     "metadata": {
      "needs_background": "light"
     },
     "output_type": "display_data"
    },
    {
     "name": "stdout",
     "output_type": "stream",
     "text": [
      "model_1615829897\n"
     ]
    },
    {
     "data": {
      "image/png": "[encoded data removed]",
      "text/plain": [
       "<Figure size 432x288 with 1 Axes>"
      ]
     },
     "metadata": {
      "needs_background": "light"
     },
     "output_type": "display_data"
    },
    {
     "name": "stdout",
     "output_type": "stream",
     "text": [
      "ots_1615825880\n"
     ]
    },
    {
     "data": {
      "image/png": "[encoded data removed]",
      "text/plain": [
       "<Figure size 432x288 with 1 Axes>"
      ]
     },
     "metadata": {
      "needs_background": "light"
     },
     "output_type": "display_data"
    },
    {
     "name": "stdout",
     "output_type": "stream",
     "text": [
      "ots_1615826715\n"
     ]
    },
    {
     "data": {
      "image/png": "[encoded data removed]",
      "text/plain": [
       "<Figure size 432x288 with 1 Axes>"
      ]
     },
     "metadata": {
      "needs_background": "light"
     },
     "output_type": "display_data"
    },
    {
     "name": "stdout",
     "output_type": "stream",
     "text": [
      "ots_1615826291\n"
     ]
    },
    {
     "data": {
      "image/png": "[encoded data removed]",
      "text/plain": [
       "<Figure size 432x288 with 1 Axes>"
      ]
     },
     "metadata": {
      "needs_background": "light"
     },
     "output_type": "display_data"
    },
    {
     "name": "stdout",
     "output_type": "stream",
     "text": [
      "Plotting % Logit Diffs\n"
     ]
    },
    {
     "data": {
      "image/png": "[encoded data removed]",
      "text/plain": [
       "<Figure size 432x288 with 1 Axes>"
      ]
     },
     "metadata": {
      "needs_background": "light"
     },
     "output_type": "display_data"
    }
   ],
   "source": [
    "comps3.plotter()"
   ]
  },
  {
   "cell_type": "markdown",
   "id": "brave-resource",
   "metadata": {},
   "source": [
    "# model_epoch0_ts10000.20210312.21.03.1615586239\n",
    "## cedit=1, cloc=1, 10k steps\n",
    "Notes: Model run Friday 3/12, first try with editing loss calculated just on the modified tokens. Has worse statistics"
   ]
  },
  {
   "cell_type": "code",
   "execution_count": 55,
   "id": "delayed-amsterdam",
   "metadata": {},
   "outputs": [
    {
     "name": "stdout",
     "output_type": "stream",
     "text": [
      "Model Parameters:\n"
     ]
    },
    {
     "data": {
      "text/html": [
       "<div>\n",
       "<style scoped>\n",
       "    .dataframe tbody tr th:only-of-type {\n",
       "        vertical-align: middle;\n",
       "    }\n",
       "\n",
       "    .dataframe tbody tr th {\n",
       "        vertical-align: top;\n",
       "    }\n",
       "\n",
       "    .dataframe thead th {\n",
       "        text-align: right;\n",
       "    }\n",
       "</style>\n",
       "<table border=\"1\" class=\"dataframe\">\n",
       "  <thead>\n",
       "    <tr style=\"text-align: right;\">\n",
       "      <th></th>\n",
       "      <th>inner_lr</th>\n",
       "      <th>outer_lr</th>\n",
       "      <th>n_edit_steps</th>\n",
       "      <th>cedit</th>\n",
       "      <th>cloc</th>\n",
       "    </tr>\n",
       "  </thead>\n",
       "  <tbody>\n",
       "    <tr>\n",
       "      <th>0</th>\n",
       "      <td>0.001</td>\n",
       "      <td>0.00001</td>\n",
       "      <td>1.0</td>\n",
       "      <td>1.0</td>\n",
       "      <td>1.0</td>\n",
       "    </tr>\n",
       "  </tbody>\n",
       "</table>\n",
       "</div>"
      ],
      "text/plain": [
       "   inner_lr  outer_lr  n_edit_steps  cedit  cloc\n",
       "0     0.001   0.00001           1.0    1.0   1.0"
      ]
     },
     "metadata": {},
     "output_type": "display_data"
    },
    {
     "name": "stdout",
     "output_type": "stream",
     "text": [
      "Success Metrics\n"
     ]
    },
    {
     "data": {
      "text/html": [
       "<div>\n",
       "<style scoped>\n",
       "    .dataframe tbody tr th:only-of-type {\n",
       "        vertical-align: middle;\n",
       "    }\n",
       "\n",
       "    .dataframe tbody tr th {\n",
       "        vertical-align: top;\n",
       "    }\n",
       "\n",
       "    .dataframe thead th {\n",
       "        text-align: right;\n",
       "    }\n",
       "</style>\n",
       "<table border=\"1\" class=\"dataframe\">\n",
       "  <thead>\n",
       "    <tr style=\"text-align: right;\">\n",
       "      <th></th>\n",
       "      <th>model</th>\n",
       "      <th>edit_steps</th>\n",
       "      <th>mean_new_ppl</th>\n",
       "      <th>mean_orig_ppl</th>\n",
       "      <th>pct_ppl_dd</th>\n",
       "      <th>gross_ppl_dd</th>\n",
       "      <th>new_logits_higher</th>\n",
       "      <th>new_logits_higher05</th>\n",
       "      <th>new_logits_higher10</th>\n",
       "      <th>success_by_probs</th>\n",
       "    </tr>\n",
       "  </thead>\n",
       "  <tbody>\n",
       "    <tr>\n",
       "      <th>7</th>\n",
       "      <td>ots_1615826715</td>\n",
       "      <td>5.0</td>\n",
       "      <td>92.249127</td>\n",
       "      <td>90.703072</td>\n",
       "      <td>1.704523</td>\n",
       "      <td>1.546055</td>\n",
       "      <td>0.72</td>\n",
       "      <td>0.16</td>\n",
       "      <td>0.04</td>\n",
       "      <td>0.86</td>\n",
       "    </tr>\n",
       "    <tr>\n",
       "      <th>8</th>\n",
       "      <td>ots_1615826291</td>\n",
       "      <td>3.0</td>\n",
       "      <td>91.357340</td>\n",
       "      <td>90.703072</td>\n",
       "      <td>0.721330</td>\n",
       "      <td>0.654268</td>\n",
       "      <td>0.78</td>\n",
       "      <td>0.08</td>\n",
       "      <td>0.02</td>\n",
       "      <td>0.86</td>\n",
       "    </tr>\n",
       "    <tr>\n",
       "      <th>6</th>\n",
       "      <td>ots_1615825880</td>\n",
       "      <td>1.0</td>\n",
       "      <td>90.831759</td>\n",
       "      <td>90.703072</td>\n",
       "      <td>0.141878</td>\n",
       "      <td>0.128688</td>\n",
       "      <td>0.80</td>\n",
       "      <td>0.00</td>\n",
       "      <td>0.00</td>\n",
       "      <td>0.86</td>\n",
       "    </tr>\n",
       "    <tr>\n",
       "      <th>3</th>\n",
       "      <td>model_1615833209</td>\n",
       "      <td>5.0</td>\n",
       "      <td>184.372973</td>\n",
       "      <td>94.858231</td>\n",
       "      <td>94.366869</td>\n",
       "      <td>89.514742</td>\n",
       "      <td>0.90</td>\n",
       "      <td>0.70</td>\n",
       "      <td>0.58</td>\n",
       "      <td>0.92</td>\n",
       "    </tr>\n",
       "    <tr>\n",
       "      <th>5</th>\n",
       "      <td>model_1615832802</td>\n",
       "      <td>3.0</td>\n",
       "      <td>162.421238</td>\n",
       "      <td>94.858231</td>\n",
       "      <td>71.225245</td>\n",
       "      <td>67.563007</td>\n",
       "      <td>0.90</td>\n",
       "      <td>0.70</td>\n",
       "      <td>0.56</td>\n",
       "      <td>0.94</td>\n",
       "    </tr>\n",
       "    <tr>\n",
       "      <th>4</th>\n",
       "      <td>model_1615832420</td>\n",
       "      <td>1.0</td>\n",
       "      <td>137.337339</td>\n",
       "      <td>94.858231</td>\n",
       "      <td>44.781679</td>\n",
       "      <td>42.479109</td>\n",
       "      <td>0.86</td>\n",
       "      <td>0.72</td>\n",
       "      <td>0.56</td>\n",
       "      <td>0.92</td>\n",
       "    </tr>\n",
       "    <tr>\n",
       "      <th>2</th>\n",
       "      <td>base_1615828169</td>\n",
       "      <td>5.0</td>\n",
       "      <td>50.140138</td>\n",
       "      <td>49.353867</td>\n",
       "      <td>1.593129</td>\n",
       "      <td>0.786271</td>\n",
       "      <td>0.82</td>\n",
       "      <td>0.16</td>\n",
       "      <td>0.04</td>\n",
       "      <td>0.88</td>\n",
       "    </tr>\n",
       "    <tr>\n",
       "      <th>1</th>\n",
       "      <td>base_1615827722</td>\n",
       "      <td>3.0</td>\n",
       "      <td>49.605848</td>\n",
       "      <td>49.353867</td>\n",
       "      <td>0.510561</td>\n",
       "      <td>0.251981</td>\n",
       "      <td>0.84</td>\n",
       "      <td>0.08</td>\n",
       "      <td>0.00</td>\n",
       "      <td>0.88</td>\n",
       "    </tr>\n",
       "    <tr>\n",
       "      <th>0</th>\n",
       "      <td>base_1615827264</td>\n",
       "      <td>1.0</td>\n",
       "      <td>49.365100</td>\n",
       "      <td>49.353867</td>\n",
       "      <td>0.022761</td>\n",
       "      <td>0.011233</td>\n",
       "      <td>0.82</td>\n",
       "      <td>0.00</td>\n",
       "      <td>0.00</td>\n",
       "      <td>0.92</td>\n",
       "    </tr>\n",
       "  </tbody>\n",
       "</table>\n",
       "</div>"
      ],
      "text/plain": [
       "              model  edit_steps  mean_new_ppl  mean_orig_ppl  pct_ppl_dd  \\\n",
       "7    ots_1615826715         5.0     92.249127      90.703072    1.704523   \n",
       "8    ots_1615826291         3.0     91.357340      90.703072    0.721330   \n",
       "6    ots_1615825880         1.0     90.831759      90.703072    0.141878   \n",
       "3  model_1615833209         5.0    184.372973      94.858231   94.366869   \n",
       "5  model_1615832802         3.0    162.421238      94.858231   71.225245   \n",
       "4  model_1615832420         1.0    137.337339      94.858231   44.781679   \n",
       "2   base_1615828169         5.0     50.140138      49.353867    1.593129   \n",
       "1   base_1615827722         3.0     49.605848      49.353867    0.510561   \n",
       "0   base_1615827264         1.0     49.365100      49.353867    0.022761   \n",
       "\n",
       "   gross_ppl_dd  new_logits_higher  new_logits_higher05  new_logits_higher10  \\\n",
       "7      1.546055               0.72                 0.16                 0.04   \n",
       "8      0.654268               0.78                 0.08                 0.02   \n",
       "6      0.128688               0.80                 0.00                 0.00   \n",
       "3     89.514742               0.90                 0.70                 0.58   \n",
       "5     67.563007               0.90                 0.70                 0.56   \n",
       "4     42.479109               0.86                 0.72                 0.56   \n",
       "2      0.786271               0.82                 0.16                 0.04   \n",
       "1      0.251981               0.84                 0.08                 0.00   \n",
       "0      0.011233               0.82                 0.00                 0.00   \n",
       "\n",
       "   success_by_probs  \n",
       "7              0.86  \n",
       "8              0.86  \n",
       "6              0.86  \n",
       "3              0.92  \n",
       "5              0.94  \n",
       "4              0.92  \n",
       "2              0.88  \n",
       "1              0.88  \n",
       "0              0.92  "
      ]
     },
     "metadata": {},
     "output_type": "display_data"
    }
   ],
   "source": [
    "comps = ModelComps(\n",
    "    model_name=\"model_epoch0_ts10000.20210312.21.03.1615586239\",\n",
    "    base_name=\"gpt2_epoch0_ts10000.20210310.18.03.1615401990\",\n",
    "    archive=False\n",
    ")\n",
    "\n",
    "comps.summary()"
   ]
  },
  {
   "cell_type": "code",
   "execution_count": null,
   "id": "listed-suggestion",
   "metadata": {},
   "outputs": [],
   "source": [
    "comps = ModelComps(\n",
    "    model_name=\"model_epoch0_ts10000.20210312.21.03.1615586239\",\n",
    "    base_name=\"gpt2_epoch0_ts10000.20210310.18.03.1615401990\",\n",
    "    archive=False\n",
    ")\n",
    "\n",
    "comps.summary()"
   ]
  },
  {
   "cell_type": "code",
   "execution_count": null,
   "id": "legal-animal",
   "metadata": {},
   "outputs": [],
   "source": []
  },
  {
   "cell_type": "code",
   "execution_count": null,
   "id": "needed-cleaner",
   "metadata": {},
   "outputs": [],
   "source": []
  },
  {
   "cell_type": "code",
   "execution_count": 12,
   "id": "funny-bumper",
   "metadata": {},
   "outputs": [],
   "source": [
    "import utils\n",
    "import copy"
   ]
  },
  {
   "cell_type": "code",
   "execution_count": 10,
   "id": "universal-inspection",
   "metadata": {},
   "outputs": [],
   "source": [
    "model, tokenizer = utils.loadOTSModel()"
   ]
  },
  {
   "cell_type": "code",
   "execution_count": 13,
   "id": "still-locking",
   "metadata": {},
   "outputs": [],
   "source": [
    "fmodel = copy.deepcopy(model)"
   ]
  },
  {
   "cell_type": "code",
   "execution_count": 14,
   "id": "typical-causing",
   "metadata": {},
   "outputs": [
    {
     "data": {
      "text/plain": [
       "<All keys matched successfully>"
      ]
     },
     "execution_count": 14,
     "metadata": {},
     "output_type": "execute_result"
    }
   ],
   "source": [
    "model.load_state_dict(torch.load(\"model_examination\"))"
   ]
  },
  {
   "cell_type": "code",
   "execution_count": 15,
   "id": "academic-kuwait",
   "metadata": {},
   "outputs": [
    {
     "data": {
      "text/plain": [
       "<All keys matched successfully>"
      ]
     },
     "execution_count": 15,
     "metadata": {},
     "output_type": "execute_result"
    }
   ],
   "source": [
    "fmodel.load_state_dict(torch.load(\"fmodel_examination\"))"
   ]
  },
  {
   "cell_type": "code",
   "execution_count": 58,
   "id": "recent-birmingham",
   "metadata": {},
   "outputs": [
    {
     "data": {
      "text/plain": [
       "15"
      ]
     },
     "execution_count": 58,
     "metadata": {},
     "output_type": "execute_result"
    }
   ],
   "source": [
    "len(\"transformer.h.3\")"
   ]
  },
  {
   "cell_type": "code",
   "execution_count": 62,
   "id": "directed-jordan",
   "metadata": {},
   "outputs": [
    {
     "name": "stdout",
     "output_type": "stream",
     "text": [
      "transformer.h.3.ln_1.weight\n",
      "transformer.h.3.ln_1.bias\n",
      "transformer.h.3.attn.c_attn.weight\n",
      "transformer.h.3.attn.c_attn.bias\n",
      "transformer.h.3.attn.c_proj.weight\n",
      "transformer.h.3.attn.c_proj.bias\n",
      "transformer.h.3.ln_2.weight\n",
      "transformer.h.3.ln_2.bias\n",
      "transformer.h.3.mlp.c_fc.weight\n",
      "transformer.h.3.mlp.c_fc.bias\n",
      "transformer.h.3.mlp.c_proj.weight\n",
      "transformer.h.3.mlp.c_proj.bias\n",
      "transformer.h.4.ln_1.weight\n",
      "transformer.h.4.ln_1.bias\n",
      "transformer.h.4.attn.c_attn.weight\n",
      "transformer.h.4.attn.c_attn.bias\n",
      "transformer.h.4.attn.c_proj.weight\n",
      "transformer.h.4.attn.c_proj.bias\n",
      "transformer.h.4.ln_2.weight\n",
      "transformer.h.4.ln_2.bias\n",
      "transformer.h.4.mlp.c_fc.weight\n",
      "transformer.h.4.mlp.c_fc.bias\n",
      "transformer.h.4.mlp.c_proj.weight\n",
      "transformer.h.4.mlp.c_proj.bias\n",
      "transformer.h.5.ln_1.weight\n",
      "transformer.h.5.ln_1.bias\n",
      "transformer.h.5.attn.c_attn.weight\n",
      "transformer.h.5.attn.c_attn.bias\n",
      "transformer.h.5.attn.c_proj.weight\n",
      "transformer.h.5.attn.c_proj.bias\n",
      "transformer.h.5.ln_2.weight\n",
      "transformer.h.5.ln_2.bias\n",
      "transformer.h.5.mlp.c_fc.weight\n",
      "transformer.h.5.mlp.c_fc.bias\n",
      "transformer.h.5.mlp.c_proj.weight\n",
      "transformer.h.5.mlp.c_proj.bias\n"
     ]
    }
   ],
   "source": [
    "change_map = {}\n",
    "for (p_name, p_), fp in zip(model.named_parameters(), fmodel.parameters()):\n",
    "    if p_name[:15] in [f\"transformer.h.{i}\" for i in range(3,6)]:\n",
    "        print(p_name)\n",
    "        pct_change = (torch.linalg.norm(p_) - torch.linalg.norm(fp)) / torch.linalg.norm(p_)\n",
    "        change_map[p_name] = pct_change.item()"
   ]
  },
  {
   "cell_type": "code",
   "execution_count": 43,
   "id": "searching-alexandria",
   "metadata": {},
   "outputs": [
    {
     "data": {
      "text/plain": [
       "{'transformer.h.3.ln_1.weight': 7.644336437806487e-05,\n",
       " 'transformer.h.3.ln_1.bias': -0.0018237857148051262,\n",
       " 'transformer.h.3.attn.c_proj.bias': 0.00017843444948084652,\n",
       " 'transformer.h.3.ln_2.weight': -1.5738794900244102e-05,\n",
       " 'transformer.h.3.ln_2.bias': -0.0020129350014030933,\n",
       " 'transformer.h.3.mlp.c_fc.bias': -1.2387055903673172e-05,\n",
       " 'transformer.h.3.mlp.c_proj.bias': -5.463205525302328e-06,\n",
       " 'transformer.h.4.ln_1.weight': -1.7144548110081814e-05,\n",
       " 'transformer.h.4.ln_1.bias': -0.002272357465699315,\n",
       " 'transformer.h.4.attn.c_proj.bias': 8.524410077370703e-06,\n",
       " 'transformer.h.4.ln_2.weight': -3.9241444028448313e-05,\n",
       " 'transformer.h.4.ln_2.bias': 0.002588399453088641,\n",
       " 'transformer.h.4.mlp.c_fc.bias': -4.903603439743165e-06,\n",
       " 'transformer.h.4.mlp.c_proj.bias': -6.598028267035261e-05,\n",
       " 'transformer.h.5.ln_1.weight': -1.8028404156211764e-05,\n",
       " 'transformer.h.5.ln_1.bias': -0.0024232666473835707,\n",
       " 'transformer.h.5.ln_2.bias': -0.004640438128262758}"
      ]
     },
     "execution_count": 43,
     "metadata": {},
     "output_type": "execute_result"
    }
   ],
   "source": [
    "change_map"
   ]
  },
  {
   "cell_type": "code",
   "execution_count": 51,
   "id": "silent-latitude",
   "metadata": {},
   "outputs": [],
   "source": [
    "df = pd.Series(change_map).to_frame().reset_index()\n",
    "df.columns = [\"Layer\", \"Pct Change\"]"
   ]
  },
  {
   "cell_type": "code",
   "execution_count": 57,
   "id": "thrown-seeking",
   "metadata": {},
   "outputs": [
    {
     "data": {
      "text/plain": [
       "<AxesSubplot:xlabel='Layer'>"
      ]
     },
     "execution_count": 57,
     "metadata": {},
     "output_type": "execute_result"
    },
    {
     "data": {
      "image/png": "[encoded data removed]",
      "text/plain": [
       "<Figure size 720x288 with 1 Axes>"
      ]
     },
     "metadata": {
      "needs_background": "light"
     },
     "output_type": "display_data"
    }
   ],
   "source": [
    "df.loc[df.Layer.apply(lambda x: \"mlp\" in x)].set_index(\"Layer\").plot(kind='bar')"
   ]
  },
  {
   "cell_type": "code",
   "execution_count": 73,
   "id": "complicated-mayor",
   "metadata": {},
   "outputs": [],
   "source": [
    "model, tokenizer = utils.loadTrainedModel(\"../models/model_epoch0_ts10000.20210314.16.03.1615740151\")\n"
   ]
  },
  {
   "cell_type": "code",
   "execution_count": 102,
   "id": "normal-horror",
   "metadata": {},
   "outputs": [],
   "source": [
    "model_ots, _ = utils.loadOTSModel()"
   ]
  },
  {
   "cell_type": "code",
   "execution_count": 107,
   "id": "atlantic-kenya",
   "metadata": {},
   "outputs": [],
   "source": [
    "from collections import defaultdict\n",
    "\n",
    "DEVICE = 'cuda' if torch.cuda.is_available() else 'cpu'\n",
    "def vizChange(model): \n",
    "    model.to(DEVICE)\n",
    "    \n",
    "    change_map = defaultdict(list)\n",
    "\n",
    "    dataloader = retrieveDataloader(tokenizer, bs=1, dataset='valid', max_obs=100)\n",
    "    model.train()\n",
    "    for train_step, (lm_data, edit_example, ent) in enumerate(dataloader):\n",
    "\n",
    "        edit_tokens, edit_mask = edit_example\n",
    "        ent_tokens = ent[0].flatten() #1d array of vocab indexes\n",
    "        ent_tokens = ent_tokens[ent_tokens != 50256]\n",
    "        edit_locs = utils.locateEntityEdit(edit_tokens, ent_tokens)\n",
    "\n",
    "\n",
    "        edit_labels = torch.zeros(edit_tokens.shape, dtype=torch.long) - 100\n",
    "        edit_labels[:, edit_locs] = edit_tokens[:, edit_locs]\n",
    "        edit_labels = edit_labels.to(DEVICE)\n",
    "        edit_tokens, edit_mask = edit_tokens.to(DEVICE), edit_mask.to(DEVICE)\n",
    "\n",
    "\n",
    "        inner_opt = torch.optim.SGD(model.transformer.h[-3:].parameters(), lr=1e-3)\n",
    "        with higher.innerloop_ctx(\n",
    "            model, \n",
    "            inner_opt, \n",
    "            copy_initial_weights=False, \n",
    "            track_higher_grads=True\n",
    "            ) as (fmodel, diffopt):\n",
    "\n",
    "\n",
    "            loss = fmodel(\n",
    "                edit_tokens, \n",
    "                attention_mask=edit_mask,\n",
    "                labels=edit_labels\n",
    "            ).loss\n",
    "            diffopt.step(loss)\n",
    "\n",
    "\n",
    "            for (p_name, p_), fp in zip(model.named_parameters(), fmodel.parameters()):\n",
    "                if p_name[:15] in [f\"transformer.h.{i}\" for i in range(3,6)]:\n",
    "                    pct_change = (torch.linalg.norm(p_) - torch.linalg.norm(fp)) / torch.linalg.norm(p_)\n",
    "                    change_map['run'].append(train_step)\n",
    "                    change_map['layer'].append(p_name)\n",
    "                    change_map['change'].append(pct_change.item())\n",
    "\n",
    "        if train_step > 50:\n",
    "            break\n",
    "    return change_map"
   ]
  },
  {
   "cell_type": "code",
   "execution_count": 111,
   "id": "german-bhutan",
   "metadata": {},
   "outputs": [],
   "source": [
    "change_trained = pd.DataFrame(vizChange(model))\n",
    "change_ots = pd.DataFrame(vizChange(model_ots))"
   ]
  },
  {
   "cell_type": "code",
   "execution_count": 135,
   "id": "loving-concept",
   "metadata": {},
   "outputs": [
    {
     "data": {
      "image/png": "[encoded data removed]",
      "text/plain": [
       "<Figure size 1080x360 with 1 Axes>"
      ]
     },
     "metadata": {
      "needs_background": "light"
     },
     "output_type": "display_data"
    }
   ],
   "source": [
    "plt.bar((change_trained\n",
    "#          .loc[df.layer.apply(lambda x: 'mlp' in x)]\n",
    "        .groupby('layer')\n",
    "        .change.mean().reset_index().layer),\n",
    "        (change_trained\n",
    "#         .loc[df.layer.apply(lambda x: 'mlp' in x)]                                     \n",
    "        .groupby('layer')\n",
    "        .change.mean().reset_index().change), alpha=0.5, label='Editable')\n",
    "\n",
    "plt.bar((change_ots\n",
    "#          .loc[df.layer.apply(lambda x: 'mlp' in x)]\n",
    "        .groupby('layer')\n",
    "        .change.mean().reset_index().layer),\n",
    "        (change_ots\n",
    "#         .loc[df.layer.apply(lambda x: 'mlp' in x)]\n",
    "        .groupby('layer')\n",
    "        .change.mean().reset_index().change), alpha=0.5, label='DistilGPT2')\n",
    "\n",
    "plt.legend()\n",
    "plt.xticks(rotation='vertical')\n",
    "plt.ylabel(\"% Change\")\n",
    "plt.xlabel(\"Model Layer\")\n",
    "plt.show()"
   ]
  },
  {
   "cell_type": "code",
   "execution_count": 114,
   "id": "composite-attraction",
   "metadata": {},
   "outputs": [
    {
     "data": {
      "image/png": "[encoded data removed]",
      "text/plain": [
       "<Figure size 1080x360 with 1 Axes>"
      ]
     },
     "metadata": {
      "needs_background": "light"
     },
     "output_type": "display_data"
    }
   ],
   "source": [
    "matplotlib.rcParams['figure.figsize'] = (15, 5)\n",
    "\n",
    "for df in [change_trained, change_ots]:\n",
    "    (\n",
    "        df\n",
    "    #     .loc[df.layer.apply(lambda x: 'mlp' in x)]\n",
    "        .groupby('layer')\n",
    "\n",
    "        .change.mean().plot(kind='bar')\n",
    "\n",
    "    )\n",
    "plt.show()"
   ]
  },
  {
   "cell_type": "code",
   "execution_count": 97,
   "id": "spread-bubble",
   "metadata": {},
   "outputs": [
    {
     "data": {
      "text/plain": [
       "array(['transformer.h.3.ln_1.weight', 'transformer.h.3.ln_1.bias',\n",
       "       'transformer.h.3.attn.c_attn.weight',\n",
       "       'transformer.h.3.attn.c_attn.bias',\n",
       "       'transformer.h.3.attn.c_proj.weight',\n",
       "       'transformer.h.3.attn.c_proj.bias', 'transformer.h.3.ln_2.weight',\n",
       "       'transformer.h.3.ln_2.bias', 'transformer.h.3.mlp.c_fc.weight',\n",
       "       'transformer.h.3.mlp.c_fc.bias',\n",
       "       'transformer.h.3.mlp.c_proj.weight',\n",
       "       'transformer.h.3.mlp.c_proj.bias', 'transformer.h.4.ln_1.weight',\n",
       "       'transformer.h.4.ln_1.bias', 'transformer.h.4.attn.c_attn.weight',\n",
       "       'transformer.h.4.attn.c_attn.bias',\n",
       "       'transformer.h.4.attn.c_proj.weight',\n",
       "       'transformer.h.4.attn.c_proj.bias', 'transformer.h.4.ln_2.weight',\n",
       "       'transformer.h.4.ln_2.bias', 'transformer.h.4.mlp.c_fc.weight',\n",
       "       'transformer.h.4.mlp.c_fc.bias',\n",
       "       'transformer.h.4.mlp.c_proj.weight',\n",
       "       'transformer.h.4.mlp.c_proj.bias', 'transformer.h.5.ln_1.weight',\n",
       "       'transformer.h.5.ln_1.bias', 'transformer.h.5.attn.c_attn.weight',\n",
       "       'transformer.h.5.attn.c_attn.bias',\n",
       "       'transformer.h.5.attn.c_proj.weight',\n",
       "       'transformer.h.5.attn.c_proj.bias', 'transformer.h.5.ln_2.weight',\n",
       "       'transformer.h.5.ln_2.bias', 'transformer.h.5.mlp.c_fc.weight',\n",
       "       'transformer.h.5.mlp.c_fc.bias',\n",
       "       'transformer.h.5.mlp.c_proj.weight',\n",
       "       'transformer.h.5.mlp.c_proj.bias'], dtype=object)"
      ]
     },
     "execution_count": 97,
     "metadata": {},
     "output_type": "execute_result"
    }
   ],
   "source": [
    "df.layer.unique()"
   ]
  },
  {
   "cell_type": "code",
   "execution_count": 98,
   "id": "vertical-nation",
   "metadata": {},
   "outputs": [
    {
     "data": {
      "text/plain": [
       "<AxesSubplot:ylabel='Frequency'>"
      ]
     },
     "execution_count": 98,
     "metadata": {},
     "output_type": "execute_result"
    },
    {
     "data": {
      "image/png": "[encoded data removed]",
      "text/plain": [
       "<Figure size 792x360 with 1 Axes>"
      ]
     },
     "metadata": {
      "needs_background": "light"
     },
     "output_type": "display_data"
    }
   ],
   "source": [
    "(\n",
    "    df.loc[df.layer == 'transformer.h.5.ln_2.bias']\n",
    "    .change.plot(kind='hist')\n",
    "    \n",
    ")"
   ]
  },
  {
   "cell_type": "code",
   "execution_count": null,
   "id": "heavy-hardware",
   "metadata": {},
   "outputs": [],
   "source": []
  }
 ],
 "metadata": {
  "kernelspec": {
   "display_name": "Python 3",
   "language": "python",
   "name": "python3"
  },
  "language_info": {
   "codemirror_mode": {
    "name": "ipython",
    "version": 3
   },
   "file_extension": ".py",
   "mimetype": "text/x-python",
   "name": "python",
   "nbconvert_exporter": "python",
   "pygments_lexer": "ipython3",
   "version": "3.7.9"
  }
 },
 "nbformat": 4,
 "nbformat_minor": 5
}
