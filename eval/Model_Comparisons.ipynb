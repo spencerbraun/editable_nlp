{
 "cells": [
  {
   "cell_type": "markdown",
   "id": "helpful-consumer",
   "metadata": {
    "toc": true
   },
   "source": [
    "<h1><span class=\"tocSkip\"></span></h1>\n",
    "<div class=\"toc\"><ul class=\"toc-item\"><li><span><a href=\"#Project-Selected-Model\" data-toc-modified-id=\"Project-Selected-Model-1\"><span class=\"toc-item-num\">1&nbsp;&nbsp;</span>Project Selected Model</a></span></li><li><span><a href=\"#model_epoch0_ts10000.20210314.16.03.1615740151\" data-toc-modified-id=\"model_epoch0_ts10000.20210314.16.03.1615740151-2\"><span class=\"toc-item-num\">2&nbsp;&nbsp;</span>model_epoch0_ts10000.20210314.16.03.1615740151</a></span><ul class=\"toc-item\"><li><span><a href=\"#cedit=1,-cloc=10,-10k-steps\" data-toc-modified-id=\"cedit=1,-cloc=10,-10k-steps-2.1\"><span class=\"toc-item-num\">2.1&nbsp;&nbsp;</span>cedit=1, cloc=10, 10k steps</a></span></li></ul></li><li><span><a href=\"#model_epoch0_ts6000.20210314.16.03.1615740151\" data-toc-modified-id=\"model_epoch0_ts6000.20210314.16.03.1615740151-3\"><span class=\"toc-item-num\">3&nbsp;&nbsp;</span>model_epoch0_ts6000.20210314.16.03.1615740151</a></span><ul class=\"toc-item\"><li><span><a href=\"#cedit=1,-cloc=10,-6k-steps\" data-toc-modified-id=\"cedit=1,-cloc=10,-6k-steps-3.1\"><span class=\"toc-item-num\">3.1&nbsp;&nbsp;</span>cedit=1, cloc=10, 6k steps</a></span></li></ul></li><li><span><a href=\"#model_epoch0_ts18000.20210315.00.03.1615768579\" data-toc-modified-id=\"model_epoch0_ts18000.20210315.00.03.1615768579-4\"><span class=\"toc-item-num\">4&nbsp;&nbsp;</span>model_epoch0_ts18000.20210315.00.03.1615768579</a></span><ul class=\"toc-item\"><li><span><a href=\"#cedit=1,-cloc=10,-18k-steps\" data-toc-modified-id=\"cedit=1,-cloc=10,-18k-steps-4.1\"><span class=\"toc-item-num\">4.1&nbsp;&nbsp;</span>cedit=1, cloc=10, 18k steps</a></span></li></ul></li><li><span><a href=\"#model_epoch0_ts10000.20210314.22.03.1615760445\" data-toc-modified-id=\"model_epoch0_ts10000.20210314.22.03.1615760445-5\"><span class=\"toc-item-num\">5&nbsp;&nbsp;</span>model_epoch0_ts10000.20210314.22.03.1615760445</a></span><ul class=\"toc-item\"><li><span><a href=\"#cedit=1,-cloc=15,-10k-steps\" data-toc-modified-id=\"cedit=1,-cloc=15,-10k-steps-5.1\"><span class=\"toc-item-num\">5.1&nbsp;&nbsp;</span>cedit=1, cloc=15, 10k steps</a></span></li></ul></li><li><span><a href=\"#model_epoch0_ts10000.20210312.21.03.1615586239\" data-toc-modified-id=\"model_epoch0_ts10000.20210312.21.03.1615586239-6\"><span class=\"toc-item-num\">6&nbsp;&nbsp;</span>model_epoch0_ts10000.20210312.21.03.1615586239</a></span><ul class=\"toc-item\"><li><span><a href=\"#cedit=1,-cloc=1,-10k-steps\" data-toc-modified-id=\"cedit=1,-cloc=1,-10k-steps-6.1\"><span class=\"toc-item-num\">6.1&nbsp;&nbsp;</span>cedit=1, cloc=1, 10k steps</a></span></li></ul></li><li><span><a href=\"#Matrix-Norm-Plots\" data-toc-modified-id=\"Matrix-Norm-Plots-7\"><span class=\"toc-item-num\">7&nbsp;&nbsp;</span>Matrix Norm Plots</a></span></li><li><span><a href=\"#Self-Sampled-Model\" data-toc-modified-id=\"Self-Sampled-Model-8\"><span class=\"toc-item-num\">8&nbsp;&nbsp;</span>Self Sampled Model</a></span></li></ul></div>"
   ]
  },
  {
   "cell_type": "code",
   "execution_count": 7,
   "id": "filled-translation",
   "metadata": {},
   "outputs": [],
   "source": [
    "import glob\n",
    "import sys \n",
    "\n",
    "import numpy as np\n",
    "import pandas as pd\n",
    "import torch\n",
    "import torch.nn as nn\n",
    "import torch.nn.functional as F\n",
    "import higher\n",
    "\n",
    "import matplotlib\n",
    "import matplotlib.pyplot as plt\n",
    "%matplotlib inline\n",
    "\n",
    "\n",
    "from IPython.display import display\n",
    "\n",
    "sys.path.append(\"../src\")\n",
    "import utils\n",
    "from evaluate import ModelComps\n",
    "from utils import retrieveDataloader\n",
    "\n",
    "\n",
    "matplotlib.rcParams['figure.figsize'] = (6, 4)"
   ]
  },
  {
   "cell_type": "markdown",
   "id": "eligible-reason",
   "metadata": {},
   "source": [
    "# Project Selected Model"
   ]
  },
  {
   "cell_type": "code",
   "execution_count": 3,
   "id": "commercial-playback",
   "metadata": {},
   "outputs": [
    {
     "name": "stdout",
     "output_type": "stream",
     "text": [
      "Model Parameters:\n"
     ]
    },
    {
     "data": {
      "text/html": [
       "<div>\n",
       "<style scoped>\n",
       "    .dataframe tbody tr th:only-of-type {\n",
       "        vertical-align: middle;\n",
       "    }\n",
       "\n",
       "    .dataframe tbody tr th {\n",
       "        vertical-align: top;\n",
       "    }\n",
       "\n",
       "    .dataframe thead th {\n",
       "        text-align: right;\n",
       "    }\n",
       "</style>\n",
       "<table border=\"1\" class=\"dataframe\">\n",
       "  <thead>\n",
       "    <tr style=\"text-align: right;\">\n",
       "      <th></th>\n",
       "      <th>inner_lr</th>\n",
       "      <th>outer_lr</th>\n",
       "      <th>n_edit_steps</th>\n",
       "      <th>cedit</th>\n",
       "      <th>cloc</th>\n",
       "    </tr>\n",
       "  </thead>\n",
       "  <tbody>\n",
       "    <tr>\n",
       "      <th>0</th>\n",
       "      <td>0.001</td>\n",
       "      <td>0.00001</td>\n",
       "      <td>1.0</td>\n",
       "      <td>1.0</td>\n",
       "      <td>10.0</td>\n",
       "    </tr>\n",
       "  </tbody>\n",
       "</table>\n",
       "</div>"
      ],
      "text/plain": [
       "   inner_lr  outer_lr  n_edit_steps  cedit  cloc\n",
       "0     0.001   0.00001           1.0    1.0  10.0"
      ]
     },
     "metadata": {},
     "output_type": "display_data"
    },
    {
     "name": "stdout",
     "output_type": "stream",
     "text": [
      "Success Metrics\n"
     ]
    },
    {
     "data": {
      "text/html": [
       "<div>\n",
       "<style scoped>\n",
       "    .dataframe tbody tr th:only-of-type {\n",
       "        vertical-align: middle;\n",
       "    }\n",
       "\n",
       "    .dataframe tbody tr th {\n",
       "        vertical-align: top;\n",
       "    }\n",
       "\n",
       "    .dataframe thead th {\n",
       "        text-align: right;\n",
       "    }\n",
       "</style>\n",
       "<table border=\"1\" class=\"dataframe\">\n",
       "  <thead>\n",
       "    <tr style=\"text-align: right;\">\n",
       "      <th></th>\n",
       "      <th>model</th>\n",
       "      <th>edit_steps</th>\n",
       "      <th>mean_new_ppl</th>\n",
       "      <th>mean_orig_ppl</th>\n",
       "      <th>pct_ppl_dd</th>\n",
       "      <th>gross_ppl_dd</th>\n",
       "      <th>new_logits_higher</th>\n",
       "      <th>new_logits_higher05</th>\n",
       "      <th>new_logits_higher10</th>\n",
       "      <th>success_by_probs</th>\n",
       "    </tr>\n",
       "  </thead>\n",
       "  <tbody>\n",
       "    <tr>\n",
       "      <th>2</th>\n",
       "      <td>ots_1616003506</td>\n",
       "      <td>1.0</td>\n",
       "      <td>82.121356</td>\n",
       "      <td>82.141075</td>\n",
       "      <td>-0.024007</td>\n",
       "      <td>-0.019720</td>\n",
       "      <td>71.0</td>\n",
       "      <td>0.0</td>\n",
       "      <td>0.0</td>\n",
       "      <td>0.90</td>\n",
       "    </tr>\n",
       "    <tr>\n",
       "      <th>1</th>\n",
       "      <td>model_1615941304</td>\n",
       "      <td>1.0</td>\n",
       "      <td>61.634670</td>\n",
       "      <td>61.170151</td>\n",
       "      <td>0.759389</td>\n",
       "      <td>0.464520</td>\n",
       "      <td>89.0</td>\n",
       "      <td>70.0</td>\n",
       "      <td>43.0</td>\n",
       "      <td>0.94</td>\n",
       "    </tr>\n",
       "    <tr>\n",
       "      <th>0</th>\n",
       "      <td>base_1616001947</td>\n",
       "      <td>1.0</td>\n",
       "      <td>47.453938</td>\n",
       "      <td>47.421223</td>\n",
       "      <td>0.068989</td>\n",
       "      <td>0.032715</td>\n",
       "      <td>78.0</td>\n",
       "      <td>0.0</td>\n",
       "      <td>0.0</td>\n",
       "      <td>0.93</td>\n",
       "    </tr>\n",
       "  </tbody>\n",
       "</table>\n",
       "</div>"
      ],
      "text/plain": [
       "              model  edit_steps  mean_new_ppl  mean_orig_ppl  pct_ppl_dd  \\\n",
       "2    ots_1616003506         1.0     82.121356      82.141075   -0.024007   \n",
       "1  model_1615941304         1.0     61.634670      61.170151    0.759389   \n",
       "0   base_1616001947         1.0     47.453938      47.421223    0.068989   \n",
       "\n",
       "   gross_ppl_dd  new_logits_higher  new_logits_higher05  new_logits_higher10  \\\n",
       "2     -0.019720               71.0                  0.0                  0.0   \n",
       "1      0.464520               89.0                 70.0                 43.0   \n",
       "0      0.032715               78.0                  0.0                  0.0   \n",
       "\n",
       "   success_by_probs  \n",
       "2              0.90  \n",
       "1              0.94  \n",
       "0              0.93  "
      ]
     },
     "metadata": {},
     "output_type": "display_data"
    }
   ],
   "source": [
    "comps_test = ModelComps(\n",
    "    model_name=\"model_epoch0_ts10000.20210314.16.03.1615740151\",\n",
    "    base_name=\"gpt2_epoch0_ts10000.20210310.18.03.1615401990\",\n",
    "    test=True\n",
    ")\n",
    "\n",
    "comps_test.summary()"
   ]
  },
  {
   "cell_type": "code",
   "execution_count": 4,
   "id": "adult-strain",
   "metadata": {},
   "outputs": [],
   "source": [
    "base = comps_test.models['base_1616001947']\n",
    "ots = comps_test.models['ots_1616003506']\n",
    "edit = comps_test.models['model_1615941304']"
   ]
  },
  {
   "cell_type": "code",
   "execution_count": 5,
   "id": "tough-carry",
   "metadata": {},
   "outputs": [
    {
     "data": {
      "image/png": "[encoded data removed]",
      "text/plain": [
       "<Figure size 792x288 with 1 Axes>"
      ]
     },
     "metadata": {
      "needs_background": "light"
     },
     "output_type": "display_data"
    }
   ],
   "source": [
    "matplotlib.rcParams['figure.figsize'] = (11, 4)\n",
    "\n",
    "plt.hist(\n",
    "    100 * abs(edit.orig_logits - edit.new_logits) / abs(edit.orig_logits), \n",
    "    alpha=0.5, label=\"Editable\", bins=list(range(0,60, 2)))\n",
    "plt.hist(\n",
    "    100 * abs(base.orig_logits - base.new_logits) / abs(base.orig_logits), \n",
    "    alpha=0.5, label=\"DistilGPT2-FT\", bins=list(range(0,60, 2)))\n",
    "plt.hist(\n",
    "    100 * abs(ots.orig_logits - ots.new_logits) / abs(ots.orig_logits), \n",
    "    alpha=0.5, label=\"DistilGPT2\", bins=list(range(0,60, 2)))\n",
    "plt.xlabel(\"Change in Logits (%)\", fontsize='large')\n",
    "plt.legend(fontsize='large')\n",
    "plt.show()"
   ]
  },
  {
   "cell_type": "code",
   "execution_count": 6,
   "id": "perceived-participant",
   "metadata": {},
   "outputs": [
    {
     "name": "stdout",
     "output_type": "stream",
     "text": [
      "Plotting Logits\n",
      "base_1616001947\n"
     ]
    },
    {
     "data": {
      "image/png": "[encoded data removed]",
      "text/plain": [
       "<Figure size 432x288 with 1 Axes>"
      ]
     },
     "metadata": {
      "needs_background": "light"
     },
     "output_type": "display_data"
    },
    {
     "name": "stdout",
     "output_type": "stream",
     "text": [
      "model_1615941304\n"
     ]
    },
    {
     "data": {
      "image/png": "[encoded data removed]",
      "text/plain": [
       "<Figure size 432x288 with 1 Axes>"
      ]
     },
     "metadata": {
      "needs_background": "light"
     },
     "output_type": "display_data"
    },
    {
     "name": "stdout",
     "output_type": "stream",
     "text": [
      "ots_1616003506\n"
     ]
    },
    {
     "data": {
      "image/png": "[encoded data removed]",
      "text/plain": [
       "<Figure size 432x288 with 1 Axes>"
      ]
     },
     "metadata": {
      "needs_background": "light"
     },
     "output_type": "display_data"
    },
    {
     "name": "stdout",
     "output_type": "stream",
     "text": [
      "Plotting % Logit Diffs\n"
     ]
    },
    {
     "data": {
      "image/png": "[encoded data removed]",
      "text/plain": [
       "<Figure size 432x288 with 1 Axes>"
      ]
     },
     "metadata": {
      "needs_background": "light"
     },
     "output_type": "display_data"
    }
   ],
   "source": [
    "matplotlib.rcParams['figure.figsize'] = (6, 4)\n",
    "comps_test.plotter([-600,0])\n"
   ]
  },
  {
   "cell_type": "markdown",
   "id": "welsh-sucking",
   "metadata": {
    "heading_collapsed": true
   },
   "source": [
    "# model_epoch0_ts10000.20210314.16.03.1615740151\n",
    "## cedit=1, cloc=10, 10k steps\n",
    "Notes: Model run morning of 3/14, showed best performance to date."
   ]
  },
  {
   "cell_type": "code",
   "execution_count": 9,
   "id": "sexual-cartoon",
   "metadata": {
    "hidden": true
   },
   "outputs": [
    {
     "name": "stdout",
     "output_type": "stream",
     "text": [
      "Model Parameters:\n"
     ]
    },
    {
     "data": {
      "text/html": [
       "<div>\n",
       "<style scoped>\n",
       "    .dataframe tbody tr th:only-of-type {\n",
       "        vertical-align: middle;\n",
       "    }\n",
       "\n",
       "    .dataframe tbody tr th {\n",
       "        vertical-align: top;\n",
       "    }\n",
       "\n",
       "    .dataframe thead th {\n",
       "        text-align: right;\n",
       "    }\n",
       "</style>\n",
       "<table border=\"1\" class=\"dataframe\">\n",
       "  <thead>\n",
       "    <tr style=\"text-align: right;\">\n",
       "      <th></th>\n",
       "      <th>inner_lr</th>\n",
       "      <th>outer_lr</th>\n",
       "      <th>n_edit_steps</th>\n",
       "      <th>cedit</th>\n",
       "      <th>cloc</th>\n",
       "    </tr>\n",
       "  </thead>\n",
       "  <tbody>\n",
       "    <tr>\n",
       "      <th>0</th>\n",
       "      <td>0.001</td>\n",
       "      <td>0.00001</td>\n",
       "      <td>1.0</td>\n",
       "      <td>1.0</td>\n",
       "      <td>10.0</td>\n",
       "    </tr>\n",
       "  </tbody>\n",
       "</table>\n",
       "</div>"
      ],
      "text/plain": [
       "   inner_lr  outer_lr  n_edit_steps  cedit  cloc\n",
       "0     0.001   0.00001           1.0    1.0  10.0"
      ]
     },
     "metadata": {},
     "output_type": "display_data"
    },
    {
     "name": "stdout",
     "output_type": "stream",
     "text": [
      "Success Metrics\n"
     ]
    },
    {
     "data": {
      "text/html": [
       "<div>\n",
       "<style scoped>\n",
       "    .dataframe tbody tr th:only-of-type {\n",
       "        vertical-align: middle;\n",
       "    }\n",
       "\n",
       "    .dataframe tbody tr th {\n",
       "        vertical-align: top;\n",
       "    }\n",
       "\n",
       "    .dataframe thead th {\n",
       "        text-align: right;\n",
       "    }\n",
       "</style>\n",
       "<table border=\"1\" class=\"dataframe\">\n",
       "  <thead>\n",
       "    <tr style=\"text-align: right;\">\n",
       "      <th></th>\n",
       "      <th>model</th>\n",
       "      <th>edit_steps</th>\n",
       "      <th>mean_new_ppl</th>\n",
       "      <th>mean_orig_ppl</th>\n",
       "      <th>pct_ppl_dd</th>\n",
       "      <th>gross_ppl_dd</th>\n",
       "      <th>new_logits_higher</th>\n",
       "      <th>new_logits_higher05</th>\n",
       "      <th>new_logits_higher10</th>\n",
       "      <th>success_by_probs</th>\n",
       "    </tr>\n",
       "  </thead>\n",
       "  <tbody>\n",
       "    <tr>\n",
       "      <th>7</th>\n",
       "      <td>ots_1615826715</td>\n",
       "      <td>5.0</td>\n",
       "      <td>92.249127</td>\n",
       "      <td>90.703072</td>\n",
       "      <td>1.704523</td>\n",
       "      <td>1.546055</td>\n",
       "      <td>0.72</td>\n",
       "      <td>0.16</td>\n",
       "      <td>0.04</td>\n",
       "      <td>0.86</td>\n",
       "    </tr>\n",
       "    <tr>\n",
       "      <th>8</th>\n",
       "      <td>ots_1615826291</td>\n",
       "      <td>3.0</td>\n",
       "      <td>91.357340</td>\n",
       "      <td>90.703072</td>\n",
       "      <td>0.721330</td>\n",
       "      <td>0.654268</td>\n",
       "      <td>0.78</td>\n",
       "      <td>0.08</td>\n",
       "      <td>0.02</td>\n",
       "      <td>0.86</td>\n",
       "    </tr>\n",
       "    <tr>\n",
       "      <th>6</th>\n",
       "      <td>ots_1615825880</td>\n",
       "      <td>1.0</td>\n",
       "      <td>90.831759</td>\n",
       "      <td>90.703072</td>\n",
       "      <td>0.141878</td>\n",
       "      <td>0.128688</td>\n",
       "      <td>0.80</td>\n",
       "      <td>0.00</td>\n",
       "      <td>0.00</td>\n",
       "      <td>0.86</td>\n",
       "    </tr>\n",
       "    <tr>\n",
       "      <th>3</th>\n",
       "      <td>model_1615825376</td>\n",
       "      <td>5.0</td>\n",
       "      <td>89.211466</td>\n",
       "      <td>77.696777</td>\n",
       "      <td>14.820034</td>\n",
       "      <td>11.514689</td>\n",
       "      <td>0.82</td>\n",
       "      <td>0.58</td>\n",
       "      <td>0.46</td>\n",
       "      <td>0.92</td>\n",
       "    </tr>\n",
       "    <tr>\n",
       "      <th>4</th>\n",
       "      <td>model_1615822571</td>\n",
       "      <td>3.0</td>\n",
       "      <td>84.700869</td>\n",
       "      <td>77.696777</td>\n",
       "      <td>9.014649</td>\n",
       "      <td>7.004092</td>\n",
       "      <td>0.82</td>\n",
       "      <td>0.58</td>\n",
       "      <td>0.42</td>\n",
       "      <td>0.94</td>\n",
       "    </tr>\n",
       "    <tr>\n",
       "      <th>5</th>\n",
       "      <td>model_1615822038</td>\n",
       "      <td>1.0</td>\n",
       "      <td>78.251560</td>\n",
       "      <td>77.696777</td>\n",
       "      <td>0.714036</td>\n",
       "      <td>0.554783</td>\n",
       "      <td>0.84</td>\n",
       "      <td>0.56</td>\n",
       "      <td>0.40</td>\n",
       "      <td>0.92</td>\n",
       "    </tr>\n",
       "    <tr>\n",
       "      <th>2</th>\n",
       "      <td>base_1615828169</td>\n",
       "      <td>5.0</td>\n",
       "      <td>50.140138</td>\n",
       "      <td>49.353867</td>\n",
       "      <td>1.593129</td>\n",
       "      <td>0.786271</td>\n",
       "      <td>0.82</td>\n",
       "      <td>0.16</td>\n",
       "      <td>0.04</td>\n",
       "      <td>0.88</td>\n",
       "    </tr>\n",
       "    <tr>\n",
       "      <th>1</th>\n",
       "      <td>base_1615827722</td>\n",
       "      <td>3.0</td>\n",
       "      <td>49.605848</td>\n",
       "      <td>49.353867</td>\n",
       "      <td>0.510561</td>\n",
       "      <td>0.251981</td>\n",
       "      <td>0.84</td>\n",
       "      <td>0.08</td>\n",
       "      <td>0.00</td>\n",
       "      <td>0.88</td>\n",
       "    </tr>\n",
       "    <tr>\n",
       "      <th>0</th>\n",
       "      <td>base_1615827264</td>\n",
       "      <td>1.0</td>\n",
       "      <td>49.365100</td>\n",
       "      <td>49.353867</td>\n",
       "      <td>0.022761</td>\n",
       "      <td>0.011233</td>\n",
       "      <td>0.82</td>\n",
       "      <td>0.00</td>\n",
       "      <td>0.00</td>\n",
       "      <td>0.92</td>\n",
       "    </tr>\n",
       "  </tbody>\n",
       "</table>\n",
       "</div>"
      ],
      "text/plain": [
       "              model  edit_steps  mean_new_ppl  mean_orig_ppl  pct_ppl_dd  \\\n",
       "7    ots_1615826715         5.0     92.249127      90.703072    1.704523   \n",
       "8    ots_1615826291         3.0     91.357340      90.703072    0.721330   \n",
       "6    ots_1615825880         1.0     90.831759      90.703072    0.141878   \n",
       "3  model_1615825376         5.0     89.211466      77.696777   14.820034   \n",
       "4  model_1615822571         3.0     84.700869      77.696777    9.014649   \n",
       "5  model_1615822038         1.0     78.251560      77.696777    0.714036   \n",
       "2   base_1615828169         5.0     50.140138      49.353867    1.593129   \n",
       "1   base_1615827722         3.0     49.605848      49.353867    0.510561   \n",
       "0   base_1615827264         1.0     49.365100      49.353867    0.022761   \n",
       "\n",
       "   gross_ppl_dd  new_logits_higher  new_logits_higher05  new_logits_higher10  \\\n",
       "7      1.546055               0.72                 0.16                 0.04   \n",
       "8      0.654268               0.78                 0.08                 0.02   \n",
       "6      0.128688               0.80                 0.00                 0.00   \n",
       "3     11.514689               0.82                 0.58                 0.46   \n",
       "4      7.004092               0.82                 0.58                 0.42   \n",
       "5      0.554783               0.84                 0.56                 0.40   \n",
       "2      0.786271               0.82                 0.16                 0.04   \n",
       "1      0.251981               0.84                 0.08                 0.00   \n",
       "0      0.011233               0.82                 0.00                 0.00   \n",
       "\n",
       "   success_by_probs  \n",
       "7              0.86  \n",
       "8              0.86  \n",
       "6              0.86  \n",
       "3              0.92  \n",
       "4              0.94  \n",
       "5              0.92  \n",
       "2              0.88  \n",
       "1              0.88  \n",
       "0              0.92  "
      ]
     },
     "metadata": {},
     "output_type": "display_data"
    }
   ],
   "source": [
    "comps = ModelComps(\n",
    "    model_name=\"model_epoch0_ts10000.20210314.16.03.1615740151\",\n",
    "    base_name=\"gpt2_epoch0_ts10000.20210310.18.03.1615401990\",\n",
    "    archive=False\n",
    ")\n",
    "\n",
    "comps.summary()"
   ]
  },
  {
   "cell_type": "code",
   "execution_count": 14,
   "id": "fiscal-criterion",
   "metadata": {
    "hidden": true,
    "scrolled": true
   },
   "outputs": [
    {
     "name": "stdout",
     "output_type": "stream",
     "text": [
      "Plotting Logits\n",
      "base_1615827264\n"
     ]
    },
    {
     "data": {
      "image/png": "[encoded data removed]",
      "text/plain": [
       "<Figure size 432x288 with 1 Axes>"
      ]
     },
     "metadata": {
      "needs_background": "light"
     },
     "output_type": "display_data"
    },
    {
     "name": "stdout",
     "output_type": "stream",
     "text": [
      "base_1615827722\n"
     ]
    },
    {
     "data": {
      "image/png": "[encoded data removed]",
      "text/plain": [
       "<Figure size 432x288 with 1 Axes>"
      ]
     },
     "metadata": {
      "needs_background": "light"
     },
     "output_type": "display_data"
    },
    {
     "name": "stdout",
     "output_type": "stream",
     "text": [
      "base_1615828169\n"
     ]
    },
    {
     "data": {
      "image/png": "[encoded data removed]",
      "text/plain": [
       "<Figure size 432x288 with 1 Axes>"
      ]
     },
     "metadata": {
      "needs_background": "light"
     },
     "output_type": "display_data"
    },
    {
     "name": "stdout",
     "output_type": "stream",
     "text": [
      "model_1615825376\n"
     ]
    },
    {
     "data": {
      "image/png": "[encoded data removed]",
      "text/plain": [
       "<Figure size 432x288 with 1 Axes>"
      ]
     },
     "metadata": {
      "needs_background": "light"
     },
     "output_type": "display_data"
    },
    {
     "name": "stdout",
     "output_type": "stream",
     "text": [
      "model_1615822571\n"
     ]
    },
    {
     "data": {
      "image/png": "[encoded data removed]",
      "text/plain": [
       "<Figure size 432x288 with 1 Axes>"
      ]
     },
     "metadata": {
      "needs_background": "light"
     },
     "output_type": "display_data"
    },
    {
     "name": "stdout",
     "output_type": "stream",
     "text": [
      "model_1615822038\n"
     ]
    },
    {
     "data": {
      "image/png": "[encoded data removed]",
      "text/plain": [
       "<Figure size 432x288 with 1 Axes>"
      ]
     },
     "metadata": {
      "needs_background": "light"
     },
     "output_type": "display_data"
    },
    {
     "name": "stdout",
     "output_type": "stream",
     "text": [
      "ots_1615825880\n"
     ]
    },
    {
     "data": {
      "image/png": "[encoded data removed]",
      "text/plain": [
       "<Figure size 432x288 with 1 Axes>"
      ]
     },
     "metadata": {
      "needs_background": "light"
     },
     "output_type": "display_data"
    },
    {
     "name": "stdout",
     "output_type": "stream",
     "text": [
      "ots_1615826715\n"
     ]
    },
    {
     "data": {
      "image/png": "[encoded data removed]",
      "text/plain": [
       "<Figure size 432x288 with 1 Axes>"
      ]
     },
     "metadata": {
      "needs_background": "light"
     },
     "output_type": "display_data"
    },
    {
     "name": "stdout",
     "output_type": "stream",
     "text": [
      "ots_1615826291\n"
     ]
    },
    {
     "data": {
      "image/png": "[encoded data removed]",
      "text/plain": [
       "<Figure size 432x288 with 1 Axes>"
      ]
     },
     "metadata": {
      "needs_background": "light"
     },
     "output_type": "display_data"
    },
    {
     "name": "stdout",
     "output_type": "stream",
     "text": [
      "Plotting % Logit Diffs\n"
     ]
    },
    {
     "data": {
      "image/png": "[encoded data removed]",
      "text/plain": [
       "<Figure size 432x288 with 1 Axes>"
      ]
     },
     "metadata": {
      "needs_background": "light"
     },
     "output_type": "display_data"
    }
   ],
   "source": [
    "comps.plotter()"
   ]
  },
  {
   "cell_type": "markdown",
   "id": "finite-sense",
   "metadata": {
    "heading_collapsed": true
   },
   "source": [
    "# model_epoch0_ts6000.20210314.16.03.1615740151\n",
    "## cedit=1, cloc=10, 6k steps\n",
    "Notes: same model, checking to see if evaluating an earlier checkpoint might be better. Tried with a number of checkpoints, generally worse"
   ]
  },
  {
   "cell_type": "code",
   "execution_count": 50,
   "id": "narrow-douglas",
   "metadata": {
    "hidden": true
   },
   "outputs": [
    {
     "name": "stdout",
     "output_type": "stream",
     "text": [
      "Model Parameters:\n"
     ]
    },
    {
     "data": {
      "text/html": [
       "<div>\n",
       "<style scoped>\n",
       "    .dataframe tbody tr th:only-of-type {\n",
       "        vertical-align: middle;\n",
       "    }\n",
       "\n",
       "    .dataframe tbody tr th {\n",
       "        vertical-align: top;\n",
       "    }\n",
       "\n",
       "    .dataframe thead th {\n",
       "        text-align: right;\n",
       "    }\n",
       "</style>\n",
       "<table border=\"1\" class=\"dataframe\">\n",
       "  <thead>\n",
       "    <tr style=\"text-align: right;\">\n",
       "      <th></th>\n",
       "      <th>inner_lr</th>\n",
       "      <th>outer_lr</th>\n",
       "      <th>n_edit_steps</th>\n",
       "      <th>cedit</th>\n",
       "      <th>cloc</th>\n",
       "    </tr>\n",
       "  </thead>\n",
       "  <tbody>\n",
       "    <tr>\n",
       "      <th>0</th>\n",
       "      <td>0.001</td>\n",
       "      <td>0.00001</td>\n",
       "      <td>1.0</td>\n",
       "      <td>1.0</td>\n",
       "      <td>10.0</td>\n",
       "    </tr>\n",
       "  </tbody>\n",
       "</table>\n",
       "</div>"
      ],
      "text/plain": [
       "   inner_lr  outer_lr  n_edit_steps  cedit  cloc\n",
       "0     0.001   0.00001           1.0    1.0  10.0"
      ]
     },
     "metadata": {},
     "output_type": "display_data"
    },
    {
     "name": "stdout",
     "output_type": "stream",
     "text": [
      "Success Metrics\n"
     ]
    },
    {
     "data": {
      "text/html": [
       "<div>\n",
       "<style scoped>\n",
       "    .dataframe tbody tr th:only-of-type {\n",
       "        vertical-align: middle;\n",
       "    }\n",
       "\n",
       "    .dataframe tbody tr th {\n",
       "        vertical-align: top;\n",
       "    }\n",
       "\n",
       "    .dataframe thead th {\n",
       "        text-align: right;\n",
       "    }\n",
       "</style>\n",
       "<table border=\"1\" class=\"dataframe\">\n",
       "  <thead>\n",
       "    <tr style=\"text-align: right;\">\n",
       "      <th></th>\n",
       "      <th>model</th>\n",
       "      <th>edit_steps</th>\n",
       "      <th>mean_new_ppl</th>\n",
       "      <th>mean_orig_ppl</th>\n",
       "      <th>pct_ppl_dd</th>\n",
       "      <th>gross_ppl_dd</th>\n",
       "      <th>new_logits_higher</th>\n",
       "      <th>new_logits_higher05</th>\n",
       "      <th>new_logits_higher10</th>\n",
       "      <th>success_by_probs</th>\n",
       "    </tr>\n",
       "  </thead>\n",
       "  <tbody>\n",
       "    <tr>\n",
       "      <th>7</th>\n",
       "      <td>ots_1615826715</td>\n",
       "      <td>5.0</td>\n",
       "      <td>92.249127</td>\n",
       "      <td>90.703072</td>\n",
       "      <td>1.704523</td>\n",
       "      <td>1.546055</td>\n",
       "      <td>0.72</td>\n",
       "      <td>0.16</td>\n",
       "      <td>0.04</td>\n",
       "      <td>0.86</td>\n",
       "    </tr>\n",
       "    <tr>\n",
       "      <th>8</th>\n",
       "      <td>ots_1615826291</td>\n",
       "      <td>3.0</td>\n",
       "      <td>91.357340</td>\n",
       "      <td>90.703072</td>\n",
       "      <td>0.721330</td>\n",
       "      <td>0.654268</td>\n",
       "      <td>0.78</td>\n",
       "      <td>0.08</td>\n",
       "      <td>0.02</td>\n",
       "      <td>0.86</td>\n",
       "    </tr>\n",
       "    <tr>\n",
       "      <th>6</th>\n",
       "      <td>ots_1615825880</td>\n",
       "      <td>1.0</td>\n",
       "      <td>90.831759</td>\n",
       "      <td>90.703072</td>\n",
       "      <td>0.141878</td>\n",
       "      <td>0.128688</td>\n",
       "      <td>0.80</td>\n",
       "      <td>0.00</td>\n",
       "      <td>0.00</td>\n",
       "      <td>0.86</td>\n",
       "    </tr>\n",
       "    <tr>\n",
       "      <th>3</th>\n",
       "      <td>model_1615835384</td>\n",
       "      <td>5.0</td>\n",
       "      <td>103.998292</td>\n",
       "      <td>85.292526</td>\n",
       "      <td>21.931307</td>\n",
       "      <td>18.705765</td>\n",
       "      <td>0.86</td>\n",
       "      <td>0.70</td>\n",
       "      <td>0.52</td>\n",
       "      <td>0.90</td>\n",
       "    </tr>\n",
       "    <tr>\n",
       "      <th>4</th>\n",
       "      <td>model_1615834972</td>\n",
       "      <td>3.0</td>\n",
       "      <td>102.605914</td>\n",
       "      <td>85.292526</td>\n",
       "      <td>20.298834</td>\n",
       "      <td>17.313388</td>\n",
       "      <td>0.80</td>\n",
       "      <td>0.64</td>\n",
       "      <td>0.50</td>\n",
       "      <td>0.92</td>\n",
       "    </tr>\n",
       "    <tr>\n",
       "      <th>5</th>\n",
       "      <td>model_1615834590</td>\n",
       "      <td>1.0</td>\n",
       "      <td>85.984239</td>\n",
       "      <td>85.292526</td>\n",
       "      <td>0.810988</td>\n",
       "      <td>0.691712</td>\n",
       "      <td>0.88</td>\n",
       "      <td>0.64</td>\n",
       "      <td>0.36</td>\n",
       "      <td>0.94</td>\n",
       "    </tr>\n",
       "    <tr>\n",
       "      <th>2</th>\n",
       "      <td>base_1615828169</td>\n",
       "      <td>5.0</td>\n",
       "      <td>50.140138</td>\n",
       "      <td>49.353867</td>\n",
       "      <td>1.593129</td>\n",
       "      <td>0.786271</td>\n",
       "      <td>0.82</td>\n",
       "      <td>0.16</td>\n",
       "      <td>0.04</td>\n",
       "      <td>0.88</td>\n",
       "    </tr>\n",
       "    <tr>\n",
       "      <th>1</th>\n",
       "      <td>base_1615827722</td>\n",
       "      <td>3.0</td>\n",
       "      <td>49.605848</td>\n",
       "      <td>49.353867</td>\n",
       "      <td>0.510561</td>\n",
       "      <td>0.251981</td>\n",
       "      <td>0.84</td>\n",
       "      <td>0.08</td>\n",
       "      <td>0.00</td>\n",
       "      <td>0.88</td>\n",
       "    </tr>\n",
       "    <tr>\n",
       "      <th>0</th>\n",
       "      <td>base_1615827264</td>\n",
       "      <td>1.0</td>\n",
       "      <td>49.365100</td>\n",
       "      <td>49.353867</td>\n",
       "      <td>0.022761</td>\n",
       "      <td>0.011233</td>\n",
       "      <td>0.82</td>\n",
       "      <td>0.00</td>\n",
       "      <td>0.00</td>\n",
       "      <td>0.92</td>\n",
       "    </tr>\n",
       "  </tbody>\n",
       "</table>\n",
       "</div>"
      ],
      "text/plain": [
       "              model  edit_steps  mean_new_ppl  mean_orig_ppl  pct_ppl_dd  \\\n",
       "7    ots_1615826715         5.0     92.249127      90.703072    1.704523   \n",
       "8    ots_1615826291         3.0     91.357340      90.703072    0.721330   \n",
       "6    ots_1615825880         1.0     90.831759      90.703072    0.141878   \n",
       "3  model_1615835384         5.0    103.998292      85.292526   21.931307   \n",
       "4  model_1615834972         3.0    102.605914      85.292526   20.298834   \n",
       "5  model_1615834590         1.0     85.984239      85.292526    0.810988   \n",
       "2   base_1615828169         5.0     50.140138      49.353867    1.593129   \n",
       "1   base_1615827722         3.0     49.605848      49.353867    0.510561   \n",
       "0   base_1615827264         1.0     49.365100      49.353867    0.022761   \n",
       "\n",
       "   gross_ppl_dd  new_logits_higher  new_logits_higher05  new_logits_higher10  \\\n",
       "7      1.546055               0.72                 0.16                 0.04   \n",
       "8      0.654268               0.78                 0.08                 0.02   \n",
       "6      0.128688               0.80                 0.00                 0.00   \n",
       "3     18.705765               0.86                 0.70                 0.52   \n",
       "4     17.313388               0.80                 0.64                 0.50   \n",
       "5      0.691712               0.88                 0.64                 0.36   \n",
       "2      0.786271               0.82                 0.16                 0.04   \n",
       "1      0.251981               0.84                 0.08                 0.00   \n",
       "0      0.011233               0.82                 0.00                 0.00   \n",
       "\n",
       "   success_by_probs  \n",
       "7              0.86  \n",
       "8              0.86  \n",
       "6              0.86  \n",
       "3              0.90  \n",
       "4              0.92  \n",
       "5              0.94  \n",
       "2              0.88  \n",
       "1              0.88  \n",
       "0              0.92  "
      ]
     },
     "metadata": {},
     "output_type": "display_data"
    }
   ],
   "source": [
    "comps1 = ModelComps(\n",
    "    model_name=\"model_epoch0_ts6000.20210314.16.03.1615740151\",\n",
    "    base_name=\"gpt2_epoch0_ts10000.20210310.18.03.1615401990\",\n",
    "    archive=False\n",
    ")\n",
    "\n",
    "comps1.summary()"
   ]
  },
  {
   "cell_type": "markdown",
   "id": "sonic-apollo",
   "metadata": {
    "heading_collapsed": true
   },
   "source": [
    "# model_epoch0_ts18000.20210315.00.03.1615768579\n",
    "## cedit=1, cloc=10, 18k steps\n",
    "Notes: Tried running model for many more steps to see if additional performance could be gained"
   ]
  },
  {
   "cell_type": "code",
   "execution_count": 51,
   "id": "electronic-impossible",
   "metadata": {
    "hidden": true
   },
   "outputs": [
    {
     "name": "stdout",
     "output_type": "stream",
     "text": [
      "Model Parameters:\n"
     ]
    },
    {
     "data": {
      "text/html": [
       "<div>\n",
       "<style scoped>\n",
       "    .dataframe tbody tr th:only-of-type {\n",
       "        vertical-align: middle;\n",
       "    }\n",
       "\n",
       "    .dataframe tbody tr th {\n",
       "        vertical-align: top;\n",
       "    }\n",
       "\n",
       "    .dataframe thead th {\n",
       "        text-align: right;\n",
       "    }\n",
       "</style>\n",
       "<table border=\"1\" class=\"dataframe\">\n",
       "  <thead>\n",
       "    <tr style=\"text-align: right;\">\n",
       "      <th></th>\n",
       "      <th>inner_lr</th>\n",
       "      <th>outer_lr</th>\n",
       "      <th>n_edit_steps</th>\n",
       "      <th>cedit</th>\n",
       "      <th>cloc</th>\n",
       "    </tr>\n",
       "  </thead>\n",
       "  <tbody>\n",
       "    <tr>\n",
       "      <th>0</th>\n",
       "      <td>0.001</td>\n",
       "      <td>0.00001</td>\n",
       "      <td>1.0</td>\n",
       "      <td>1.0</td>\n",
       "      <td>10.0</td>\n",
       "    </tr>\n",
       "  </tbody>\n",
       "</table>\n",
       "</div>"
      ],
      "text/plain": [
       "   inner_lr  outer_lr  n_edit_steps  cedit  cloc\n",
       "0     0.001   0.00001           1.0    1.0  10.0"
      ]
     },
     "metadata": {},
     "output_type": "display_data"
    },
    {
     "name": "stdout",
     "output_type": "stream",
     "text": [
      "Success Metrics\n"
     ]
    },
    {
     "data": {
      "text/html": [
       "<div>\n",
       "<style scoped>\n",
       "    .dataframe tbody tr th:only-of-type {\n",
       "        vertical-align: middle;\n",
       "    }\n",
       "\n",
       "    .dataframe tbody tr th {\n",
       "        vertical-align: top;\n",
       "    }\n",
       "\n",
       "    .dataframe thead th {\n",
       "        text-align: right;\n",
       "    }\n",
       "</style>\n",
       "<table border=\"1\" class=\"dataframe\">\n",
       "  <thead>\n",
       "    <tr style=\"text-align: right;\">\n",
       "      <th></th>\n",
       "      <th>model</th>\n",
       "      <th>edit_steps</th>\n",
       "      <th>mean_new_ppl</th>\n",
       "      <th>mean_orig_ppl</th>\n",
       "      <th>pct_ppl_dd</th>\n",
       "      <th>gross_ppl_dd</th>\n",
       "      <th>new_logits_higher</th>\n",
       "      <th>new_logits_higher05</th>\n",
       "      <th>new_logits_higher10</th>\n",
       "      <th>success_by_probs</th>\n",
       "    </tr>\n",
       "  </thead>\n",
       "  <tbody>\n",
       "    <tr>\n",
       "      <th>7</th>\n",
       "      <td>ots_1615826715</td>\n",
       "      <td>5.0</td>\n",
       "      <td>92.249127</td>\n",
       "      <td>90.703072</td>\n",
       "      <td>1.704523</td>\n",
       "      <td>1.546055</td>\n",
       "      <td>0.72</td>\n",
       "      <td>0.16</td>\n",
       "      <td>0.04</td>\n",
       "      <td>0.86</td>\n",
       "    </tr>\n",
       "    <tr>\n",
       "      <th>8</th>\n",
       "      <td>ots_1615826291</td>\n",
       "      <td>3.0</td>\n",
       "      <td>91.357340</td>\n",
       "      <td>90.703072</td>\n",
       "      <td>0.721330</td>\n",
       "      <td>0.654268</td>\n",
       "      <td>0.78</td>\n",
       "      <td>0.08</td>\n",
       "      <td>0.02</td>\n",
       "      <td>0.86</td>\n",
       "    </tr>\n",
       "    <tr>\n",
       "      <th>6</th>\n",
       "      <td>ots_1615825880</td>\n",
       "      <td>1.0</td>\n",
       "      <td>90.831759</td>\n",
       "      <td>90.703072</td>\n",
       "      <td>0.141878</td>\n",
       "      <td>0.128688</td>\n",
       "      <td>0.80</td>\n",
       "      <td>0.00</td>\n",
       "      <td>0.00</td>\n",
       "      <td>0.86</td>\n",
       "    </tr>\n",
       "    <tr>\n",
       "      <th>5</th>\n",
       "      <td>model_1615829457</td>\n",
       "      <td>5.0</td>\n",
       "      <td>87.205313</td>\n",
       "      <td>75.677681</td>\n",
       "      <td>15.232539</td>\n",
       "      <td>11.527632</td>\n",
       "      <td>0.68</td>\n",
       "      <td>0.60</td>\n",
       "      <td>0.46</td>\n",
       "      <td>0.92</td>\n",
       "    </tr>\n",
       "    <tr>\n",
       "      <th>3</th>\n",
       "      <td>model_1615829048</td>\n",
       "      <td>3.0</td>\n",
       "      <td>83.930170</td>\n",
       "      <td>75.677681</td>\n",
       "      <td>10.904785</td>\n",
       "      <td>8.252489</td>\n",
       "      <td>0.64</td>\n",
       "      <td>0.50</td>\n",
       "      <td>0.36</td>\n",
       "      <td>0.94</td>\n",
       "    </tr>\n",
       "    <tr>\n",
       "      <th>4</th>\n",
       "      <td>model_1615828661</td>\n",
       "      <td>1.0</td>\n",
       "      <td>76.592660</td>\n",
       "      <td>75.677681</td>\n",
       "      <td>1.209047</td>\n",
       "      <td>0.914979</td>\n",
       "      <td>0.66</td>\n",
       "      <td>0.52</td>\n",
       "      <td>0.40</td>\n",
       "      <td>0.94</td>\n",
       "    </tr>\n",
       "    <tr>\n",
       "      <th>2</th>\n",
       "      <td>base_1615828169</td>\n",
       "      <td>5.0</td>\n",
       "      <td>50.140138</td>\n",
       "      <td>49.353867</td>\n",
       "      <td>1.593129</td>\n",
       "      <td>0.786271</td>\n",
       "      <td>0.82</td>\n",
       "      <td>0.16</td>\n",
       "      <td>0.04</td>\n",
       "      <td>0.88</td>\n",
       "    </tr>\n",
       "    <tr>\n",
       "      <th>1</th>\n",
       "      <td>base_1615827722</td>\n",
       "      <td>3.0</td>\n",
       "      <td>49.605848</td>\n",
       "      <td>49.353867</td>\n",
       "      <td>0.510561</td>\n",
       "      <td>0.251981</td>\n",
       "      <td>0.84</td>\n",
       "      <td>0.08</td>\n",
       "      <td>0.00</td>\n",
       "      <td>0.88</td>\n",
       "    </tr>\n",
       "    <tr>\n",
       "      <th>0</th>\n",
       "      <td>base_1615827264</td>\n",
       "      <td>1.0</td>\n",
       "      <td>49.365100</td>\n",
       "      <td>49.353867</td>\n",
       "      <td>0.022761</td>\n",
       "      <td>0.011233</td>\n",
       "      <td>0.82</td>\n",
       "      <td>0.00</td>\n",
       "      <td>0.00</td>\n",
       "      <td>0.92</td>\n",
       "    </tr>\n",
       "  </tbody>\n",
       "</table>\n",
       "</div>"
      ],
      "text/plain": [
       "              model  edit_steps  mean_new_ppl  mean_orig_ppl  pct_ppl_dd  \\\n",
       "7    ots_1615826715         5.0     92.249127      90.703072    1.704523   \n",
       "8    ots_1615826291         3.0     91.357340      90.703072    0.721330   \n",
       "6    ots_1615825880         1.0     90.831759      90.703072    0.141878   \n",
       "5  model_1615829457         5.0     87.205313      75.677681   15.232539   \n",
       "3  model_1615829048         3.0     83.930170      75.677681   10.904785   \n",
       "4  model_1615828661         1.0     76.592660      75.677681    1.209047   \n",
       "2   base_1615828169         5.0     50.140138      49.353867    1.593129   \n",
       "1   base_1615827722         3.0     49.605848      49.353867    0.510561   \n",
       "0   base_1615827264         1.0     49.365100      49.353867    0.022761   \n",
       "\n",
       "   gross_ppl_dd  new_logits_higher  new_logits_higher05  new_logits_higher10  \\\n",
       "7      1.546055               0.72                 0.16                 0.04   \n",
       "8      0.654268               0.78                 0.08                 0.02   \n",
       "6      0.128688               0.80                 0.00                 0.00   \n",
       "5     11.527632               0.68                 0.60                 0.46   \n",
       "3      8.252489               0.64                 0.50                 0.36   \n",
       "4      0.914979               0.66                 0.52                 0.40   \n",
       "2      0.786271               0.82                 0.16                 0.04   \n",
       "1      0.251981               0.84                 0.08                 0.00   \n",
       "0      0.011233               0.82                 0.00                 0.00   \n",
       "\n",
       "   success_by_probs  \n",
       "7              0.86  \n",
       "8              0.86  \n",
       "6              0.86  \n",
       "5              0.92  \n",
       "3              0.94  \n",
       "4              0.94  \n",
       "2              0.88  \n",
       "1              0.88  \n",
       "0              0.92  "
      ]
     },
     "metadata": {},
     "output_type": "display_data"
    }
   ],
   "source": [
    "comps2 = ModelComps(\n",
    "    model_name=\"model_epoch0_ts18000.20210315.00.03.1615768579\",\n",
    "    base_name=\"gpt2_epoch0_ts10000.20210310.18.03.1615401990\",\n",
    "    archive=False\n",
    ")\n",
    "\n",
    "comps2.summary()"
   ]
  },
  {
   "cell_type": "code",
   "execution_count": 52,
   "id": "optimum-tracker",
   "metadata": {
    "hidden": true
   },
   "outputs": [
    {
     "name": "stdout",
     "output_type": "stream",
     "text": [
      "Plotting Logits\n",
      "base_1615827264\n"
     ]
    },
    {
     "data": {
      "image/png": "[encoded data removed]",
      "text/plain": [
       "<Figure size 432x288 with 1 Axes>"
      ]
     },
     "metadata": {
      "needs_background": "light"
     },
     "output_type": "display_data"
    },
    {
     "name": "stdout",
     "output_type": "stream",
     "text": [
      "base_1615827722\n"
     ]
    },
    {
     "data": {
      "image/png": "[encoded data removed]",
      "text/plain": [
       "<Figure size 432x288 with 1 Axes>"
      ]
     },
     "metadata": {
      "needs_background": "light"
     },
     "output_type": "display_data"
    },
    {
     "name": "stdout",
     "output_type": "stream",
     "text": [
      "base_1615828169\n"
     ]
    },
    {
     "data": {
      "image/png": "[encoded data removed]",
      "text/plain": [
       "<Figure size 432x288 with 1 Axes>"
      ]
     },
     "metadata": {
      "needs_background": "light"
     },
     "output_type": "display_data"
    },
    {
     "name": "stdout",
     "output_type": "stream",
     "text": [
      "model_1615829048\n"
     ]
    },
    {
     "data": {
      "image/png": "[encoded data removed]",
      "text/plain": [
       "<Figure size 432x288 with 1 Axes>"
      ]
     },
     "metadata": {
      "needs_background": "light"
     },
     "output_type": "display_data"
    },
    {
     "name": "stdout",
     "output_type": "stream",
     "text": [
      "model_1615828661\n"
     ]
    },
    {
     "data": {
      "image/png": "[encoded data removed]",
      "text/plain": [
       "<Figure size 432x288 with 1 Axes>"
      ]
     },
     "metadata": {
      "needs_background": "light"
     },
     "output_type": "display_data"
    },
    {
     "name": "stdout",
     "output_type": "stream",
     "text": [
      "model_1615829457\n"
     ]
    },
    {
     "data": {
      "image/png": "[encoded data removed]",
      "text/plain": [
       "<Figure size 432x288 with 1 Axes>"
      ]
     },
     "metadata": {
      "needs_background": "light"
     },
     "output_type": "display_data"
    },
    {
     "name": "stdout",
     "output_type": "stream",
     "text": [
      "ots_1615825880\n"
     ]
    },
    {
     "data": {
      "image/png": "[encoded data removed]",
      "text/plain": [
       "<Figure size 432x288 with 1 Axes>"
      ]
     },
     "metadata": {
      "needs_background": "light"
     },
     "output_type": "display_data"
    },
    {
     "name": "stdout",
     "output_type": "stream",
     "text": [
      "ots_1615826715\n"
     ]
    },
    {
     "data": {
      "image/png": "[encoded data removed]",
      "text/plain": [
       "<Figure size 432x288 with 1 Axes>"
      ]
     },
     "metadata": {
      "needs_background": "light"
     },
     "output_type": "display_data"
    },
    {
     "name": "stdout",
     "output_type": "stream",
     "text": [
      "ots_1615826291\n"
     ]
    },
    {
     "data": {
      "image/png": "[encoded data removed]",
      "text/plain": [
       "<Figure size 432x288 with 1 Axes>"
      ]
     },
     "metadata": {
      "needs_background": "light"
     },
     "output_type": "display_data"
    },
    {
     "name": "stdout",
     "output_type": "stream",
     "text": [
      "Plotting % Logit Diffs\n"
     ]
    },
    {
     "data": {
      "image/png": "[encoded data removed]",
      "text/plain": [
       "<Figure size 432x288 with 1 Axes>"
      ]
     },
     "metadata": {
      "needs_background": "light"
     },
     "output_type": "display_data"
    }
   ],
   "source": [
    "comps2.plotter()"
   ]
  },
  {
   "cell_type": "markdown",
   "id": "supposed-blame",
   "metadata": {
    "heading_collapsed": true
   },
   "source": [
    "# model_epoch0_ts10000.20210314.22.03.1615760445\n",
    "## cedit=1, cloc=15, 10k steps\n"
   ]
  },
  {
   "cell_type": "code",
   "execution_count": 53,
   "id": "political-compromise",
   "metadata": {
    "hidden": true
   },
   "outputs": [
    {
     "name": "stdout",
     "output_type": "stream",
     "text": [
      "Model Parameters:\n"
     ]
    },
    {
     "data": {
      "text/html": [
       "<div>\n",
       "<style scoped>\n",
       "    .dataframe tbody tr th:only-of-type {\n",
       "        vertical-align: middle;\n",
       "    }\n",
       "\n",
       "    .dataframe tbody tr th {\n",
       "        vertical-align: top;\n",
       "    }\n",
       "\n",
       "    .dataframe thead th {\n",
       "        text-align: right;\n",
       "    }\n",
       "</style>\n",
       "<table border=\"1\" class=\"dataframe\">\n",
       "  <thead>\n",
       "    <tr style=\"text-align: right;\">\n",
       "      <th></th>\n",
       "      <th>inner_lr</th>\n",
       "      <th>outer_lr</th>\n",
       "      <th>n_edit_steps</th>\n",
       "      <th>cedit</th>\n",
       "      <th>cloc</th>\n",
       "    </tr>\n",
       "  </thead>\n",
       "  <tbody>\n",
       "    <tr>\n",
       "      <th>0</th>\n",
       "      <td>0.001</td>\n",
       "      <td>0.00001</td>\n",
       "      <td>1.0</td>\n",
       "      <td>1.0</td>\n",
       "      <td>15.0</td>\n",
       "    </tr>\n",
       "  </tbody>\n",
       "</table>\n",
       "</div>"
      ],
      "text/plain": [
       "   inner_lr  outer_lr  n_edit_steps  cedit  cloc\n",
       "0     0.001   0.00001           1.0    1.0  15.0"
      ]
     },
     "metadata": {},
     "output_type": "display_data"
    },
    {
     "name": "stdout",
     "output_type": "stream",
     "text": [
      "Success Metrics\n"
     ]
    },
    {
     "data": {
      "text/html": [
       "<div>\n",
       "<style scoped>\n",
       "    .dataframe tbody tr th:only-of-type {\n",
       "        vertical-align: middle;\n",
       "    }\n",
       "\n",
       "    .dataframe tbody tr th {\n",
       "        vertical-align: top;\n",
       "    }\n",
       "\n",
       "    .dataframe thead th {\n",
       "        text-align: right;\n",
       "    }\n",
       "</style>\n",
       "<table border=\"1\" class=\"dataframe\">\n",
       "  <thead>\n",
       "    <tr style=\"text-align: right;\">\n",
       "      <th></th>\n",
       "      <th>model</th>\n",
       "      <th>edit_steps</th>\n",
       "      <th>mean_new_ppl</th>\n",
       "      <th>mean_orig_ppl</th>\n",
       "      <th>pct_ppl_dd</th>\n",
       "      <th>gross_ppl_dd</th>\n",
       "      <th>new_logits_higher</th>\n",
       "      <th>new_logits_higher05</th>\n",
       "      <th>new_logits_higher10</th>\n",
       "      <th>success_by_probs</th>\n",
       "    </tr>\n",
       "  </thead>\n",
       "  <tbody>\n",
       "    <tr>\n",
       "      <th>7</th>\n",
       "      <td>ots_1615826715</td>\n",
       "      <td>5.0</td>\n",
       "      <td>92.249127</td>\n",
       "      <td>90.703072</td>\n",
       "      <td>1.704523</td>\n",
       "      <td>1.546055</td>\n",
       "      <td>0.72</td>\n",
       "      <td>0.16</td>\n",
       "      <td>0.04</td>\n",
       "      <td>0.86</td>\n",
       "    </tr>\n",
       "    <tr>\n",
       "      <th>8</th>\n",
       "      <td>ots_1615826291</td>\n",
       "      <td>3.0</td>\n",
       "      <td>91.357340</td>\n",
       "      <td>90.703072</td>\n",
       "      <td>0.721330</td>\n",
       "      <td>0.654268</td>\n",
       "      <td>0.78</td>\n",
       "      <td>0.08</td>\n",
       "      <td>0.02</td>\n",
       "      <td>0.86</td>\n",
       "    </tr>\n",
       "    <tr>\n",
       "      <th>6</th>\n",
       "      <td>ots_1615825880</td>\n",
       "      <td>1.0</td>\n",
       "      <td>90.831759</td>\n",
       "      <td>90.703072</td>\n",
       "      <td>0.141878</td>\n",
       "      <td>0.128688</td>\n",
       "      <td>0.80</td>\n",
       "      <td>0.00</td>\n",
       "      <td>0.00</td>\n",
       "      <td>0.86</td>\n",
       "    </tr>\n",
       "    <tr>\n",
       "      <th>4</th>\n",
       "      <td>model_1615830698</td>\n",
       "      <td>5.0</td>\n",
       "      <td>92.998480</td>\n",
       "      <td>80.843575</td>\n",
       "      <td>15.035091</td>\n",
       "      <td>12.154905</td>\n",
       "      <td>0.86</td>\n",
       "      <td>0.60</td>\n",
       "      <td>0.48</td>\n",
       "      <td>0.92</td>\n",
       "    </tr>\n",
       "    <tr>\n",
       "      <th>3</th>\n",
       "      <td>model_1615830286</td>\n",
       "      <td>3.0</td>\n",
       "      <td>86.252994</td>\n",
       "      <td>80.843575</td>\n",
       "      <td>6.691217</td>\n",
       "      <td>5.409419</td>\n",
       "      <td>0.76</td>\n",
       "      <td>0.62</td>\n",
       "      <td>0.50</td>\n",
       "      <td>0.92</td>\n",
       "    </tr>\n",
       "    <tr>\n",
       "      <th>5</th>\n",
       "      <td>model_1615829897</td>\n",
       "      <td>1.0</td>\n",
       "      <td>80.696640</td>\n",
       "      <td>80.843575</td>\n",
       "      <td>-0.181751</td>\n",
       "      <td>-0.146934</td>\n",
       "      <td>0.74</td>\n",
       "      <td>0.54</td>\n",
       "      <td>0.44</td>\n",
       "      <td>0.94</td>\n",
       "    </tr>\n",
       "    <tr>\n",
       "      <th>2</th>\n",
       "      <td>base_1615828169</td>\n",
       "      <td>5.0</td>\n",
       "      <td>50.140138</td>\n",
       "      <td>49.353867</td>\n",
       "      <td>1.593129</td>\n",
       "      <td>0.786271</td>\n",
       "      <td>0.82</td>\n",
       "      <td>0.16</td>\n",
       "      <td>0.04</td>\n",
       "      <td>0.88</td>\n",
       "    </tr>\n",
       "    <tr>\n",
       "      <th>1</th>\n",
       "      <td>base_1615827722</td>\n",
       "      <td>3.0</td>\n",
       "      <td>49.605848</td>\n",
       "      <td>49.353867</td>\n",
       "      <td>0.510561</td>\n",
       "      <td>0.251981</td>\n",
       "      <td>0.84</td>\n",
       "      <td>0.08</td>\n",
       "      <td>0.00</td>\n",
       "      <td>0.88</td>\n",
       "    </tr>\n",
       "    <tr>\n",
       "      <th>0</th>\n",
       "      <td>base_1615827264</td>\n",
       "      <td>1.0</td>\n",
       "      <td>49.365100</td>\n",
       "      <td>49.353867</td>\n",
       "      <td>0.022761</td>\n",
       "      <td>0.011233</td>\n",
       "      <td>0.82</td>\n",
       "      <td>0.00</td>\n",
       "      <td>0.00</td>\n",
       "      <td>0.92</td>\n",
       "    </tr>\n",
       "  </tbody>\n",
       "</table>\n",
       "</div>"
      ],
      "text/plain": [
       "              model  edit_steps  mean_new_ppl  mean_orig_ppl  pct_ppl_dd  \\\n",
       "7    ots_1615826715         5.0     92.249127      90.703072    1.704523   \n",
       "8    ots_1615826291         3.0     91.357340      90.703072    0.721330   \n",
       "6    ots_1615825880         1.0     90.831759      90.703072    0.141878   \n",
       "4  model_1615830698         5.0     92.998480      80.843575   15.035091   \n",
       "3  model_1615830286         3.0     86.252994      80.843575    6.691217   \n",
       "5  model_1615829897         1.0     80.696640      80.843575   -0.181751   \n",
       "2   base_1615828169         5.0     50.140138      49.353867    1.593129   \n",
       "1   base_1615827722         3.0     49.605848      49.353867    0.510561   \n",
       "0   base_1615827264         1.0     49.365100      49.353867    0.022761   \n",
       "\n",
       "   gross_ppl_dd  new_logits_higher  new_logits_higher05  new_logits_higher10  \\\n",
       "7      1.546055               0.72                 0.16                 0.04   \n",
       "8      0.654268               0.78                 0.08                 0.02   \n",
       "6      0.128688               0.80                 0.00                 0.00   \n",
       "4     12.154905               0.86                 0.60                 0.48   \n",
       "3      5.409419               0.76                 0.62                 0.50   \n",
       "5     -0.146934               0.74                 0.54                 0.44   \n",
       "2      0.786271               0.82                 0.16                 0.04   \n",
       "1      0.251981               0.84                 0.08                 0.00   \n",
       "0      0.011233               0.82                 0.00                 0.00   \n",
       "\n",
       "   success_by_probs  \n",
       "7              0.86  \n",
       "8              0.86  \n",
       "6              0.86  \n",
       "4              0.92  \n",
       "3              0.92  \n",
       "5              0.94  \n",
       "2              0.88  \n",
       "1              0.88  \n",
       "0              0.92  "
      ]
     },
     "metadata": {},
     "output_type": "display_data"
    }
   ],
   "source": [
    "comps3 = ModelComps(\n",
    "    model_name=\"model_epoch0_ts10000.20210314.22.03.1615760445\",\n",
    "    base_name=\"gpt2_epoch0_ts10000.20210310.18.03.1615401990\",\n",
    "    archive=False\n",
    ")\n",
    "\n",
    "comps3.summary()"
   ]
  },
  {
   "cell_type": "code",
   "execution_count": 54,
   "id": "martial-testament",
   "metadata": {
    "hidden": true
   },
   "outputs": [
    {
     "name": "stdout",
     "output_type": "stream",
     "text": [
      "Plotting Logits\n",
      "base_1615827264\n"
     ]
    },
    {
     "data": {
      "image/png": "[encoded data removed]",
      "text/plain": [
       "<Figure size 432x288 with 1 Axes>"
      ]
     },
     "metadata": {
      "needs_background": "light"
     },
     "output_type": "display_data"
    },
    {
     "name": "stdout",
     "output_type": "stream",
     "text": [
      "base_1615827722\n"
     ]
    },
    {
     "data": {
      "image/png": "[encoded data removed]",
      "text/plain": [
       "<Figure size 432x288 with 1 Axes>"
      ]
     },
     "metadata": {
      "needs_background": "light"
     },
     "output_type": "display_data"
    },
    {
     "name": "stdout",
     "output_type": "stream",
     "text": [
      "base_1615828169\n"
     ]
    },
    {
     "data": {
      "image/png": "[encoded data removed]",
      "text/plain": [
       "<Figure size 432x288 with 1 Axes>"
      ]
     },
     "metadata": {
      "needs_background": "light"
     },
     "output_type": "display_data"
    },
    {
     "name": "stdout",
     "output_type": "stream",
     "text": [
      "model_1615830286\n"
     ]
    },
    {
     "data": {
      "image/png": "[encoded data removed]",
      "text/plain": [
       "<Figure size 432x288 with 1 Axes>"
      ]
     },
     "metadata": {
      "needs_background": "light"
     },
     "output_type": "display_data"
    },
    {
     "name": "stdout",
     "output_type": "stream",
     "text": [
      "model_1615830698\n"
     ]
    },
    {
     "data": {
      "image/png": "[encoded data removed]",
      "text/plain": [
       "<Figure size 432x288 with 1 Axes>"
      ]
     },
     "metadata": {
      "needs_background": "light"
     },
     "output_type": "display_data"
    },
    {
     "name": "stdout",
     "output_type": "stream",
     "text": [
      "model_1615829897\n"
     ]
    },
    {
     "data": {
      "image/png": "[encoded data removed]",
      "text/plain": [
       "<Figure size 432x288 with 1 Axes>"
      ]
     },
     "metadata": {
      "needs_background": "light"
     },
     "output_type": "display_data"
    },
    {
     "name": "stdout",
     "output_type": "stream",
     "text": [
      "ots_1615825880\n"
     ]
    },
    {
     "data": {
      "image/png": "[encoded data removed]",
      "text/plain": [
       "<Figure size 432x288 with 1 Axes>"
      ]
     },
     "metadata": {
      "needs_background": "light"
     },
     "output_type": "display_data"
    },
    {
     "name": "stdout",
     "output_type": "stream",
     "text": [
      "ots_1615826715\n"
     ]
    },
    {
     "data": {
      "image/png": "[encoded data removed]",
      "text/plain": [
       "<Figure size 432x288 with 1 Axes>"
      ]
     },
     "metadata": {
      "needs_background": "light"
     },
     "output_type": "display_data"
    },
    {
     "name": "stdout",
     "output_type": "stream",
     "text": [
      "ots_1615826291\n"
     ]
    },
    {
     "data": {
      "image/png": "[encoded data removed]",
      "text/plain": [
       "<Figure size 432x288 with 1 Axes>"
      ]
     },
     "metadata": {
      "needs_background": "light"
     },
     "output_type": "display_data"
    },
    {
     "name": "stdout",
     "output_type": "stream",
     "text": [
      "Plotting % Logit Diffs\n"
     ]
    },
    {
     "data": {
      "image/png": "[encoded data removed]",
      "text/plain": [
       "<Figure size 432x288 with 1 Axes>"
      ]
     },
     "metadata": {
      "needs_background": "light"
     },
     "output_type": "display_data"
    }
   ],
   "source": [
    "comps3.plotter()"
   ]
  },
  {
   "cell_type": "markdown",
   "id": "attached-recognition",
   "metadata": {
    "heading_collapsed": true
   },
   "source": [
    "# model_epoch0_ts10000.20210312.21.03.1615586239\n",
    "## cedit=1, cloc=1, 10k steps\n",
    "Notes: Model run Friday 3/12, first try with editing loss calculated just on the modified tokens. Has worse statistics"
   ]
  },
  {
   "cell_type": "code",
   "execution_count": 55,
   "id": "blind-secret",
   "metadata": {
    "hidden": true
   },
   "outputs": [
    {
     "name": "stdout",
     "output_type": "stream",
     "text": [
      "Model Parameters:\n"
     ]
    },
    {
     "data": {
      "text/html": [
       "<div>\n",
       "<style scoped>\n",
       "    .dataframe tbody tr th:only-of-type {\n",
       "        vertical-align: middle;\n",
       "    }\n",
       "\n",
       "    .dataframe tbody tr th {\n",
       "        vertical-align: top;\n",
       "    }\n",
       "\n",
       "    .dataframe thead th {\n",
       "        text-align: right;\n",
       "    }\n",
       "</style>\n",
       "<table border=\"1\" class=\"dataframe\">\n",
       "  <thead>\n",
       "    <tr style=\"text-align: right;\">\n",
       "      <th></th>\n",
       "      <th>inner_lr</th>\n",
       "      <th>outer_lr</th>\n",
       "      <th>n_edit_steps</th>\n",
       "      <th>cedit</th>\n",
       "      <th>cloc</th>\n",
       "    </tr>\n",
       "  </thead>\n",
       "  <tbody>\n",
       "    <tr>\n",
       "      <th>0</th>\n",
       "      <td>0.001</td>\n",
       "      <td>0.00001</td>\n",
       "      <td>1.0</td>\n",
       "      <td>1.0</td>\n",
       "      <td>1.0</td>\n",
       "    </tr>\n",
       "  </tbody>\n",
       "</table>\n",
       "</div>"
      ],
      "text/plain": [
       "   inner_lr  outer_lr  n_edit_steps  cedit  cloc\n",
       "0     0.001   0.00001           1.0    1.0   1.0"
      ]
     },
     "metadata": {},
     "output_type": "display_data"
    },
    {
     "name": "stdout",
     "output_type": "stream",
     "text": [
      "Success Metrics\n"
     ]
    },
    {
     "data": {
      "text/html": [
       "<div>\n",
       "<style scoped>\n",
       "    .dataframe tbody tr th:only-of-type {\n",
       "        vertical-align: middle;\n",
       "    }\n",
       "\n",
       "    .dataframe tbody tr th {\n",
       "        vertical-align: top;\n",
       "    }\n",
       "\n",
       "    .dataframe thead th {\n",
       "        text-align: right;\n",
       "    }\n",
       "</style>\n",
       "<table border=\"1\" class=\"dataframe\">\n",
       "  <thead>\n",
       "    <tr style=\"text-align: right;\">\n",
       "      <th></th>\n",
       "      <th>model</th>\n",
       "      <th>edit_steps</th>\n",
       "      <th>mean_new_ppl</th>\n",
       "      <th>mean_orig_ppl</th>\n",
       "      <th>pct_ppl_dd</th>\n",
       "      <th>gross_ppl_dd</th>\n",
       "      <th>new_logits_higher</th>\n",
       "      <th>new_logits_higher05</th>\n",
       "      <th>new_logits_higher10</th>\n",
       "      <th>success_by_probs</th>\n",
       "    </tr>\n",
       "  </thead>\n",
       "  <tbody>\n",
       "    <tr>\n",
       "      <th>7</th>\n",
       "      <td>ots_1615826715</td>\n",
       "      <td>5.0</td>\n",
       "      <td>92.249127</td>\n",
       "      <td>90.703072</td>\n",
       "      <td>1.704523</td>\n",
       "      <td>1.546055</td>\n",
       "      <td>0.72</td>\n",
       "      <td>0.16</td>\n",
       "      <td>0.04</td>\n",
       "      <td>0.86</td>\n",
       "    </tr>\n",
       "    <tr>\n",
       "      <th>8</th>\n",
       "      <td>ots_1615826291</td>\n",
       "      <td>3.0</td>\n",
       "      <td>91.357340</td>\n",
       "      <td>90.703072</td>\n",
       "      <td>0.721330</td>\n",
       "      <td>0.654268</td>\n",
       "      <td>0.78</td>\n",
       "      <td>0.08</td>\n",
       "      <td>0.02</td>\n",
       "      <td>0.86</td>\n",
       "    </tr>\n",
       "    <tr>\n",
       "      <th>6</th>\n",
       "      <td>ots_1615825880</td>\n",
       "      <td>1.0</td>\n",
       "      <td>90.831759</td>\n",
       "      <td>90.703072</td>\n",
       "      <td>0.141878</td>\n",
       "      <td>0.128688</td>\n",
       "      <td>0.80</td>\n",
       "      <td>0.00</td>\n",
       "      <td>0.00</td>\n",
       "      <td>0.86</td>\n",
       "    </tr>\n",
       "    <tr>\n",
       "      <th>3</th>\n",
       "      <td>model_1615833209</td>\n",
       "      <td>5.0</td>\n",
       "      <td>184.372973</td>\n",
       "      <td>94.858231</td>\n",
       "      <td>94.366869</td>\n",
       "      <td>89.514742</td>\n",
       "      <td>0.90</td>\n",
       "      <td>0.70</td>\n",
       "      <td>0.58</td>\n",
       "      <td>0.92</td>\n",
       "    </tr>\n",
       "    <tr>\n",
       "      <th>5</th>\n",
       "      <td>model_1615832802</td>\n",
       "      <td>3.0</td>\n",
       "      <td>162.421238</td>\n",
       "      <td>94.858231</td>\n",
       "      <td>71.225245</td>\n",
       "      <td>67.563007</td>\n",
       "      <td>0.90</td>\n",
       "      <td>0.70</td>\n",
       "      <td>0.56</td>\n",
       "      <td>0.94</td>\n",
       "    </tr>\n",
       "    <tr>\n",
       "      <th>4</th>\n",
       "      <td>model_1615832420</td>\n",
       "      <td>1.0</td>\n",
       "      <td>137.337339</td>\n",
       "      <td>94.858231</td>\n",
       "      <td>44.781679</td>\n",
       "      <td>42.479109</td>\n",
       "      <td>0.86</td>\n",
       "      <td>0.72</td>\n",
       "      <td>0.56</td>\n",
       "      <td>0.92</td>\n",
       "    </tr>\n",
       "    <tr>\n",
       "      <th>2</th>\n",
       "      <td>base_1615828169</td>\n",
       "      <td>5.0</td>\n",
       "      <td>50.140138</td>\n",
       "      <td>49.353867</td>\n",
       "      <td>1.593129</td>\n",
       "      <td>0.786271</td>\n",
       "      <td>0.82</td>\n",
       "      <td>0.16</td>\n",
       "      <td>0.04</td>\n",
       "      <td>0.88</td>\n",
       "    </tr>\n",
       "    <tr>\n",
       "      <th>1</th>\n",
       "      <td>base_1615827722</td>\n",
       "      <td>3.0</td>\n",
       "      <td>49.605848</td>\n",
       "      <td>49.353867</td>\n",
       "      <td>0.510561</td>\n",
       "      <td>0.251981</td>\n",
       "      <td>0.84</td>\n",
       "      <td>0.08</td>\n",
       "      <td>0.00</td>\n",
       "      <td>0.88</td>\n",
       "    </tr>\n",
       "    <tr>\n",
       "      <th>0</th>\n",
       "      <td>base_1615827264</td>\n",
       "      <td>1.0</td>\n",
       "      <td>49.365100</td>\n",
       "      <td>49.353867</td>\n",
       "      <td>0.022761</td>\n",
       "      <td>0.011233</td>\n",
       "      <td>0.82</td>\n",
       "      <td>0.00</td>\n",
       "      <td>0.00</td>\n",
       "      <td>0.92</td>\n",
       "    </tr>\n",
       "  </tbody>\n",
       "</table>\n",
       "</div>"
      ],
      "text/plain": [
       "              model  edit_steps  mean_new_ppl  mean_orig_ppl  pct_ppl_dd  \\\n",
       "7    ots_1615826715         5.0     92.249127      90.703072    1.704523   \n",
       "8    ots_1615826291         3.0     91.357340      90.703072    0.721330   \n",
       "6    ots_1615825880         1.0     90.831759      90.703072    0.141878   \n",
       "3  model_1615833209         5.0    184.372973      94.858231   94.366869   \n",
       "5  model_1615832802         3.0    162.421238      94.858231   71.225245   \n",
       "4  model_1615832420         1.0    137.337339      94.858231   44.781679   \n",
       "2   base_1615828169         5.0     50.140138      49.353867    1.593129   \n",
       "1   base_1615827722         3.0     49.605848      49.353867    0.510561   \n",
       "0   base_1615827264         1.0     49.365100      49.353867    0.022761   \n",
       "\n",
       "   gross_ppl_dd  new_logits_higher  new_logits_higher05  new_logits_higher10  \\\n",
       "7      1.546055               0.72                 0.16                 0.04   \n",
       "8      0.654268               0.78                 0.08                 0.02   \n",
       "6      0.128688               0.80                 0.00                 0.00   \n",
       "3     89.514742               0.90                 0.70                 0.58   \n",
       "5     67.563007               0.90                 0.70                 0.56   \n",
       "4     42.479109               0.86                 0.72                 0.56   \n",
       "2      0.786271               0.82                 0.16                 0.04   \n",
       "1      0.251981               0.84                 0.08                 0.00   \n",
       "0      0.011233               0.82                 0.00                 0.00   \n",
       "\n",
       "   success_by_probs  \n",
       "7              0.86  \n",
       "8              0.86  \n",
       "6              0.86  \n",
       "3              0.92  \n",
       "5              0.94  \n",
       "4              0.92  \n",
       "2              0.88  \n",
       "1              0.88  \n",
       "0              0.92  "
      ]
     },
     "metadata": {},
     "output_type": "display_data"
    }
   ],
   "source": [
    "comps = ModelComps(\n",
    "    model_name=\"model_epoch0_ts10000.20210312.21.03.1615586239\",\n",
    "    base_name=\"gpt2_epoch0_ts10000.20210310.18.03.1615401990\",\n",
    "    archive=False\n",
    ")\n",
    "\n",
    "comps.summary()"
   ]
  },
  {
   "cell_type": "code",
   "execution_count": null,
   "id": "large-factory",
   "metadata": {
    "hidden": true
   },
   "outputs": [],
   "source": [
    "comps = ModelComps(\n",
    "    model_name=\"model_epoch0_ts10000.20210312.21.03.1615586239\",\n",
    "    base_name=\"gpt2_epoch0_ts10000.20210310.18.03.1615401990\",\n",
    "    archive=False\n",
    ")\n",
    "\n",
    "comps.summary()"
   ]
  },
  {
   "cell_type": "code",
   "execution_count": null,
   "id": "growing-atmosphere",
   "metadata": {
    "hidden": true
   },
   "outputs": [],
   "source": []
  },
  {
   "cell_type": "markdown",
   "id": "interesting-capability",
   "metadata": {
    "heading_collapsed": true
   },
   "source": [
    "# Matrix Norm Plots"
   ]
  },
  {
   "cell_type": "code",
   "execution_count": 7,
   "id": "other-greece",
   "metadata": {
    "hidden": true
   },
   "outputs": [],
   "source": [
    "import utils\n",
    "import copy"
   ]
  },
  {
   "cell_type": "code",
   "execution_count": 8,
   "id": "lyric-bangkok",
   "metadata": {
    "hidden": true
   },
   "outputs": [],
   "source": [
    "model, tokenizer = utils.loadTrainedModel(\"../models/model_epoch0_ts10000.20210314.16.03.1615740151\")\n"
   ]
  },
  {
   "cell_type": "code",
   "execution_count": 102,
   "id": "gothic-bookmark",
   "metadata": {
    "hidden": true
   },
   "outputs": [],
   "source": [
    "model_ots, _ = utils.loadOTSModel()"
   ]
  },
  {
   "cell_type": "code",
   "execution_count": 107,
   "id": "jewish-emerald",
   "metadata": {
    "hidden": true
   },
   "outputs": [],
   "source": [
    "from collections import defaultdict\n",
    "\n",
    "DEVICE = 'cuda' if torch.cuda.is_available() else 'cpu'\n",
    "def vizChange(model): \n",
    "    model.to(DEVICE)\n",
    "    \n",
    "    change_map = defaultdict(list)\n",
    "\n",
    "    dataloader = retrieveDataloader(tokenizer, bs=1, dataset='valid', max_obs=100)\n",
    "    model.train()\n",
    "    for train_step, (lm_data, edit_example, ent) in enumerate(dataloader):\n",
    "\n",
    "        edit_tokens, edit_mask = edit_example\n",
    "        ent_tokens = ent[0].flatten() #1d array of vocab indexes\n",
    "        ent_tokens = ent_tokens[ent_tokens != 50256]\n",
    "        edit_locs = utils.locateEntityEdit(edit_tokens, ent_tokens)\n",
    "\n",
    "\n",
    "        edit_labels = torch.zeros(edit_tokens.shape, dtype=torch.long) - 100\n",
    "        edit_labels[:, edit_locs] = edit_tokens[:, edit_locs]\n",
    "        edit_labels = edit_labels.to(DEVICE)\n",
    "        edit_tokens, edit_mask = edit_tokens.to(DEVICE), edit_mask.to(DEVICE)\n",
    "\n",
    "\n",
    "        inner_opt = torch.optim.SGD(model.transformer.h[-3:].parameters(), lr=1e-3)\n",
    "        with higher.innerloop_ctx(\n",
    "            model, \n",
    "            inner_opt, \n",
    "            copy_initial_weights=False, \n",
    "            track_higher_grads=True\n",
    "            ) as (fmodel, diffopt):\n",
    "\n",
    "\n",
    "            loss = fmodel(\n",
    "                edit_tokens, \n",
    "                attention_mask=edit_mask,\n",
    "                labels=edit_labels\n",
    "            ).loss\n",
    "            diffopt.step(loss)\n",
    "\n",
    "\n",
    "            for (p_name, p_), fp in zip(model.named_parameters(), fmodel.parameters()):\n",
    "#                 print(p_name, p_.shape)\n",
    "                if p_name[:15] in [f\"transformer.h.{i}\" for i in range(3,6)]:\n",
    "                    pct_change = torch.linalg.norm(p_ - fp)\n",
    "                    change_map['run'].append(train_step)\n",
    "                    change_map['layer'].append(p_name)\n",
    "                    change_map['change'].append(pct_change.item())\n",
    "\n",
    "        if train_step > 100:\n",
    "            break\n",
    "    return change_map"
   ]
  },
  {
   "cell_type": "code",
   "execution_count": null,
   "id": "mounted-mistress",
   "metadata": {
    "hidden": true
   },
   "outputs": [],
   "source": [
    "import re\n",
    "def rename(name):\n",
    "\n",
    "    layerNum = name.split(\".\")[2]\n",
    "    layerType = name.split(\".\")[3].replace('_', \"\")\n",
    "    layerType = re.sub('[0-9]+', '', layerType)\n",
    "    if layerType in [\"attn\", \"mlp\"]:\n",
    "        layerSub = f'/{name.split(\".\")[4]}'\n",
    "    else: layerSub = \"\"\n",
    "    MatType = name.split(\".\")[-1]\n",
    "\n",
    "    return f\"Trans. {layerNum}, {layerType}{layerSub}, {MatType}\""
   ]
  },
  {
   "cell_type": "code",
   "execution_count": 111,
   "id": "annoying-speaker",
   "metadata": {
    "hidden": true
   },
   "outputs": [],
   "source": [
    "change_trained = pd.DataFrame(vizChange(model))\n",
    "change_trained['layer'] = change_trained.layer.apply(rename)\n",
    "change_ots = pd.DataFrame(vizChange(model_ots))\n",
    "change_ots['layer'] = change_ots.layer.apply(rename)"
   ]
  },
  {
   "cell_type": "code",
   "execution_count": 135,
   "id": "published-triumph",
   "metadata": {
    "hidden": true
   },
   "outputs": [
    {
     "data": {
      "image/png": "[encoded data removed]",
      "text/plain": [
       "<Figure size 1080x360 with 1 Axes>"
      ]
     },
     "metadata": {
      "needs_background": "light"
     },
     "output_type": "display_data"
    }
   ],
   "source": [
    "matplotlib.rcParams['figure.figsize'] = (15, 5)\n",
    "\n",
    "trained_mean = (\n",
    "    change_trained\n",
    "    .loc[change_trained.layer.apply(lambda x: '4' in x)]\n",
    "    .groupby('layer')\n",
    "    .change.mean().reset_index()\n",
    ")\n",
    "\n",
    "trained_mlp = (\n",
    "    change_trained\n",
    "    .loc[change_trained.layer.apply(lambda x: 'mlp' in x)]\n",
    "    .groupby('layer')\n",
    "    .change.mean().reset_index()\n",
    ")\n",
    "\n",
    "trained_attn = (\n",
    "    change_trained\n",
    "    .loc[change_trained.layer.apply(lambda x: 'attn' in x)]\n",
    "    .groupby('layer')\n",
    "    .change.mean().reset_index()\n",
    ")\n",
    "\n",
    "ots_mean = (\n",
    "    change_ots\n",
    "    .loc[change_ots.layer.apply(lambda x: '4' in x)]\n",
    "    .groupby('layer')\n",
    "    .change.mean().reset_index()\n",
    ")\n",
    "\n",
    "ots_mlp = (\n",
    "    change_ots\n",
    "    .loc[change_ots.layer.apply(lambda x: 'mlp' in x)]\n",
    "    .groupby('layer')\n",
    "    .change.mean().reset_index()\n",
    ")\n",
    "\n",
    "ots_attn = (\n",
    "    change_ots\n",
    "    .loc[change_ots.layer.apply(lambda x: 'attn' in x)]\n",
    "    .groupby('layer')\n",
    "    .change.mean().reset_index()\n",
    ")\n",
    "\n",
    "plt.bar(trained_mlp.layer, trained_mlp.change, alpha=0.5, label='Editable')\n",
    "plt.bar(ots_mlp.layer, ots_mlp.change, alpha=0.5, label='DistilGPT2')\n",
    "\n",
    "plt.legend(fontsize='large')\n",
    "plt.xticks(rotation='35', fontsize='large', ha='right')\n",
    "plt.ylabel(\"$||\\cdot||_F$ of Weight Change\", fontsize='x-large')\n",
    "plt.xlabel(\"Model Layer\", fontsize='x-large')\n",
    "plt.show()\n",
    "\n",
    "\n",
    "plt.bar(trained_attn.layer, trained_attn.change, alpha=0.5, label='Editable')\n",
    "plt.bar(ots_attn.layer, ots_attn.change, alpha=0.5, label='DistilGPT2')\n",
    "\n",
    "plt.legend(fontsize='large')\n",
    "plt.xticks(rotation='vertical', fontsize='large')\n",
    "plt.ylabel(\"$||\\cdot||_F$ of Weight Change\", fontsize='large')\n",
    "plt.xlabel(\"Model Layer\", fontsize='large')\n",
    "plt.show()\n",
    "\n",
    "plt.bar(trained_mean.layer, trained_mean.change, alpha=0.5, label='Editable')\n",
    "plt.bar(ots_mean.layer, ots_mean.change, alpha=0.5, label='DistilGPT2')\n",
    "\n",
    "plt.legend(fontsize='large')\n",
    "plt.xticks(rotation='vertical', fontsize='large')\n",
    "plt.ylabel(\"$||\\cdot||_F$ of Weight Change\", fontsize='large')\n",
    "plt.xlabel(\"Model Layer\", fontsize='large')\n",
    "plt.show()"
   ]
  },
  {
   "cell_type": "code",
   "execution_count": null,
   "id": "nutritional-reset",
   "metadata": {
    "hidden": true
   },
   "outputs": [],
   "source": []
  },
  {
   "cell_type": "markdown",
   "id": "discrete-boutique",
   "metadata": {},
   "source": [
    "# Self Sampled Model"
   ]
  },
  {
   "cell_type": "code",
   "execution_count": 6,
   "id": "welcome-barcelona",
   "metadata": {},
   "outputs": [
    {
     "name": "stdout",
     "output_type": "stream",
     "text": [
      "Model Parameters:\n"
     ]
    },
    {
     "data": {
      "text/html": [
       "<div>\n",
       "<style scoped>\n",
       "    .dataframe tbody tr th:only-of-type {\n",
       "        vertical-align: middle;\n",
       "    }\n",
       "\n",
       "    .dataframe tbody tr th {\n",
       "        vertical-align: top;\n",
       "    }\n",
       "\n",
       "    .dataframe thead th {\n",
       "        text-align: right;\n",
       "    }\n",
       "</style>\n",
       "<table border=\"1\" class=\"dataframe\">\n",
       "  <thead>\n",
       "    <tr style=\"text-align: right;\">\n",
       "      <th></th>\n",
       "      <th>inner_lr</th>\n",
       "      <th>outer_lr</th>\n",
       "      <th>epochs</th>\n",
       "      <th>n_edit_steps</th>\n",
       "      <th>cedit</th>\n",
       "      <th>cloc</th>\n",
       "    </tr>\n",
       "  </thead>\n",
       "  <tbody>\n",
       "    <tr>\n",
       "      <th>0</th>\n",
       "      <td>0.001</td>\n",
       "      <td>0.00001</td>\n",
       "      <td>1.0</td>\n",
       "      <td>1.0</td>\n",
       "      <td>0.5</td>\n",
       "      <td>1.0</td>\n",
       "    </tr>\n",
       "  </tbody>\n",
       "</table>\n",
       "</div>"
      ],
      "text/plain": [
       "   inner_lr  outer_lr  epochs  n_edit_steps  cedit  cloc\n",
       "0     0.001   0.00001     1.0           1.0    0.5   1.0"
      ]
     },
     "metadata": {},
     "output_type": "display_data"
    },
    {
     "name": "stdout",
     "output_type": "stream",
     "text": [
      "Success Metrics\n"
     ]
    },
    {
     "data": {
      "text/html": [
       "<div>\n",
       "<style scoped>\n",
       "    .dataframe tbody tr th:only-of-type {\n",
       "        vertical-align: middle;\n",
       "    }\n",
       "\n",
       "    .dataframe tbody tr th {\n",
       "        vertical-align: top;\n",
       "    }\n",
       "\n",
       "    .dataframe thead th {\n",
       "        text-align: right;\n",
       "    }\n",
       "</style>\n",
       "<table border=\"1\" class=\"dataframe\">\n",
       "  <thead>\n",
       "    <tr style=\"text-align: right;\">\n",
       "      <th></th>\n",
       "      <th>model</th>\n",
       "      <th>edit_steps</th>\n",
       "      <th>mean_new_ppl</th>\n",
       "      <th>mean_orig_ppl</th>\n",
       "      <th>pct_ppl_dd</th>\n",
       "      <th>gross_ppl_dd</th>\n",
       "      <th>new_logits_higher</th>\n",
       "      <th>new_logits_higher05</th>\n",
       "      <th>new_logits_higher10</th>\n",
       "      <th>success_by_probs</th>\n",
       "    </tr>\n",
       "  </thead>\n",
       "  <tbody>\n",
       "    <tr>\n",
       "      <th>7</th>\n",
       "      <td>ots_1615826715</td>\n",
       "      <td>5.0</td>\n",
       "      <td>92.249127</td>\n",
       "      <td>90.703072</td>\n",
       "      <td>1.704523</td>\n",
       "      <td>1.546055</td>\n",
       "      <td>72.000000</td>\n",
       "      <td>16.0</td>\n",
       "      <td>4.0</td>\n",
       "      <td>0.860000</td>\n",
       "    </tr>\n",
       "    <tr>\n",
       "      <th>8</th>\n",
       "      <td>ots_1615826291</td>\n",
       "      <td>3.0</td>\n",
       "      <td>91.357340</td>\n",
       "      <td>90.703072</td>\n",
       "      <td>0.721330</td>\n",
       "      <td>0.654268</td>\n",
       "      <td>78.000000</td>\n",
       "      <td>8.0</td>\n",
       "      <td>2.0</td>\n",
       "      <td>0.860000</td>\n",
       "    </tr>\n",
       "    <tr>\n",
       "      <th>6</th>\n",
       "      <td>ots_1615825880</td>\n",
       "      <td>1.0</td>\n",
       "      <td>90.831759</td>\n",
       "      <td>90.703072</td>\n",
       "      <td>0.141878</td>\n",
       "      <td>0.128688</td>\n",
       "      <td>80.000000</td>\n",
       "      <td>0.0</td>\n",
       "      <td>0.0</td>\n",
       "      <td>0.860000</td>\n",
       "    </tr>\n",
       "    <tr>\n",
       "      <th>4</th>\n",
       "      <td>model_1617329752</td>\n",
       "      <td>NaN</td>\n",
       "      <td>NaN</td>\n",
       "      <td>NaN</td>\n",
       "      <td>train_step      NaN\n",
       "n_edit_steps    NaN\n",
       "succes...</td>\n",
       "      <td>train_step      NaN\n",
       "n_edit_steps    NaN\n",
       "succes...</td>\n",
       "      <td>NaN</td>\n",
       "      <td>train_step      NaN\n",
       "n_edit_steps    NaN\n",
       "succes...</td>\n",
       "      <td>train_step      NaN\n",
       "n_edit_steps    NaN\n",
       "succes...</td>\n",
       "      <td>train_step      NaN\n",
       "n_edit_steps    NaN\n",
       "succes...</td>\n",
       "    </tr>\n",
       "    <tr>\n",
       "      <th>5</th>\n",
       "      <td>model_1617241067</td>\n",
       "      <td>1.0</td>\n",
       "      <td>50.962831</td>\n",
       "      <td>50.985447</td>\n",
       "      <td>-0.044357</td>\n",
       "      <td>-0.022616</td>\n",
       "      <td>82.000000</td>\n",
       "      <td>3.0</td>\n",
       "      <td>0.0</td>\n",
       "      <td>0.850000</td>\n",
       "    </tr>\n",
       "    <tr>\n",
       "      <th>1</th>\n",
       "      <td>base_1617299627</td>\n",
       "      <td>1.0</td>\n",
       "      <td>49.368798</td>\n",
       "      <td>49.353867</td>\n",
       "      <td>0.030253</td>\n",
       "      <td>0.014931</td>\n",
       "      <td>46.153846</td>\n",
       "      <td>0.0</td>\n",
       "      <td>0.0</td>\n",
       "      <td>0.912088</td>\n",
       "    </tr>\n",
       "    <tr>\n",
       "      <th>3</th>\n",
       "      <td>base_1615828169</td>\n",
       "      <td>5.0</td>\n",
       "      <td>50.140138</td>\n",
       "      <td>49.353867</td>\n",
       "      <td>1.593129</td>\n",
       "      <td>0.786271</td>\n",
       "      <td>82.000000</td>\n",
       "      <td>16.0</td>\n",
       "      <td>4.0</td>\n",
       "      <td>0.880000</td>\n",
       "    </tr>\n",
       "    <tr>\n",
       "      <th>2</th>\n",
       "      <td>base_1615827722</td>\n",
       "      <td>3.0</td>\n",
       "      <td>49.605848</td>\n",
       "      <td>49.353867</td>\n",
       "      <td>0.510561</td>\n",
       "      <td>0.251981</td>\n",
       "      <td>84.000000</td>\n",
       "      <td>8.0</td>\n",
       "      <td>0.0</td>\n",
       "      <td>0.880000</td>\n",
       "    </tr>\n",
       "    <tr>\n",
       "      <th>0</th>\n",
       "      <td>base_1615827264</td>\n",
       "      <td>1.0</td>\n",
       "      <td>49.365100</td>\n",
       "      <td>49.353867</td>\n",
       "      <td>0.022761</td>\n",
       "      <td>0.011233</td>\n",
       "      <td>82.000000</td>\n",
       "      <td>0.0</td>\n",
       "      <td>0.0</td>\n",
       "      <td>0.920000</td>\n",
       "    </tr>\n",
       "  </tbody>\n",
       "</table>\n",
       "</div>"
      ],
      "text/plain": [
       "              model edit_steps mean_new_ppl mean_orig_ppl  \\\n",
       "7    ots_1615826715        5.0    92.249127     90.703072   \n",
       "8    ots_1615826291        3.0    91.357340     90.703072   \n",
       "6    ots_1615825880        1.0    90.831759     90.703072   \n",
       "4  model_1617329752        NaN          NaN           NaN   \n",
       "5  model_1617241067        1.0    50.962831     50.985447   \n",
       "1   base_1617299627        1.0    49.368798     49.353867   \n",
       "3   base_1615828169        5.0    50.140138     49.353867   \n",
       "2   base_1615827722        3.0    49.605848     49.353867   \n",
       "0   base_1615827264        1.0    49.365100     49.353867   \n",
       "\n",
       "                                          pct_ppl_dd  \\\n",
       "7                                           1.704523   \n",
       "8                                           0.721330   \n",
       "6                                           0.141878   \n",
       "4  train_step      NaN\n",
       "n_edit_steps    NaN\n",
       "succes...   \n",
       "5                                          -0.044357   \n",
       "1                                           0.030253   \n",
       "3                                           1.593129   \n",
       "2                                           0.510561   \n",
       "0                                           0.022761   \n",
       "\n",
       "                                        gross_ppl_dd new_logits_higher  \\\n",
       "7                                           1.546055         72.000000   \n",
       "8                                           0.654268         78.000000   \n",
       "6                                           0.128688         80.000000   \n",
       "4  train_step      NaN\n",
       "n_edit_steps    NaN\n",
       "succes...               NaN   \n",
       "5                                          -0.022616         82.000000   \n",
       "1                                           0.014931         46.153846   \n",
       "3                                           0.786271         82.000000   \n",
       "2                                           0.251981         84.000000   \n",
       "0                                           0.011233         82.000000   \n",
       "\n",
       "                                 new_logits_higher05  \\\n",
       "7                                               16.0   \n",
       "8                                                8.0   \n",
       "6                                                0.0   \n",
       "4  train_step      NaN\n",
       "n_edit_steps    NaN\n",
       "succes...   \n",
       "5                                                3.0   \n",
       "1                                                0.0   \n",
       "3                                               16.0   \n",
       "2                                                8.0   \n",
       "0                                                0.0   \n",
       "\n",
       "                                 new_logits_higher10  \\\n",
       "7                                                4.0   \n",
       "8                                                2.0   \n",
       "6                                                0.0   \n",
       "4  train_step      NaN\n",
       "n_edit_steps    NaN\n",
       "succes...   \n",
       "5                                                0.0   \n",
       "1                                                0.0   \n",
       "3                                                4.0   \n",
       "2                                                0.0   \n",
       "0                                                0.0   \n",
       "\n",
       "                                    success_by_probs  \n",
       "7                                           0.860000  \n",
       "8                                           0.860000  \n",
       "6                                           0.860000  \n",
       "4  train_step      NaN\n",
       "n_edit_steps    NaN\n",
       "succes...  \n",
       "5                                           0.850000  \n",
       "1                                           0.912088  \n",
       "3                                           0.880000  \n",
       "2                                           0.880000  \n",
       "0                                           0.920000  "
      ]
     },
     "metadata": {},
     "output_type": "display_data"
    }
   ],
   "source": [
    "comps = ModelComps(\n",
    "    model_name=\"model_epoch0_ts10000.20210331.22.03.1617228585\",\n",
    "    base_name=\"gpt2_epoch0_ts10000.20210310.18.03.1615401990\",\n",
    "    archive=False\n",
    ")\n",
    "\n",
    "comps.summary()"
   ]
  },
  {
   "cell_type": "code",
   "execution_count": 7,
   "id": "breathing-cloud",
   "metadata": {},
   "outputs": [
    {
     "name": "stdout",
     "output_type": "stream",
     "text": [
      "Model Parameters:\n"
     ]
    },
    {
     "data": {
      "text/html": [
       "<div>\n",
       "<style scoped>\n",
       "    .dataframe tbody tr th:only-of-type {\n",
       "        vertical-align: middle;\n",
       "    }\n",
       "\n",
       "    .dataframe tbody tr th {\n",
       "        vertical-align: top;\n",
       "    }\n",
       "\n",
       "    .dataframe thead th {\n",
       "        text-align: right;\n",
       "    }\n",
       "</style>\n",
       "<table border=\"1\" class=\"dataframe\">\n",
       "  <thead>\n",
       "    <tr style=\"text-align: right;\">\n",
       "      <th></th>\n",
       "      <th>inner_lr</th>\n",
       "      <th>outer_lr</th>\n",
       "      <th>epochs</th>\n",
       "      <th>n_edit_steps</th>\n",
       "      <th>cedit</th>\n",
       "      <th>cloc</th>\n",
       "    </tr>\n",
       "  </thead>\n",
       "  <tbody>\n",
       "    <tr>\n",
       "      <th>0</th>\n",
       "      <td>0.001</td>\n",
       "      <td>0.00001</td>\n",
       "      <td>1.0</td>\n",
       "      <td>1.0</td>\n",
       "      <td>1.0</td>\n",
       "      <td>1.0</td>\n",
       "    </tr>\n",
       "  </tbody>\n",
       "</table>\n",
       "</div>"
      ],
      "text/plain": [
       "   inner_lr  outer_lr  epochs  n_edit_steps  cedit  cloc\n",
       "0     0.001   0.00001     1.0           1.0    1.0   1.0"
      ]
     },
     "metadata": {},
     "output_type": "display_data"
    },
    {
     "name": "stdout",
     "output_type": "stream",
     "text": [
      "Success Metrics\n"
     ]
    },
    {
     "data": {
      "text/html": [
       "<div>\n",
       "<style scoped>\n",
       "    .dataframe tbody tr th:only-of-type {\n",
       "        vertical-align: middle;\n",
       "    }\n",
       "\n",
       "    .dataframe tbody tr th {\n",
       "        vertical-align: top;\n",
       "    }\n",
       "\n",
       "    .dataframe thead th {\n",
       "        text-align: right;\n",
       "    }\n",
       "</style>\n",
       "<table border=\"1\" class=\"dataframe\">\n",
       "  <thead>\n",
       "    <tr style=\"text-align: right;\">\n",
       "      <th></th>\n",
       "      <th>model</th>\n",
       "      <th>edit_steps</th>\n",
       "      <th>mean_new_ppl</th>\n",
       "      <th>mean_orig_ppl</th>\n",
       "      <th>pct_ppl_dd</th>\n",
       "      <th>gross_ppl_dd</th>\n",
       "      <th>new_logits_higher</th>\n",
       "      <th>new_logits_higher05</th>\n",
       "      <th>new_logits_higher10</th>\n",
       "      <th>success_by_probs</th>\n",
       "    </tr>\n",
       "  </thead>\n",
       "  <tbody>\n",
       "    <tr>\n",
       "      <th>6</th>\n",
       "      <td>ots_1615826715</td>\n",
       "      <td>5.0</td>\n",
       "      <td>92.249127</td>\n",
       "      <td>90.703072</td>\n",
       "      <td>1.704523</td>\n",
       "      <td>1.546055</td>\n",
       "      <td>72.000000</td>\n",
       "      <td>16.0</td>\n",
       "      <td>4.0</td>\n",
       "      <td>0.860000</td>\n",
       "    </tr>\n",
       "    <tr>\n",
       "      <th>7</th>\n",
       "      <td>ots_1615826291</td>\n",
       "      <td>3.0</td>\n",
       "      <td>91.357340</td>\n",
       "      <td>90.703072</td>\n",
       "      <td>0.721330</td>\n",
       "      <td>0.654268</td>\n",
       "      <td>78.000000</td>\n",
       "      <td>8.0</td>\n",
       "      <td>2.0</td>\n",
       "      <td>0.860000</td>\n",
       "    </tr>\n",
       "    <tr>\n",
       "      <th>5</th>\n",
       "      <td>ots_1615825880</td>\n",
       "      <td>1.0</td>\n",
       "      <td>90.831759</td>\n",
       "      <td>90.703072</td>\n",
       "      <td>0.141878</td>\n",
       "      <td>0.128688</td>\n",
       "      <td>80.000000</td>\n",
       "      <td>0.0</td>\n",
       "      <td>0.0</td>\n",
       "      <td>0.860000</td>\n",
       "    </tr>\n",
       "    <tr>\n",
       "      <th>4</th>\n",
       "      <td>model_1617404140</td>\n",
       "      <td>1.0</td>\n",
       "      <td>61.052366</td>\n",
       "      <td>60.633606</td>\n",
       "      <td>0.690640</td>\n",
       "      <td>0.418760</td>\n",
       "      <td>57.142857</td>\n",
       "      <td>0.0</td>\n",
       "      <td>0.0</td>\n",
       "      <td>0.714286</td>\n",
       "    </tr>\n",
       "    <tr>\n",
       "      <th>1</th>\n",
       "      <td>base_1617299627</td>\n",
       "      <td>1.0</td>\n",
       "      <td>49.368798</td>\n",
       "      <td>49.353867</td>\n",
       "      <td>0.030253</td>\n",
       "      <td>0.014931</td>\n",
       "      <td>46.153846</td>\n",
       "      <td>0.0</td>\n",
       "      <td>0.0</td>\n",
       "      <td>0.912088</td>\n",
       "    </tr>\n",
       "    <tr>\n",
       "      <th>3</th>\n",
       "      <td>base_1615828169</td>\n",
       "      <td>5.0</td>\n",
       "      <td>50.140138</td>\n",
       "      <td>49.353867</td>\n",
       "      <td>1.593129</td>\n",
       "      <td>0.786271</td>\n",
       "      <td>82.000000</td>\n",
       "      <td>16.0</td>\n",
       "      <td>4.0</td>\n",
       "      <td>0.880000</td>\n",
       "    </tr>\n",
       "    <tr>\n",
       "      <th>2</th>\n",
       "      <td>base_1615827722</td>\n",
       "      <td>3.0</td>\n",
       "      <td>49.605848</td>\n",
       "      <td>49.353867</td>\n",
       "      <td>0.510561</td>\n",
       "      <td>0.251981</td>\n",
       "      <td>84.000000</td>\n",
       "      <td>8.0</td>\n",
       "      <td>0.0</td>\n",
       "      <td>0.880000</td>\n",
       "    </tr>\n",
       "    <tr>\n",
       "      <th>0</th>\n",
       "      <td>base_1615827264</td>\n",
       "      <td>1.0</td>\n",
       "      <td>49.365100</td>\n",
       "      <td>49.353867</td>\n",
       "      <td>0.022761</td>\n",
       "      <td>0.011233</td>\n",
       "      <td>82.000000</td>\n",
       "      <td>0.0</td>\n",
       "      <td>0.0</td>\n",
       "      <td>0.920000</td>\n",
       "    </tr>\n",
       "  </tbody>\n",
       "</table>\n",
       "</div>"
      ],
      "text/plain": [
       "              model  edit_steps  mean_new_ppl  mean_orig_ppl  pct_ppl_dd  \\\n",
       "6    ots_1615826715         5.0     92.249127      90.703072    1.704523   \n",
       "7    ots_1615826291         3.0     91.357340      90.703072    0.721330   \n",
       "5    ots_1615825880         1.0     90.831759      90.703072    0.141878   \n",
       "4  model_1617404140         1.0     61.052366      60.633606    0.690640   \n",
       "1   base_1617299627         1.0     49.368798      49.353867    0.030253   \n",
       "3   base_1615828169         5.0     50.140138      49.353867    1.593129   \n",
       "2   base_1615827722         3.0     49.605848      49.353867    0.510561   \n",
       "0   base_1615827264         1.0     49.365100      49.353867    0.022761   \n",
       "\n",
       "   gross_ppl_dd  new_logits_higher  new_logits_higher05  new_logits_higher10  \\\n",
       "6      1.546055          72.000000                 16.0                  4.0   \n",
       "7      0.654268          78.000000                  8.0                  2.0   \n",
       "5      0.128688          80.000000                  0.0                  0.0   \n",
       "4      0.418760          57.142857                  0.0                  0.0   \n",
       "1      0.014931          46.153846                  0.0                  0.0   \n",
       "3      0.786271          82.000000                 16.0                  4.0   \n",
       "2      0.251981          84.000000                  8.0                  0.0   \n",
       "0      0.011233          82.000000                  0.0                  0.0   \n",
       "\n",
       "   success_by_probs  \n",
       "6          0.860000  \n",
       "7          0.860000  \n",
       "5          0.860000  \n",
       "4          0.714286  \n",
       "1          0.912088  \n",
       "3          0.880000  \n",
       "2          0.880000  \n",
       "0          0.920000  "
      ]
     },
     "metadata": {},
     "output_type": "display_data"
    }
   ],
   "source": [
    "comps = ModelComps(\n",
    "    model_name=\"model_epoch0_ts10000.20210402.20.04.1617395883\",\n",
    "    base_name=\"gpt2_epoch0_ts10000.20210310.18.03.1615401990\",\n",
    "    archive=False\n",
    ")\n",
    "\n",
    "comps.summary()"
   ]
  },
  {
   "cell_type": "code",
   "execution_count": 10,
   "id": "confirmed-subdivision",
   "metadata": {},
   "outputs": [
    {
     "name": "stdout",
     "output_type": "stream",
     "text": [
      "Model Parameters:\n"
     ]
    },
    {
     "data": {
      "text/html": [
       "<div>\n",
       "<style scoped>\n",
       "    .dataframe tbody tr th:only-of-type {\n",
       "        vertical-align: middle;\n",
       "    }\n",
       "\n",
       "    .dataframe tbody tr th {\n",
       "        vertical-align: top;\n",
       "    }\n",
       "\n",
       "    .dataframe thead th {\n",
       "        text-align: right;\n",
       "    }\n",
       "</style>\n",
       "<table border=\"1\" class=\"dataframe\">\n",
       "  <thead>\n",
       "    <tr style=\"text-align: right;\">\n",
       "      <th></th>\n",
       "      <th>inner_lr</th>\n",
       "      <th>outer_lr</th>\n",
       "      <th>epochs</th>\n",
       "      <th>n_edit_steps</th>\n",
       "      <th>cedit</th>\n",
       "      <th>cloc</th>\n",
       "    </tr>\n",
       "  </thead>\n",
       "  <tbody>\n",
       "    <tr>\n",
       "      <th>0</th>\n",
       "      <td>0.001</td>\n",
       "      <td>0.00001</td>\n",
       "      <td>1.0</td>\n",
       "      <td>1.0</td>\n",
       "      <td>1.0</td>\n",
       "      <td>10.0</td>\n",
       "    </tr>\n",
       "  </tbody>\n",
       "</table>\n",
       "</div>"
      ],
      "text/plain": [
       "   inner_lr  outer_lr  epochs  n_edit_steps  cedit  cloc\n",
       "0     0.001   0.00001     1.0           1.0    1.0  10.0"
      ]
     },
     "metadata": {},
     "output_type": "display_data"
    },
    {
     "name": "stdout",
     "output_type": "stream",
     "text": [
      "Success Metrics\n"
     ]
    },
    {
     "data": {
      "text/html": [
       "<div>\n",
       "<style scoped>\n",
       "    .dataframe tbody tr th:only-of-type {\n",
       "        vertical-align: middle;\n",
       "    }\n",
       "\n",
       "    .dataframe tbody tr th {\n",
       "        vertical-align: top;\n",
       "    }\n",
       "\n",
       "    .dataframe thead th {\n",
       "        text-align: right;\n",
       "    }\n",
       "</style>\n",
       "<table border=\"1\" class=\"dataframe\">\n",
       "  <thead>\n",
       "    <tr style=\"text-align: right;\">\n",
       "      <th></th>\n",
       "      <th>model</th>\n",
       "      <th>edit_steps</th>\n",
       "      <th>mean_new_ppl</th>\n",
       "      <th>mean_orig_ppl</th>\n",
       "      <th>pct_ppl_dd</th>\n",
       "      <th>gross_ppl_dd</th>\n",
       "      <th>new_logits_higher</th>\n",
       "      <th>new_logits_higher05</th>\n",
       "      <th>new_logits_higher10</th>\n",
       "      <th>success_by_probs</th>\n",
       "    </tr>\n",
       "  </thead>\n",
       "  <tbody>\n",
       "    <tr>\n",
       "      <th>5</th>\n",
       "      <td>ots_1615826715</td>\n",
       "      <td>5.0</td>\n",
       "      <td>92.249127</td>\n",
       "      <td>90.703072</td>\n",
       "      <td>1.704523</td>\n",
       "      <td>1.546055</td>\n",
       "      <td>72.000000</td>\n",
       "      <td>16.0</td>\n",
       "      <td>4.0</td>\n",
       "      <td>0.860000</td>\n",
       "    </tr>\n",
       "    <tr>\n",
       "      <th>6</th>\n",
       "      <td>ots_1615826291</td>\n",
       "      <td>3.0</td>\n",
       "      <td>91.357340</td>\n",
       "      <td>90.703072</td>\n",
       "      <td>0.721330</td>\n",
       "      <td>0.654268</td>\n",
       "      <td>78.000000</td>\n",
       "      <td>8.0</td>\n",
       "      <td>2.0</td>\n",
       "      <td>0.860000</td>\n",
       "    </tr>\n",
       "    <tr>\n",
       "      <th>4</th>\n",
       "      <td>ots_1615825880</td>\n",
       "      <td>1.0</td>\n",
       "      <td>90.831759</td>\n",
       "      <td>90.703072</td>\n",
       "      <td>0.141878</td>\n",
       "      <td>0.128688</td>\n",
       "      <td>80.000000</td>\n",
       "      <td>0.0</td>\n",
       "      <td>0.0</td>\n",
       "      <td>0.860000</td>\n",
       "    </tr>\n",
       "    <tr>\n",
       "      <th>1</th>\n",
       "      <td>base_1617299627</td>\n",
       "      <td>1.0</td>\n",
       "      <td>49.368798</td>\n",
       "      <td>49.353867</td>\n",
       "      <td>0.030253</td>\n",
       "      <td>0.014931</td>\n",
       "      <td>46.153846</td>\n",
       "      <td>0.0</td>\n",
       "      <td>0.0</td>\n",
       "      <td>0.912088</td>\n",
       "    </tr>\n",
       "    <tr>\n",
       "      <th>3</th>\n",
       "      <td>base_1615828169</td>\n",
       "      <td>5.0</td>\n",
       "      <td>50.140138</td>\n",
       "      <td>49.353867</td>\n",
       "      <td>1.593129</td>\n",
       "      <td>0.786271</td>\n",
       "      <td>82.000000</td>\n",
       "      <td>16.0</td>\n",
       "      <td>4.0</td>\n",
       "      <td>0.880000</td>\n",
       "    </tr>\n",
       "    <tr>\n",
       "      <th>2</th>\n",
       "      <td>base_1615827722</td>\n",
       "      <td>3.0</td>\n",
       "      <td>49.605848</td>\n",
       "      <td>49.353867</td>\n",
       "      <td>0.510561</td>\n",
       "      <td>0.251981</td>\n",
       "      <td>84.000000</td>\n",
       "      <td>8.0</td>\n",
       "      <td>0.0</td>\n",
       "      <td>0.880000</td>\n",
       "    </tr>\n",
       "    <tr>\n",
       "      <th>0</th>\n",
       "      <td>base_1615827264</td>\n",
       "      <td>1.0</td>\n",
       "      <td>49.365100</td>\n",
       "      <td>49.353867</td>\n",
       "      <td>0.022761</td>\n",
       "      <td>0.011233</td>\n",
       "      <td>82.000000</td>\n",
       "      <td>0.0</td>\n",
       "      <td>0.0</td>\n",
       "      <td>0.920000</td>\n",
       "    </tr>\n",
       "  </tbody>\n",
       "</table>\n",
       "</div>"
      ],
      "text/plain": [
       "             model  edit_steps  mean_new_ppl  mean_orig_ppl  pct_ppl_dd  \\\n",
       "5   ots_1615826715         5.0     92.249127      90.703072    1.704523   \n",
       "6   ots_1615826291         3.0     91.357340      90.703072    0.721330   \n",
       "4   ots_1615825880         1.0     90.831759      90.703072    0.141878   \n",
       "1  base_1617299627         1.0     49.368798      49.353867    0.030253   \n",
       "3  base_1615828169         5.0     50.140138      49.353867    1.593129   \n",
       "2  base_1615827722         3.0     49.605848      49.353867    0.510561   \n",
       "0  base_1615827264         1.0     49.365100      49.353867    0.022761   \n",
       "\n",
       "   gross_ppl_dd  new_logits_higher  new_logits_higher05  new_logits_higher10  \\\n",
       "5      1.546055          72.000000                 16.0                  4.0   \n",
       "6      0.654268          78.000000                  8.0                  2.0   \n",
       "4      0.128688          80.000000                  0.0                  0.0   \n",
       "1      0.014931          46.153846                  0.0                  0.0   \n",
       "3      0.786271          82.000000                 16.0                  4.0   \n",
       "2      0.251981          84.000000                  8.0                  0.0   \n",
       "0      0.011233          82.000000                  0.0                  0.0   \n",
       "\n",
       "   success_by_probs  \n",
       "5          0.860000  \n",
       "6          0.860000  \n",
       "4          0.860000  \n",
       "1          0.912088  \n",
       "3          0.880000  \n",
       "2          0.880000  \n",
       "0          0.920000  "
      ]
     },
     "metadata": {},
     "output_type": "display_data"
    }
   ],
   "source": [
    "comps = ModelComps(\n",
    "    model_name=\"model_epoch0_ts8000.20210401.21.04.1617312405\",\n",
    "    base_name=\"gpt2_epoch0_ts10000.20210310.18.03.1615401990\",\n",
    "    archive=False\n",
    ")\n",
    "\n",
    "comps.summary()"
   ]
  },
  {
   "cell_type": "code",
   "execution_count": 10,
   "id": "forbidden-killing",
   "metadata": {},
   "outputs": [
    {
     "name": "stdout",
     "output_type": "stream",
     "text": [
      "Model Parameters:\n"
     ]
    },
    {
     "data": {
      "text/html": [
       "<div>\n",
       "<style scoped>\n",
       "    .dataframe tbody tr th:only-of-type {\n",
       "        vertical-align: middle;\n",
       "    }\n",
       "\n",
       "    .dataframe tbody tr th {\n",
       "        vertical-align: top;\n",
       "    }\n",
       "\n",
       "    .dataframe thead th {\n",
       "        text-align: right;\n",
       "    }\n",
       "</style>\n",
       "<table border=\"1\" class=\"dataframe\">\n",
       "  <thead>\n",
       "    <tr style=\"text-align: right;\">\n",
       "      <th></th>\n",
       "      <th>inner_lr</th>\n",
       "      <th>outer_lr</th>\n",
       "      <th>epochs</th>\n",
       "      <th>n_edit_steps</th>\n",
       "      <th>cedit</th>\n",
       "      <th>cloc</th>\n",
       "    </tr>\n",
       "  </thead>\n",
       "  <tbody>\n",
       "    <tr>\n",
       "      <th>0</th>\n",
       "      <td>0.001</td>\n",
       "      <td>0.00001</td>\n",
       "      <td>1.0</td>\n",
       "      <td>1.0</td>\n",
       "      <td>0.5</td>\n",
       "      <td>5.0</td>\n",
       "    </tr>\n",
       "  </tbody>\n",
       "</table>\n",
       "</div>"
      ],
      "text/plain": [
       "   inner_lr  outer_lr  epochs  n_edit_steps  cedit  cloc\n",
       "0     0.001   0.00001     1.0           1.0    0.5   5.0"
      ]
     },
     "metadata": {},
     "output_type": "display_data"
    },
    {
     "name": "stdout",
     "output_type": "stream",
     "text": [
      "Success Metrics\n"
     ]
    },
    {
     "data": {
      "text/html": [
       "<div>\n",
       "<style scoped>\n",
       "    .dataframe tbody tr th:only-of-type {\n",
       "        vertical-align: middle;\n",
       "    }\n",
       "\n",
       "    .dataframe tbody tr th {\n",
       "        vertical-align: top;\n",
       "    }\n",
       "\n",
       "    .dataframe thead th {\n",
       "        text-align: right;\n",
       "    }\n",
       "</style>\n",
       "<table border=\"1\" class=\"dataframe\">\n",
       "  <thead>\n",
       "    <tr style=\"text-align: right;\">\n",
       "      <th></th>\n",
       "      <th>model</th>\n",
       "      <th>edit_steps</th>\n",
       "      <th>mean_new_ppl</th>\n",
       "      <th>mean_orig_ppl</th>\n",
       "      <th>pct_ppl_dd</th>\n",
       "      <th>gross_ppl_dd</th>\n",
       "      <th>new_logits_higher</th>\n",
       "      <th>new_logits_higher05</th>\n",
       "      <th>new_logits_higher10</th>\n",
       "      <th>success_by_probs</th>\n",
       "    </tr>\n",
       "  </thead>\n",
       "  <tbody>\n",
       "    <tr>\n",
       "      <th>8</th>\n",
       "      <td>ots_1615826715</td>\n",
       "      <td>5.0</td>\n",
       "      <td>92.249127</td>\n",
       "      <td>90.703072</td>\n",
       "      <td>1.704523</td>\n",
       "      <td>1.546055</td>\n",
       "      <td>72.0</td>\n",
       "      <td>16.0</td>\n",
       "      <td>4.0</td>\n",
       "      <td>0.86</td>\n",
       "    </tr>\n",
       "    <tr>\n",
       "      <th>6</th>\n",
       "      <td>ots_1615826291</td>\n",
       "      <td>3.0</td>\n",
       "      <td>91.357340</td>\n",
       "      <td>90.703072</td>\n",
       "      <td>0.721330</td>\n",
       "      <td>0.654268</td>\n",
       "      <td>78.0</td>\n",
       "      <td>8.0</td>\n",
       "      <td>2.0</td>\n",
       "      <td>0.86</td>\n",
       "    </tr>\n",
       "    <tr>\n",
       "      <th>7</th>\n",
       "      <td>ots_1615825880</td>\n",
       "      <td>1.0</td>\n",
       "      <td>90.831759</td>\n",
       "      <td>90.703072</td>\n",
       "      <td>0.141878</td>\n",
       "      <td>0.128688</td>\n",
       "      <td>80.0</td>\n",
       "      <td>0.0</td>\n",
       "      <td>0.0</td>\n",
       "      <td>0.86</td>\n",
       "    </tr>\n",
       "    <tr>\n",
       "      <th>5</th>\n",
       "      <td>model_1618332554</td>\n",
       "      <td>3.0</td>\n",
       "      <td>38.728669</td>\n",
       "      <td>38.728638</td>\n",
       "      <td>0.000080</td>\n",
       "      <td>0.000031</td>\n",
       "      <td>75.0</td>\n",
       "      <td>0.0</td>\n",
       "      <td>0.0</td>\n",
       "      <td>0.79</td>\n",
       "    </tr>\n",
       "    <tr>\n",
       "      <th>4</th>\n",
       "      <td>model_1618269833</td>\n",
       "      <td>1.0</td>\n",
       "      <td>38.728517</td>\n",
       "      <td>38.728638</td>\n",
       "      <td>-0.000313</td>\n",
       "      <td>-0.000121</td>\n",
       "      <td>76.0</td>\n",
       "      <td>0.0</td>\n",
       "      <td>0.0</td>\n",
       "      <td>0.80</td>\n",
       "    </tr>\n",
       "    <tr>\n",
       "      <th>3</th>\n",
       "      <td>model_1618263251</td>\n",
       "      <td>1.0</td>\n",
       "      <td>38.751482</td>\n",
       "      <td>38.728638</td>\n",
       "      <td>0.058987</td>\n",
       "      <td>0.022845</td>\n",
       "      <td>73.0</td>\n",
       "      <td>0.0</td>\n",
       "      <td>0.0</td>\n",
       "      <td>0.95</td>\n",
       "    </tr>\n",
       "    <tr>\n",
       "      <th>0</th>\n",
       "      <td>base_1618332574</td>\n",
       "      <td>3.0</td>\n",
       "      <td>32.865040</td>\n",
       "      <td>32.862228</td>\n",
       "      <td>0.008557</td>\n",
       "      <td>0.002812</td>\n",
       "      <td>64.0</td>\n",
       "      <td>0.0</td>\n",
       "      <td>0.0</td>\n",
       "      <td>0.87</td>\n",
       "    </tr>\n",
       "    <tr>\n",
       "      <th>1</th>\n",
       "      <td>base_1618277028</td>\n",
       "      <td>1.0</td>\n",
       "      <td>32.862154</td>\n",
       "      <td>32.862228</td>\n",
       "      <td>-0.000226</td>\n",
       "      <td>-0.000074</td>\n",
       "      <td>64.0</td>\n",
       "      <td>0.0</td>\n",
       "      <td>0.0</td>\n",
       "      <td>0.84</td>\n",
       "    </tr>\n",
       "    <tr>\n",
       "      <th>2</th>\n",
       "      <td>base_1618004708</td>\n",
       "      <td>1.0</td>\n",
       "      <td>32.862900</td>\n",
       "      <td>32.862228</td>\n",
       "      <td>0.002044</td>\n",
       "      <td>0.000672</td>\n",
       "      <td>52.0</td>\n",
       "      <td>1.0</td>\n",
       "      <td>1.0</td>\n",
       "      <td>0.99</td>\n",
       "    </tr>\n",
       "  </tbody>\n",
       "</table>\n",
       "</div>"
      ],
      "text/plain": [
       "              model  edit_steps  mean_new_ppl  mean_orig_ppl  pct_ppl_dd  \\\n",
       "8    ots_1615826715         5.0     92.249127      90.703072    1.704523   \n",
       "6    ots_1615826291         3.0     91.357340      90.703072    0.721330   \n",
       "7    ots_1615825880         1.0     90.831759      90.703072    0.141878   \n",
       "5  model_1618332554         3.0     38.728669      38.728638    0.000080   \n",
       "4  model_1618269833         1.0     38.728517      38.728638   -0.000313   \n",
       "3  model_1618263251         1.0     38.751482      38.728638    0.058987   \n",
       "0   base_1618332574         3.0     32.865040      32.862228    0.008557   \n",
       "1   base_1618277028         1.0     32.862154      32.862228   -0.000226   \n",
       "2   base_1618004708         1.0     32.862900      32.862228    0.002044   \n",
       "\n",
       "   gross_ppl_dd  new_logits_higher  new_logits_higher05  new_logits_higher10  \\\n",
       "8      1.546055               72.0                 16.0                  4.0   \n",
       "6      0.654268               78.0                  8.0                  2.0   \n",
       "7      0.128688               80.0                  0.0                  0.0   \n",
       "5      0.000031               75.0                  0.0                  0.0   \n",
       "4     -0.000121               76.0                  0.0                  0.0   \n",
       "3      0.022845               73.0                  0.0                  0.0   \n",
       "0      0.002812               64.0                  0.0                  0.0   \n",
       "1     -0.000074               64.0                  0.0                  0.0   \n",
       "2      0.000672               52.0                  1.0                  1.0   \n",
       "\n",
       "   success_by_probs  \n",
       "8              0.86  \n",
       "6              0.86  \n",
       "7              0.86  \n",
       "5              0.79  \n",
       "4              0.80  \n",
       "3              0.95  \n",
       "0              0.87  \n",
       "1              0.84  \n",
       "2              0.99  "
      ]
     },
     "metadata": {},
     "output_type": "display_data"
    }
   ],
   "source": [
    "comps = ModelComps(\n",
    "    model_name=\"editable_epoch0_ts10000.20210412.12.04.1618256226\",\n",
    "    base_name=\"gpt2_epoch0_ts10000.20210408.09.04.1617899457\",\n",
    "    archive=False\n",
    ")\n",
    "\n",
    "comps.summary()"
   ]
  },
  {
   "cell_type": "code",
   "execution_count": 9,
   "id": "fleet-conservation",
   "metadata": {},
   "outputs": [
    {
     "name": "stdout",
     "output_type": "stream",
     "text": [
      "Model Parameters:\n"
     ]
    },
    {
     "data": {
      "text/html": [
       "<div>\n",
       "<style scoped>\n",
       "    .dataframe tbody tr th:only-of-type {\n",
       "        vertical-align: middle;\n",
       "    }\n",
       "\n",
       "    .dataframe tbody tr th {\n",
       "        vertical-align: top;\n",
       "    }\n",
       "\n",
       "    .dataframe thead th {\n",
       "        text-align: right;\n",
       "    }\n",
       "</style>\n",
       "<table border=\"1\" class=\"dataframe\">\n",
       "  <thead>\n",
       "    <tr style=\"text-align: right;\">\n",
       "      <th></th>\n",
       "      <th>inner_lr</th>\n",
       "      <th>outer_lr</th>\n",
       "      <th>epochs</th>\n",
       "      <th>n_edit_steps</th>\n",
       "      <th>cedit</th>\n",
       "      <th>cloc</th>\n",
       "    </tr>\n",
       "  </thead>\n",
       "  <tbody>\n",
       "    <tr>\n",
       "      <th>0</th>\n",
       "      <td>0.001</td>\n",
       "      <td>0.00001</td>\n",
       "      <td>1.0</td>\n",
       "      <td>1.0</td>\n",
       "      <td>1.0</td>\n",
       "      <td>10.0</td>\n",
       "    </tr>\n",
       "  </tbody>\n",
       "</table>\n",
       "</div>"
      ],
      "text/plain": [
       "   inner_lr  outer_lr  epochs  n_edit_steps  cedit  cloc\n",
       "0     0.001   0.00001     1.0           1.0    1.0  10.0"
      ]
     },
     "metadata": {},
     "output_type": "display_data"
    },
    {
     "name": "stdout",
     "output_type": "stream",
     "text": [
      "Success Metrics\n"
     ]
    },
    {
     "data": {
      "text/html": [
       "<div>\n",
       "<style scoped>\n",
       "    .dataframe tbody tr th:only-of-type {\n",
       "        vertical-align: middle;\n",
       "    }\n",
       "\n",
       "    .dataframe tbody tr th {\n",
       "        vertical-align: top;\n",
       "    }\n",
       "\n",
       "    .dataframe thead th {\n",
       "        text-align: right;\n",
       "    }\n",
       "</style>\n",
       "<table border=\"1\" class=\"dataframe\">\n",
       "  <thead>\n",
       "    <tr style=\"text-align: right;\">\n",
       "      <th></th>\n",
       "      <th>model</th>\n",
       "      <th>edit_steps</th>\n",
       "      <th>mean_new_ppl</th>\n",
       "      <th>mean_orig_ppl</th>\n",
       "      <th>pct_ppl_dd</th>\n",
       "      <th>gross_ppl_dd</th>\n",
       "      <th>new_logits_higher</th>\n",
       "      <th>new_logits_higher05</th>\n",
       "      <th>new_logits_higher10</th>\n",
       "      <th>success_by_probs</th>\n",
       "    </tr>\n",
       "  </thead>\n",
       "  <tbody>\n",
       "    <tr>\n",
       "      <th>4</th>\n",
       "      <td>ots_1615826715</td>\n",
       "      <td>5.0</td>\n",
       "      <td>92.249127</td>\n",
       "      <td>90.703072</td>\n",
       "      <td>1.704523</td>\n",
       "      <td>1.546055</td>\n",
       "      <td>72.0</td>\n",
       "      <td>16.0</td>\n",
       "      <td>4.0</td>\n",
       "      <td>0.86</td>\n",
       "    </tr>\n",
       "    <tr>\n",
       "      <th>2</th>\n",
       "      <td>ots_1615826291</td>\n",
       "      <td>3.0</td>\n",
       "      <td>91.357340</td>\n",
       "      <td>90.703072</td>\n",
       "      <td>0.721330</td>\n",
       "      <td>0.654268</td>\n",
       "      <td>78.0</td>\n",
       "      <td>8.0</td>\n",
       "      <td>2.0</td>\n",
       "      <td>0.86</td>\n",
       "    </tr>\n",
       "    <tr>\n",
       "      <th>3</th>\n",
       "      <td>ots_1615825880</td>\n",
       "      <td>1.0</td>\n",
       "      <td>90.831759</td>\n",
       "      <td>90.703072</td>\n",
       "      <td>0.141878</td>\n",
       "      <td>0.128688</td>\n",
       "      <td>80.0</td>\n",
       "      <td>0.0</td>\n",
       "      <td>0.0</td>\n",
       "      <td>0.86</td>\n",
       "    </tr>\n",
       "    <tr>\n",
       "      <th>0</th>\n",
       "      <td>base_1618277028</td>\n",
       "      <td>1.0</td>\n",
       "      <td>32.862154</td>\n",
       "      <td>32.862228</td>\n",
       "      <td>-0.000226</td>\n",
       "      <td>-0.000074</td>\n",
       "      <td>64.0</td>\n",
       "      <td>0.0</td>\n",
       "      <td>0.0</td>\n",
       "      <td>0.84</td>\n",
       "    </tr>\n",
       "    <tr>\n",
       "      <th>1</th>\n",
       "      <td>base_1618004708</td>\n",
       "      <td>1.0</td>\n",
       "      <td>32.862900</td>\n",
       "      <td>32.862228</td>\n",
       "      <td>0.002044</td>\n",
       "      <td>0.000672</td>\n",
       "      <td>52.0</td>\n",
       "      <td>1.0</td>\n",
       "      <td>1.0</td>\n",
       "      <td>0.99</td>\n",
       "    </tr>\n",
       "  </tbody>\n",
       "</table>\n",
       "</div>"
      ],
      "text/plain": [
       "             model  edit_steps  mean_new_ppl  mean_orig_ppl  pct_ppl_dd  \\\n",
       "4   ots_1615826715         5.0     92.249127      90.703072    1.704523   \n",
       "2   ots_1615826291         3.0     91.357340      90.703072    0.721330   \n",
       "3   ots_1615825880         1.0     90.831759      90.703072    0.141878   \n",
       "0  base_1618277028         1.0     32.862154      32.862228   -0.000226   \n",
       "1  base_1618004708         1.0     32.862900      32.862228    0.002044   \n",
       "\n",
       "   gross_ppl_dd  new_logits_higher  new_logits_higher05  new_logits_higher10  \\\n",
       "4      1.546055               72.0                 16.0                  4.0   \n",
       "2      0.654268               78.0                  8.0                  2.0   \n",
       "3      0.128688               80.0                  0.0                  0.0   \n",
       "0     -0.000074               64.0                  0.0                  0.0   \n",
       "1      0.000672               52.0                  1.0                  1.0   \n",
       "\n",
       "   success_by_probs  \n",
       "4              0.86  \n",
       "2              0.86  \n",
       "3              0.86  \n",
       "0              0.84  \n",
       "1              0.99  "
      ]
     },
     "metadata": {},
     "output_type": "display_data"
    }
   ],
   "source": [
    "comps = ModelComps(\n",
    "    model_name=\"editable_epoch0_ts10000.20210412.11.04.1618251986\",\n",
    "    base_name=\"gpt2_epoch0_ts10000.20210408.09.04.1617899457\",\n",
    "    archive=False\n",
    ")\n",
    "\n",
    "comps.summary()"
   ]
  },
  {
   "cell_type": "code",
   "execution_count": null,
   "id": "western-click",
   "metadata": {},
   "outputs": [],
   "source": []
  }
 ],
 "metadata": {
  "kernelspec": {
   "display_name": "Python 3",
   "language": "python",
   "name": "python3"
  },
  "language_info": {
   "codemirror_mode": {
    "name": "ipython",
    "version": 3
   },
   "file_extension": ".py",
   "mimetype": "text/x-python",
   "name": "python",
   "nbconvert_exporter": "python",
   "pygments_lexer": "ipython3",
   "version": "3.7.9"
  },
  "toc": {
   "base_numbering": 1,
   "nav_menu": {},
   "number_sections": true,
   "sideBar": true,
   "skip_h1_title": false,
   "title_cell": "",
   "title_sidebar": "Contents",
   "toc_cell": true,
   "toc_position": {},
   "toc_section_display": true,
   "toc_window_display": false
  }
 },
 "nbformat": 4,
 "nbformat_minor": 5
}
