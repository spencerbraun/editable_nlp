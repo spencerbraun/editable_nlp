{
 "cells": [
  {
   "cell_type": "code",
   "execution_count": 13,
   "id": "caroline-assessment",
   "metadata": {},
   "outputs": [],
   "source": [
    "import glob\n",
    "import sys \n",
    "\n",
    "import numpy as np\n",
    "import pandas as pd\n",
    "import torch\n",
    "\n",
    "import matplotlib\n",
    "import matplotlib.pyplot as plt\n",
    "%matplotlib inline\n",
    "\n",
    "\n",
    "from IPython.display import display\n",
    "\n",
    "sys.path.append(\"../src\")\n",
    "from evaluate import evalSingleEdits\n",
    "import utils\n",
    "from utils import retrieveDataloader\n",
    "\n",
    "\n",
    "matplotlib.rcParams['figure.figsize'] = (6, 4)"
   ]
  },
  {
   "cell_type": "code",
   "execution_count": 71,
   "id": "conceptual-chemical",
   "metadata": {},
   "outputs": [],
   "source": [
    "class ModelComps:\n",
    "    def __init__(self, model_name, base_name, archive=False, test=False):\n",
    "        \n",
    "        self.test = test\n",
    "        self.archive = archive\n",
    "        self.model_name = model_name\n",
    "        self.base_name = base_name\n",
    "        self.ots_name = \"OTS\"\n",
    "        self.models = {}\n",
    "        self.modelStats = self.getModelParams()\n",
    "        \n",
    "        self.stats = {}\n",
    "    \n",
    "    \n",
    "    def getModelParams(self):\n",
    "        model_id = \".\".join(self.model_name.split(\".\")[1:])\n",
    "        return pd.Series(torch.load(f\"../models/hypers.{model_id}\")).to_frame().T\n",
    "        \n",
    "\n",
    "    def readData(self, model_name, kind='model'):\n",
    "        if self.archive:\n",
    "            eval_glob = glob.glob(f\"./archive/*{model_name}\")\n",
    "        elif self.test:\n",
    "            eval_glob = glob.glob(f\"./test/*{model_name}\")\n",
    "        else:\n",
    "            eval_glob = glob.glob(f\"./*{model_name}\")\n",
    "        for evaluation in eval_glob:\n",
    "            df = pd.read_csv(evaluation)\n",
    "            eval_id = f\"{kind}_{evaluation.split('.')[4].split('_')[0]}\"\n",
    "            self.models[eval_id] = df\n",
    "    \n",
    "    def runStats(self):\n",
    "        if not self.models:\n",
    "            self.readData(self.base_name, kind='base')\n",
    "            self.readData(self.model_name)\n",
    "            self.readData(self.ots_name, kind='ots')\n",
    "            \n",
    "        for name, model in self.models.items():  \n",
    "            mean_new_ppl = model.new_ppl.mean() \n",
    "            mean_orig_ppl = model.orig_ppl.mean() \n",
    "            pct_ppl_dd = model.apply(lambda x: 100*(x.new_ppl - x.orig_ppl)/x.orig_ppl, axis=1).mean()\n",
    "            gross_ppl_dd = model.apply(lambda x: x.new_ppl - x.orig_ppl, axis=1).mean()\n",
    "            new_logits_higher = model.success.mean()\n",
    "            new_logits_higher05 = model.apply(lambda x: x.new_logits > 0.95*x.orig_logits,axis=1).mean()\n",
    "            new_logits_higher10 = model.apply(lambda x: x.new_logits > 0.90*x.orig_logits,axis=1).mean()\n",
    "\n",
    "            success_by_probs = model.apply(lambda x: x.new_prob > x.old_prob, axis=1).mean()\n",
    "            n_edit_steps = model.n_edit_steps.max()\n",
    "\n",
    "            \n",
    "            self.stats[name] = {\n",
    "                \"edit_steps\":n_edit_steps,\n",
    "                \"mean_new_ppl\":mean_new_ppl,\n",
    "                \"mean_orig_ppl\":mean_orig_ppl,\n",
    "                \"pct_ppl_dd\":pct_ppl_dd,\n",
    "                \"gross_ppl_dd\":gross_ppl_dd,\n",
    "                \"new_logits_higher\":new_logits_higher,\n",
    "                \"new_logits_higher05\":new_logits_higher05,\n",
    "                \"new_logits_higher10\":new_logits_higher10,\n",
    "                \"success_by_probs\":success_by_probs,\n",
    "            }\n",
    "    \n",
    "    @property\n",
    "    def statDf(self):\n",
    "        stats_df = (\n",
    "            pd.DataFrame(self.stats).T\n",
    "            .reset_index()\n",
    "            .rename(columns={'index':'model'})\n",
    "            .sort_values([\"model\", \"edit_steps\"], ascending=False)\n",
    "        )\n",
    "        \n",
    "        return stats_df\n",
    "    \n",
    "    def summary(self):\n",
    "        if not self.stats:\n",
    "            self.runStats()\n",
    "        print(\"Model Parameters:\")\n",
    "        display(self.modelStats)\n",
    "        \n",
    "        print(\"Success Metrics\")\n",
    "        stats_df = (\n",
    "            pd.DataFrame(self.stats).T\n",
    "            .reset_index()\n",
    "            .rename(columns={'index':'model'})\n",
    "            .sort_values([\"model\", \"edit_steps\"], ascending=False)\n",
    "        )\n",
    "        \n",
    "        display(stats_df)\n",
    "        \n",
    "    \n",
    "    def runEvaluation(self, n_edit_steps=[1], ots=False, baseline=False):\n",
    "        \n",
    "        model_path = f\"../models/{self.model_name}\"\n",
    "        model, tokenizer = utils.loadTrainedModel(model_path)\n",
    "        dataloader = retrieveDataloader(\n",
    "            tokenizer, bs=1, dataset='valid', max_obs=500\n",
    "        )\n",
    "\n",
    "        for nes in n_edit_steps:\n",
    "            _, _ = evalSingleEdits(\n",
    "                model, \n",
    "                dataloader, \n",
    "                model_path, \n",
    "                int(nes)\n",
    "                )\n",
    "            if baseline:\n",
    "                base_path = f\"../models/finetune/{self.baseline}\"\n",
    "                model_baseline, _ = utils.loadTrainedModel(base_path)\n",
    "                _, _ = evalSingleEdits(\n",
    "                    model_baseline, \n",
    "                    dataloader, \n",
    "                    base_path, \n",
    "                    int(nes)\n",
    "                    )\n",
    "            if ots:\n",
    "                model_ots, _ = utils.loadOTSModel()\n",
    "                _, _ = evalSingleEdits(\n",
    "                    model_ots, \n",
    "                    dataloader, \n",
    "                    \"OTS\", \n",
    "                    int(nes)\n",
    "                    )\n",
    "                \n",
    "    def plotter(self, xlim=[]):\n",
    "        print(\"Plotting Logits\")\n",
    "        for name, model in self.models.items():\n",
    "            print(name)\n",
    "\n",
    "            plt.hist(model.orig_logits, alpha=0.4, label=\"Pre-Edit\")\n",
    "            plt.hist(model.new_logits, alpha=0.4, label=\"Post-Edit\")\n",
    "            if name[:3] == 'ots':\n",
    "                plt.legend(fontsize='large')\n",
    "            \n",
    "            if xlim:\n",
    "                plt.xlim(xlim)\n",
    "            plt.xlabel(\"Edited Entity Logits\", fontsize='large')\n",
    "            plt.ylabel(\"\", fontsize='large')\n",
    "            plt.show()\n",
    "\n",
    "       \n",
    "        print(\"Plotting % Logit Diffs\")\n",
    "        for name, model in self.models.items():\n",
    "            try:\n",
    "                plt.hist(abs(model.orig_logits - model.new_logits) / abs(model.orig_logits), alpha=0.5, label=name, bins=30)\n",
    "            except:\n",
    "                continue\n",
    "        plt.legend()\n",
    "        plt.show()\n",
    "\n"
   ]
  },
  {
   "cell_type": "code",
   "execution_count": null,
   "id": "orange-drove",
   "metadata": {},
   "outputs": [
    {
     "name": "stdout",
     "output_type": "stream",
     "text": [
      "Model Parameters:\n"
     ]
    }
   ],
   "source": [
    "comps_test = ModelComps(\n",
    "    model_name=\"model_epoch0_ts10000.20210314.16.03.1615740151\",\n",
    "    base_name=\"gpt2_epoch0_ts10000.20210310.18.03.1615401990\",\n",
    "    test=True\n",
    ")\n",
    "\n",
    "comps_test.summary()"
   ]
  },
  {
   "cell_type": "code",
   "execution_count": 70,
   "id": "spanish-steal",
   "metadata": {},
   "outputs": [
    {
     "name": "stdout",
     "output_type": "stream",
     "text": [
      "Plotting Logits\n",
      "base_1615915432\n"
     ]
    },
    {
     "data": {
      "image/png": "[encoded data removed]",
      "text/plain": [
       "<Figure size 720x288 with 1 Axes>"
      ]
     },
     "metadata": {
      "needs_background": "light"
     },
     "output_type": "display_data"
    },
    {
     "name": "stdout",
     "output_type": "stream",
     "text": [
      "model_1615923769\n"
     ]
    },
    {
     "data": {
      "image/png": "[encoded data removed]",
      "text/plain": [
       "<Figure size 720x288 with 1 Axes>"
      ]
     },
     "metadata": {
      "needs_background": "light"
     },
     "output_type": "display_data"
    },
    {
     "name": "stdout",
     "output_type": "stream",
     "text": [
      "ots_1615918315\n"
     ]
    },
    {
     "data": {
      "image/png": "[encoded data removed]",
      "text/plain": [
       "<Figure size 720x288 with 1 Axes>"
      ]
     },
     "metadata": {
      "needs_background": "light"
     },
     "output_type": "display_data"
    },
    {
     "name": "stdout",
     "output_type": "stream",
     "text": [
      "Plotting % Logit Diffs\n"
     ]
    },
    {
     "data": {
      "image/png": "[encoded data removed]",
      "text/plain": [
       "<Figure size 720x288 with 1 Axes>"
      ]
     },
     "metadata": {
      "needs_background": "light"
     },
     "output_type": "display_data"
    }
   ],
   "source": [
    "matplotlib.rcParams['figure.figsize'] = (10, 4)\n",
    "comps_test.plotter([-600,0])\n"
   ]
  },
  {
   "cell_type": "markdown",
   "id": "editorial-madonna",
   "metadata": {},
   "source": [
    "# model_epoch0_ts10000.20210314.16.03.1615740151\n",
    "## cedit=1, cloc=10, 10k steps\n",
    "Notes: Model run morning of 3/14, showed best performance to date."
   ]
  },
  {
   "cell_type": "code",
   "execution_count": 9,
   "id": "recovered-romantic",
   "metadata": {},
   "outputs": [
    {
     "name": "stdout",
     "output_type": "stream",
     "text": [
      "Model Parameters:\n"
     ]
    },
    {
     "data": {
      "text/html": [
       "<div>\n",
       "<style scoped>\n",
       "    .dataframe tbody tr th:only-of-type {\n",
       "        vertical-align: middle;\n",
       "    }\n",
       "\n",
       "    .dataframe tbody tr th {\n",
       "        vertical-align: top;\n",
       "    }\n",
       "\n",
       "    .dataframe thead th {\n",
       "        text-align: right;\n",
       "    }\n",
       "</style>\n",
       "<table border=\"1\" class=\"dataframe\">\n",
       "  <thead>\n",
       "    <tr style=\"text-align: right;\">\n",
       "      <th></th>\n",
       "      <th>inner_lr</th>\n",
       "      <th>outer_lr</th>\n",
       "      <th>n_edit_steps</th>\n",
       "      <th>cedit</th>\n",
       "      <th>cloc</th>\n",
       "    </tr>\n",
       "  </thead>\n",
       "  <tbody>\n",
       "    <tr>\n",
       "      <th>0</th>\n",
       "      <td>0.001</td>\n",
       "      <td>0.00001</td>\n",
       "      <td>1.0</td>\n",
       "      <td>1.0</td>\n",
       "      <td>10.0</td>\n",
       "    </tr>\n",
       "  </tbody>\n",
       "</table>\n",
       "</div>"
      ],
      "text/plain": [
       "   inner_lr  outer_lr  n_edit_steps  cedit  cloc\n",
       "0     0.001   0.00001           1.0    1.0  10.0"
      ]
     },
     "metadata": {},
     "output_type": "display_data"
    },
    {
     "name": "stdout",
     "output_type": "stream",
     "text": [
      "Success Metrics\n"
     ]
    },
    {
     "data": {
      "text/html": [
       "<div>\n",
       "<style scoped>\n",
       "    .dataframe tbody tr th:only-of-type {\n",
       "        vertical-align: middle;\n",
       "    }\n",
       "\n",
       "    .dataframe tbody tr th {\n",
       "        vertical-align: top;\n",
       "    }\n",
       "\n",
       "    .dataframe thead th {\n",
       "        text-align: right;\n",
       "    }\n",
       "</style>\n",
       "<table border=\"1\" class=\"dataframe\">\n",
       "  <thead>\n",
       "    <tr style=\"text-align: right;\">\n",
       "      <th></th>\n",
       "      <th>model</th>\n",
       "      <th>edit_steps</th>\n",
       "      <th>mean_new_ppl</th>\n",
       "      <th>mean_orig_ppl</th>\n",
       "      <th>pct_ppl_dd</th>\n",
       "      <th>gross_ppl_dd</th>\n",
       "      <th>new_logits_higher</th>\n",
       "      <th>new_logits_higher05</th>\n",
       "      <th>new_logits_higher10</th>\n",
       "      <th>success_by_probs</th>\n",
       "    </tr>\n",
       "  </thead>\n",
       "  <tbody>\n",
       "    <tr>\n",
       "      <th>7</th>\n",
       "      <td>ots_1615826715</td>\n",
       "      <td>5.0</td>\n",
       "      <td>92.249127</td>\n",
       "      <td>90.703072</td>\n",
       "      <td>1.704523</td>\n",
       "      <td>1.546055</td>\n",
       "      <td>0.72</td>\n",
       "      <td>0.16</td>\n",
       "      <td>0.04</td>\n",
       "      <td>0.86</td>\n",
       "    </tr>\n",
       "    <tr>\n",
       "      <th>8</th>\n",
       "      <td>ots_1615826291</td>\n",
       "      <td>3.0</td>\n",
       "      <td>91.357340</td>\n",
       "      <td>90.703072</td>\n",
       "      <td>0.721330</td>\n",
       "      <td>0.654268</td>\n",
       "      <td>0.78</td>\n",
       "      <td>0.08</td>\n",
       "      <td>0.02</td>\n",
       "      <td>0.86</td>\n",
       "    </tr>\n",
       "    <tr>\n",
       "      <th>6</th>\n",
       "      <td>ots_1615825880</td>\n",
       "      <td>1.0</td>\n",
       "      <td>90.831759</td>\n",
       "      <td>90.703072</td>\n",
       "      <td>0.141878</td>\n",
       "      <td>0.128688</td>\n",
       "      <td>0.80</td>\n",
       "      <td>0.00</td>\n",
       "      <td>0.00</td>\n",
       "      <td>0.86</td>\n",
       "    </tr>\n",
       "    <tr>\n",
       "      <th>3</th>\n",
       "      <td>model_1615825376</td>\n",
       "      <td>5.0</td>\n",
       "      <td>89.211466</td>\n",
       "      <td>77.696777</td>\n",
       "      <td>14.820034</td>\n",
       "      <td>11.514689</td>\n",
       "      <td>0.82</td>\n",
       "      <td>0.58</td>\n",
       "      <td>0.46</td>\n",
       "      <td>0.92</td>\n",
       "    </tr>\n",
       "    <tr>\n",
       "      <th>4</th>\n",
       "      <td>model_1615822571</td>\n",
       "      <td>3.0</td>\n",
       "      <td>84.700869</td>\n",
       "      <td>77.696777</td>\n",
       "      <td>9.014649</td>\n",
       "      <td>7.004092</td>\n",
       "      <td>0.82</td>\n",
       "      <td>0.58</td>\n",
       "      <td>0.42</td>\n",
       "      <td>0.94</td>\n",
       "    </tr>\n",
       "    <tr>\n",
       "      <th>5</th>\n",
       "      <td>model_1615822038</td>\n",
       "      <td>1.0</td>\n",
       "      <td>78.251560</td>\n",
       "      <td>77.696777</td>\n",
       "      <td>0.714036</td>\n",
       "      <td>0.554783</td>\n",
       "      <td>0.84</td>\n",
       "      <td>0.56</td>\n",
       "      <td>0.40</td>\n",
       "      <td>0.92</td>\n",
       "    </tr>\n",
       "    <tr>\n",
       "      <th>2</th>\n",
       "      <td>base_1615828169</td>\n",
       "      <td>5.0</td>\n",
       "      <td>50.140138</td>\n",
       "      <td>49.353867</td>\n",
       "      <td>1.593129</td>\n",
       "      <td>0.786271</td>\n",
       "      <td>0.82</td>\n",
       "      <td>0.16</td>\n",
       "      <td>0.04</td>\n",
       "      <td>0.88</td>\n",
       "    </tr>\n",
       "    <tr>\n",
       "      <th>1</th>\n",
       "      <td>base_1615827722</td>\n",
       "      <td>3.0</td>\n",
       "      <td>49.605848</td>\n",
       "      <td>49.353867</td>\n",
       "      <td>0.510561</td>\n",
       "      <td>0.251981</td>\n",
       "      <td>0.84</td>\n",
       "      <td>0.08</td>\n",
       "      <td>0.00</td>\n",
       "      <td>0.88</td>\n",
       "    </tr>\n",
       "    <tr>\n",
       "      <th>0</th>\n",
       "      <td>base_1615827264</td>\n",
       "      <td>1.0</td>\n",
       "      <td>49.365100</td>\n",
       "      <td>49.353867</td>\n",
       "      <td>0.022761</td>\n",
       "      <td>0.011233</td>\n",
       "      <td>0.82</td>\n",
       "      <td>0.00</td>\n",
       "      <td>0.00</td>\n",
       "      <td>0.92</td>\n",
       "    </tr>\n",
       "  </tbody>\n",
       "</table>\n",
       "</div>"
      ],
      "text/plain": [
       "              model  edit_steps  mean_new_ppl  mean_orig_ppl  pct_ppl_dd  \\\n",
       "7    ots_1615826715         5.0     92.249127      90.703072    1.704523   \n",
       "8    ots_1615826291         3.0     91.357340      90.703072    0.721330   \n",
       "6    ots_1615825880         1.0     90.831759      90.703072    0.141878   \n",
       "3  model_1615825376         5.0     89.211466      77.696777   14.820034   \n",
       "4  model_1615822571         3.0     84.700869      77.696777    9.014649   \n",
       "5  model_1615822038         1.0     78.251560      77.696777    0.714036   \n",
       "2   base_1615828169         5.0     50.140138      49.353867    1.593129   \n",
       "1   base_1615827722         3.0     49.605848      49.353867    0.510561   \n",
       "0   base_1615827264         1.0     49.365100      49.353867    0.022761   \n",
       "\n",
       "   gross_ppl_dd  new_logits_higher  new_logits_higher05  new_logits_higher10  \\\n",
       "7      1.546055               0.72                 0.16                 0.04   \n",
       "8      0.654268               0.78                 0.08                 0.02   \n",
       "6      0.128688               0.80                 0.00                 0.00   \n",
       "3     11.514689               0.82                 0.58                 0.46   \n",
       "4      7.004092               0.82                 0.58                 0.42   \n",
       "5      0.554783               0.84                 0.56                 0.40   \n",
       "2      0.786271               0.82                 0.16                 0.04   \n",
       "1      0.251981               0.84                 0.08                 0.00   \n",
       "0      0.011233               0.82                 0.00                 0.00   \n",
       "\n",
       "   success_by_probs  \n",
       "7              0.86  \n",
       "8              0.86  \n",
       "6              0.86  \n",
       "3              0.92  \n",
       "4              0.94  \n",
       "5              0.92  \n",
       "2              0.88  \n",
       "1              0.88  \n",
       "0              0.92  "
      ]
     },
     "metadata": {},
     "output_type": "display_data"
    }
   ],
   "source": [
    "comps = ModelComps(\n",
    "    model_name=\"model_epoch0_ts10000.20210314.16.03.1615740151\",\n",
    "    base_name=\"gpt2_epoch0_ts10000.20210310.18.03.1615401990\",\n",
    "    archive=False\n",
    ")\n",
    "\n",
    "comps.summary()"
   ]
  },
  {
   "cell_type": "code",
   "execution_count": 14,
   "id": "following-teacher",
   "metadata": {
    "scrolled": true
   },
   "outputs": [
    {
     "name": "stdout",
     "output_type": "stream",
     "text": [
      "Plotting Logits\n",
      "base_1615827264\n"
     ]
    },
    {
     "data": {
      "image/png": "[encoded data removed]",
      "text/plain": [
       "<Figure size 432x288 with 1 Axes>"
      ]
     },
     "metadata": {
      "needs_background": "light"
     },
     "output_type": "display_data"
    },
    {
     "name": "stdout",
     "output_type": "stream",
     "text": [
      "base_1615827722\n"
     ]
    },
    {
     "data": {
      "image/png": "[encoded data removed]",
      "text/plain": [
       "<Figure size 432x288 with 1 Axes>"
      ]
     },
     "metadata": {
      "needs_background": "light"
     },
     "output_type": "display_data"
    },
    {
     "name": "stdout",
     "output_type": "stream",
     "text": [
      "base_1615828169\n"
     ]
    },
    {
     "data": {
      "image/png": "[encoded data removed]",
      "text/plain": [
       "<Figure size 432x288 with 1 Axes>"
      ]
     },
     "metadata": {
      "needs_background": "light"
     },
     "output_type": "display_data"
    },
    {
     "name": "stdout",
     "output_type": "stream",
     "text": [
      "model_1615825376\n"
     ]
    },
    {
     "data": {
      "image/png": "[encoded data removed]",
      "text/plain": [
       "<Figure size 432x288 with 1 Axes>"
      ]
     },
     "metadata": {
      "needs_background": "light"
     },
     "output_type": "display_data"
    },
    {
     "name": "stdout",
     "output_type": "stream",
     "text": [
      "model_1615822571\n"
     ]
    },
    {
     "data": {
      "image/png": "[encoded data removed]",
      "text/plain": [
       "<Figure size 432x288 with 1 Axes>"
      ]
     },
     "metadata": {
      "needs_background": "light"
     },
     "output_type": "display_data"
    },
    {
     "name": "stdout",
     "output_type": "stream",
     "text": [
      "model_1615822038\n"
     ]
    },
    {
     "data": {
      "image/png": "[encoded data removed]",
      "text/plain": [
       "<Figure size 432x288 with 1 Axes>"
      ]
     },
     "metadata": {
      "needs_background": "light"
     },
     "output_type": "display_data"
    },
    {
     "name": "stdout",
     "output_type": "stream",
     "text": [
      "ots_1615825880\n"
     ]
    },
    {
     "data": {
      "image/png": "[encoded data removed]",
      "text/plain": [
       "<Figure size 432x288 with 1 Axes>"
      ]
     },
     "metadata": {
      "needs_background": "light"
     },
     "output_type": "display_data"
    },
    {
     "name": "stdout",
     "output_type": "stream",
     "text": [
      "ots_1615826715\n"
     ]
    },
    {
     "data": {
      "image/png": "[encoded data removed]",
      "text/plain": [
       "<Figure size 432x288 with 1 Axes>"
      ]
     },
     "metadata": {
      "needs_background": "light"
     },
     "output_type": "display_data"
    },
    {
     "name": "stdout",
     "output_type": "stream",
     "text": [
      "ots_1615826291\n"
     ]
    },
    {
     "data": {
      "image/png": "[encoded data removed]",
      "text/plain": [
       "<Figure size 432x288 with 1 Axes>"
      ]
     },
     "metadata": {
      "needs_background": "light"
     },
     "output_type": "display_data"
    },
    {
     "name": "stdout",
     "output_type": "stream",
     "text": [
      "Plotting % Logit Diffs\n"
     ]
    },
    {
     "data": {
      "image/png": "[encoded data removed]",
      "text/plain": [
       "<Figure size 432x288 with 1 Axes>"
      ]
     },
     "metadata": {
      "needs_background": "light"
     },
     "output_type": "display_data"
    }
   ],
   "source": [
    "comps.plotter()"
   ]
  },
  {
   "cell_type": "markdown",
   "id": "romantic-specialist",
   "metadata": {},
   "source": [
    "# model_epoch0_ts6000.20210314.16.03.1615740151\n",
    "## cedit=1, cloc=10, 6k steps\n",
    "Notes: same model, checking to see if evaluating an earlier checkpoint might be better. Tried with a number of checkpoints, generally worse"
   ]
  },
  {
   "cell_type": "code",
   "execution_count": 50,
   "id": "internal-arizona",
   "metadata": {},
   "outputs": [
    {
     "name": "stdout",
     "output_type": "stream",
     "text": [
      "Model Parameters:\n"
     ]
    },
    {
     "data": {
      "text/html": [
       "<div>\n",
       "<style scoped>\n",
       "    .dataframe tbody tr th:only-of-type {\n",
       "        vertical-align: middle;\n",
       "    }\n",
       "\n",
       "    .dataframe tbody tr th {\n",
       "        vertical-align: top;\n",
       "    }\n",
       "\n",
       "    .dataframe thead th {\n",
       "        text-align: right;\n",
       "    }\n",
       "</style>\n",
       "<table border=\"1\" class=\"dataframe\">\n",
       "  <thead>\n",
       "    <tr style=\"text-align: right;\">\n",
       "      <th></th>\n",
       "      <th>inner_lr</th>\n",
       "      <th>outer_lr</th>\n",
       "      <th>n_edit_steps</th>\n",
       "      <th>cedit</th>\n",
       "      <th>cloc</th>\n",
       "    </tr>\n",
       "  </thead>\n",
       "  <tbody>\n",
       "    <tr>\n",
       "      <th>0</th>\n",
       "      <td>0.001</td>\n",
       "      <td>0.00001</td>\n",
       "      <td>1.0</td>\n",
       "      <td>1.0</td>\n",
       "      <td>10.0</td>\n",
       "    </tr>\n",
       "  </tbody>\n",
       "</table>\n",
       "</div>"
      ],
      "text/plain": [
       "   inner_lr  outer_lr  n_edit_steps  cedit  cloc\n",
       "0     0.001   0.00001           1.0    1.0  10.0"
      ]
     },
     "metadata": {},
     "output_type": "display_data"
    },
    {
     "name": "stdout",
     "output_type": "stream",
     "text": [
      "Success Metrics\n"
     ]
    },
    {
     "data": {
      "text/html": [
       "<div>\n",
       "<style scoped>\n",
       "    .dataframe tbody tr th:only-of-type {\n",
       "        vertical-align: middle;\n",
       "    }\n",
       "\n",
       "    .dataframe tbody tr th {\n",
       "        vertical-align: top;\n",
       "    }\n",
       "\n",
       "    .dataframe thead th {\n",
       "        text-align: right;\n",
       "    }\n",
       "</style>\n",
       "<table border=\"1\" class=\"dataframe\">\n",
       "  <thead>\n",
       "    <tr style=\"text-align: right;\">\n",
       "      <th></th>\n",
       "      <th>model</th>\n",
       "      <th>edit_steps</th>\n",
       "      <th>mean_new_ppl</th>\n",
       "      <th>mean_orig_ppl</th>\n",
       "      <th>pct_ppl_dd</th>\n",
       "      <th>gross_ppl_dd</th>\n",
       "      <th>new_logits_higher</th>\n",
       "      <th>new_logits_higher05</th>\n",
       "      <th>new_logits_higher10</th>\n",
       "      <th>success_by_probs</th>\n",
       "    </tr>\n",
       "  </thead>\n",
       "  <tbody>\n",
       "    <tr>\n",
       "      <th>7</th>\n",
       "      <td>ots_1615826715</td>\n",
       "      <td>5.0</td>\n",
       "      <td>92.249127</td>\n",
       "      <td>90.703072</td>\n",
       "      <td>1.704523</td>\n",
       "      <td>1.546055</td>\n",
       "      <td>0.72</td>\n",
       "      <td>0.16</td>\n",
       "      <td>0.04</td>\n",
       "      <td>0.86</td>\n",
       "    </tr>\n",
       "    <tr>\n",
       "      <th>8</th>\n",
       "      <td>ots_1615826291</td>\n",
       "      <td>3.0</td>\n",
       "      <td>91.357340</td>\n",
       "      <td>90.703072</td>\n",
       "      <td>0.721330</td>\n",
       "      <td>0.654268</td>\n",
       "      <td>0.78</td>\n",
       "      <td>0.08</td>\n",
       "      <td>0.02</td>\n",
       "      <td>0.86</td>\n",
       "    </tr>\n",
       "    <tr>\n",
       "      <th>6</th>\n",
       "      <td>ots_1615825880</td>\n",
       "      <td>1.0</td>\n",
       "      <td>90.831759</td>\n",
       "      <td>90.703072</td>\n",
       "      <td>0.141878</td>\n",
       "      <td>0.128688</td>\n",
       "      <td>0.80</td>\n",
       "      <td>0.00</td>\n",
       "      <td>0.00</td>\n",
       "      <td>0.86</td>\n",
       "    </tr>\n",
       "    <tr>\n",
       "      <th>3</th>\n",
       "      <td>model_1615835384</td>\n",
       "      <td>5.0</td>\n",
       "      <td>103.998292</td>\n",
       "      <td>85.292526</td>\n",
       "      <td>21.931307</td>\n",
       "      <td>18.705765</td>\n",
       "      <td>0.86</td>\n",
       "      <td>0.70</td>\n",
       "      <td>0.52</td>\n",
       "      <td>0.90</td>\n",
       "    </tr>\n",
       "    <tr>\n",
       "      <th>4</th>\n",
       "      <td>model_1615834972</td>\n",
       "      <td>3.0</td>\n",
       "      <td>102.605914</td>\n",
       "      <td>85.292526</td>\n",
       "      <td>20.298834</td>\n",
       "      <td>17.313388</td>\n",
       "      <td>0.80</td>\n",
       "      <td>0.64</td>\n",
       "      <td>0.50</td>\n",
       "      <td>0.92</td>\n",
       "    </tr>\n",
       "    <tr>\n",
       "      <th>5</th>\n",
       "      <td>model_1615834590</td>\n",
       "      <td>1.0</td>\n",
       "      <td>85.984239</td>\n",
       "      <td>85.292526</td>\n",
       "      <td>0.810988</td>\n",
       "      <td>0.691712</td>\n",
       "      <td>0.88</td>\n",
       "      <td>0.64</td>\n",
       "      <td>0.36</td>\n",
       "      <td>0.94</td>\n",
       "    </tr>\n",
       "    <tr>\n",
       "      <th>2</th>\n",
       "      <td>base_1615828169</td>\n",
       "      <td>5.0</td>\n",
       "      <td>50.140138</td>\n",
       "      <td>49.353867</td>\n",
       "      <td>1.593129</td>\n",
       "      <td>0.786271</td>\n",
       "      <td>0.82</td>\n",
       "      <td>0.16</td>\n",
       "      <td>0.04</td>\n",
       "      <td>0.88</td>\n",
       "    </tr>\n",
       "    <tr>\n",
       "      <th>1</th>\n",
       "      <td>base_1615827722</td>\n",
       "      <td>3.0</td>\n",
       "      <td>49.605848</td>\n",
       "      <td>49.353867</td>\n",
       "      <td>0.510561</td>\n",
       "      <td>0.251981</td>\n",
       "      <td>0.84</td>\n",
       "      <td>0.08</td>\n",
       "      <td>0.00</td>\n",
       "      <td>0.88</td>\n",
       "    </tr>\n",
       "    <tr>\n",
       "      <th>0</th>\n",
       "      <td>base_1615827264</td>\n",
       "      <td>1.0</td>\n",
       "      <td>49.365100</td>\n",
       "      <td>49.353867</td>\n",
       "      <td>0.022761</td>\n",
       "      <td>0.011233</td>\n",
       "      <td>0.82</td>\n",
       "      <td>0.00</td>\n",
       "      <td>0.00</td>\n",
       "      <td>0.92</td>\n",
       "    </tr>\n",
       "  </tbody>\n",
       "</table>\n",
       "</div>"
      ],
      "text/plain": [
       "              model  edit_steps  mean_new_ppl  mean_orig_ppl  pct_ppl_dd  \\\n",
       "7    ots_1615826715         5.0     92.249127      90.703072    1.704523   \n",
       "8    ots_1615826291         3.0     91.357340      90.703072    0.721330   \n",
       "6    ots_1615825880         1.0     90.831759      90.703072    0.141878   \n",
       "3  model_1615835384         5.0    103.998292      85.292526   21.931307   \n",
       "4  model_1615834972         3.0    102.605914      85.292526   20.298834   \n",
       "5  model_1615834590         1.0     85.984239      85.292526    0.810988   \n",
       "2   base_1615828169         5.0     50.140138      49.353867    1.593129   \n",
       "1   base_1615827722         3.0     49.605848      49.353867    0.510561   \n",
       "0   base_1615827264         1.0     49.365100      49.353867    0.022761   \n",
       "\n",
       "   gross_ppl_dd  new_logits_higher  new_logits_higher05  new_logits_higher10  \\\n",
       "7      1.546055               0.72                 0.16                 0.04   \n",
       "8      0.654268               0.78                 0.08                 0.02   \n",
       "6      0.128688               0.80                 0.00                 0.00   \n",
       "3     18.705765               0.86                 0.70                 0.52   \n",
       "4     17.313388               0.80                 0.64                 0.50   \n",
       "5      0.691712               0.88                 0.64                 0.36   \n",
       "2      0.786271               0.82                 0.16                 0.04   \n",
       "1      0.251981               0.84                 0.08                 0.00   \n",
       "0      0.011233               0.82                 0.00                 0.00   \n",
       "\n",
       "   success_by_probs  \n",
       "7              0.86  \n",
       "8              0.86  \n",
       "6              0.86  \n",
       "3              0.90  \n",
       "4              0.92  \n",
       "5              0.94  \n",
       "2              0.88  \n",
       "1              0.88  \n",
       "0              0.92  "
      ]
     },
     "metadata": {},
     "output_type": "display_data"
    }
   ],
   "source": [
    "comps1 = ModelComps(\n",
    "    model_name=\"model_epoch0_ts6000.20210314.16.03.1615740151\",\n",
    "    base_name=\"gpt2_epoch0_ts10000.20210310.18.03.1615401990\",\n",
    "    archive=False\n",
    ")\n",
    "\n",
    "comps1.summary()"
   ]
  },
  {
   "cell_type": "markdown",
   "id": "august-scroll",
   "metadata": {},
   "source": [
    "# model_epoch0_ts18000.20210315.00.03.1615768579\n",
    "## cedit=1, cloc=10, 18k steps\n",
    "Notes: Tried running model for many more steps to see if additional performance could be gained"
   ]
  },
  {
   "cell_type": "code",
   "execution_count": 51,
   "id": "random-command",
   "metadata": {},
   "outputs": [
    {
     "name": "stdout",
     "output_type": "stream",
     "text": [
      "Model Parameters:\n"
     ]
    },
    {
     "data": {
      "text/html": [
       "<div>\n",
       "<style scoped>\n",
       "    .dataframe tbody tr th:only-of-type {\n",
       "        vertical-align: middle;\n",
       "    }\n",
       "\n",
       "    .dataframe tbody tr th {\n",
       "        vertical-align: top;\n",
       "    }\n",
       "\n",
       "    .dataframe thead th {\n",
       "        text-align: right;\n",
       "    }\n",
       "</style>\n",
       "<table border=\"1\" class=\"dataframe\">\n",
       "  <thead>\n",
       "    <tr style=\"text-align: right;\">\n",
       "      <th></th>\n",
       "      <th>inner_lr</th>\n",
       "      <th>outer_lr</th>\n",
       "      <th>n_edit_steps</th>\n",
       "      <th>cedit</th>\n",
       "      <th>cloc</th>\n",
       "    </tr>\n",
       "  </thead>\n",
       "  <tbody>\n",
       "    <tr>\n",
       "      <th>0</th>\n",
       "      <td>0.001</td>\n",
       "      <td>0.00001</td>\n",
       "      <td>1.0</td>\n",
       "      <td>1.0</td>\n",
       "      <td>10.0</td>\n",
       "    </tr>\n",
       "  </tbody>\n",
       "</table>\n",
       "</div>"
      ],
      "text/plain": [
       "   inner_lr  outer_lr  n_edit_steps  cedit  cloc\n",
       "0     0.001   0.00001           1.0    1.0  10.0"
      ]
     },
     "metadata": {},
     "output_type": "display_data"
    },
    {
     "name": "stdout",
     "output_type": "stream",
     "text": [
      "Success Metrics\n"
     ]
    },
    {
     "data": {
      "text/html": [
       "<div>\n",
       "<style scoped>\n",
       "    .dataframe tbody tr th:only-of-type {\n",
       "        vertical-align: middle;\n",
       "    }\n",
       "\n",
       "    .dataframe tbody tr th {\n",
       "        vertical-align: top;\n",
       "    }\n",
       "\n",
       "    .dataframe thead th {\n",
       "        text-align: right;\n",
       "    }\n",
       "</style>\n",
       "<table border=\"1\" class=\"dataframe\">\n",
       "  <thead>\n",
       "    <tr style=\"text-align: right;\">\n",
       "      <th></th>\n",
       "      <th>model</th>\n",
       "      <th>edit_steps</th>\n",
       "      <th>mean_new_ppl</th>\n",
       "      <th>mean_orig_ppl</th>\n",
       "      <th>pct_ppl_dd</th>\n",
       "      <th>gross_ppl_dd</th>\n",
       "      <th>new_logits_higher</th>\n",
       "      <th>new_logits_higher05</th>\n",
       "      <th>new_logits_higher10</th>\n",
       "      <th>success_by_probs</th>\n",
       "    </tr>\n",
       "  </thead>\n",
       "  <tbody>\n",
       "    <tr>\n",
       "      <th>7</th>\n",
       "      <td>ots_1615826715</td>\n",
       "      <td>5.0</td>\n",
       "      <td>92.249127</td>\n",
       "      <td>90.703072</td>\n",
       "      <td>1.704523</td>\n",
       "      <td>1.546055</td>\n",
       "      <td>0.72</td>\n",
       "      <td>0.16</td>\n",
       "      <td>0.04</td>\n",
       "      <td>0.86</td>\n",
       "    </tr>\n",
       "    <tr>\n",
       "      <th>8</th>\n",
       "      <td>ots_1615826291</td>\n",
       "      <td>3.0</td>\n",
       "      <td>91.357340</td>\n",
       "      <td>90.703072</td>\n",
       "      <td>0.721330</td>\n",
       "      <td>0.654268</td>\n",
       "      <td>0.78</td>\n",
       "      <td>0.08</td>\n",
       "      <td>0.02</td>\n",
       "      <td>0.86</td>\n",
       "    </tr>\n",
       "    <tr>\n",
       "      <th>6</th>\n",
       "      <td>ots_1615825880</td>\n",
       "      <td>1.0</td>\n",
       "      <td>90.831759</td>\n",
       "      <td>90.703072</td>\n",
       "      <td>0.141878</td>\n",
       "      <td>0.128688</td>\n",
       "      <td>0.80</td>\n",
       "      <td>0.00</td>\n",
       "      <td>0.00</td>\n",
       "      <td>0.86</td>\n",
       "    </tr>\n",
       "    <tr>\n",
       "      <th>5</th>\n",
       "      <td>model_1615829457</td>\n",
       "      <td>5.0</td>\n",
       "      <td>87.205313</td>\n",
       "      <td>75.677681</td>\n",
       "      <td>15.232539</td>\n",
       "      <td>11.527632</td>\n",
       "      <td>0.68</td>\n",
       "      <td>0.60</td>\n",
       "      <td>0.46</td>\n",
       "      <td>0.92</td>\n",
       "    </tr>\n",
       "    <tr>\n",
       "      <th>3</th>\n",
       "      <td>model_1615829048</td>\n",
       "      <td>3.0</td>\n",
       "      <td>83.930170</td>\n",
       "      <td>75.677681</td>\n",
       "      <td>10.904785</td>\n",
       "      <td>8.252489</td>\n",
       "      <td>0.64</td>\n",
       "      <td>0.50</td>\n",
       "      <td>0.36</td>\n",
       "      <td>0.94</td>\n",
       "    </tr>\n",
       "    <tr>\n",
       "      <th>4</th>\n",
       "      <td>model_1615828661</td>\n",
       "      <td>1.0</td>\n",
       "      <td>76.592660</td>\n",
       "      <td>75.677681</td>\n",
       "      <td>1.209047</td>\n",
       "      <td>0.914979</td>\n",
       "      <td>0.66</td>\n",
       "      <td>0.52</td>\n",
       "      <td>0.40</td>\n",
       "      <td>0.94</td>\n",
       "    </tr>\n",
       "    <tr>\n",
       "      <th>2</th>\n",
       "      <td>base_1615828169</td>\n",
       "      <td>5.0</td>\n",
       "      <td>50.140138</td>\n",
       "      <td>49.353867</td>\n",
       "      <td>1.593129</td>\n",
       "      <td>0.786271</td>\n",
       "      <td>0.82</td>\n",
       "      <td>0.16</td>\n",
       "      <td>0.04</td>\n",
       "      <td>0.88</td>\n",
       "    </tr>\n",
       "    <tr>\n",
       "      <th>1</th>\n",
       "      <td>base_1615827722</td>\n",
       "      <td>3.0</td>\n",
       "      <td>49.605848</td>\n",
       "      <td>49.353867</td>\n",
       "      <td>0.510561</td>\n",
       "      <td>0.251981</td>\n",
       "      <td>0.84</td>\n",
       "      <td>0.08</td>\n",
       "      <td>0.00</td>\n",
       "      <td>0.88</td>\n",
       "    </tr>\n",
       "    <tr>\n",
       "      <th>0</th>\n",
       "      <td>base_1615827264</td>\n",
       "      <td>1.0</td>\n",
       "      <td>49.365100</td>\n",
       "      <td>49.353867</td>\n",
       "      <td>0.022761</td>\n",
       "      <td>0.011233</td>\n",
       "      <td>0.82</td>\n",
       "      <td>0.00</td>\n",
       "      <td>0.00</td>\n",
       "      <td>0.92</td>\n",
       "    </tr>\n",
       "  </tbody>\n",
       "</table>\n",
       "</div>"
      ],
      "text/plain": [
       "              model  edit_steps  mean_new_ppl  mean_orig_ppl  pct_ppl_dd  \\\n",
       "7    ots_1615826715         5.0     92.249127      90.703072    1.704523   \n",
       "8    ots_1615826291         3.0     91.357340      90.703072    0.721330   \n",
       "6    ots_1615825880         1.0     90.831759      90.703072    0.141878   \n",
       "5  model_1615829457         5.0     87.205313      75.677681   15.232539   \n",
       "3  model_1615829048         3.0     83.930170      75.677681   10.904785   \n",
       "4  model_1615828661         1.0     76.592660      75.677681    1.209047   \n",
       "2   base_1615828169         5.0     50.140138      49.353867    1.593129   \n",
       "1   base_1615827722         3.0     49.605848      49.353867    0.510561   \n",
       "0   base_1615827264         1.0     49.365100      49.353867    0.022761   \n",
       "\n",
       "   gross_ppl_dd  new_logits_higher  new_logits_higher05  new_logits_higher10  \\\n",
       "7      1.546055               0.72                 0.16                 0.04   \n",
       "8      0.654268               0.78                 0.08                 0.02   \n",
       "6      0.128688               0.80                 0.00                 0.00   \n",
       "5     11.527632               0.68                 0.60                 0.46   \n",
       "3      8.252489               0.64                 0.50                 0.36   \n",
       "4      0.914979               0.66                 0.52                 0.40   \n",
       "2      0.786271               0.82                 0.16                 0.04   \n",
       "1      0.251981               0.84                 0.08                 0.00   \n",
       "0      0.011233               0.82                 0.00                 0.00   \n",
       "\n",
       "   success_by_probs  \n",
       "7              0.86  \n",
       "8              0.86  \n",
       "6              0.86  \n",
       "5              0.92  \n",
       "3              0.94  \n",
       "4              0.94  \n",
       "2              0.88  \n",
       "1              0.88  \n",
       "0              0.92  "
      ]
     },
     "metadata": {},
     "output_type": "display_data"
    }
   ],
   "source": [
    "comps2 = ModelComps(\n",
    "    model_name=\"model_epoch0_ts18000.20210315.00.03.1615768579\",\n",
    "    base_name=\"gpt2_epoch0_ts10000.20210310.18.03.1615401990\",\n",
    "    archive=False\n",
    ")\n",
    "\n",
    "comps2.summary()"
   ]
  },
  {
   "cell_type": "code",
   "execution_count": 52,
   "id": "certified-duration",
   "metadata": {},
   "outputs": [
    {
     "name": "stdout",
     "output_type": "stream",
     "text": [
      "Plotting Logits\n",
      "base_1615827264\n"
     ]
    },
    {
     "data": {
      "image/png": "[encoded data removed]",
      "text/plain": [
       "<Figure size 432x288 with 1 Axes>"
      ]
     },
     "metadata": {
      "needs_background": "light"
     },
     "output_type": "display_data"
    },
    {
     "name": "stdout",
     "output_type": "stream",
     "text": [
      "base_1615827722\n"
     ]
    },
    {
     "data": {
      "image/png": "[encoded data removed]",
      "text/plain": [
       "<Figure size 432x288 with 1 Axes>"
      ]
     },
     "metadata": {
      "needs_background": "light"
     },
     "output_type": "display_data"
    },
    {
     "name": "stdout",
     "output_type": "stream",
     "text": [
      "base_1615828169\n"
     ]
    },
    {
     "data": {
      "image/png": "[encoded data removed]",
      "text/plain": [
       "<Figure size 432x288 with 1 Axes>"
      ]
     },
     "metadata": {
      "needs_background": "light"
     },
     "output_type": "display_data"
    },
    {
     "name": "stdout",
     "output_type": "stream",
     "text": [
      "model_1615829048\n"
     ]
    },
    {
     "data": {
      "image/png": "[encoded data removed]",
      "text/plain": [
       "<Figure size 432x288 with 1 Axes>"
      ]
     },
     "metadata": {
      "needs_background": "light"
     },
     "output_type": "display_data"
    },
    {
     "name": "stdout",
     "output_type": "stream",
     "text": [
      "model_1615828661\n"
     ]
    },
    {
     "data": {
      "image/png": "[encoded data removed]",
      "text/plain": [
       "<Figure size 432x288 with 1 Axes>"
      ]
     },
     "metadata": {
      "needs_background": "light"
     },
     "output_type": "display_data"
    },
    {
     "name": "stdout",
     "output_type": "stream",
     "text": [
      "model_1615829457\n"
     ]
    },
    {
     "data": {
      "image/png": "[encoded data removed]",
      "text/plain": [
       "<Figure size 432x288 with 1 Axes>"
      ]
     },
     "metadata": {
      "needs_background": "light"
     },
     "output_type": "display_data"
    },
    {
     "name": "stdout",
     "output_type": "stream",
     "text": [
      "ots_1615825880\n"
     ]
    },
    {
     "data": {
      "image/png": "[encoded data removed]",
      "text/plain": [
       "<Figure size 432x288 with 1 Axes>"
      ]
     },
     "metadata": {
      "needs_background": "light"
     },
     "output_type": "display_data"
    },
    {
     "name": "stdout",
     "output_type": "stream",
     "text": [
      "ots_1615826715\n"
     ]
    },
    {
     "data": {
      "image/png": "[encoded data removed]",
      "text/plain": [
       "<Figure size 432x288 with 1 Axes>"
      ]
     },
     "metadata": {
      "needs_background": "light"
     },
     "output_type": "display_data"
    },
    {
     "name": "stdout",
     "output_type": "stream",
     "text": [
      "ots_1615826291\n"
     ]
    },
    {
     "data": {
      "image/png": "[encoded data removed]",
      "text/plain": [
       "<Figure size 432x288 with 1 Axes>"
      ]
     },
     "metadata": {
      "needs_background": "light"
     },
     "output_type": "display_data"
    },
    {
     "name": "stdout",
     "output_type": "stream",
     "text": [
      "Plotting % Logit Diffs\n"
     ]
    },
    {
     "data": {
      "image/png": "[encoded data removed]",
      "text/plain": [
       "<Figure size 432x288 with 1 Axes>"
      ]
     },
     "metadata": {
      "needs_background": "light"
     },
     "output_type": "display_data"
    }
   ],
   "source": [
    "comps2.plotter()"
   ]
  },
  {
   "cell_type": "markdown",
   "id": "seventh-allergy",
   "metadata": {},
   "source": [
    "# model_epoch0_ts10000.20210314.22.03.1615760445\n",
    "## cedit=1, cloc=15, 10k steps\n"
   ]
  },
  {
   "cell_type": "code",
   "execution_count": 53,
   "id": "stylish-happening",
   "metadata": {},
   "outputs": [
    {
     "name": "stdout",
     "output_type": "stream",
     "text": [
      "Model Parameters:\n"
     ]
    },
    {
     "data": {
      "text/html": [
       "<div>\n",
       "<style scoped>\n",
       "    .dataframe tbody tr th:only-of-type {\n",
       "        vertical-align: middle;\n",
       "    }\n",
       "\n",
       "    .dataframe tbody tr th {\n",
       "        vertical-align: top;\n",
       "    }\n",
       "\n",
       "    .dataframe thead th {\n",
       "        text-align: right;\n",
       "    }\n",
       "</style>\n",
       "<table border=\"1\" class=\"dataframe\">\n",
       "  <thead>\n",
       "    <tr style=\"text-align: right;\">\n",
       "      <th></th>\n",
       "      <th>inner_lr</th>\n",
       "      <th>outer_lr</th>\n",
       "      <th>n_edit_steps</th>\n",
       "      <th>cedit</th>\n",
       "      <th>cloc</th>\n",
       "    </tr>\n",
       "  </thead>\n",
       "  <tbody>\n",
       "    <tr>\n",
       "      <th>0</th>\n",
       "      <td>0.001</td>\n",
       "      <td>0.00001</td>\n",
       "      <td>1.0</td>\n",
       "      <td>1.0</td>\n",
       "      <td>15.0</td>\n",
       "    </tr>\n",
       "  </tbody>\n",
       "</table>\n",
       "</div>"
      ],
      "text/plain": [
       "   inner_lr  outer_lr  n_edit_steps  cedit  cloc\n",
       "0     0.001   0.00001           1.0    1.0  15.0"
      ]
     },
     "metadata": {},
     "output_type": "display_data"
    },
    {
     "name": "stdout",
     "output_type": "stream",
     "text": [
      "Success Metrics\n"
     ]
    },
    {
     "data": {
      "text/html": [
       "<div>\n",
       "<style scoped>\n",
       "    .dataframe tbody tr th:only-of-type {\n",
       "        vertical-align: middle;\n",
       "    }\n",
       "\n",
       "    .dataframe tbody tr th {\n",
       "        vertical-align: top;\n",
       "    }\n",
       "\n",
       "    .dataframe thead th {\n",
       "        text-align: right;\n",
       "    }\n",
       "</style>\n",
       "<table border=\"1\" class=\"dataframe\">\n",
       "  <thead>\n",
       "    <tr style=\"text-align: right;\">\n",
       "      <th></th>\n",
       "      <th>model</th>\n",
       "      <th>edit_steps</th>\n",
       "      <th>mean_new_ppl</th>\n",
       "      <th>mean_orig_ppl</th>\n",
       "      <th>pct_ppl_dd</th>\n",
       "      <th>gross_ppl_dd</th>\n",
       "      <th>new_logits_higher</th>\n",
       "      <th>new_logits_higher05</th>\n",
       "      <th>new_logits_higher10</th>\n",
       "      <th>success_by_probs</th>\n",
       "    </tr>\n",
       "  </thead>\n",
       "  <tbody>\n",
       "    <tr>\n",
       "      <th>7</th>\n",
       "      <td>ots_1615826715</td>\n",
       "      <td>5.0</td>\n",
       "      <td>92.249127</td>\n",
       "      <td>90.703072</td>\n",
       "      <td>1.704523</td>\n",
       "      <td>1.546055</td>\n",
       "      <td>0.72</td>\n",
       "      <td>0.16</td>\n",
       "      <td>0.04</td>\n",
       "      <td>0.86</td>\n",
       "    </tr>\n",
       "    <tr>\n",
       "      <th>8</th>\n",
       "      <td>ots_1615826291</td>\n",
       "      <td>3.0</td>\n",
       "      <td>91.357340</td>\n",
       "      <td>90.703072</td>\n",
       "      <td>0.721330</td>\n",
       "      <td>0.654268</td>\n",
       "      <td>0.78</td>\n",
       "      <td>0.08</td>\n",
       "      <td>0.02</td>\n",
       "      <td>0.86</td>\n",
       "    </tr>\n",
       "    <tr>\n",
       "      <th>6</th>\n",
       "      <td>ots_1615825880</td>\n",
       "      <td>1.0</td>\n",
       "      <td>90.831759</td>\n",
       "      <td>90.703072</td>\n",
       "      <td>0.141878</td>\n",
       "      <td>0.128688</td>\n",
       "      <td>0.80</td>\n",
       "      <td>0.00</td>\n",
       "      <td>0.00</td>\n",
       "      <td>0.86</td>\n",
       "    </tr>\n",
       "    <tr>\n",
       "      <th>4</th>\n",
       "      <td>model_1615830698</td>\n",
       "      <td>5.0</td>\n",
       "      <td>92.998480</td>\n",
       "      <td>80.843575</td>\n",
       "      <td>15.035091</td>\n",
       "      <td>12.154905</td>\n",
       "      <td>0.86</td>\n",
       "      <td>0.60</td>\n",
       "      <td>0.48</td>\n",
       "      <td>0.92</td>\n",
       "    </tr>\n",
       "    <tr>\n",
       "      <th>3</th>\n",
       "      <td>model_1615830286</td>\n",
       "      <td>3.0</td>\n",
       "      <td>86.252994</td>\n",
       "      <td>80.843575</td>\n",
       "      <td>6.691217</td>\n",
       "      <td>5.409419</td>\n",
       "      <td>0.76</td>\n",
       "      <td>0.62</td>\n",
       "      <td>0.50</td>\n",
       "      <td>0.92</td>\n",
       "    </tr>\n",
       "    <tr>\n",
       "      <th>5</th>\n",
       "      <td>model_1615829897</td>\n",
       "      <td>1.0</td>\n",
       "      <td>80.696640</td>\n",
       "      <td>80.843575</td>\n",
       "      <td>-0.181751</td>\n",
       "      <td>-0.146934</td>\n",
       "      <td>0.74</td>\n",
       "      <td>0.54</td>\n",
       "      <td>0.44</td>\n",
       "      <td>0.94</td>\n",
       "    </tr>\n",
       "    <tr>\n",
       "      <th>2</th>\n",
       "      <td>base_1615828169</td>\n",
       "      <td>5.0</td>\n",
       "      <td>50.140138</td>\n",
       "      <td>49.353867</td>\n",
       "      <td>1.593129</td>\n",
       "      <td>0.786271</td>\n",
       "      <td>0.82</td>\n",
       "      <td>0.16</td>\n",
       "      <td>0.04</td>\n",
       "      <td>0.88</td>\n",
       "    </tr>\n",
       "    <tr>\n",
       "      <th>1</th>\n",
       "      <td>base_1615827722</td>\n",
       "      <td>3.0</td>\n",
       "      <td>49.605848</td>\n",
       "      <td>49.353867</td>\n",
       "      <td>0.510561</td>\n",
       "      <td>0.251981</td>\n",
       "      <td>0.84</td>\n",
       "      <td>0.08</td>\n",
       "      <td>0.00</td>\n",
       "      <td>0.88</td>\n",
       "    </tr>\n",
       "    <tr>\n",
       "      <th>0</th>\n",
       "      <td>base_1615827264</td>\n",
       "      <td>1.0</td>\n",
       "      <td>49.365100</td>\n",
       "      <td>49.353867</td>\n",
       "      <td>0.022761</td>\n",
       "      <td>0.011233</td>\n",
       "      <td>0.82</td>\n",
       "      <td>0.00</td>\n",
       "      <td>0.00</td>\n",
       "      <td>0.92</td>\n",
       "    </tr>\n",
       "  </tbody>\n",
       "</table>\n",
       "</div>"
      ],
      "text/plain": [
       "              model  edit_steps  mean_new_ppl  mean_orig_ppl  pct_ppl_dd  \\\n",
       "7    ots_1615826715         5.0     92.249127      90.703072    1.704523   \n",
       "8    ots_1615826291         3.0     91.357340      90.703072    0.721330   \n",
       "6    ots_1615825880         1.0     90.831759      90.703072    0.141878   \n",
       "4  model_1615830698         5.0     92.998480      80.843575   15.035091   \n",
       "3  model_1615830286         3.0     86.252994      80.843575    6.691217   \n",
       "5  model_1615829897         1.0     80.696640      80.843575   -0.181751   \n",
       "2   base_1615828169         5.0     50.140138      49.353867    1.593129   \n",
       "1   base_1615827722         3.0     49.605848      49.353867    0.510561   \n",
       "0   base_1615827264         1.0     49.365100      49.353867    0.022761   \n",
       "\n",
       "   gross_ppl_dd  new_logits_higher  new_logits_higher05  new_logits_higher10  \\\n",
       "7      1.546055               0.72                 0.16                 0.04   \n",
       "8      0.654268               0.78                 0.08                 0.02   \n",
       "6      0.128688               0.80                 0.00                 0.00   \n",
       "4     12.154905               0.86                 0.60                 0.48   \n",
       "3      5.409419               0.76                 0.62                 0.50   \n",
       "5     -0.146934               0.74                 0.54                 0.44   \n",
       "2      0.786271               0.82                 0.16                 0.04   \n",
       "1      0.251981               0.84                 0.08                 0.00   \n",
       "0      0.011233               0.82                 0.00                 0.00   \n",
       "\n",
       "   success_by_probs  \n",
       "7              0.86  \n",
       "8              0.86  \n",
       "6              0.86  \n",
       "4              0.92  \n",
       "3              0.92  \n",
       "5              0.94  \n",
       "2              0.88  \n",
       "1              0.88  \n",
       "0              0.92  "
      ]
     },
     "metadata": {},
     "output_type": "display_data"
    }
   ],
   "source": [
    "comps3 = ModelComps(\n",
    "    model_name=\"model_epoch0_ts10000.20210314.22.03.1615760445\",\n",
    "    base_name=\"gpt2_epoch0_ts10000.20210310.18.03.1615401990\",\n",
    "    archive=False\n",
    ")\n",
    "\n",
    "comps3.summary()"
   ]
  },
  {
   "cell_type": "code",
   "execution_count": 54,
   "id": "active-portugal",
   "metadata": {},
   "outputs": [
    {
     "name": "stdout",
     "output_type": "stream",
     "text": [
      "Plotting Logits\n",
      "base_1615827264\n"
     ]
    },
    {
     "data": {
      "image/png": "[encoded data removed]",
      "text/plain": [
       "<Figure size 432x288 with 1 Axes>"
      ]
     },
     "metadata": {
      "needs_background": "light"
     },
     "output_type": "display_data"
    },
    {
     "name": "stdout",
     "output_type": "stream",
     "text": [
      "base_1615827722\n"
     ]
    },
    {
     "data": {
      "image/png": "[encoded data removed]",
      "text/plain": [
       "<Figure size 432x288 with 1 Axes>"
      ]
     },
     "metadata": {
      "needs_background": "light"
     },
     "output_type": "display_data"
    },
    {
     "name": "stdout",
     "output_type": "stream",
     "text": [
      "base_1615828169\n"
     ]
    },
    {
     "data": {
      "image/png": "[encoded data removed]",
      "text/plain": [
       "<Figure size 432x288 with 1 Axes>"
      ]
     },
     "metadata": {
      "needs_background": "light"
     },
     "output_type": "display_data"
    },
    {
     "name": "stdout",
     "output_type": "stream",
     "text": [
      "model_1615830286\n"
     ]
    },
    {
     "data": {
      "image/png": "[encoded data removed]",
      "text/plain": [
       "<Figure size 432x288 with 1 Axes>"
      ]
     },
     "metadata": {
      "needs_background": "light"
     },
     "output_type": "display_data"
    },
    {
     "name": "stdout",
     "output_type": "stream",
     "text": [
      "model_1615830698\n"
     ]
    },
    {
     "data": {
      "image/png": "[encoded data removed]",
      "text/plain": [
       "<Figure size 432x288 with 1 Axes>"
      ]
     },
     "metadata": {
      "needs_background": "light"
     },
     "output_type": "display_data"
    },
    {
     "name": "stdout",
     "output_type": "stream",
     "text": [
      "model_1615829897\n"
     ]
    },
    {
     "data": {
      "image/png": "[encoded data removed]",
      "text/plain": [
       "<Figure size 432x288 with 1 Axes>"
      ]
     },
     "metadata": {
      "needs_background": "light"
     },
     "output_type": "display_data"
    },
    {
     "name": "stdout",
     "output_type": "stream",
     "text": [
      "ots_1615825880\n"
     ]
    },
    {
     "data": {
      "image/png": "[encoded data removed]",
      "text/plain": [
       "<Figure size 432x288 with 1 Axes>"
      ]
     },
     "metadata": {
      "needs_background": "light"
     },
     "output_type": "display_data"
    },
    {
     "name": "stdout",
     "output_type": "stream",
     "text": [
      "ots_1615826715\n"
     ]
    },
    {
     "data": {
      "image/png": "[encoded data removed]",
      "text/plain": [
       "<Figure size 432x288 with 1 Axes>"
      ]
     },
     "metadata": {
      "needs_background": "light"
     },
     "output_type": "display_data"
    },
    {
     "name": "stdout",
     "output_type": "stream",
     "text": [
      "ots_1615826291\n"
     ]
    },
    {
     "data": {
      "image/png": "[encoded data removed]",
      "text/plain": [
       "<Figure size 432x288 with 1 Axes>"
      ]
     },
     "metadata": {
      "needs_background": "light"
     },
     "output_type": "display_data"
    },
    {
     "name": "stdout",
     "output_type": "stream",
     "text": [
      "Plotting % Logit Diffs\n"
     ]
    },
    {
     "data": {
      "image/png": "[encoded data removed]",
      "text/plain": [
       "<Figure size 432x288 with 1 Axes>"
      ]
     },
     "metadata": {
      "needs_background": "light"
     },
     "output_type": "display_data"
    }
   ],
   "source": [
    "comps3.plotter()"
   ]
  },
  {
   "cell_type": "markdown",
   "id": "interesting-addiction",
   "metadata": {},
   "source": [
    "# model_epoch0_ts10000.20210312.21.03.1615586239\n",
    "## cedit=1, cloc=1, 10k steps\n",
    "Notes: Model run Friday 3/12, first try with editing loss calculated just on the modified tokens. Has worse statistics"
   ]
  },
  {
   "cell_type": "code",
   "execution_count": 55,
   "id": "through-neighbor",
   "metadata": {},
   "outputs": [
    {
     "name": "stdout",
     "output_type": "stream",
     "text": [
      "Model Parameters:\n"
     ]
    },
    {
     "data": {
      "text/html": [
       "<div>\n",
       "<style scoped>\n",
       "    .dataframe tbody tr th:only-of-type {\n",
       "        vertical-align: middle;\n",
       "    }\n",
       "\n",
       "    .dataframe tbody tr th {\n",
       "        vertical-align: top;\n",
       "    }\n",
       "\n",
       "    .dataframe thead th {\n",
       "        text-align: right;\n",
       "    }\n",
       "</style>\n",
       "<table border=\"1\" class=\"dataframe\">\n",
       "  <thead>\n",
       "    <tr style=\"text-align: right;\">\n",
       "      <th></th>\n",
       "      <th>inner_lr</th>\n",
       "      <th>outer_lr</th>\n",
       "      <th>n_edit_steps</th>\n",
       "      <th>cedit</th>\n",
       "      <th>cloc</th>\n",
       "    </tr>\n",
       "  </thead>\n",
       "  <tbody>\n",
       "    <tr>\n",
       "      <th>0</th>\n",
       "      <td>0.001</td>\n",
       "      <td>0.00001</td>\n",
       "      <td>1.0</td>\n",
       "      <td>1.0</td>\n",
       "      <td>1.0</td>\n",
       "    </tr>\n",
       "  </tbody>\n",
       "</table>\n",
       "</div>"
      ],
      "text/plain": [
       "   inner_lr  outer_lr  n_edit_steps  cedit  cloc\n",
       "0     0.001   0.00001           1.0    1.0   1.0"
      ]
     },
     "metadata": {},
     "output_type": "display_data"
    },
    {
     "name": "stdout",
     "output_type": "stream",
     "text": [
      "Success Metrics\n"
     ]
    },
    {
     "data": {
      "text/html": [
       "<div>\n",
       "<style scoped>\n",
       "    .dataframe tbody tr th:only-of-type {\n",
       "        vertical-align: middle;\n",
       "    }\n",
       "\n",
       "    .dataframe tbody tr th {\n",
       "        vertical-align: top;\n",
       "    }\n",
       "\n",
       "    .dataframe thead th {\n",
       "        text-align: right;\n",
       "    }\n",
       "</style>\n",
       "<table border=\"1\" class=\"dataframe\">\n",
       "  <thead>\n",
       "    <tr style=\"text-align: right;\">\n",
       "      <th></th>\n",
       "      <th>model</th>\n",
       "      <th>edit_steps</th>\n",
       "      <th>mean_new_ppl</th>\n",
       "      <th>mean_orig_ppl</th>\n",
       "      <th>pct_ppl_dd</th>\n",
       "      <th>gross_ppl_dd</th>\n",
       "      <th>new_logits_higher</th>\n",
       "      <th>new_logits_higher05</th>\n",
       "      <th>new_logits_higher10</th>\n",
       "      <th>success_by_probs</th>\n",
       "    </tr>\n",
       "  </thead>\n",
       "  <tbody>\n",
       "    <tr>\n",
       "      <th>7</th>\n",
       "      <td>ots_1615826715</td>\n",
       "      <td>5.0</td>\n",
       "      <td>92.249127</td>\n",
       "      <td>90.703072</td>\n",
       "      <td>1.704523</td>\n",
       "      <td>1.546055</td>\n",
       "      <td>0.72</td>\n",
       "      <td>0.16</td>\n",
       "      <td>0.04</td>\n",
       "      <td>0.86</td>\n",
       "    </tr>\n",
       "    <tr>\n",
       "      <th>8</th>\n",
       "      <td>ots_1615826291</td>\n",
       "      <td>3.0</td>\n",
       "      <td>91.357340</td>\n",
       "      <td>90.703072</td>\n",
       "      <td>0.721330</td>\n",
       "      <td>0.654268</td>\n",
       "      <td>0.78</td>\n",
       "      <td>0.08</td>\n",
       "      <td>0.02</td>\n",
       "      <td>0.86</td>\n",
       "    </tr>\n",
       "    <tr>\n",
       "      <th>6</th>\n",
       "      <td>ots_1615825880</td>\n",
       "      <td>1.0</td>\n",
       "      <td>90.831759</td>\n",
       "      <td>90.703072</td>\n",
       "      <td>0.141878</td>\n",
       "      <td>0.128688</td>\n",
       "      <td>0.80</td>\n",
       "      <td>0.00</td>\n",
       "      <td>0.00</td>\n",
       "      <td>0.86</td>\n",
       "    </tr>\n",
       "    <tr>\n",
       "      <th>3</th>\n",
       "      <td>model_1615833209</td>\n",
       "      <td>5.0</td>\n",
       "      <td>184.372973</td>\n",
       "      <td>94.858231</td>\n",
       "      <td>94.366869</td>\n",
       "      <td>89.514742</td>\n",
       "      <td>0.90</td>\n",
       "      <td>0.70</td>\n",
       "      <td>0.58</td>\n",
       "      <td>0.92</td>\n",
       "    </tr>\n",
       "    <tr>\n",
       "      <th>5</th>\n",
       "      <td>model_1615832802</td>\n",
       "      <td>3.0</td>\n",
       "      <td>162.421238</td>\n",
       "      <td>94.858231</td>\n",
       "      <td>71.225245</td>\n",
       "      <td>67.563007</td>\n",
       "      <td>0.90</td>\n",
       "      <td>0.70</td>\n",
       "      <td>0.56</td>\n",
       "      <td>0.94</td>\n",
       "    </tr>\n",
       "    <tr>\n",
       "      <th>4</th>\n",
       "      <td>model_1615832420</td>\n",
       "      <td>1.0</td>\n",
       "      <td>137.337339</td>\n",
       "      <td>94.858231</td>\n",
       "      <td>44.781679</td>\n",
       "      <td>42.479109</td>\n",
       "      <td>0.86</td>\n",
       "      <td>0.72</td>\n",
       "      <td>0.56</td>\n",
       "      <td>0.92</td>\n",
       "    </tr>\n",
       "    <tr>\n",
       "      <th>2</th>\n",
       "      <td>base_1615828169</td>\n",
       "      <td>5.0</td>\n",
       "      <td>50.140138</td>\n",
       "      <td>49.353867</td>\n",
       "      <td>1.593129</td>\n",
       "      <td>0.786271</td>\n",
       "      <td>0.82</td>\n",
       "      <td>0.16</td>\n",
       "      <td>0.04</td>\n",
       "      <td>0.88</td>\n",
       "    </tr>\n",
       "    <tr>\n",
       "      <th>1</th>\n",
       "      <td>base_1615827722</td>\n",
       "      <td>3.0</td>\n",
       "      <td>49.605848</td>\n",
       "      <td>49.353867</td>\n",
       "      <td>0.510561</td>\n",
       "      <td>0.251981</td>\n",
       "      <td>0.84</td>\n",
       "      <td>0.08</td>\n",
       "      <td>0.00</td>\n",
       "      <td>0.88</td>\n",
       "    </tr>\n",
       "    <tr>\n",
       "      <th>0</th>\n",
       "      <td>base_1615827264</td>\n",
       "      <td>1.0</td>\n",
       "      <td>49.365100</td>\n",
       "      <td>49.353867</td>\n",
       "      <td>0.022761</td>\n",
       "      <td>0.011233</td>\n",
       "      <td>0.82</td>\n",
       "      <td>0.00</td>\n",
       "      <td>0.00</td>\n",
       "      <td>0.92</td>\n",
       "    </tr>\n",
       "  </tbody>\n",
       "</table>\n",
       "</div>"
      ],
      "text/plain": [
       "              model  edit_steps  mean_new_ppl  mean_orig_ppl  pct_ppl_dd  \\\n",
       "7    ots_1615826715         5.0     92.249127      90.703072    1.704523   \n",
       "8    ots_1615826291         3.0     91.357340      90.703072    0.721330   \n",
       "6    ots_1615825880         1.0     90.831759      90.703072    0.141878   \n",
       "3  model_1615833209         5.0    184.372973      94.858231   94.366869   \n",
       "5  model_1615832802         3.0    162.421238      94.858231   71.225245   \n",
       "4  model_1615832420         1.0    137.337339      94.858231   44.781679   \n",
       "2   base_1615828169         5.0     50.140138      49.353867    1.593129   \n",
       "1   base_1615827722         3.0     49.605848      49.353867    0.510561   \n",
       "0   base_1615827264         1.0     49.365100      49.353867    0.022761   \n",
       "\n",
       "   gross_ppl_dd  new_logits_higher  new_logits_higher05  new_logits_higher10  \\\n",
       "7      1.546055               0.72                 0.16                 0.04   \n",
       "8      0.654268               0.78                 0.08                 0.02   \n",
       "6      0.128688               0.80                 0.00                 0.00   \n",
       "3     89.514742               0.90                 0.70                 0.58   \n",
       "5     67.563007               0.90                 0.70                 0.56   \n",
       "4     42.479109               0.86                 0.72                 0.56   \n",
       "2      0.786271               0.82                 0.16                 0.04   \n",
       "1      0.251981               0.84                 0.08                 0.00   \n",
       "0      0.011233               0.82                 0.00                 0.00   \n",
       "\n",
       "   success_by_probs  \n",
       "7              0.86  \n",
       "8              0.86  \n",
       "6              0.86  \n",
       "3              0.92  \n",
       "5              0.94  \n",
       "4              0.92  \n",
       "2              0.88  \n",
       "1              0.88  \n",
       "0              0.92  "
      ]
     },
     "metadata": {},
     "output_type": "display_data"
    }
   ],
   "source": [
    "comps = ModelComps(\n",
    "    model_name=\"model_epoch0_ts10000.20210312.21.03.1615586239\",\n",
    "    base_name=\"gpt2_epoch0_ts10000.20210310.18.03.1615401990\",\n",
    "    archive=False\n",
    ")\n",
    "\n",
    "comps.summary()"
   ]
  },
  {
   "cell_type": "code",
   "execution_count": null,
   "id": "historic-integrity",
   "metadata": {},
   "outputs": [],
   "source": [
    "comps = ModelComps(\n",
    "    model_name=\"model_epoch0_ts10000.20210312.21.03.1615586239\",\n",
    "    base_name=\"gpt2_epoch0_ts10000.20210310.18.03.1615401990\",\n",
    "    archive=False\n",
    ")\n",
    "\n",
    "comps.summary()"
   ]
  },
  {
   "cell_type": "code",
   "execution_count": null,
   "id": "continental-dollar",
   "metadata": {},
   "outputs": [],
   "source": []
  },
  {
   "cell_type": "code",
   "execution_count": null,
   "id": "historical-parent",
   "metadata": {},
   "outputs": [],
   "source": []
  },
  {
   "cell_type": "code",
   "execution_count": null,
   "id": "comprehensive-swing",
   "metadata": {},
   "outputs": [],
   "source": []
  },
  {
   "cell_type": "code",
   "execution_count": null,
   "id": "faced-satellite",
   "metadata": {},
   "outputs": [],
   "source": []
  }
 ],
 "metadata": {
  "kernelspec": {
   "display_name": "Python 3",
   "language": "python",
   "name": "python3"
  },
  "language_info": {
   "codemirror_mode": {
    "name": "ipython",
    "version": 3
   },
   "file_extension": ".py",
   "mimetype": "text/x-python",
   "name": "python",
   "nbconvert_exporter": "python",
   "pygments_lexer": "ipython3",
   "version": "3.7.9"
  }
 },
 "nbformat": 4,
 "nbformat_minor": 5
}
