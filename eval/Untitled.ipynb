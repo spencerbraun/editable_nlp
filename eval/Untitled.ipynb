{
 "cells": [
  {
   "cell_type": "code",
   "execution_count": 61,
   "id": "initial-bearing",
   "metadata": {},
   "outputs": [],
   "source": [
    "import numpy as np\n",
    "import pandas as pd\n",
    "\n",
    "import matplotlib\n",
    "import matplotlib.pyplot as plt\n",
    "%matplotlib inline\n",
    "\n",
    "\n",
    "from IPython.display import display"
   ]
  },
  {
   "cell_type": "code",
   "execution_count": null,
   "id": "through-reset",
   "metadata": {},
   "outputs": [],
   "source": []
  },
  {
   "cell_type": "code",
   "execution_count": 65,
   "id": "comfortable-sterling",
   "metadata": {},
   "outputs": [
    {
     "name": "stdout",
     "output_type": "stream",
     "text": [
      "total 140\r\n",
      "-rw-rw-r-- 1 spencerbraun spencerbraun  7287 Mar 14 20:21 edit_success_20210314.20.03.1615752938_model_epoch0_ts10000.20210314.16.03.1615740151\r\n",
      "-rw-rw-r-- 1 spencerbraun spencerbraun 27801 Mar 14 20:20 Untitled.ipynb\r\n",
      "-rw-rw-r-- 1 spencerbraun spencerbraun  7495 Mar 14 20:07 edit_success_20210314.20.03.1615752056_gpt2_epoch0_ts10000.20210310.18.03.1615401990\r\n",
      "-rw-rw-r-- 1 spencerbraun spencerbraun  7469 Mar 14 19:59 edit_success_20210314.19.03.1615751556_OTS\r\n",
      "-rw-rw-r-- 1 spencerbraun spencerbraun  7262 Mar 14 19:48 edit_success_20210314.19.03.1615750890_model_epoch0_ts10000.20210314.16.03.1615740151\r\n",
      "-rw-rw-r-- 1 spencerbraun spencerbraun  7276 Mar 14 19:41 edit_success_20210314.19.03.1615750412_model_epoch0_ts10000.20210314.16.03.1615740151\r\n",
      "-rw-rw-r-- 1 spencerbraun spencerbraun  5108 Mar 14 19:26 edit_success_20210314.19.03.1615749643_model_epoch0_ts10000.20210314.16.03.1615740151\r\n",
      "-rw-rw-r-- 1 spencerbraun spencerbraun  5261 Mar 13 00:07 edit_success_20210312.23.03.1615593547_model_epoch0_ts10000.20210312.21.03.1615586239\r\n",
      "-rw-rw-r-- 1 spencerbraun spencerbraun  5137 Mar 12 23:58 edit_success_20210312.23.03.1615593107_model_epoch0_ts10000.20210312.21.03.1615586239\r\n"
     ]
    }
   ],
   "source": [
    "!ls -lt | head"
   ]
  },
  {
   "cell_type": "code",
   "execution_count": 55,
   "id": "synthetic-playlist",
   "metadata": {},
   "outputs": [],
   "source": [
    "class ModelComps:\n",
    "    def __init__(self, model_path):\n",
    "        \n",
    "        self.model_path = model_path\n",
    "        self.base_path = \"edit_success_20210314.20.03.1615752056_gpt2_epoch0_ts10000.20210310.18.03.1615401990\"\n",
    "        self.ots_path = \"edit_success_20210314.19.03.1615751556_OTS\"\n",
    "        \n",
    "        self.model = self.readData(self.model_path)\n",
    "        self.base = self.readData(self.base_path)\n",
    "        self.ots = self.readData(self.ots_path)\n",
    "        \n",
    "        self.modelMap = {\n",
    "            'model': self.model, \n",
    "            'ots': self.ots, \n",
    "            'base': self.base\n",
    "        }\n",
    "        \n",
    "        self.stats = {}\n",
    "        \n",
    "    @staticmethod\n",
    "    def readData(path):\n",
    "        \n",
    "        return pd.read_csv(path)\n",
    "    \n",
    "    def runStats(self, modelOnly=False):\n",
    "\n",
    "        models = {'model': self.model} if modelOnly else self.modelMap\n",
    "        for name, model in models.items():  \n",
    "            mean_ppl = model.apply(lambda x: x.new_ppl + x.orig_ppl, axis=1).mean() / 2\n",
    "            pct_ppl_dd = model.apply(lambda x: (x.new_ppl - x.orig_ppl)/x.orig_ppl, axis=1).mean()\n",
    "            gross_ppl_dd = model.apply(lambda x: x.new_ppl - x.orig_ppl, axis=1).mean()\n",
    "            success_by_logits = model.success.mean()\n",
    "            try:\n",
    "                success_by_probs = model.apply(lambda x: x.new_prob > x.old_prob, axis=1).mean()\n",
    "            except AttributeError:\n",
    "                success_by_probs = np.nan\n",
    "            \n",
    "            self.stats[name] = {\n",
    "                \"mean_ppl\":mean_ppl,\n",
    "                \"pct_ppl_dd\":pct_ppl_dd,\n",
    "                \"gross_ppl_dd\":gross_ppl_dd,\n",
    "                \"success_by_logits\":success_by_logits,\n",
    "                \"success_by_probs\":success_by_probs,\n",
    "            }\n",
    "    \n",
    "    @property\n",
    "    def statDf(self):\n",
    "        return pd.DataFrame(self.stats).T\n",
    "    \n",
    "    def plotStats(self):\n",
    "        \n",
    "        \n",
    "        \n",
    "        plt.hist(model[model.success].success_diff, alpha=0.3)\n",
    "        plt.hist(ots[ots.success].success_diff, alpha=0.3)\n",
    "        plt.hist(finetuned[finetuned.success].success_diff, alpha=0.3)"
   ]
  },
  {
   "cell_type": "code",
   "execution_count": 46,
   "id": "transparent-lawrence",
   "metadata": {},
   "outputs": [
    {
     "name": "stdout",
     "output_type": "stream",
     "text": [
      "total 128\r\n",
      "-rw-rw-r-- 1 spencerbraun spencerbraun 20790 Mar 14 20:09 Untitled.ipynb\r\n",
      "-rw-rw-r-- 1 spencerbraun spencerbraun  7495 Mar 14 20:07 edit_success_20210314.20.03.1615752056_gpt2_epoch0_ts10000.20210310.18.03.1615401990\r\n",
      "-rw-rw-r-- 1 spencerbraun spencerbraun  7469 Mar 14 19:59 edit_success_20210314.19.03.1615751556_OTS\r\n",
      "-rw-rw-r-- 1 spencerbraun spencerbraun  7262 Mar 14 19:48 edit_success_20210314.19.03.1615750890_model_epoch0_ts10000.20210314.16.03.1615740151\r\n",
      "-rw-rw-r-- 1 spencerbraun spencerbraun  7276 Mar 14 19:41 edit_success_20210314.19.03.1615750412_model_epoch0_ts10000.20210314.16.03.1615740151\r\n",
      "-rw-rw-r-- 1 spencerbraun spencerbraun  5108 Mar 14 19:26 edit_success_20210314.19.03.1615749643_model_epoch0_ts10000.20210314.16.03.1615740151\r\n",
      "-rw-rw-r-- 1 spencerbraun spencerbraun  5261 Mar 13 00:07 edit_success_20210312.23.03.1615593547_model_epoch0_ts10000.20210312.21.03.1615586239\r\n",
      "-rw-rw-r-- 1 spencerbraun spencerbraun  5137 Mar 12 23:58 edit_success_20210312.23.03.1615593107_model_epoch0_ts10000.20210312.21.03.1615586239\r\n",
      "-rw-rw-r-- 1 spencerbraun spencerbraun  2854 Mar 10 19:43 edit_success_20210310.19.03.1615405009_model_epoch0_ts10000.20210310.16.03.1615395342\r\n"
     ]
    }
   ],
   "source": [
    "!ls -lt | head"
   ]
  },
  {
   "cell_type": "markdown",
   "id": "black-underwear",
   "metadata": {},
   "source": [
    "## Results: cedit=1, cloc=10, 10k steps"
   ]
  },
  {
   "cell_type": "code",
   "execution_count": 66,
   "id": "invalid-gabriel",
   "metadata": {},
   "outputs": [],
   "source": [
    "modelList10k = [\n",
    "    \"edit_success_20210314.19.03.1615750890_model_epoch0_ts10000.20210314.16.03.1615740151\", #cedit=1, cloc=10, n_edit_steps= min(3, loss<1)\n",
    "    \"edit_success_20210314.19.03.1615750412_model_epoch0_ts10000.20210314.16.03.1615740151\", #cedit=1, cloc=10, n_edit_steps= 5\n",
    "    \"edit_success_20210314.20.03.1615752938_model_epoch0_ts10000.20210314.16.03.1615740151\" #cedit=1, cloc=10, n_edit_steps= 1\n",
    "]"
   ]
  },
  {
   "cell_type": "code",
   "execution_count": 67,
   "id": "chemical-ownership",
   "metadata": {},
   "outputs": [
    {
     "data": {
      "text/html": [
       "<div>\n",
       "<style scoped>\n",
       "    .dataframe tbody tr th:only-of-type {\n",
       "        vertical-align: middle;\n",
       "    }\n",
       "\n",
       "    .dataframe tbody tr th {\n",
       "        vertical-align: top;\n",
       "    }\n",
       "\n",
       "    .dataframe thead th {\n",
       "        text-align: right;\n",
       "    }\n",
       "</style>\n",
       "<table border=\"1\" class=\"dataframe\">\n",
       "  <thead>\n",
       "    <tr style=\"text-align: right;\">\n",
       "      <th></th>\n",
       "      <th>mean_ppl</th>\n",
       "      <th>pct_ppl_dd</th>\n",
       "      <th>gross_ppl_dd</th>\n",
       "      <th>success_by_logits</th>\n",
       "      <th>success_by_probs</th>\n",
       "    </tr>\n",
       "  </thead>\n",
       "  <tbody>\n",
       "    <tr>\n",
       "      <th>model</th>\n",
       "      <td>80.720793</td>\n",
       "      <td>0.077841</td>\n",
       "      <td>6.048032</td>\n",
       "      <td>0.90</td>\n",
       "      <td>0.94</td>\n",
       "    </tr>\n",
       "    <tr>\n",
       "      <th>ots</th>\n",
       "      <td>90.994341</td>\n",
       "      <td>0.006422</td>\n",
       "      <td>0.582538</td>\n",
       "      <td>0.74</td>\n",
       "      <td>0.88</td>\n",
       "    </tr>\n",
       "    <tr>\n",
       "      <th>base</th>\n",
       "      <td>49.472301</td>\n",
       "      <td>0.004799</td>\n",
       "      <td>0.236870</td>\n",
       "      <td>0.78</td>\n",
       "      <td>0.88</td>\n",
       "    </tr>\n",
       "  </tbody>\n",
       "</table>\n",
       "</div>"
      ],
      "text/plain": [
       "        mean_ppl  pct_ppl_dd  gross_ppl_dd  success_by_logits  \\\n",
       "model  80.720793    0.077841      6.048032               0.90   \n",
       "ots    90.994341    0.006422      0.582538               0.74   \n",
       "base   49.472301    0.004799      0.236870               0.78   \n",
       "\n",
       "       success_by_probs  \n",
       "model              0.94  \n",
       "ots                0.88  \n",
       "base               0.88  "
      ]
     },
     "metadata": {},
     "output_type": "display_data"
    },
    {
     "data": {
      "text/html": [
       "<div>\n",
       "<style scoped>\n",
       "    .dataframe tbody tr th:only-of-type {\n",
       "        vertical-align: middle;\n",
       "    }\n",
       "\n",
       "    .dataframe tbody tr th {\n",
       "        vertical-align: top;\n",
       "    }\n",
       "\n",
       "    .dataframe thead th {\n",
       "        text-align: right;\n",
       "    }\n",
       "</style>\n",
       "<table border=\"1\" class=\"dataframe\">\n",
       "  <thead>\n",
       "    <tr style=\"text-align: right;\">\n",
       "      <th></th>\n",
       "      <th>mean_ppl</th>\n",
       "      <th>pct_ppl_dd</th>\n",
       "      <th>gross_ppl_dd</th>\n",
       "      <th>success_by_logits</th>\n",
       "      <th>success_by_probs</th>\n",
       "    </tr>\n",
       "  </thead>\n",
       "  <tbody>\n",
       "    <tr>\n",
       "      <th>model</th>\n",
       "      <td>86.530851</td>\n",
       "      <td>0.227399</td>\n",
       "      <td>17.668147</td>\n",
       "      <td>0.86</td>\n",
       "      <td>0.88</td>\n",
       "    </tr>\n",
       "    <tr>\n",
       "      <th>ots</th>\n",
       "      <td>90.994341</td>\n",
       "      <td>0.006422</td>\n",
       "      <td>0.582538</td>\n",
       "      <td>0.74</td>\n",
       "      <td>0.88</td>\n",
       "    </tr>\n",
       "    <tr>\n",
       "      <th>base</th>\n",
       "      <td>49.472301</td>\n",
       "      <td>0.004799</td>\n",
       "      <td>0.236870</td>\n",
       "      <td>0.78</td>\n",
       "      <td>0.88</td>\n",
       "    </tr>\n",
       "  </tbody>\n",
       "</table>\n",
       "</div>"
      ],
      "text/plain": [
       "        mean_ppl  pct_ppl_dd  gross_ppl_dd  success_by_logits  \\\n",
       "model  86.530851    0.227399     17.668147               0.86   \n",
       "ots    90.994341    0.006422      0.582538               0.74   \n",
       "base   49.472301    0.004799      0.236870               0.78   \n",
       "\n",
       "       success_by_probs  \n",
       "model              0.88  \n",
       "ots                0.88  \n",
       "base               0.88  "
      ]
     },
     "metadata": {},
     "output_type": "display_data"
    },
    {
     "data": {
      "text/html": [
       "<div>\n",
       "<style scoped>\n",
       "    .dataframe tbody tr th:only-of-type {\n",
       "        vertical-align: middle;\n",
       "    }\n",
       "\n",
       "    .dataframe tbody tr th {\n",
       "        vertical-align: top;\n",
       "    }\n",
       "\n",
       "    .dataframe thead th {\n",
       "        text-align: right;\n",
       "    }\n",
       "</style>\n",
       "<table border=\"1\" class=\"dataframe\">\n",
       "  <thead>\n",
       "    <tr style=\"text-align: right;\">\n",
       "      <th></th>\n",
       "      <th>mean_ppl</th>\n",
       "      <th>pct_ppl_dd</th>\n",
       "      <th>gross_ppl_dd</th>\n",
       "      <th>success_by_logits</th>\n",
       "      <th>success_by_probs</th>\n",
       "    </tr>\n",
       "  </thead>\n",
       "  <tbody>\n",
       "    <tr>\n",
       "      <th>model</th>\n",
       "      <td>77.683386</td>\n",
       "      <td>-0.000345</td>\n",
       "      <td>-0.026782</td>\n",
       "      <td>0.86</td>\n",
       "      <td>0.92</td>\n",
       "    </tr>\n",
       "    <tr>\n",
       "      <th>ots</th>\n",
       "      <td>90.994341</td>\n",
       "      <td>0.006422</td>\n",
       "      <td>0.582538</td>\n",
       "      <td>0.74</td>\n",
       "      <td>0.88</td>\n",
       "    </tr>\n",
       "    <tr>\n",
       "      <th>base</th>\n",
       "      <td>49.472301</td>\n",
       "      <td>0.004799</td>\n",
       "      <td>0.236870</td>\n",
       "      <td>0.78</td>\n",
       "      <td>0.88</td>\n",
       "    </tr>\n",
       "  </tbody>\n",
       "</table>\n",
       "</div>"
      ],
      "text/plain": [
       "        mean_ppl  pct_ppl_dd  gross_ppl_dd  success_by_logits  \\\n",
       "model  77.683386   -0.000345     -0.026782               0.86   \n",
       "ots    90.994341    0.006422      0.582538               0.74   \n",
       "base   49.472301    0.004799      0.236870               0.78   \n",
       "\n",
       "       success_by_probs  \n",
       "model              0.92  \n",
       "ots                0.88  \n",
       "base               0.88  "
      ]
     },
     "metadata": {},
     "output_type": "display_data"
    }
   ],
   "source": [
    "for model in modelList10k:\n",
    "    model_new = ModelComps(model)\n",
    "    model_new.runStats()\n",
    "    display(model_new.statDf)"
   ]
  },
  {
   "cell_type": "markdown",
   "id": "exposed-penny",
   "metadata": {},
   "source": [
    "## Results: cedit=1, cloc=10, <10k steps"
   ]
  },
  {
   "cell_type": "code",
   "execution_count": 74,
   "id": "enabling-confirmation",
   "metadata": {},
   "outputs": [],
   "source": [
    "modelListUnder10 = [\n",
    "    \"edit_success_20210314.20.03.1615753715_model_epoch0_ts4000.20210314.16.03.1615740151\", #cedit=1, cloc=10, n_edit_steps= min(3, loss<1)\n",
    "    \"edit_success_20210314.20.03.1615754734_model_epoch0_ts6000.20210314.16.03.1615740151\"\n",
    "]"
   ]
  },
  {
   "cell_type": "code",
   "execution_count": 75,
   "id": "consecutive-peninsula",
   "metadata": {},
   "outputs": [
    {
     "data": {
      "text/html": [
       "<div>\n",
       "<style scoped>\n",
       "    .dataframe tbody tr th:only-of-type {\n",
       "        vertical-align: middle;\n",
       "    }\n",
       "\n",
       "    .dataframe tbody tr th {\n",
       "        vertical-align: top;\n",
       "    }\n",
       "\n",
       "    .dataframe thead th {\n",
       "        text-align: right;\n",
       "    }\n",
       "</style>\n",
       "<table border=\"1\" class=\"dataframe\">\n",
       "  <thead>\n",
       "    <tr style=\"text-align: right;\">\n",
       "      <th></th>\n",
       "      <th>mean_ppl</th>\n",
       "      <th>pct_ppl_dd</th>\n",
       "      <th>gross_ppl_dd</th>\n",
       "      <th>success_by_logits</th>\n",
       "      <th>success_by_probs</th>\n",
       "    </tr>\n",
       "  </thead>\n",
       "  <tbody>\n",
       "    <tr>\n",
       "      <th>model</th>\n",
       "      <td>100.078160</td>\n",
       "      <td>0.096821</td>\n",
       "      <td>9.242243</td>\n",
       "      <td>0.84</td>\n",
       "      <td>0.92</td>\n",
       "    </tr>\n",
       "    <tr>\n",
       "      <th>ots</th>\n",
       "      <td>90.994341</td>\n",
       "      <td>0.006422</td>\n",
       "      <td>0.582538</td>\n",
       "      <td>0.74</td>\n",
       "      <td>0.88</td>\n",
       "    </tr>\n",
       "    <tr>\n",
       "      <th>base</th>\n",
       "      <td>49.472301</td>\n",
       "      <td>0.004799</td>\n",
       "      <td>0.236870</td>\n",
       "      <td>0.78</td>\n",
       "      <td>0.88</td>\n",
       "    </tr>\n",
       "  </tbody>\n",
       "</table>\n",
       "</div>"
      ],
      "text/plain": [
       "         mean_ppl  pct_ppl_dd  gross_ppl_dd  success_by_logits  \\\n",
       "model  100.078160    0.096821      9.242243               0.84   \n",
       "ots     90.994341    0.006422      0.582538               0.74   \n",
       "base    49.472301    0.004799      0.236870               0.78   \n",
       "\n",
       "       success_by_probs  \n",
       "model              0.92  \n",
       "ots                0.88  \n",
       "base               0.88  "
      ]
     },
     "metadata": {},
     "output_type": "display_data"
    },
    {
     "data": {
      "text/html": [
       "<div>\n",
       "<style scoped>\n",
       "    .dataframe tbody tr th:only-of-type {\n",
       "        vertical-align: middle;\n",
       "    }\n",
       "\n",
       "    .dataframe tbody tr th {\n",
       "        vertical-align: top;\n",
       "    }\n",
       "\n",
       "    .dataframe thead th {\n",
       "        text-align: right;\n",
       "    }\n",
       "</style>\n",
       "<table border=\"1\" class=\"dataframe\">\n",
       "  <thead>\n",
       "    <tr style=\"text-align: right;\">\n",
       "      <th></th>\n",
       "      <th>mean_ppl</th>\n",
       "      <th>pct_ppl_dd</th>\n",
       "      <th>gross_ppl_dd</th>\n",
       "      <th>success_by_logits</th>\n",
       "      <th>success_by_probs</th>\n",
       "    </tr>\n",
       "  </thead>\n",
       "  <tbody>\n",
       "    <tr>\n",
       "      <th>model</th>\n",
       "      <td>91.195796</td>\n",
       "      <td>0.138424</td>\n",
       "      <td>11.806540</td>\n",
       "      <td>0.86</td>\n",
       "      <td>0.88</td>\n",
       "    </tr>\n",
       "    <tr>\n",
       "      <th>ots</th>\n",
       "      <td>90.994341</td>\n",
       "      <td>0.006422</td>\n",
       "      <td>0.582538</td>\n",
       "      <td>0.74</td>\n",
       "      <td>0.88</td>\n",
       "    </tr>\n",
       "    <tr>\n",
       "      <th>base</th>\n",
       "      <td>49.472301</td>\n",
       "      <td>0.004799</td>\n",
       "      <td>0.236870</td>\n",
       "      <td>0.78</td>\n",
       "      <td>0.88</td>\n",
       "    </tr>\n",
       "  </tbody>\n",
       "</table>\n",
       "</div>"
      ],
      "text/plain": [
       "        mean_ppl  pct_ppl_dd  gross_ppl_dd  success_by_logits  \\\n",
       "model  91.195796    0.138424     11.806540               0.86   \n",
       "ots    90.994341    0.006422      0.582538               0.74   \n",
       "base   49.472301    0.004799      0.236870               0.78   \n",
       "\n",
       "       success_by_probs  \n",
       "model              0.88  \n",
       "ots                0.88  \n",
       "base               0.88  "
      ]
     },
     "metadata": {},
     "output_type": "display_data"
    }
   ],
   "source": [
    "for model in modelListUnder10:\n",
    "    model_new = ModelComps(model)\n",
    "    model_new.runStats()\n",
    "    display(model_new.statDf)"
   ]
  },
  {
   "cell_type": "markdown",
   "id": "diagnostic-reader",
   "metadata": {},
   "source": [
    "## Results: cedit=1, cloc=1, 10k steps"
   ]
  },
  {
   "cell_type": "code",
   "execution_count": 78,
   "id": "indian-wiring",
   "metadata": {},
   "outputs": [
    {
     "name": "stdout",
     "output_type": "stream",
     "text": [
      "total 188\r\n",
      "-rw-rw-r-- 1 spencerbraun spencerbraun  7412 Mar 14 21:23 edit_success_20210314.21.03.1615756602_model_epoch0_ts10000.20210312.21.03.1615586239\r\n",
      "-rw-rw-r-- 1 spencerbraun spencerbraun 35817 Mar 14 21:17 Untitled.ipynb\r\n",
      "-rw-rw-r-- 1 spencerbraun spencerbraun  7397 Mar 14 21:15 edit_success_20210314.21.03.1615756166_model_epoch0_ts10000.20210312.21.03.1615586239\r\n",
      "-rw-rw-r-- 1 spencerbraun spencerbraun  7406 Mar 14 21:07 edit_success_20210314.21.03.1615755665_model_epoch0_ts10000.20210312.21.03.1615586239\r\n",
      "-rw-rw-r-- 1 spencerbraun spencerbraun  7433 Mar 14 20:52 edit_success_20210314.20.03.1615754734_model_epoch0_ts6000.20210314.16.03.1615740151\r\n",
      "-rw-rw-r-- 1 spencerbraun spencerbraun  7438 Mar 14 20:35 edit_success_20210314.20.03.1615753715_model_epoch0_ts4000.20210314.16.03.1615740151\r\n",
      "-rw-rw-r-- 1 spencerbraun spencerbraun  7287 Mar 14 20:21 edit_success_20210314.20.03.1615752938_model_epoch0_ts10000.20210314.16.03.1615740151\r\n",
      "-rw-rw-r-- 1 spencerbraun spencerbraun  7495 Mar 14 20:07 edit_success_20210314.20.03.1615752056_gpt2_epoch0_ts10000.20210310.18.03.1615401990\r\n",
      "-rw-rw-r-- 1 spencerbraun spencerbraun  7469 Mar 14 19:59 edit_success_20210314.19.03.1615751556_OTS\r\n"
     ]
    }
   ],
   "source": [
    "!ls -lt |  head"
   ]
  },
  {
   "cell_type": "code",
   "execution_count": 80,
   "id": "noted-garden",
   "metadata": {},
   "outputs": [],
   "source": [
    "#model_epoch0_ts10000.20210312.21.03.1615586239\n",
    "\n",
    "modelList_1_1_10k = [\n",
    "    \"edit_success_20210314.21.03.1615755665_model_epoch0_ts10000.20210312.21.03.1615586239\", #cedit=1, cloc=10, n_edit_steps= min(3, loss<1)\n",
    "    \"edit_success_20210314.21.03.1615756166_model_epoch0_ts10000.20210312.21.03.1615586239\", #cedit=1, cloc=10, n_edit_steps= 1\n",
    "    \"edit_success_20210314.21.03.1615756602_model_epoch0_ts10000.20210312.21.03.1615586239\" #cedit=1, cloc=10, n_edit_steps= 5\n",
    "]"
   ]
  },
  {
   "cell_type": "code",
   "execution_count": 81,
   "id": "religious-macro",
   "metadata": {},
   "outputs": [
    {
     "data": {
      "text/html": [
       "<div>\n",
       "<style scoped>\n",
       "    .dataframe tbody tr th:only-of-type {\n",
       "        vertical-align: middle;\n",
       "    }\n",
       "\n",
       "    .dataframe tbody tr th {\n",
       "        vertical-align: top;\n",
       "    }\n",
       "\n",
       "    .dataframe thead th {\n",
       "        text-align: right;\n",
       "    }\n",
       "</style>\n",
       "<table border=\"1\" class=\"dataframe\">\n",
       "  <thead>\n",
       "    <tr style=\"text-align: right;\">\n",
       "      <th></th>\n",
       "      <th>mean_ppl</th>\n",
       "      <th>pct_ppl_dd</th>\n",
       "      <th>gross_ppl_dd</th>\n",
       "      <th>success_by_logits</th>\n",
       "      <th>success_by_probs</th>\n",
       "    </tr>\n",
       "  </thead>\n",
       "  <tbody>\n",
       "    <tr>\n",
       "      <th>model</th>\n",
       "      <td>153.572959</td>\n",
       "      <td>1.237947</td>\n",
       "      <td>117.429456</td>\n",
       "      <td>0.86</td>\n",
       "      <td>0.92</td>\n",
       "    </tr>\n",
       "    <tr>\n",
       "      <th>ots</th>\n",
       "      <td>90.994341</td>\n",
       "      <td>0.006422</td>\n",
       "      <td>0.582538</td>\n",
       "      <td>0.74</td>\n",
       "      <td>0.88</td>\n",
       "    </tr>\n",
       "    <tr>\n",
       "      <th>base</th>\n",
       "      <td>49.472301</td>\n",
       "      <td>0.004799</td>\n",
       "      <td>0.236870</td>\n",
       "      <td>0.78</td>\n",
       "      <td>0.88</td>\n",
       "    </tr>\n",
       "  </tbody>\n",
       "</table>\n",
       "</div>"
      ],
      "text/plain": [
       "         mean_ppl  pct_ppl_dd  gross_ppl_dd  success_by_logits  \\\n",
       "model  153.572959    1.237947    117.429456               0.86   \n",
       "ots     90.994341    0.006422      0.582538               0.74   \n",
       "base    49.472301    0.004799      0.236870               0.78   \n",
       "\n",
       "       success_by_probs  \n",
       "model              0.92  \n",
       "ots                0.88  \n",
       "base               0.88  "
      ]
     },
     "metadata": {},
     "output_type": "display_data"
    },
    {
     "data": {
      "text/html": [
       "<div>\n",
       "<style scoped>\n",
       "    .dataframe tbody tr th:only-of-type {\n",
       "        vertical-align: middle;\n",
       "    }\n",
       "\n",
       "    .dataframe tbody tr th {\n",
       "        vertical-align: top;\n",
       "    }\n",
       "\n",
       "    .dataframe thead th {\n",
       "        text-align: right;\n",
       "    }\n",
       "</style>\n",
       "<table border=\"1\" class=\"dataframe\">\n",
       "  <thead>\n",
       "    <tr style=\"text-align: right;\">\n",
       "      <th></th>\n",
       "      <th>mean_ppl</th>\n",
       "      <th>pct_ppl_dd</th>\n",
       "      <th>gross_ppl_dd</th>\n",
       "      <th>success_by_logits</th>\n",
       "      <th>success_by_probs</th>\n",
       "    </tr>\n",
       "  </thead>\n",
       "  <tbody>\n",
       "    <tr>\n",
       "      <th>model</th>\n",
       "      <td>120.037556</td>\n",
       "      <td>0.530883</td>\n",
       "      <td>50.358650</td>\n",
       "      <td>0.88</td>\n",
       "      <td>0.94</td>\n",
       "    </tr>\n",
       "    <tr>\n",
       "      <th>ots</th>\n",
       "      <td>90.994341</td>\n",
       "      <td>0.006422</td>\n",
       "      <td>0.582538</td>\n",
       "      <td>0.74</td>\n",
       "      <td>0.88</td>\n",
       "    </tr>\n",
       "    <tr>\n",
       "      <th>base</th>\n",
       "      <td>49.472301</td>\n",
       "      <td>0.004799</td>\n",
       "      <td>0.236870</td>\n",
       "      <td>0.78</td>\n",
       "      <td>0.88</td>\n",
       "    </tr>\n",
       "  </tbody>\n",
       "</table>\n",
       "</div>"
      ],
      "text/plain": [
       "         mean_ppl  pct_ppl_dd  gross_ppl_dd  success_by_logits  \\\n",
       "model  120.037556    0.530883     50.358650               0.88   \n",
       "ots     90.994341    0.006422      0.582538               0.74   \n",
       "base    49.472301    0.004799      0.236870               0.78   \n",
       "\n",
       "       success_by_probs  \n",
       "model              0.94  \n",
       "ots                0.88  \n",
       "base               0.88  "
      ]
     },
     "metadata": {},
     "output_type": "display_data"
    },
    {
     "data": {
      "text/html": [
       "<div>\n",
       "<style scoped>\n",
       "    .dataframe tbody tr th:only-of-type {\n",
       "        vertical-align: middle;\n",
       "    }\n",
       "\n",
       "    .dataframe tbody tr th {\n",
       "        vertical-align: top;\n",
       "    }\n",
       "\n",
       "    .dataframe thead th {\n",
       "        text-align: right;\n",
       "    }\n",
       "</style>\n",
       "<table border=\"1\" class=\"dataframe\">\n",
       "  <thead>\n",
       "    <tr style=\"text-align: right;\">\n",
       "      <th></th>\n",
       "      <th>mean_ppl</th>\n",
       "      <th>pct_ppl_dd</th>\n",
       "      <th>gross_ppl_dd</th>\n",
       "      <th>success_by_logits</th>\n",
       "      <th>success_by_probs</th>\n",
       "    </tr>\n",
       "  </thead>\n",
       "  <tbody>\n",
       "    <tr>\n",
       "      <th>model</th>\n",
       "      <td>144.829733</td>\n",
       "      <td>1.053604</td>\n",
       "      <td>99.943004</td>\n",
       "      <td>0.92</td>\n",
       "      <td>0.92</td>\n",
       "    </tr>\n",
       "    <tr>\n",
       "      <th>ots</th>\n",
       "      <td>90.994341</td>\n",
       "      <td>0.006422</td>\n",
       "      <td>0.582538</td>\n",
       "      <td>0.74</td>\n",
       "      <td>0.88</td>\n",
       "    </tr>\n",
       "    <tr>\n",
       "      <th>base</th>\n",
       "      <td>49.472301</td>\n",
       "      <td>0.004799</td>\n",
       "      <td>0.236870</td>\n",
       "      <td>0.78</td>\n",
       "      <td>0.88</td>\n",
       "    </tr>\n",
       "  </tbody>\n",
       "</table>\n",
       "</div>"
      ],
      "text/plain": [
       "         mean_ppl  pct_ppl_dd  gross_ppl_dd  success_by_logits  \\\n",
       "model  144.829733    1.053604     99.943004               0.92   \n",
       "ots     90.994341    0.006422      0.582538               0.74   \n",
       "base    49.472301    0.004799      0.236870               0.78   \n",
       "\n",
       "       success_by_probs  \n",
       "model              0.92  \n",
       "ots                0.88  \n",
       "base               0.88  "
      ]
     },
     "metadata": {},
     "output_type": "display_data"
    }
   ],
   "source": [
    "for model in modelList_1_1_10k:\n",
    "    model_new = ModelComps(model)\n",
    "    model_new.runStats()\n",
    "    display(model_new.statDf)"
   ]
  },
  {
   "cell_type": "code",
   "execution_count": null,
   "id": "intimate-links",
   "metadata": {},
   "outputs": [],
   "source": []
  },
  {
   "cell_type": "code",
   "execution_count": 27,
   "id": "fitting-beach",
   "metadata": {},
   "outputs": [
    {
     "data": {
      "text/plain": [
       "(array([15.,  5.,  4.,  5.,  1.,  1.,  0.,  0.,  0.,  2.]),\n",
       " array([  2. ,  95.6, 189.2, 282.8, 376.4, 470. , 563.6, 657.2, 750.8,\n",
       "        844.4, 938. ]),\n",
       " <BarContainer object of 10 artists>)"
      ]
     },
     "execution_count": 27,
     "metadata": {},
     "output_type": "execute_result"
    },
    {
     "data": {
      "image/png": "[encoded data removed]",
      "text/plain": [
       "<Figure size 432x288 with 1 Axes>"
      ]
     },
     "metadata": {
      "needs_background": "light"
     },
     "output_type": "display_data"
    }
   ],
   "source": [
    "plt.hist(model[model.success].success_diff, alpha=0.3)\n",
    "plt.hist(ots[ots.success].success_diff, alpha=0.3)\n",
    "plt.hist(finetuned[finetuned.success].success_diff, alpha=0.3)"
   ]
  },
  {
   "cell_type": "code",
   "execution_count": 25,
   "id": "manual-costa",
   "metadata": {},
   "outputs": [
    {
     "data": {
      "text/plain": [
       "(array([7., 8., 6., 3., 5., 2., 0., 0., 1., 1.]),\n",
       " array([0.03952569, 0.12809449, 0.21666329, 0.30523209, 0.39380089,\n",
       "        0.48236968, 0.57093848, 0.65950728, 0.74807608, 0.83664488,\n",
       "        0.92521368]),\n",
       " <BarContainer object of 10 artists>)"
      ]
     },
     "execution_count": 25,
     "metadata": {},
     "output_type": "execute_result"
    },
    {
     "data": {
      "image/png": "[encoded data removed]",
      "text/plain": [
       "<Figure size 432x288 with 1 Axes>"
      ]
     },
     "metadata": {
      "needs_background": "light"
     },
     "output_type": "display_data"
    }
   ],
   "source": [
    "plt.hist(model[model.success].apply(lambda x: x.success_diff/x.orig_rank, axis=1), alpha=0.3)\n",
    "plt.hist(ots[ots.success].apply(lambda x: x.success_diff/x.orig_rank, axis=1), alpha=0.3)\n",
    "plt.hist(finetuned[finetuned.success].apply(lambda x: x.success_diff/x.orig_rank, axis=1), alpha=0.3)"
   ]
  },
  {
   "cell_type": "code",
   "execution_count": null,
   "id": "short-victim",
   "metadata": {},
   "outputs": [],
   "source": []
  }
 ],
 "metadata": {
  "kernelspec": {
   "display_name": "Python 3",
   "language": "python",
   "name": "python3"
  },
  "language_info": {
   "codemirror_mode": {
    "name": "ipython",
    "version": 3
   },
   "file_extension": ".py",
   "mimetype": "text/x-python",
   "name": "python",
   "nbconvert_exporter": "python",
   "pygments_lexer": "ipython3",
   "version": "3.7.9"
  }
 },
 "nbformat": 4,
 "nbformat_minor": 5
}
