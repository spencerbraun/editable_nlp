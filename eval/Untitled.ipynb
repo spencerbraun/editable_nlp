{
 "cells": [
  {
   "cell_type": "code",
   "execution_count": 1,
   "id": "familiar-gnome",
   "metadata": {},
   "outputs": [],
   "source": [
    "import pandas as pd"
   ]
  },
  {
   "cell_type": "code",
   "execution_count": 2,
   "id": "chinese-innocent",
   "metadata": {},
   "outputs": [
    {
     "name": "stdout",
     "output_type": "stream",
     "text": [
      "Untitled.ipynb\r\n",
      "edit_success_20210303.04.03.1614746994_model_epoch0_ts10000.20210303.04.03.1614746138\r\n",
      "edit_success_20210303.04.03.1614747484_model_epoch0_ts10000.20210303.04.03.1614746138\r\n",
      "edit_success_20210303.05.03.1614747702_OTS\r\n"
     ]
    }
   ],
   "source": [
    "!ls"
   ]
  },
  {
   "cell_type": "code",
   "execution_count": 3,
   "id": "presidential-channel",
   "metadata": {},
   "outputs": [],
   "source": [
    "ots = pd.read_csv(\"edit_success_20210303.05.03.1614747702_OTS\")"
   ]
  },
  {
   "cell_type": "code",
   "execution_count": 4,
   "id": "coordinated-condition",
   "metadata": {},
   "outputs": [],
   "source": [
    "model = pd.read_csv(\"edit_success_20210303.04.03.1614747484_model_epoch0_ts10000.20210303.04.03.1614746138\")"
   ]
  },
  {
   "cell_type": "code",
   "execution_count": 9,
   "id": "instrumental-gilbert",
   "metadata": {},
   "outputs": [
    {
     "data": {
      "text/plain": [
       "0.7346938775510204"
      ]
     },
     "execution_count": 9,
     "metadata": {},
     "output_type": "execute_result"
    }
   ],
   "source": [
    "ots.success.mean()"
   ]
  },
  {
   "cell_type": "code",
   "execution_count": 10,
   "id": "prerequisite-breeding",
   "metadata": {},
   "outputs": [
    {
     "data": {
      "text/plain": [
       "0.6938775510204082"
      ]
     },
     "execution_count": 10,
     "metadata": {},
     "output_type": "execute_result"
    }
   ],
   "source": [
    "model.success.mean()"
   ]
  },
  {
   "cell_type": "code",
   "execution_count": 17,
   "id": "wanted-playing",
   "metadata": {},
   "outputs": [
    {
     "data": {
      "text/plain": [
       "0.018858077941799976"
      ]
     },
     "execution_count": 17,
     "metadata": {},
     "output_type": "execute_result"
    }
   ],
   "source": [
    "ots.apply(lambda x: (x.new_ppl - x.orig_ppl)/x.orig_ppl, axis=1).mean()"
   ]
  },
  {
   "cell_type": "code",
   "execution_count": 18,
   "id": "productive-final",
   "metadata": {},
   "outputs": [
    {
     "data": {
      "text/plain": [
       "-0.32517036485921913"
      ]
     },
     "execution_count": 18,
     "metadata": {},
     "output_type": "execute_result"
    }
   ],
   "source": [
    "model.apply(lambda x: (x.new_ppl - x.orig_ppl)/x.orig_ppl, axis=1).mean()"
   ]
  },
  {
   "cell_type": "code",
   "execution_count": 21,
   "id": "color-programming",
   "metadata": {},
   "outputs": [
    {
     "data": {
      "text/plain": [
       "64.65336686737683"
      ]
     },
     "execution_count": 21,
     "metadata": {},
     "output_type": "execute_result"
    }
   ],
   "source": [
    "ots.new_ppl.mean()"
   ]
  },
  {
   "cell_type": "code",
   "execution_count": 22,
   "id": "positive-season",
   "metadata": {},
   "outputs": [
    {
     "data": {
      "text/plain": [
       "235.74996605697945"
      ]
     },
     "execution_count": 22,
     "metadata": {},
     "output_type": "execute_result"
    }
   ],
   "source": [
    "model.new_ppl.mean()"
   ]
  },
  {
   "cell_type": "code",
   "execution_count": null,
   "id": "crucial-natural",
   "metadata": {},
   "outputs": [],
   "source": []
  }
 ],
 "metadata": {
  "kernelspec": {
   "display_name": "Python 3",
   "language": "python",
   "name": "python3"
  },
  "language_info": {
   "codemirror_mode": {
    "name": "ipython",
    "version": 3
   },
   "file_extension": ".py",
   "mimetype": "text/x-python",
   "name": "python",
   "nbconvert_exporter": "python",
   "pygments_lexer": "ipython3",
   "version": "3.7.9"
  }
 },
 "nbformat": 4,
 "nbformat_minor": 5
}
