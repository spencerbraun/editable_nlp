{
 "cells": [
  {
   "cell_type": "markdown",
   "id": "statistical-turtle",
   "metadata": {
    "toc": true
   },
   "source": [
    "<h1><span class=\"tocSkip\"></span></h1>\n",
    "<div class=\"toc\"><ul class=\"toc-item\"></ul></div>"
   ]
  },
  {
   "cell_type": "code",
   "execution_count": null,
   "id": "indonesian-proposal",
   "metadata": {},
   "outputs": [],
   "source": [
    "import torch\n",
    "from transformers import GPT2LMHeadModel\n",
    "model = GPT2LMHeadModel.from_pretrained('distilgpt2')\n",
    "opt = torch.optim.Adam(model.parameters())\n",
    "for epoch in range(total_epochs):\n",
    "    for\ttrain_step, (lm_data, edit_example) in enumerate(data_loader):\n",
    "    \tinner_opt = torch.optim.SGD(model.transformer.h[-3:].parameters(), lr=0.01)\n",
    "        with higher.innerloop_ctx(model, inner_opt, copy_initial_weights=False) as (fmodel, diffopt):\n",
    "            for edit_step in range(n_edit_steps):\n",
    "                loss = fmodel(edit_example).loss\n",
    "                diffopt.step(loss)\n",
    "            # Now we have fmodel which is \\hat{theta}\n",
    "\t    # as well as model (the original model), which is just theta\n",
    "            l_base = model(lm_data).loss\n",
    "            l_edit = fmodel(edit_example).loss\n",
    "            l_loc = kl(model(lm_data).logits, fmodel(lm_data).logits)\n",
    "\t    total_loss = lambda1 * l_base + lambda2 * l_edit + lambda3 * l_loc\n",
    "        total_loss.backward()"
   ]
  }
 ],
 "metadata": {
  "kernelspec": {
   "display_name": "Python 3",
   "language": "python",
   "name": "python3"
  },
  "language_info": {
   "codemirror_mode": {
    "name": "ipython",
    "version": 3
   },
   "file_extension": ".py",
   "mimetype": "text/x-python",
   "name": "python",
   "nbconvert_exporter": "python",
   "pygments_lexer": "ipython3",
   "version": "3.7.9"
  },
  "toc": {
   "base_numbering": 1,
   "nav_menu": {},
   "number_sections": true,
   "sideBar": true,
   "skip_h1_title": false,
   "title_cell": "",
   "title_sidebar": "Contents",
   "toc_cell": true,
   "toc_position": {},
   "toc_section_display": true,
   "toc_window_display": false
  }
 },
 "nbformat": 4,
 "nbformat_minor": 5
}
